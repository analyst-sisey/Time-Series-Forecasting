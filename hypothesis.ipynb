{
 "cells": [
  {
   "cell_type": "markdown",
   "id": "3dc2a271",
   "metadata": {},
   "source": [
    "Business Understanding\n"
   ]
  },
  {
   "cell_type": "markdown",
   "id": "3d3f754f",
   "metadata": {},
   "source": [
    "Data Understanding"
   ]
  },
  {
   "cell_type": "markdown",
   "id": "458a0720",
   "metadata": {},
   "source": [
    "Data Preparation"
   ]
  },
  {
   "cell_type": "code",
   "execution_count": 1,
   "id": "3d14271f",
   "metadata": {
    "scrolled": true
   },
   "outputs": [],
   "source": [
    "import pandas as pd\n",
    "import numpy as np\n",
    "from statsmodels.tsa.stattools import adfuller\n",
    "from numpy import log\n",
    "import matplotlib.pyplot as plt \n",
    "import seaborn as sns\n",
    "import wordcloud \n",
    "from wordcloud import WordCloud, STOPWORDS, ImageColorGenerator\n",
    "pd.set_option('display.float_format', lambda x: '%.9f' % x)"
   ]
  },
  {
   "cell_type": "code",
   "execution_count": 2,
   "id": "30845f8f",
   "metadata": {},
   "outputs": [],
   "source": [
    "# Loading the datasets into DataFrames\n",
    "\n",
    "stores = pd.read_csv(\"stores.csv\")\n",
    "train = pd.read_csv(\"train.csv\")\n",
    "tests = pd.read_csv(\"test.csv\")\n",
    "transactions = pd.read_csv(\"transactions.csv\")\n",
    "holidays = pd.read_csv(\"holidays_events.csv\")\n",
    "oil = pd.read_csv(\"oil.csv\")"
   ]
  },
  {
   "cell_type": "code",
   "execution_count": 3,
   "id": "50cefff2",
   "metadata": {},
   "outputs": [
    {
     "data": {
      "text/html": [
       "<div>\n",
       "<style scoped>\n",
       "    .dataframe tbody tr th:only-of-type {\n",
       "        vertical-align: middle;\n",
       "    }\n",
       "\n",
       "    .dataframe tbody tr th {\n",
       "        vertical-align: top;\n",
       "    }\n",
       "\n",
       "    .dataframe thead th {\n",
       "        text-align: right;\n",
       "    }\n",
       "</style>\n",
       "<table border=\"1\" class=\"dataframe\">\n",
       "  <thead>\n",
       "    <tr style=\"text-align: right;\">\n",
       "      <th></th>\n",
       "      <th>date</th>\n",
       "      <th>type</th>\n",
       "      <th>locale</th>\n",
       "      <th>locale_name</th>\n",
       "      <th>description</th>\n",
       "      <th>transferred</th>\n",
       "    </tr>\n",
       "  </thead>\n",
       "  <tbody>\n",
       "    <tr>\n",
       "      <th>0</th>\n",
       "      <td>2012-03-02</td>\n",
       "      <td>Holiday</td>\n",
       "      <td>Local</td>\n",
       "      <td>Manta</td>\n",
       "      <td>Fundacion de Manta</td>\n",
       "      <td>False</td>\n",
       "    </tr>\n",
       "    <tr>\n",
       "      <th>1</th>\n",
       "      <td>2012-04-01</td>\n",
       "      <td>Holiday</td>\n",
       "      <td>Regional</td>\n",
       "      <td>Cotopaxi</td>\n",
       "      <td>Provincializacion de Cotopaxi</td>\n",
       "      <td>False</td>\n",
       "    </tr>\n",
       "    <tr>\n",
       "      <th>2</th>\n",
       "      <td>2012-04-12</td>\n",
       "      <td>Holiday</td>\n",
       "      <td>Local</td>\n",
       "      <td>Cuenca</td>\n",
       "      <td>Fundacion de Cuenca</td>\n",
       "      <td>False</td>\n",
       "    </tr>\n",
       "    <tr>\n",
       "      <th>3</th>\n",
       "      <td>2012-04-14</td>\n",
       "      <td>Holiday</td>\n",
       "      <td>Local</td>\n",
       "      <td>Libertad</td>\n",
       "      <td>Cantonizacion de Libertad</td>\n",
       "      <td>False</td>\n",
       "    </tr>\n",
       "    <tr>\n",
       "      <th>4</th>\n",
       "      <td>2012-04-21</td>\n",
       "      <td>Holiday</td>\n",
       "      <td>Local</td>\n",
       "      <td>Riobamba</td>\n",
       "      <td>Cantonizacion de Riobamba</td>\n",
       "      <td>False</td>\n",
       "    </tr>\n",
       "    <tr>\n",
       "      <th>...</th>\n",
       "      <td>...</td>\n",
       "      <td>...</td>\n",
       "      <td>...</td>\n",
       "      <td>...</td>\n",
       "      <td>...</td>\n",
       "      <td>...</td>\n",
       "    </tr>\n",
       "    <tr>\n",
       "      <th>345</th>\n",
       "      <td>2017-12-22</td>\n",
       "      <td>Additional</td>\n",
       "      <td>National</td>\n",
       "      <td>Ecuador</td>\n",
       "      <td>Navidad-3</td>\n",
       "      <td>False</td>\n",
       "    </tr>\n",
       "    <tr>\n",
       "      <th>346</th>\n",
       "      <td>2017-12-23</td>\n",
       "      <td>Additional</td>\n",
       "      <td>National</td>\n",
       "      <td>Ecuador</td>\n",
       "      <td>Navidad-2</td>\n",
       "      <td>False</td>\n",
       "    </tr>\n",
       "    <tr>\n",
       "      <th>347</th>\n",
       "      <td>2017-12-24</td>\n",
       "      <td>Additional</td>\n",
       "      <td>National</td>\n",
       "      <td>Ecuador</td>\n",
       "      <td>Navidad-1</td>\n",
       "      <td>False</td>\n",
       "    </tr>\n",
       "    <tr>\n",
       "      <th>348</th>\n",
       "      <td>2017-12-25</td>\n",
       "      <td>Holiday</td>\n",
       "      <td>National</td>\n",
       "      <td>Ecuador</td>\n",
       "      <td>Navidad</td>\n",
       "      <td>False</td>\n",
       "    </tr>\n",
       "    <tr>\n",
       "      <th>349</th>\n",
       "      <td>2017-12-26</td>\n",
       "      <td>Additional</td>\n",
       "      <td>National</td>\n",
       "      <td>Ecuador</td>\n",
       "      <td>Navidad+1</td>\n",
       "      <td>False</td>\n",
       "    </tr>\n",
       "  </tbody>\n",
       "</table>\n",
       "<p>350 rows × 6 columns</p>\n",
       "</div>"
      ],
      "text/plain": [
       "           date        type    locale locale_name  \\\n",
       "0    2012-03-02     Holiday     Local       Manta   \n",
       "1    2012-04-01     Holiday  Regional    Cotopaxi   \n",
       "2    2012-04-12     Holiday     Local      Cuenca   \n",
       "3    2012-04-14     Holiday     Local    Libertad   \n",
       "4    2012-04-21     Holiday     Local    Riobamba   \n",
       "..          ...         ...       ...         ...   \n",
       "345  2017-12-22  Additional  National     Ecuador   \n",
       "346  2017-12-23  Additional  National     Ecuador   \n",
       "347  2017-12-24  Additional  National     Ecuador   \n",
       "348  2017-12-25     Holiday  National     Ecuador   \n",
       "349  2017-12-26  Additional  National     Ecuador   \n",
       "\n",
       "                       description  transferred  \n",
       "0               Fundacion de Manta        False  \n",
       "1    Provincializacion de Cotopaxi        False  \n",
       "2              Fundacion de Cuenca        False  \n",
       "3        Cantonizacion de Libertad        False  \n",
       "4        Cantonizacion de Riobamba        False  \n",
       "..                             ...          ...  \n",
       "345                      Navidad-3        False  \n",
       "346                      Navidad-2        False  \n",
       "347                      Navidad-1        False  \n",
       "348                        Navidad        False  \n",
       "349                      Navidad+1        False  \n",
       "\n",
       "[350 rows x 6 columns]"
      ]
     },
     "execution_count": 3,
     "metadata": {},
     "output_type": "execute_result"
    }
   ],
   "source": [
    "oil\n",
    "holidays"
   ]
  },
  {
   "cell_type": "markdown",
   "id": "f1ba6da3",
   "metadata": {},
   "source": [
    "# Exploring the various dataset"
   ]
  },
  {
   "cell_type": "code",
   "execution_count": 4,
   "id": "b13bb94a",
   "metadata": {},
   "outputs": [
    {
     "name": "stdout",
     "output_type": "stream",
     "text": [
      "<class 'pandas.core.frame.DataFrame'>\n",
      "RangeIndex: 3000888 entries, 0 to 3000887\n",
      "Data columns (total 6 columns):\n",
      " #   Column       Dtype  \n",
      "---  ------       -----  \n",
      " 0   id           int64  \n",
      " 1   date         object \n",
      " 2   store_nbr    int64  \n",
      " 3   family       object \n",
      " 4   sales        float64\n",
      " 5   onpromotion  int64  \n",
      "dtypes: float64(1), int64(3), object(2)\n",
      "memory usage: 137.4+ MB\n"
     ]
    }
   ],
   "source": [
    "#Exploring the train dataset\n",
    "#stores.info()\n",
    "train.info()\n",
    "#tests.info()\n",
    "#transactions.info()\n",
    "#train.head()"
   ]
  },
  {
   "cell_type": "code",
   "execution_count": 5,
   "id": "73523fe3",
   "metadata": {},
   "outputs": [
    {
     "name": "stdout",
     "output_type": "stream",
     "text": [
      "<class 'pandas.core.frame.DataFrame'>\n",
      "RangeIndex: 28512 entries, 0 to 28511\n",
      "Data columns (total 5 columns):\n",
      " #   Column       Non-Null Count  Dtype \n",
      "---  ------       --------------  ----- \n",
      " 0   id           28512 non-null  int64 \n",
      " 1   date         28512 non-null  object\n",
      " 2   store_nbr    28512 non-null  int64 \n",
      " 3   family       28512 non-null  object\n",
      " 4   onpromotion  28512 non-null  int64 \n",
      "dtypes: int64(3), object(2)\n",
      "memory usage: 1.1+ MB\n"
     ]
    },
    {
     "data": {
      "text/html": [
       "<div>\n",
       "<style scoped>\n",
       "    .dataframe tbody tr th:only-of-type {\n",
       "        vertical-align: middle;\n",
       "    }\n",
       "\n",
       "    .dataframe tbody tr th {\n",
       "        vertical-align: top;\n",
       "    }\n",
       "\n",
       "    .dataframe thead th {\n",
       "        text-align: right;\n",
       "    }\n",
       "</style>\n",
       "<table border=\"1\" class=\"dataframe\">\n",
       "  <thead>\n",
       "    <tr style=\"text-align: right;\">\n",
       "      <th></th>\n",
       "      <th>id</th>\n",
       "      <th>date</th>\n",
       "      <th>store_nbr</th>\n",
       "      <th>family</th>\n",
       "      <th>onpromotion</th>\n",
       "    </tr>\n",
       "  </thead>\n",
       "  <tbody>\n",
       "    <tr>\n",
       "      <th>0</th>\n",
       "      <td>3000888</td>\n",
       "      <td>2017-08-16</td>\n",
       "      <td>1</td>\n",
       "      <td>AUTOMOTIVE</td>\n",
       "      <td>0</td>\n",
       "    </tr>\n",
       "    <tr>\n",
       "      <th>1</th>\n",
       "      <td>3000889</td>\n",
       "      <td>2017-08-16</td>\n",
       "      <td>1</td>\n",
       "      <td>BABY CARE</td>\n",
       "      <td>0</td>\n",
       "    </tr>\n",
       "    <tr>\n",
       "      <th>2</th>\n",
       "      <td>3000890</td>\n",
       "      <td>2017-08-16</td>\n",
       "      <td>1</td>\n",
       "      <td>BEAUTY</td>\n",
       "      <td>2</td>\n",
       "    </tr>\n",
       "    <tr>\n",
       "      <th>3</th>\n",
       "      <td>3000891</td>\n",
       "      <td>2017-08-16</td>\n",
       "      <td>1</td>\n",
       "      <td>BEVERAGES</td>\n",
       "      <td>20</td>\n",
       "    </tr>\n",
       "    <tr>\n",
       "      <th>4</th>\n",
       "      <td>3000892</td>\n",
       "      <td>2017-08-16</td>\n",
       "      <td>1</td>\n",
       "      <td>BOOKS</td>\n",
       "      <td>0</td>\n",
       "    </tr>\n",
       "  </tbody>\n",
       "</table>\n",
       "</div>"
      ],
      "text/plain": [
       "        id        date  store_nbr      family  onpromotion\n",
       "0  3000888  2017-08-16          1  AUTOMOTIVE            0\n",
       "1  3000889  2017-08-16          1   BABY CARE            0\n",
       "2  3000890  2017-08-16          1      BEAUTY            2\n",
       "3  3000891  2017-08-16          1   BEVERAGES           20\n",
       "4  3000892  2017-08-16          1       BOOKS            0"
      ]
     },
     "execution_count": 5,
     "metadata": {},
     "output_type": "execute_result"
    }
   ],
   "source": [
    "#Exploring the test dataset\n",
    "tests.info()\n",
    "tests.head()"
   ]
  },
  {
   "cell_type": "markdown",
   "id": "b2e902db",
   "metadata": {},
   "source": [
    "**The train and test data have similar columns except the sales column which is not in the test data.**"
   ]
  },
  {
   "cell_type": "code",
   "execution_count": 6,
   "id": "afd24483",
   "metadata": {},
   "outputs": [
    {
     "data": {
      "text/plain": [
       "id             0\n",
       "date           0\n",
       "store_nbr      0\n",
       "family         0\n",
       "sales          0\n",
       "onpromotion    0\n",
       "dtype: int64"
      ]
     },
     "execution_count": 6,
     "metadata": {},
     "output_type": "execute_result"
    }
   ],
   "source": [
    "#Checking for missing values\n",
    "missing_values1 = train.isnull().sum().sort_values(ascending =True)\n",
    "missing_values1"
   ]
  },
  {
   "cell_type": "markdown",
   "id": "f8bb943b",
   "metadata": {},
   "source": [
    "**Both train and test data have no missing values.\n",
    "Let's explore the other datasets\n"
   ]
  },
  {
   "cell_type": "code",
   "execution_count": 7,
   "id": "826c324f",
   "metadata": {},
   "outputs": [
    {
     "name": "stdout",
     "output_type": "stream",
     "text": [
      "<class 'pandas.core.frame.DataFrame'>\n",
      "RangeIndex: 83488 entries, 0 to 83487\n",
      "Data columns (total 3 columns):\n",
      " #   Column        Non-Null Count  Dtype \n",
      "---  ------        --------------  ----- \n",
      " 0   date          83488 non-null  object\n",
      " 1   store_nbr     83488 non-null  int64 \n",
      " 2   transactions  83488 non-null  int64 \n",
      "dtypes: int64(2), object(1)\n",
      "memory usage: 1.9+ MB\n"
     ]
    }
   ],
   "source": [
    "#Exploring the transactions dataset\n",
    "transactions.info()\n",
    "\n"
   ]
  },
  {
   "cell_type": "code",
   "execution_count": 8,
   "id": "ee77db13",
   "metadata": {},
   "outputs": [
    {
     "name": "stdout",
     "output_type": "stream",
     "text": [
      "<class 'pandas.core.frame.DataFrame'>\n",
      "RangeIndex: 54 entries, 0 to 53\n",
      "Data columns (total 5 columns):\n",
      " #   Column     Non-Null Count  Dtype \n",
      "---  ------     --------------  ----- \n",
      " 0   store_nbr  54 non-null     int64 \n",
      " 1   city       54 non-null     object\n",
      " 2   state      54 non-null     object\n",
      " 3   type       54 non-null     object\n",
      " 4   cluster    54 non-null     int64 \n",
      "dtypes: int64(2), object(3)\n",
      "memory usage: 2.2+ KB\n"
     ]
    }
   ],
   "source": [
    "#Exploring the Stores dataset\n",
    "stores.info()"
   ]
  },
  {
   "cell_type": "markdown",
   "id": "a2584c34",
   "metadata": {},
   "source": [
    "**The transaction and stores datasets have columns common to both test and train datasets. These columns can be used as a linking attribute (PK/FK) to merge the datasets on.**"
   ]
  },
  {
   "cell_type": "code",
   "execution_count": 9,
   "id": "fcf2ed74",
   "metadata": {},
   "outputs": [
    {
     "name": "stdout",
     "output_type": "stream",
     "text": [
      "<class 'pandas.core.frame.DataFrame'>\n",
      "Int64Index: 3000888 entries, 0 to 3000887\n",
      "Data columns (total 11 columns):\n",
      " #   Column        Dtype  \n",
      "---  ------        -----  \n",
      " 0   id            int64  \n",
      " 1   date          object \n",
      " 2   store_nbr     int64  \n",
      " 3   family        object \n",
      " 4   sales         float64\n",
      " 5   onpromotion   int64  \n",
      " 6   transactions  float64\n",
      " 7   city          object \n",
      " 8   state         object \n",
      " 9   type          object \n",
      " 10  cluster       int64  \n",
      "dtypes: float64(2), int64(4), object(5)\n",
      "memory usage: 274.7+ MB\n"
     ]
    },
    {
     "data": {
      "text/html": [
       "<div>\n",
       "<style scoped>\n",
       "    .dataframe tbody tr th:only-of-type {\n",
       "        vertical-align: middle;\n",
       "    }\n",
       "\n",
       "    .dataframe tbody tr th {\n",
       "        vertical-align: top;\n",
       "    }\n",
       "\n",
       "    .dataframe thead th {\n",
       "        text-align: right;\n",
       "    }\n",
       "</style>\n",
       "<table border=\"1\" class=\"dataframe\">\n",
       "  <thead>\n",
       "    <tr style=\"text-align: right;\">\n",
       "      <th></th>\n",
       "      <th>id</th>\n",
       "      <th>date</th>\n",
       "      <th>store_nbr</th>\n",
       "      <th>family</th>\n",
       "      <th>sales</th>\n",
       "      <th>onpromotion</th>\n",
       "      <th>transactions</th>\n",
       "      <th>city</th>\n",
       "      <th>state</th>\n",
       "      <th>type</th>\n",
       "      <th>cluster</th>\n",
       "    </tr>\n",
       "  </thead>\n",
       "  <tbody>\n",
       "    <tr>\n",
       "      <th>0</th>\n",
       "      <td>0</td>\n",
       "      <td>2013-01-01</td>\n",
       "      <td>1</td>\n",
       "      <td>AUTOMOTIVE</td>\n",
       "      <td>0.000000000</td>\n",
       "      <td>0</td>\n",
       "      <td>NaN</td>\n",
       "      <td>Quito</td>\n",
       "      <td>Pichincha</td>\n",
       "      <td>D</td>\n",
       "      <td>13</td>\n",
       "    </tr>\n",
       "    <tr>\n",
       "      <th>1</th>\n",
       "      <td>1</td>\n",
       "      <td>2013-01-01</td>\n",
       "      <td>1</td>\n",
       "      <td>BABY CARE</td>\n",
       "      <td>0.000000000</td>\n",
       "      <td>0</td>\n",
       "      <td>NaN</td>\n",
       "      <td>Quito</td>\n",
       "      <td>Pichincha</td>\n",
       "      <td>D</td>\n",
       "      <td>13</td>\n",
       "    </tr>\n",
       "    <tr>\n",
       "      <th>2</th>\n",
       "      <td>2</td>\n",
       "      <td>2013-01-01</td>\n",
       "      <td>1</td>\n",
       "      <td>BEAUTY</td>\n",
       "      <td>0.000000000</td>\n",
       "      <td>0</td>\n",
       "      <td>NaN</td>\n",
       "      <td>Quito</td>\n",
       "      <td>Pichincha</td>\n",
       "      <td>D</td>\n",
       "      <td>13</td>\n",
       "    </tr>\n",
       "    <tr>\n",
       "      <th>3</th>\n",
       "      <td>3</td>\n",
       "      <td>2013-01-01</td>\n",
       "      <td>1</td>\n",
       "      <td>BEVERAGES</td>\n",
       "      <td>0.000000000</td>\n",
       "      <td>0</td>\n",
       "      <td>NaN</td>\n",
       "      <td>Quito</td>\n",
       "      <td>Pichincha</td>\n",
       "      <td>D</td>\n",
       "      <td>13</td>\n",
       "    </tr>\n",
       "    <tr>\n",
       "      <th>4</th>\n",
       "      <td>4</td>\n",
       "      <td>2013-01-01</td>\n",
       "      <td>1</td>\n",
       "      <td>BOOKS</td>\n",
       "      <td>0.000000000</td>\n",
       "      <td>0</td>\n",
       "      <td>NaN</td>\n",
       "      <td>Quito</td>\n",
       "      <td>Pichincha</td>\n",
       "      <td>D</td>\n",
       "      <td>13</td>\n",
       "    </tr>\n",
       "  </tbody>\n",
       "</table>\n",
       "</div>"
      ],
      "text/plain": [
       "   id        date  store_nbr      family       sales  onpromotion  \\\n",
       "0   0  2013-01-01          1  AUTOMOTIVE 0.000000000            0   \n",
       "1   1  2013-01-01          1   BABY CARE 0.000000000            0   \n",
       "2   2  2013-01-01          1      BEAUTY 0.000000000            0   \n",
       "3   3  2013-01-01          1   BEVERAGES 0.000000000            0   \n",
       "4   4  2013-01-01          1       BOOKS 0.000000000            0   \n",
       "\n",
       "   transactions   city      state type  cluster  \n",
       "0           NaN  Quito  Pichincha    D       13  \n",
       "1           NaN  Quito  Pichincha    D       13  \n",
       "2           NaN  Quito  Pichincha    D       13  \n",
       "3           NaN  Quito  Pichincha    D       13  \n",
       "4           NaN  Quito  Pichincha    D       13  "
      ]
     },
     "execution_count": 9,
     "metadata": {},
     "output_type": "execute_result"
    }
   ],
   "source": [
    "#merging the datasets\n",
    "df_train = train.merge(transactions, on = ['date', 'store_nbr'], how='left')\n",
    "df_train = df_train.merge(stores, on = 'store_nbr', how='left')\n",
    "#df_train1 = df_train1.merge(oil, on = 'date', how='left')\n",
    "#df_train1 = train.merge(holidays, on = 'date', how='left')\n",
    "#df_train1 = df_train1.rename(columns = {\"type_x\" : \"holiday_type\", \"type_y\" : \"store_type\"})\n",
    "#transactions.info()\n",
    "df_train.info()\n",
    "df_train.head()\n"
   ]
  },
  {
   "cell_type": "markdown",
   "id": "ff3a1e3c",
   "metadata": {},
   "source": [
    "** Since we will Analysis of data set by Year, Month and Day, we will disaggregate the date column into Year, Month and Day columns so we can aggregate the data by those parameters**"
   ]
  },
  {
   "cell_type": "code",
   "execution_count": 10,
   "id": "80f3d68b",
   "metadata": {},
   "outputs": [
    {
     "data": {
      "text/html": [
       "<div>\n",
       "<style scoped>\n",
       "    .dataframe tbody tr th:only-of-type {\n",
       "        vertical-align: middle;\n",
       "    }\n",
       "\n",
       "    .dataframe tbody tr th {\n",
       "        vertical-align: top;\n",
       "    }\n",
       "\n",
       "    .dataframe thead th {\n",
       "        text-align: right;\n",
       "    }\n",
       "</style>\n",
       "<table border=\"1\" class=\"dataframe\">\n",
       "  <thead>\n",
       "    <tr style=\"text-align: right;\">\n",
       "      <th></th>\n",
       "      <th>id</th>\n",
       "      <th>date</th>\n",
       "      <th>store_nbr</th>\n",
       "      <th>family</th>\n",
       "      <th>sales</th>\n",
       "      <th>onpromotion</th>\n",
       "      <th>transactions</th>\n",
       "      <th>city</th>\n",
       "      <th>state</th>\n",
       "      <th>type</th>\n",
       "      <th>cluster</th>\n",
       "      <th>year</th>\n",
       "      <th>month</th>\n",
       "      <th>day</th>\n",
       "      <th>weekday</th>\n",
       "      <th>week</th>\n",
       "      <th>quarter</th>\n",
       "      <th>day_of_week</th>\n",
       "    </tr>\n",
       "  </thead>\n",
       "  <tbody>\n",
       "    <tr>\n",
       "      <th>0</th>\n",
       "      <td>0</td>\n",
       "      <td>2013-01-01</td>\n",
       "      <td>1</td>\n",
       "      <td>AUTOMOTIVE</td>\n",
       "      <td>0.000000000</td>\n",
       "      <td>0</td>\n",
       "      <td>NaN</td>\n",
       "      <td>Quito</td>\n",
       "      <td>Pichincha</td>\n",
       "      <td>D</td>\n",
       "      <td>13</td>\n",
       "      <td>2013</td>\n",
       "      <td>1</td>\n",
       "      <td>1</td>\n",
       "      <td>1</td>\n",
       "      <td>1</td>\n",
       "      <td>1</td>\n",
       "      <td>Tuesday</td>\n",
       "    </tr>\n",
       "    <tr>\n",
       "      <th>1</th>\n",
       "      <td>1</td>\n",
       "      <td>2013-01-01</td>\n",
       "      <td>1</td>\n",
       "      <td>BABY CARE</td>\n",
       "      <td>0.000000000</td>\n",
       "      <td>0</td>\n",
       "      <td>NaN</td>\n",
       "      <td>Quito</td>\n",
       "      <td>Pichincha</td>\n",
       "      <td>D</td>\n",
       "      <td>13</td>\n",
       "      <td>2013</td>\n",
       "      <td>1</td>\n",
       "      <td>1</td>\n",
       "      <td>1</td>\n",
       "      <td>1</td>\n",
       "      <td>1</td>\n",
       "      <td>Tuesday</td>\n",
       "    </tr>\n",
       "    <tr>\n",
       "      <th>2</th>\n",
       "      <td>2</td>\n",
       "      <td>2013-01-01</td>\n",
       "      <td>1</td>\n",
       "      <td>BEAUTY</td>\n",
       "      <td>0.000000000</td>\n",
       "      <td>0</td>\n",
       "      <td>NaN</td>\n",
       "      <td>Quito</td>\n",
       "      <td>Pichincha</td>\n",
       "      <td>D</td>\n",
       "      <td>13</td>\n",
       "      <td>2013</td>\n",
       "      <td>1</td>\n",
       "      <td>1</td>\n",
       "      <td>1</td>\n",
       "      <td>1</td>\n",
       "      <td>1</td>\n",
       "      <td>Tuesday</td>\n",
       "    </tr>\n",
       "    <tr>\n",
       "      <th>3</th>\n",
       "      <td>3</td>\n",
       "      <td>2013-01-01</td>\n",
       "      <td>1</td>\n",
       "      <td>BEVERAGES</td>\n",
       "      <td>0.000000000</td>\n",
       "      <td>0</td>\n",
       "      <td>NaN</td>\n",
       "      <td>Quito</td>\n",
       "      <td>Pichincha</td>\n",
       "      <td>D</td>\n",
       "      <td>13</td>\n",
       "      <td>2013</td>\n",
       "      <td>1</td>\n",
       "      <td>1</td>\n",
       "      <td>1</td>\n",
       "      <td>1</td>\n",
       "      <td>1</td>\n",
       "      <td>Tuesday</td>\n",
       "    </tr>\n",
       "    <tr>\n",
       "      <th>4</th>\n",
       "      <td>4</td>\n",
       "      <td>2013-01-01</td>\n",
       "      <td>1</td>\n",
       "      <td>BOOKS</td>\n",
       "      <td>0.000000000</td>\n",
       "      <td>0</td>\n",
       "      <td>NaN</td>\n",
       "      <td>Quito</td>\n",
       "      <td>Pichincha</td>\n",
       "      <td>D</td>\n",
       "      <td>13</td>\n",
       "      <td>2013</td>\n",
       "      <td>1</td>\n",
       "      <td>1</td>\n",
       "      <td>1</td>\n",
       "      <td>1</td>\n",
       "      <td>1</td>\n",
       "      <td>Tuesday</td>\n",
       "    </tr>\n",
       "    <tr>\n",
       "      <th>...</th>\n",
       "      <td>...</td>\n",
       "      <td>...</td>\n",
       "      <td>...</td>\n",
       "      <td>...</td>\n",
       "      <td>...</td>\n",
       "      <td>...</td>\n",
       "      <td>...</td>\n",
       "      <td>...</td>\n",
       "      <td>...</td>\n",
       "      <td>...</td>\n",
       "      <td>...</td>\n",
       "      <td>...</td>\n",
       "      <td>...</td>\n",
       "      <td>...</td>\n",
       "      <td>...</td>\n",
       "      <td>...</td>\n",
       "      <td>...</td>\n",
       "      <td>...</td>\n",
       "    </tr>\n",
       "    <tr>\n",
       "      <th>3000883</th>\n",
       "      <td>3000883</td>\n",
       "      <td>2017-08-15</td>\n",
       "      <td>9</td>\n",
       "      <td>POULTRY</td>\n",
       "      <td>438.133000000</td>\n",
       "      <td>0</td>\n",
       "      <td>2155.000000000</td>\n",
       "      <td>Quito</td>\n",
       "      <td>Pichincha</td>\n",
       "      <td>B</td>\n",
       "      <td>6</td>\n",
       "      <td>2017</td>\n",
       "      <td>8</td>\n",
       "      <td>15</td>\n",
       "      <td>1</td>\n",
       "      <td>33</td>\n",
       "      <td>3</td>\n",
       "      <td>Tuesday</td>\n",
       "    </tr>\n",
       "    <tr>\n",
       "      <th>3000884</th>\n",
       "      <td>3000884</td>\n",
       "      <td>2017-08-15</td>\n",
       "      <td>9</td>\n",
       "      <td>PREPARED FOODS</td>\n",
       "      <td>154.553000000</td>\n",
       "      <td>1</td>\n",
       "      <td>2155.000000000</td>\n",
       "      <td>Quito</td>\n",
       "      <td>Pichincha</td>\n",
       "      <td>B</td>\n",
       "      <td>6</td>\n",
       "      <td>2017</td>\n",
       "      <td>8</td>\n",
       "      <td>15</td>\n",
       "      <td>1</td>\n",
       "      <td>33</td>\n",
       "      <td>3</td>\n",
       "      <td>Tuesday</td>\n",
       "    </tr>\n",
       "    <tr>\n",
       "      <th>3000885</th>\n",
       "      <td>3000885</td>\n",
       "      <td>2017-08-15</td>\n",
       "      <td>9</td>\n",
       "      <td>PRODUCE</td>\n",
       "      <td>2419.729000000</td>\n",
       "      <td>148</td>\n",
       "      <td>2155.000000000</td>\n",
       "      <td>Quito</td>\n",
       "      <td>Pichincha</td>\n",
       "      <td>B</td>\n",
       "      <td>6</td>\n",
       "      <td>2017</td>\n",
       "      <td>8</td>\n",
       "      <td>15</td>\n",
       "      <td>1</td>\n",
       "      <td>33</td>\n",
       "      <td>3</td>\n",
       "      <td>Tuesday</td>\n",
       "    </tr>\n",
       "    <tr>\n",
       "      <th>3000886</th>\n",
       "      <td>3000886</td>\n",
       "      <td>2017-08-15</td>\n",
       "      <td>9</td>\n",
       "      <td>SCHOOL AND OFFICE SUPPLIES</td>\n",
       "      <td>121.000000000</td>\n",
       "      <td>8</td>\n",
       "      <td>2155.000000000</td>\n",
       "      <td>Quito</td>\n",
       "      <td>Pichincha</td>\n",
       "      <td>B</td>\n",
       "      <td>6</td>\n",
       "      <td>2017</td>\n",
       "      <td>8</td>\n",
       "      <td>15</td>\n",
       "      <td>1</td>\n",
       "      <td>33</td>\n",
       "      <td>3</td>\n",
       "      <td>Tuesday</td>\n",
       "    </tr>\n",
       "    <tr>\n",
       "      <th>3000887</th>\n",
       "      <td>3000887</td>\n",
       "      <td>2017-08-15</td>\n",
       "      <td>9</td>\n",
       "      <td>SEAFOOD</td>\n",
       "      <td>16.000000000</td>\n",
       "      <td>0</td>\n",
       "      <td>2155.000000000</td>\n",
       "      <td>Quito</td>\n",
       "      <td>Pichincha</td>\n",
       "      <td>B</td>\n",
       "      <td>6</td>\n",
       "      <td>2017</td>\n",
       "      <td>8</td>\n",
       "      <td>15</td>\n",
       "      <td>1</td>\n",
       "      <td>33</td>\n",
       "      <td>3</td>\n",
       "      <td>Tuesday</td>\n",
       "    </tr>\n",
       "  </tbody>\n",
       "</table>\n",
       "<p>3000888 rows × 18 columns</p>\n",
       "</div>"
      ],
      "text/plain": [
       "              id       date  store_nbr                      family  \\\n",
       "0              0 2013-01-01          1                  AUTOMOTIVE   \n",
       "1              1 2013-01-01          1                   BABY CARE   \n",
       "2              2 2013-01-01          1                      BEAUTY   \n",
       "3              3 2013-01-01          1                   BEVERAGES   \n",
       "4              4 2013-01-01          1                       BOOKS   \n",
       "...          ...        ...        ...                         ...   \n",
       "3000883  3000883 2017-08-15          9                     POULTRY   \n",
       "3000884  3000884 2017-08-15          9              PREPARED FOODS   \n",
       "3000885  3000885 2017-08-15          9                     PRODUCE   \n",
       "3000886  3000886 2017-08-15          9  SCHOOL AND OFFICE SUPPLIES   \n",
       "3000887  3000887 2017-08-15          9                     SEAFOOD   \n",
       "\n",
       "                 sales  onpromotion   transactions   city      state type  \\\n",
       "0          0.000000000            0            NaN  Quito  Pichincha    D   \n",
       "1          0.000000000            0            NaN  Quito  Pichincha    D   \n",
       "2          0.000000000            0            NaN  Quito  Pichincha    D   \n",
       "3          0.000000000            0            NaN  Quito  Pichincha    D   \n",
       "4          0.000000000            0            NaN  Quito  Pichincha    D   \n",
       "...                ...          ...            ...    ...        ...  ...   \n",
       "3000883  438.133000000            0 2155.000000000  Quito  Pichincha    B   \n",
       "3000884  154.553000000            1 2155.000000000  Quito  Pichincha    B   \n",
       "3000885 2419.729000000          148 2155.000000000  Quito  Pichincha    B   \n",
       "3000886  121.000000000            8 2155.000000000  Quito  Pichincha    B   \n",
       "3000887   16.000000000            0 2155.000000000  Quito  Pichincha    B   \n",
       "\n",
       "         cluster  year  month  day  weekday  week  quarter day_of_week  \n",
       "0             13  2013      1    1        1     1        1     Tuesday  \n",
       "1             13  2013      1    1        1     1        1     Tuesday  \n",
       "2             13  2013      1    1        1     1        1     Tuesday  \n",
       "3             13  2013      1    1        1     1        1     Tuesday  \n",
       "4             13  2013      1    1        1     1        1     Tuesday  \n",
       "...          ...   ...    ...  ...      ...   ...      ...         ...  \n",
       "3000883        6  2017      8   15        1    33        3     Tuesday  \n",
       "3000884        6  2017      8   15        1    33        3     Tuesday  \n",
       "3000885        6  2017      8   15        1    33        3     Tuesday  \n",
       "3000886        6  2017      8   15        1    33        3     Tuesday  \n",
       "3000887        6  2017      8   15        1    33        3     Tuesday  \n",
       "\n",
       "[3000888 rows x 18 columns]"
      ]
     },
     "execution_count": 10,
     "metadata": {},
     "output_type": "execute_result"
    }
   ],
   "source": [
    "#Breaking the year column into day, month, year, day of the week, and week.\n",
    "df_train['date'] = pd.to_datetime(train['date'])\n",
    "df_train['year'] = df_train['date'].dt.year\n",
    "df_train['month'] = df_train['date'].dt.month\n",
    "df_train['day'] = df_train['date'].dt.day\n",
    "df_train['weekday'] = df_train['date'].dt.weekday\n",
    "df_train['week'] = df_train['date'].dt.isocalendar().week\n",
    "df_train['quarter'] = df_train['date'].dt.quarter\n",
    "df_train['day_of_week'] = df_train['date'].dt.day_name()\n",
    "df_train"
   ]
  },
  {
   "cell_type": "code",
   "execution_count": 11,
   "id": "f5a96b42",
   "metadata": {},
   "outputs": [
    {
     "data": {
      "text/plain": [
       "id                   0\n",
       "week                 0\n",
       "weekday              0\n",
       "day                  0\n",
       "month                0\n",
       "year                 0\n",
       "cluster              0\n",
       "type                 0\n",
       "state                0\n",
       "city                 0\n",
       "onpromotion          0\n",
       "sales                0\n",
       "family               0\n",
       "store_nbr            0\n",
       "date                 0\n",
       "quarter              0\n",
       "day_of_week          0\n",
       "transactions    245784\n",
       "dtype: int64"
      ]
     },
     "execution_count": 11,
     "metadata": {},
     "output_type": "execute_result"
    }
   ],
   "source": [
    "missing_values = df_train.isnull().sum().sort_values(ascending =True)\n",
    "missing_values"
   ]
  },
  {
   "cell_type": "markdown",
   "id": "1985fc4a",
   "metadata": {},
   "source": [
    "**The transactions data is missing 245784 values** Since the column contains the count of sales transactions for each date, store_nbr combination, we have to fill the missing data as it is important for our analysis. \n",
    "**We will be using the back fill method because analysis of the data shows that the rows have repeating values. "
   ]
  },
  {
   "cell_type": "code",
   "execution_count": 12,
   "id": "07f9d820",
   "metadata": {},
   "outputs": [
    {
     "data": {
      "text/html": [
       "<div>\n",
       "<style scoped>\n",
       "    .dataframe tbody tr th:only-of-type {\n",
       "        vertical-align: middle;\n",
       "    }\n",
       "\n",
       "    .dataframe tbody tr th {\n",
       "        vertical-align: top;\n",
       "    }\n",
       "\n",
       "    .dataframe thead th {\n",
       "        text-align: right;\n",
       "    }\n",
       "</style>\n",
       "<table border=\"1\" class=\"dataframe\">\n",
       "  <thead>\n",
       "    <tr style=\"text-align: right;\">\n",
       "      <th></th>\n",
       "      <th>id</th>\n",
       "      <th>date</th>\n",
       "      <th>store_nbr</th>\n",
       "      <th>family</th>\n",
       "      <th>sales</th>\n",
       "      <th>onpromotion</th>\n",
       "      <th>transactions</th>\n",
       "      <th>city</th>\n",
       "      <th>state</th>\n",
       "      <th>type</th>\n",
       "      <th>cluster</th>\n",
       "      <th>year</th>\n",
       "      <th>month</th>\n",
       "      <th>day</th>\n",
       "      <th>weekday</th>\n",
       "      <th>week</th>\n",
       "      <th>quarter</th>\n",
       "      <th>day_of_week</th>\n",
       "    </tr>\n",
       "  </thead>\n",
       "  <tbody>\n",
       "    <tr>\n",
       "      <th>0</th>\n",
       "      <td>0</td>\n",
       "      <td>2013-01-01</td>\n",
       "      <td>1</td>\n",
       "      <td>AUTOMOTIVE</td>\n",
       "      <td>0.000000000</td>\n",
       "      <td>0</td>\n",
       "      <td>770.000000000</td>\n",
       "      <td>Quito</td>\n",
       "      <td>Pichincha</td>\n",
       "      <td>D</td>\n",
       "      <td>13</td>\n",
       "      <td>2013</td>\n",
       "      <td>1</td>\n",
       "      <td>1</td>\n",
       "      <td>1</td>\n",
       "      <td>1</td>\n",
       "      <td>1</td>\n",
       "      <td>Tuesday</td>\n",
       "    </tr>\n",
       "    <tr>\n",
       "      <th>1</th>\n",
       "      <td>1</td>\n",
       "      <td>2013-01-01</td>\n",
       "      <td>1</td>\n",
       "      <td>BABY CARE</td>\n",
       "      <td>0.000000000</td>\n",
       "      <td>0</td>\n",
       "      <td>770.000000000</td>\n",
       "      <td>Quito</td>\n",
       "      <td>Pichincha</td>\n",
       "      <td>D</td>\n",
       "      <td>13</td>\n",
       "      <td>2013</td>\n",
       "      <td>1</td>\n",
       "      <td>1</td>\n",
       "      <td>1</td>\n",
       "      <td>1</td>\n",
       "      <td>1</td>\n",
       "      <td>Tuesday</td>\n",
       "    </tr>\n",
       "    <tr>\n",
       "      <th>2</th>\n",
       "      <td>2</td>\n",
       "      <td>2013-01-01</td>\n",
       "      <td>1</td>\n",
       "      <td>BEAUTY</td>\n",
       "      <td>0.000000000</td>\n",
       "      <td>0</td>\n",
       "      <td>770.000000000</td>\n",
       "      <td>Quito</td>\n",
       "      <td>Pichincha</td>\n",
       "      <td>D</td>\n",
       "      <td>13</td>\n",
       "      <td>2013</td>\n",
       "      <td>1</td>\n",
       "      <td>1</td>\n",
       "      <td>1</td>\n",
       "      <td>1</td>\n",
       "      <td>1</td>\n",
       "      <td>Tuesday</td>\n",
       "    </tr>\n",
       "    <tr>\n",
       "      <th>3</th>\n",
       "      <td>3</td>\n",
       "      <td>2013-01-01</td>\n",
       "      <td>1</td>\n",
       "      <td>BEVERAGES</td>\n",
       "      <td>0.000000000</td>\n",
       "      <td>0</td>\n",
       "      <td>770.000000000</td>\n",
       "      <td>Quito</td>\n",
       "      <td>Pichincha</td>\n",
       "      <td>D</td>\n",
       "      <td>13</td>\n",
       "      <td>2013</td>\n",
       "      <td>1</td>\n",
       "      <td>1</td>\n",
       "      <td>1</td>\n",
       "      <td>1</td>\n",
       "      <td>1</td>\n",
       "      <td>Tuesday</td>\n",
       "    </tr>\n",
       "    <tr>\n",
       "      <th>4</th>\n",
       "      <td>4</td>\n",
       "      <td>2013-01-01</td>\n",
       "      <td>1</td>\n",
       "      <td>BOOKS</td>\n",
       "      <td>0.000000000</td>\n",
       "      <td>0</td>\n",
       "      <td>770.000000000</td>\n",
       "      <td>Quito</td>\n",
       "      <td>Pichincha</td>\n",
       "      <td>D</td>\n",
       "      <td>13</td>\n",
       "      <td>2013</td>\n",
       "      <td>1</td>\n",
       "      <td>1</td>\n",
       "      <td>1</td>\n",
       "      <td>1</td>\n",
       "      <td>1</td>\n",
       "      <td>Tuesday</td>\n",
       "    </tr>\n",
       "    <tr>\n",
       "      <th>...</th>\n",
       "      <td>...</td>\n",
       "      <td>...</td>\n",
       "      <td>...</td>\n",
       "      <td>...</td>\n",
       "      <td>...</td>\n",
       "      <td>...</td>\n",
       "      <td>...</td>\n",
       "      <td>...</td>\n",
       "      <td>...</td>\n",
       "      <td>...</td>\n",
       "      <td>...</td>\n",
       "      <td>...</td>\n",
       "      <td>...</td>\n",
       "      <td>...</td>\n",
       "      <td>...</td>\n",
       "      <td>...</td>\n",
       "      <td>...</td>\n",
       "      <td>...</td>\n",
       "    </tr>\n",
       "    <tr>\n",
       "      <th>3000883</th>\n",
       "      <td>3000883</td>\n",
       "      <td>2017-08-15</td>\n",
       "      <td>9</td>\n",
       "      <td>POULTRY</td>\n",
       "      <td>438.133000000</td>\n",
       "      <td>0</td>\n",
       "      <td>2155.000000000</td>\n",
       "      <td>Quito</td>\n",
       "      <td>Pichincha</td>\n",
       "      <td>B</td>\n",
       "      <td>6</td>\n",
       "      <td>2017</td>\n",
       "      <td>8</td>\n",
       "      <td>15</td>\n",
       "      <td>1</td>\n",
       "      <td>33</td>\n",
       "      <td>3</td>\n",
       "      <td>Tuesday</td>\n",
       "    </tr>\n",
       "    <tr>\n",
       "      <th>3000884</th>\n",
       "      <td>3000884</td>\n",
       "      <td>2017-08-15</td>\n",
       "      <td>9</td>\n",
       "      <td>PREPARED FOODS</td>\n",
       "      <td>154.553000000</td>\n",
       "      <td>1</td>\n",
       "      <td>2155.000000000</td>\n",
       "      <td>Quito</td>\n",
       "      <td>Pichincha</td>\n",
       "      <td>B</td>\n",
       "      <td>6</td>\n",
       "      <td>2017</td>\n",
       "      <td>8</td>\n",
       "      <td>15</td>\n",
       "      <td>1</td>\n",
       "      <td>33</td>\n",
       "      <td>3</td>\n",
       "      <td>Tuesday</td>\n",
       "    </tr>\n",
       "    <tr>\n",
       "      <th>3000885</th>\n",
       "      <td>3000885</td>\n",
       "      <td>2017-08-15</td>\n",
       "      <td>9</td>\n",
       "      <td>PRODUCE</td>\n",
       "      <td>2419.729000000</td>\n",
       "      <td>148</td>\n",
       "      <td>2155.000000000</td>\n",
       "      <td>Quito</td>\n",
       "      <td>Pichincha</td>\n",
       "      <td>B</td>\n",
       "      <td>6</td>\n",
       "      <td>2017</td>\n",
       "      <td>8</td>\n",
       "      <td>15</td>\n",
       "      <td>1</td>\n",
       "      <td>33</td>\n",
       "      <td>3</td>\n",
       "      <td>Tuesday</td>\n",
       "    </tr>\n",
       "    <tr>\n",
       "      <th>3000886</th>\n",
       "      <td>3000886</td>\n",
       "      <td>2017-08-15</td>\n",
       "      <td>9</td>\n",
       "      <td>SCHOOL AND OFFICE SUPPLIES</td>\n",
       "      <td>121.000000000</td>\n",
       "      <td>8</td>\n",
       "      <td>2155.000000000</td>\n",
       "      <td>Quito</td>\n",
       "      <td>Pichincha</td>\n",
       "      <td>B</td>\n",
       "      <td>6</td>\n",
       "      <td>2017</td>\n",
       "      <td>8</td>\n",
       "      <td>15</td>\n",
       "      <td>1</td>\n",
       "      <td>33</td>\n",
       "      <td>3</td>\n",
       "      <td>Tuesday</td>\n",
       "    </tr>\n",
       "    <tr>\n",
       "      <th>3000887</th>\n",
       "      <td>3000887</td>\n",
       "      <td>2017-08-15</td>\n",
       "      <td>9</td>\n",
       "      <td>SEAFOOD</td>\n",
       "      <td>16.000000000</td>\n",
       "      <td>0</td>\n",
       "      <td>2155.000000000</td>\n",
       "      <td>Quito</td>\n",
       "      <td>Pichincha</td>\n",
       "      <td>B</td>\n",
       "      <td>6</td>\n",
       "      <td>2017</td>\n",
       "      <td>8</td>\n",
       "      <td>15</td>\n",
       "      <td>1</td>\n",
       "      <td>33</td>\n",
       "      <td>3</td>\n",
       "      <td>Tuesday</td>\n",
       "    </tr>\n",
       "  </tbody>\n",
       "</table>\n",
       "<p>3000888 rows × 18 columns</p>\n",
       "</div>"
      ],
      "text/plain": [
       "              id       date  store_nbr                      family  \\\n",
       "0              0 2013-01-01          1                  AUTOMOTIVE   \n",
       "1              1 2013-01-01          1                   BABY CARE   \n",
       "2              2 2013-01-01          1                      BEAUTY   \n",
       "3              3 2013-01-01          1                   BEVERAGES   \n",
       "4              4 2013-01-01          1                       BOOKS   \n",
       "...          ...        ...        ...                         ...   \n",
       "3000883  3000883 2017-08-15          9                     POULTRY   \n",
       "3000884  3000884 2017-08-15          9              PREPARED FOODS   \n",
       "3000885  3000885 2017-08-15          9                     PRODUCE   \n",
       "3000886  3000886 2017-08-15          9  SCHOOL AND OFFICE SUPPLIES   \n",
       "3000887  3000887 2017-08-15          9                     SEAFOOD   \n",
       "\n",
       "                 sales  onpromotion   transactions   city      state type  \\\n",
       "0          0.000000000            0  770.000000000  Quito  Pichincha    D   \n",
       "1          0.000000000            0  770.000000000  Quito  Pichincha    D   \n",
       "2          0.000000000            0  770.000000000  Quito  Pichincha    D   \n",
       "3          0.000000000            0  770.000000000  Quito  Pichincha    D   \n",
       "4          0.000000000            0  770.000000000  Quito  Pichincha    D   \n",
       "...                ...          ...            ...    ...        ...  ...   \n",
       "3000883  438.133000000            0 2155.000000000  Quito  Pichincha    B   \n",
       "3000884  154.553000000            1 2155.000000000  Quito  Pichincha    B   \n",
       "3000885 2419.729000000          148 2155.000000000  Quito  Pichincha    B   \n",
       "3000886  121.000000000            8 2155.000000000  Quito  Pichincha    B   \n",
       "3000887   16.000000000            0 2155.000000000  Quito  Pichincha    B   \n",
       "\n",
       "         cluster  year  month  day  weekday  week  quarter day_of_week  \n",
       "0             13  2013      1    1        1     1        1     Tuesday  \n",
       "1             13  2013      1    1        1     1        1     Tuesday  \n",
       "2             13  2013      1    1        1     1        1     Tuesday  \n",
       "3             13  2013      1    1        1     1        1     Tuesday  \n",
       "4             13  2013      1    1        1     1        1     Tuesday  \n",
       "...          ...   ...    ...  ...      ...   ...      ...         ...  \n",
       "3000883        6  2017      8   15        1    33        3     Tuesday  \n",
       "3000884        6  2017      8   15        1    33        3     Tuesday  \n",
       "3000885        6  2017      8   15        1    33        3     Tuesday  \n",
       "3000886        6  2017      8   15        1    33        3     Tuesday  \n",
       "3000887        6  2017      8   15        1    33        3     Tuesday  \n",
       "\n",
       "[3000888 rows x 18 columns]"
      ]
     },
     "execution_count": 12,
     "metadata": {},
     "output_type": "execute_result"
    }
   ],
   "source": [
    "#Filling the missing data using the Backfill method\n",
    "df_train[\"transactions\"].fillna(method='bfill', inplace=True)\n",
    "df_train"
   ]
  },
  {
   "cell_type": "code",
   "execution_count": 13,
   "id": "b90fd083",
   "metadata": {},
   "outputs": [],
   "source": [
    "#reseting dataframe index \n",
    "df_train.reset_index(drop=True, inplace=True)"
   ]
  },
  {
   "cell_type": "markdown",
   "id": "698da73d",
   "metadata": {},
   "source": [
    "# Checking for missing dates"
   ]
  },
  {
   "cell_type": "code",
   "execution_count": 14,
   "id": "2a8c734f",
   "metadata": {},
   "outputs": [
    {
     "data": {
      "text/plain": [
       "(datetime.date(2013, 1, 1), datetime.date(2017, 8, 15))"
      ]
     },
     "execution_count": 14,
     "metadata": {},
     "output_type": "execute_result"
    }
   ],
   "source": [
    "#Checking for completeness of the dates\n",
    "train.date.min(), train.date.max()\n",
    "train['sales_date'] = pd.to_datetime(train['date']).dt.date\n",
    "train['sales_date'].min(), train['sales_date'].max()"
   ]
  },
  {
   "cell_type": "code",
   "execution_count": 15,
   "id": "c3ff3483",
   "metadata": {},
   "outputs": [
    {
     "data": {
      "text/plain": [
       "1688"
      ]
     },
     "execution_count": 15,
     "metadata": {},
     "output_type": "execute_result"
    }
   ],
   "source": [
    "#expected number of days (max dates - min dates)\n",
    "\n",
    "difference =(train['sales_date'].max() - train['sales_date'].min())\n",
    "difference.days + 1\n"
   ]
  },
  {
   "cell_type": "code",
   "execution_count": 16,
   "id": "91bad6fd",
   "metadata": {},
   "outputs": [
    {
     "data": {
      "text/plain": [
       "1684"
      ]
     },
     "execution_count": 16,
     "metadata": {},
     "output_type": "execute_result"
    }
   ],
   "source": [
    "#Actual number of days\n",
    "train['sales_date'].nunique()\n"
   ]
  },
  {
   "cell_type": "code",
   "execution_count": 17,
   "id": "6d535451",
   "metadata": {},
   "outputs": [
    {
     "data": {
      "text/plain": [
       "{datetime.date(2013, 12, 25),\n",
       " datetime.date(2014, 12, 25),\n",
       " datetime.date(2015, 12, 25),\n",
       " datetime.date(2016, 12, 25)}"
      ]
     },
     "execution_count": 17,
     "metadata": {},
     "output_type": "execute_result"
    }
   ],
   "source": [
    "#Missing dates\n",
    "expected_dates = pd.date_range(start =train['sales_date'].min(), end= train['sales_date'].max())\n",
    "set(expected_dates.date) - set(train['sales_date'].unique())"
   ]
  },
  {
   "cell_type": "markdown",
   "id": "1791fc40",
   "metadata": {},
   "source": [
    "From the result, the missing dates follows a sequence. All the years are missing dates of december 25th ( 12,25). This date is also a holiday in Ecuador. This analysis therfore assumes that no data was taken on this day every year as the shops may be closed down on that day each year. "
   ]
  },
  {
   "cell_type": "markdown",
   "id": "ea19e453",
   "metadata": {},
   "source": [
    "# QUESTIONS"
   ]
  },
  {
   "cell_type": "markdown",
   "id": "5d18fa76",
   "metadata": {},
   "source": [
    "# 1. Is the train dataset complete (has all the required dates)?"
   ]
  },
  {
   "cell_type": "markdown",
   "id": "8d536d0f",
   "metadata": {},
   "source": [
    "# 2. Which dates have the lowest and highest sales for each year?"
   ]
  },
  {
   "cell_type": "code",
   "execution_count": 18,
   "id": "7ef0aff5",
   "metadata": {},
   "outputs": [
    {
     "data": {
      "text/plain": [
       "<AxesSubplot:xlabel='year'>"
      ]
     },
     "execution_count": 18,
     "metadata": {},
     "output_type": "execute_result"
    },
    {
     "data": {
      "image/png": "[encoded data removed]",
      "text/plain": [
       "<Figure size 432x288 with 1 Axes>"
      ]
     },
     "metadata": {
      "needs_background": "light"
     },
     "output_type": "display_data"
    }
   ],
   "source": [
    "total_sales_by_year = df_train.groupby(['year'])['sales'].sum()\n",
    "total_sales_by_year.plot.bar()\n"
   ]
  },
  {
   "cell_type": "markdown",
   "id": "d3630cf6",
   "metadata": {},
   "source": [
    "2017, 8, 15."
   ]
  },
  {
   "cell_type": "code",
   "execution_count": 19,
   "id": "343f4cc0",
   "metadata": {},
   "outputs": [
    {
     "data": {
      "text/plain": [
       "(46271, 45361, 40351.46, 124717, 38422.625)"
      ]
     },
     "execution_count": 19,
     "metadata": {},
     "output_type": "execute_result"
    }
   ],
   "source": [
    "sales_2013 =df_train.loc[df_train['year'] == 2013]\n",
    "sales_2014 =df_train.loc[df_train['year'] == 2014]\n",
    "sales_2015 =df_train.loc[df_train['year'] == 2015]\n",
    "sales_2016 =df_train.loc[df_train['year'] == 2016]\n",
    "sales_2017 =df_train.loc[df_train['year'] == 2017]\n",
    "a= int(sales_2013['sales'].min())\n",
    "b= int(sales_2014['sales'].min())\n",
    "c= int(sales_2015['sales'].min())\n",
    "d= int(sales_2016['sales'].min())\n",
    "e= int(sales_2017['sales'].min())\n",
    "a1= int(sales_2013['sales'].max())\n",
    "b1= int(sales_2014['sales'].max())\n",
    "c1= float(sales_2015['sales'].max())\n",
    "d1= int(sales_2016['sales'].max())\n",
    "e1= float(sales_2017['sales'].max())\n",
    "a1,b1,c1,d1,e1"
   ]
  },
  {
   "cell_type": "code",
   "execution_count": 20,
   "id": "7d067c3c",
   "metadata": {},
   "outputs": [
    {
     "data": {
      "text/html": [
       "<div>\n",
       "<style scoped>\n",
       "    .dataframe tbody tr th:only-of-type {\n",
       "        vertical-align: middle;\n",
       "    }\n",
       "\n",
       "    .dataframe tbody tr th {\n",
       "        vertical-align: top;\n",
       "    }\n",
       "\n",
       "    .dataframe thead th {\n",
       "        text-align: right;\n",
       "    }\n",
       "</style>\n",
       "<table border=\"1\" class=\"dataframe\">\n",
       "  <thead>\n",
       "    <tr style=\"text-align: right;\">\n",
       "      <th></th>\n",
       "      <th>id</th>\n",
       "      <th>date</th>\n",
       "      <th>store_nbr</th>\n",
       "      <th>family</th>\n",
       "      <th>sales</th>\n",
       "      <th>onpromotion</th>\n",
       "      <th>transactions</th>\n",
       "      <th>city</th>\n",
       "      <th>state</th>\n",
       "      <th>type</th>\n",
       "      <th>cluster</th>\n",
       "      <th>year</th>\n",
       "      <th>month</th>\n",
       "      <th>day</th>\n",
       "      <th>weekday</th>\n",
       "      <th>week</th>\n",
       "      <th>quarter</th>\n",
       "      <th>day_of_week</th>\n",
       "    </tr>\n",
       "  </thead>\n",
       "  <tbody>\n",
       "    <tr>\n",
       "      <th>562596</th>\n",
       "      <td>562596</td>\n",
       "      <td>2013-11-12</td>\n",
       "      <td>44</td>\n",
       "      <td>GROCERY I</td>\n",
       "      <td>46271.000000000</td>\n",
       "      <td>0</td>\n",
       "      <td>3577.000000000</td>\n",
       "      <td>Quito</td>\n",
       "      <td>Pichincha</td>\n",
       "      <td>A</td>\n",
       "      <td>5</td>\n",
       "      <td>2013</td>\n",
       "      <td>11</td>\n",
       "      <td>12</td>\n",
       "      <td>1</td>\n",
       "      <td>46</td>\n",
       "      <td>4</td>\n",
       "      <td>Tuesday</td>\n",
       "    </tr>\n",
       "  </tbody>\n",
       "</table>\n",
       "</div>"
      ],
      "text/plain": [
       "            id       date  store_nbr     family           sales  onpromotion  \\\n",
       "562596  562596 2013-11-12         44  GROCERY I 46271.000000000            0   \n",
       "\n",
       "         transactions   city      state type  cluster  year  month  day  \\\n",
       "562596 3577.000000000  Quito  Pichincha    A        5  2013     11   12   \n",
       "\n",
       "        weekday  week  quarter day_of_week  \n",
       "562596        1    46        4     Tuesday  "
      ]
     },
     "execution_count": 20,
     "metadata": {},
     "output_type": "execute_result"
    }
   ],
   "source": [
    "#Max value and date for 2013\n",
    "sales_2013.loc[sales_2013['sales'] == a1]"
   ]
  },
  {
   "cell_type": "code",
   "execution_count": 21,
   "id": "e35e8fbb",
   "metadata": {},
   "outputs": [
    {
     "data": {
      "text/html": [
       "<div>\n",
       "<style scoped>\n",
       "    .dataframe tbody tr th:only-of-type {\n",
       "        vertical-align: middle;\n",
       "    }\n",
       "\n",
       "    .dataframe tbody tr th {\n",
       "        vertical-align: top;\n",
       "    }\n",
       "\n",
       "    .dataframe thead th {\n",
       "        text-align: right;\n",
       "    }\n",
       "</style>\n",
       "<table border=\"1\" class=\"dataframe\">\n",
       "  <thead>\n",
       "    <tr style=\"text-align: right;\">\n",
       "      <th></th>\n",
       "      <th>id</th>\n",
       "      <th>date</th>\n",
       "      <th>store_nbr</th>\n",
       "      <th>family</th>\n",
       "      <th>sales</th>\n",
       "      <th>onpromotion</th>\n",
       "      <th>transactions</th>\n",
       "      <th>city</th>\n",
       "      <th>state</th>\n",
       "      <th>type</th>\n",
       "      <th>cluster</th>\n",
       "      <th>year</th>\n",
       "      <th>month</th>\n",
       "      <th>day</th>\n",
       "      <th>weekday</th>\n",
       "      <th>week</th>\n",
       "      <th>quarter</th>\n",
       "      <th>day_of_week</th>\n",
       "    </tr>\n",
       "  </thead>\n",
       "  <tbody>\n",
       "    <tr>\n",
       "      <th>1257246</th>\n",
       "      <td>1257246</td>\n",
       "      <td>2014-12-08</td>\n",
       "      <td>35</td>\n",
       "      <td>GROCERY I</td>\n",
       "      <td>45361.000000000</td>\n",
       "      <td>3</td>\n",
       "      <td>624.000000000</td>\n",
       "      <td>Playas</td>\n",
       "      <td>Guayas</td>\n",
       "      <td>C</td>\n",
       "      <td>3</td>\n",
       "      <td>2014</td>\n",
       "      <td>12</td>\n",
       "      <td>8</td>\n",
       "      <td>0</td>\n",
       "      <td>50</td>\n",
       "      <td>4</td>\n",
       "      <td>Monday</td>\n",
       "    </tr>\n",
       "  </tbody>\n",
       "</table>\n",
       "</div>"
      ],
      "text/plain": [
       "              id       date  store_nbr     family           sales  \\\n",
       "1257246  1257246 2014-12-08         35  GROCERY I 45361.000000000   \n",
       "\n",
       "         onpromotion  transactions    city   state type  cluster  year  month  \\\n",
       "1257246            3 624.000000000  Playas  Guayas    C        3  2014     12   \n",
       "\n",
       "         day  weekday  week  quarter day_of_week  \n",
       "1257246    8        0    50        4      Monday  "
      ]
     },
     "execution_count": 21,
     "metadata": {},
     "output_type": "execute_result"
    }
   ],
   "source": [
    "#Max value and date for 2014\n",
    "sales_2014.loc[sales_2014['sales'] == b1]"
   ]
  },
  {
   "cell_type": "code",
   "execution_count": 22,
   "id": "9cd0ab9d",
   "metadata": {},
   "outputs": [
    {
     "data": {
      "text/html": [
       "<div>\n",
       "<style scoped>\n",
       "    .dataframe tbody tr th:only-of-type {\n",
       "        vertical-align: middle;\n",
       "    }\n",
       "\n",
       "    .dataframe tbody tr th {\n",
       "        vertical-align: top;\n",
       "    }\n",
       "\n",
       "    .dataframe thead th {\n",
       "        text-align: right;\n",
       "    }\n",
       "</style>\n",
       "<table border=\"1\" class=\"dataframe\">\n",
       "  <thead>\n",
       "    <tr style=\"text-align: right;\">\n",
       "      <th></th>\n",
       "      <th>id</th>\n",
       "      <th>date</th>\n",
       "      <th>store_nbr</th>\n",
       "      <th>family</th>\n",
       "      <th>sales</th>\n",
       "      <th>onpromotion</th>\n",
       "      <th>transactions</th>\n",
       "      <th>city</th>\n",
       "      <th>state</th>\n",
       "      <th>type</th>\n",
       "      <th>cluster</th>\n",
       "      <th>year</th>\n",
       "      <th>month</th>\n",
       "      <th>day</th>\n",
       "      <th>weekday</th>\n",
       "      <th>week</th>\n",
       "      <th>quarter</th>\n",
       "      <th>day_of_week</th>\n",
       "    </tr>\n",
       "  </thead>\n",
       "  <tbody>\n",
       "    <tr>\n",
       "      <th>1916586</th>\n",
       "      <td>1916586</td>\n",
       "      <td>2015-12-14</td>\n",
       "      <td>35</td>\n",
       "      <td>GROCERY I</td>\n",
       "      <td>40351.460000000</td>\n",
       "      <td>7</td>\n",
       "      <td>594.000000000</td>\n",
       "      <td>Playas</td>\n",
       "      <td>Guayas</td>\n",
       "      <td>C</td>\n",
       "      <td>3</td>\n",
       "      <td>2015</td>\n",
       "      <td>12</td>\n",
       "      <td>14</td>\n",
       "      <td>0</td>\n",
       "      <td>51</td>\n",
       "      <td>4</td>\n",
       "      <td>Monday</td>\n",
       "    </tr>\n",
       "  </tbody>\n",
       "</table>\n",
       "</div>"
      ],
      "text/plain": [
       "              id       date  store_nbr     family           sales  \\\n",
       "1916586  1916586 2015-12-14         35  GROCERY I 40351.460000000   \n",
       "\n",
       "         onpromotion  transactions    city   state type  cluster  year  month  \\\n",
       "1916586            7 594.000000000  Playas  Guayas    C        3  2015     12   \n",
       "\n",
       "         day  weekday  week  quarter day_of_week  \n",
       "1916586   14        0    51        4      Monday  "
      ]
     },
     "execution_count": 22,
     "metadata": {},
     "output_type": "execute_result"
    }
   ],
   "source": [
    "#Max value and date for 2015\n",
    "sales_2015.loc[sales_2015['sales'] == c1]"
   ]
  },
  {
   "cell_type": "code",
   "execution_count": 23,
   "id": "543ff55a",
   "metadata": {},
   "outputs": [
    {
     "data": {
      "text/html": [
       "<div>\n",
       "<style scoped>\n",
       "    .dataframe tbody tr th:only-of-type {\n",
       "        vertical-align: middle;\n",
       "    }\n",
       "\n",
       "    .dataframe tbody tr th {\n",
       "        vertical-align: top;\n",
       "    }\n",
       "\n",
       "    .dataframe thead th {\n",
       "        text-align: right;\n",
       "    }\n",
       "</style>\n",
       "<table border=\"1\" class=\"dataframe\">\n",
       "  <thead>\n",
       "    <tr style=\"text-align: right;\">\n",
       "      <th></th>\n",
       "      <th>id</th>\n",
       "      <th>date</th>\n",
       "      <th>store_nbr</th>\n",
       "      <th>family</th>\n",
       "      <th>sales</th>\n",
       "      <th>onpromotion</th>\n",
       "      <th>transactions</th>\n",
       "      <th>city</th>\n",
       "      <th>state</th>\n",
       "      <th>type</th>\n",
       "      <th>cluster</th>\n",
       "      <th>year</th>\n",
       "      <th>month</th>\n",
       "      <th>day</th>\n",
       "      <th>weekday</th>\n",
       "      <th>week</th>\n",
       "      <th>quarter</th>\n",
       "      <th>day_of_week</th>\n",
       "    </tr>\n",
       "  </thead>\n",
       "  <tbody>\n",
       "    <tr>\n",
       "      <th>2163723</th>\n",
       "      <td>2163723</td>\n",
       "      <td>2016-05-02</td>\n",
       "      <td>2</td>\n",
       "      <td>GROCERY I</td>\n",
       "      <td>124717.000000000</td>\n",
       "      <td>59</td>\n",
       "      <td>1905.000000000</td>\n",
       "      <td>Quito</td>\n",
       "      <td>Pichincha</td>\n",
       "      <td>D</td>\n",
       "      <td>13</td>\n",
       "      <td>2016</td>\n",
       "      <td>5</td>\n",
       "      <td>2</td>\n",
       "      <td>0</td>\n",
       "      <td>18</td>\n",
       "      <td>2</td>\n",
       "      <td>Monday</td>\n",
       "    </tr>\n",
       "  </tbody>\n",
       "</table>\n",
       "</div>"
      ],
      "text/plain": [
       "              id       date  store_nbr     family            sales  \\\n",
       "2163723  2163723 2016-05-02          2  GROCERY I 124717.000000000   \n",
       "\n",
       "         onpromotion   transactions   city      state type  cluster  year  \\\n",
       "2163723           59 1905.000000000  Quito  Pichincha    D       13  2016   \n",
       "\n",
       "         month  day  weekday  week  quarter day_of_week  \n",
       "2163723      5    2        0    18        2      Monday  "
      ]
     },
     "execution_count": 23,
     "metadata": {},
     "output_type": "execute_result"
    }
   ],
   "source": [
    "#Max value and date for 2016\n",
    "sales_2016.loc[sales_2016['sales'] == d1]"
   ]
  },
  {
   "cell_type": "code",
   "execution_count": 24,
   "id": "39aae7c3",
   "metadata": {},
   "outputs": [
    {
     "data": {
      "text/html": [
       "<div>\n",
       "<style scoped>\n",
       "    .dataframe tbody tr th:only-of-type {\n",
       "        vertical-align: middle;\n",
       "    }\n",
       "\n",
       "    .dataframe tbody tr th {\n",
       "        vertical-align: top;\n",
       "    }\n",
       "\n",
       "    .dataframe thead th {\n",
       "        text-align: right;\n",
       "    }\n",
       "</style>\n",
       "<table border=\"1\" class=\"dataframe\">\n",
       "  <thead>\n",
       "    <tr style=\"text-align: right;\">\n",
       "      <th></th>\n",
       "      <th>id</th>\n",
       "      <th>date</th>\n",
       "      <th>store_nbr</th>\n",
       "      <th>family</th>\n",
       "      <th>sales</th>\n",
       "      <th>onpromotion</th>\n",
       "      <th>transactions</th>\n",
       "      <th>city</th>\n",
       "      <th>state</th>\n",
       "      <th>type</th>\n",
       "      <th>cluster</th>\n",
       "      <th>year</th>\n",
       "      <th>month</th>\n",
       "      <th>day</th>\n",
       "      <th>weekday</th>\n",
       "      <th>week</th>\n",
       "      <th>quarter</th>\n",
       "      <th>day_of_week</th>\n",
       "    </tr>\n",
       "  </thead>\n",
       "  <tbody>\n",
       "    <tr>\n",
       "      <th>2760297</th>\n",
       "      <td>2760297</td>\n",
       "      <td>2017-04-02</td>\n",
       "      <td>9</td>\n",
       "      <td>GROCERY I</td>\n",
       "      <td>38422.625000000</td>\n",
       "      <td>73</td>\n",
       "      <td>2245.000000000</td>\n",
       "      <td>Quito</td>\n",
       "      <td>Pichincha</td>\n",
       "      <td>B</td>\n",
       "      <td>6</td>\n",
       "      <td>2017</td>\n",
       "      <td>4</td>\n",
       "      <td>2</td>\n",
       "      <td>6</td>\n",
       "      <td>13</td>\n",
       "      <td>2</td>\n",
       "      <td>Sunday</td>\n",
       "    </tr>\n",
       "  </tbody>\n",
       "</table>\n",
       "</div>"
      ],
      "text/plain": [
       "              id       date  store_nbr     family           sales  \\\n",
       "2760297  2760297 2017-04-02          9  GROCERY I 38422.625000000   \n",
       "\n",
       "         onpromotion   transactions   city      state type  cluster  year  \\\n",
       "2760297           73 2245.000000000  Quito  Pichincha    B        6  2017   \n",
       "\n",
       "         month  day  weekday  week  quarter day_of_week  \n",
       "2760297      4    2        6    13        2      Sunday  "
      ]
     },
     "execution_count": 24,
     "metadata": {},
     "output_type": "execute_result"
    }
   ],
   "source": [
    "#Max value and date for 2017\n",
    "sales_2017.loc[sales_2017['sales'] == e1]"
   ]
  },
  {
   "cell_type": "markdown",
   "id": "35e741dc",
   "metadata": {},
   "source": [
    "# 3. Did the earthquake impact sales?"
   ]
  },
  {
   "cell_type": "markdown",
   "id": "bdba6284",
   "metadata": {},
   "source": [
    "earthquake struck Ecuador on April 16, 2016."
   ]
  },
  {
   "cell_type": "code",
   "execution_count": 25,
   "id": "0b8cca55",
   "metadata": {},
   "outputs": [
    {
     "data": {
      "text/plain": [
       "day\n",
       "1    10041721.149370300\n",
       "2    11301885.473681901\n",
       "3    11176590.876531500\n",
       "4    10402257.003353201\n",
       "5     9910869.894095900\n",
       "6    10095639.831068700\n",
       "7     9156554.825749099\n",
       "8     8573418.696217600\n",
       "9     9493921.825316800\n",
       "10    9537903.599278100\n",
       "11    9016023.099425901\n",
       "12    8936501.944980299\n",
       "13    8954708.255806301\n",
       "14    8426829.146365499\n",
       "15    8825596.641757900\n",
       "16    9801118.186097501\n",
       "17    9988998.619207200\n",
       "18    9864747.383386901\n",
       "19    9374226.231698500\n",
       "20   10011742.690001599\n",
       "21    9597905.193250800\n",
       "22    9100029.698570400\n",
       "23    9745348.905670900\n",
       "24    9499664.703334199\n",
       "25    7579951.907453300\n",
       "26    8790573.915288599\n",
       "27    9078644.147383600\n",
       "28    8512522.024243999\n",
       "29    8552453.080671100\n",
       "30    9127977.051107300\n",
       "31    6178196.953531200\n",
       "Name: sales, dtype: float64"
      ]
     },
     "execution_count": 25,
     "metadata": {},
     "output_type": "execute_result"
    },
    {
     "data": {
      "image/png": "[encoded data removed]",
      "text/plain": [
       "<Figure size 432x288 with 1 Axes>"
      ]
     },
     "metadata": {
      "needs_background": "light"
     },
     "output_type": "display_data"
    }
   ],
   "source": [
    "total_sale = sales_2016.groupby(['day'])['sales'].sum()\n",
    "\n",
    "total_sale.plot()\n",
    "total_sale"
   ]
  },
  {
   "cell_type": "code",
   "execution_count": 26,
   "id": "7eb80e9f",
   "metadata": {},
   "outputs": [
    {
     "data": {
      "text/plain": [
       "day\n",
       "1    7715081.781106000\n",
       "2    8212900.988261500\n",
       "3    7410472.890360800\n",
       "4    7837522.089835600\n",
       "5    7476711.104899500\n",
       "6    6694271.127421200\n",
       "7    7044224.165167300\n",
       "8    6905308.098232700\n",
       "9    6519627.565226100\n",
       "10   6223470.611102600\n",
       "11   6877406.056916500\n",
       "12   6716818.539596900\n",
       "13   6396314.213077200\n",
       "14   6302049.090977600\n",
       "15   6850850.606329000\n",
       "16   5898452.906835400\n",
       "17   5853782.616897000\n",
       "18   5925919.570672300\n",
       "19   5691621.330404200\n",
       "20   5498338.849590400\n",
       "21   6083462.418716500\n",
       "22   5952142.049425300\n",
       "23   5793120.651404400\n",
       "24   5606596.111549500\n",
       "25   5953789.948387200\n",
       "26   5715473.326018200\n",
       "27   5150372.387228300\n",
       "28   6056566.112701000\n",
       "29   5408015.599664000\n",
       "30   5045494.251180400\n",
       "31   3400891.314086500\n",
       "Name: sales, dtype: float64"
      ]
     },
     "execution_count": 26,
     "metadata": {},
     "output_type": "execute_result"
    },
    {
     "data": {
      "image/png": "[encoded data removed]",
      "text/plain": [
       "<Figure size 432x288 with 1 Axes>"
      ]
     },
     "metadata": {
      "needs_background": "light"
     },
     "output_type": "display_data"
    }
   ],
   "source": [
    "total_sale = sales_2017.groupby(['day'])['sales'].sum()\n",
    "#total_sale = total_sale.sort_index()\n",
    "#total_sale.plot(x=total_sale.index, y=total_sale.values, ylabel= 'Funding Amount in Dollars',xlabel='Funding Year')\n",
    "total_sale.plot()\n",
    "#plt.show()\n",
    "#earth__quake =df_train.loc[df_train['date'] == '2016-04-17']\n",
    "#earth__quake\n",
    "#April 16, 2016\n",
    "#total_sale.plot.bar()\n",
    "total_sale"
   ]
  },
  {
   "cell_type": "code",
   "execution_count": 27,
   "id": "f9313fc7",
   "metadata": {},
   "outputs": [
    {
     "data": {
      "text/plain": [
       "<AxesSubplot:xlabel='day'>"
      ]
     },
     "execution_count": 27,
     "metadata": {},
     "output_type": "execute_result"
    },
    {
     "data": {
      "image/png": "[encoded data removed]",
      "text/plain": [
       "<Figure size 432x288 with 1 Axes>"
      ]
     },
     "metadata": {
      "needs_background": "light"
     },
     "output_type": "display_data"
    }
   ],
   "source": [
    "total_sal = sales_2017.groupby(['day'])['sales'].agg([\"sum\"])\n",
    "#total_sales = df_train.groupby(['year'])['sales'].sum()\n",
    "#total_sales = df_train.groupby(['year'].as_index=False)['sales'].sum()\n",
    "#total_sales1 = total_sales.sort_index()\n",
    "total_sal.plot.bar()\n"
   ]
  },
  {
   "cell_type": "code",
   "execution_count": 28,
   "id": "a37be2a8",
   "metadata": {},
   "outputs": [
    {
     "data": {
      "text/html": [
       "<div>\n",
       "<style scoped>\n",
       "    .dataframe tbody tr th:only-of-type {\n",
       "        vertical-align: middle;\n",
       "    }\n",
       "\n",
       "    .dataframe tbody tr th {\n",
       "        vertical-align: top;\n",
       "    }\n",
       "\n",
       "    .dataframe thead th {\n",
       "        text-align: right;\n",
       "    }\n",
       "</style>\n",
       "<table border=\"1\" class=\"dataframe\">\n",
       "  <thead>\n",
       "    <tr style=\"text-align: right;\">\n",
       "      <th></th>\n",
       "      <th>sum</th>\n",
       "    </tr>\n",
       "    <tr>\n",
       "      <th>month</th>\n",
       "      <th></th>\n",
       "    </tr>\n",
       "  </thead>\n",
       "  <tbody>\n",
       "    <tr>\n",
       "      <th>1</th>\n",
       "      <td>23977804.885434099</td>\n",
       "    </tr>\n",
       "    <tr>\n",
       "      <th>2</th>\n",
       "      <td>21947408.801002800</td>\n",
       "    </tr>\n",
       "    <tr>\n",
       "      <th>3</th>\n",
       "      <td>23131780.883819900</td>\n",
       "    </tr>\n",
       "    <tr>\n",
       "      <th>4</th>\n",
       "      <td>25963025.101962201</td>\n",
       "    </tr>\n",
       "    <tr>\n",
       "      <th>5</th>\n",
       "      <td>24779432.260227699</td>\n",
       "    </tr>\n",
       "    <tr>\n",
       "      <th>6</th>\n",
       "      <td>22209218.580383599</td>\n",
       "    </tr>\n",
       "    <tr>\n",
       "      <th>7</th>\n",
       "      <td>23462672.433103599</td>\n",
       "    </tr>\n",
       "    <tr>\n",
       "      <th>8</th>\n",
       "      <td>22452414.317894898</td>\n",
       "    </tr>\n",
       "    <tr>\n",
       "      <th>9</th>\n",
       "      <td>22417448.096996699</td>\n",
       "    </tr>\n",
       "    <tr>\n",
       "      <th>10</th>\n",
       "      <td>24030389.816291999</td>\n",
       "    </tr>\n",
       "    <tr>\n",
       "      <th>11</th>\n",
       "      <td>24642640.197393499</td>\n",
       "    </tr>\n",
       "    <tr>\n",
       "      <th>12</th>\n",
       "      <td>29640287.579385102</td>\n",
       "    </tr>\n",
       "  </tbody>\n",
       "</table>\n",
       "</div>"
      ],
      "text/plain": [
       "                     sum\n",
       "month                   \n",
       "1     23977804.885434099\n",
       "2     21947408.801002800\n",
       "3     23131780.883819900\n",
       "4     25963025.101962201\n",
       "5     24779432.260227699\n",
       "6     22209218.580383599\n",
       "7     23462672.433103599\n",
       "8     22452414.317894898\n",
       "9     22417448.096996699\n",
       "10    24030389.816291999\n",
       "11    24642640.197393499\n",
       "12    29640287.579385102"
      ]
     },
     "execution_count": 28,
     "metadata": {},
     "output_type": "execute_result"
    },
    {
     "data": {
      "image/png": "[encoded data removed]",
      "text/plain": [
       "<Figure size 432x288 with 1 Axes>"
      ]
     },
     "metadata": {
      "needs_background": "light"
     },
     "output_type": "display_data"
    }
   ],
   "source": [
    "total_sal = sales_2016.groupby(['month'])['sales'].agg([\"sum\"])\n",
    "#total_sales = df_train.groupby(['year'])['sales'].sum()\n",
    "#total_sales = df_train.groupby(['year'].as_index=False)['sales'].sum()\n",
    "#total_sales1 = total_sales.sort_index()\n",
    "total_sal.plot.bar()\n",
    "total_sal"
   ]
  },
  {
   "cell_type": "code",
   "execution_count": 29,
   "id": "0a7e6fca",
   "metadata": {},
   "outputs": [
    {
     "data": {
      "text/html": [
       "<div>\n",
       "<style scoped>\n",
       "    .dataframe tbody tr th:only-of-type {\n",
       "        vertical-align: middle;\n",
       "    }\n",
       "\n",
       "    .dataframe tbody tr th {\n",
       "        vertical-align: top;\n",
       "    }\n",
       "\n",
       "    .dataframe thead th {\n",
       "        text-align: right;\n",
       "    }\n",
       "</style>\n",
       "<table border=\"1\" class=\"dataframe\">\n",
       "  <thead>\n",
       "    <tr style=\"text-align: right;\">\n",
       "      <th></th>\n",
       "      <th>sum</th>\n",
       "    </tr>\n",
       "    <tr>\n",
       "      <th>month</th>\n",
       "      <th></th>\n",
       "    </tr>\n",
       "  </thead>\n",
       "  <tbody>\n",
       "    <tr>\n",
       "      <th>1</th>\n",
       "      <td>26328159.935705099</td>\n",
       "    </tr>\n",
       "    <tr>\n",
       "      <th>2</th>\n",
       "      <td>23250112.374936800</td>\n",
       "    </tr>\n",
       "    <tr>\n",
       "      <th>3</th>\n",
       "      <td>26704017.690879300</td>\n",
       "    </tr>\n",
       "    <tr>\n",
       "      <th>4</th>\n",
       "      <td>25895308.489555102</td>\n",
       "    </tr>\n",
       "    <tr>\n",
       "      <th>5</th>\n",
       "      <td>26911847.250592999</td>\n",
       "    </tr>\n",
       "    <tr>\n",
       "      <th>6</th>\n",
       "      <td>25682822.124993600</td>\n",
       "    </tr>\n",
       "    <tr>\n",
       "      <th>7</th>\n",
       "      <td>27011477.565830700</td>\n",
       "    </tr>\n",
       "    <tr>\n",
       "      <th>8</th>\n",
       "      <td>12433322.940777499</td>\n",
       "    </tr>\n",
       "  </tbody>\n",
       "</table>\n",
       "</div>"
      ],
      "text/plain": [
       "                     sum\n",
       "month                   \n",
       "1     26328159.935705099\n",
       "2     23250112.374936800\n",
       "3     26704017.690879300\n",
       "4     25895308.489555102\n",
       "5     26911847.250592999\n",
       "6     25682822.124993600\n",
       "7     27011477.565830700\n",
       "8     12433322.940777499"
      ]
     },
     "execution_count": 29,
     "metadata": {},
     "output_type": "execute_result"
    },
    {
     "data": {
      "image/png": "[encoded data removed]",
      "text/plain": [
       "<Figure size 432x288 with 1 Axes>"
      ]
     },
     "metadata": {
      "needs_background": "light"
     },
     "output_type": "display_data"
    }
   ],
   "source": [
    "total_sal = sales_2017.groupby(['month'])['sales'].agg([\"sum\"])\n",
    "#total_sales = df_train.groupby(['year'])['sales'].sum()\n",
    "#total_sales = df_train.groupby(['year'].as_index=False)['sales'].sum()\n",
    "#total_sales1 = total_sales.sort_index()\n",
    "total_sal.plot.bar()\n",
    "total_sal"
   ]
  },
  {
   "cell_type": "markdown",
   "id": "8f8c5434",
   "metadata": {},
   "source": [
    "From the analysis, there was no clear evidence of the effect(positive or negative) of the earth quick on sales. Sales in the month of the earthquake(APRIL)was within the yearly average for that month. Sales for the month after the earthquake was also within the yearly average."
   ]
  },
  {
   "cell_type": "markdown",
   "id": "003315ee",
   "metadata": {},
   "source": [
    "# 4.  Are certain groups of stores selling more products? (Cluster, city, state, type)"
   ]
  },
  {
   "cell_type": "code",
   "execution_count": 30,
   "id": "552f67b3",
   "metadata": {},
   "outputs": [
    {
     "data": {
      "text/plain": [
       "(54, 22, 16, 17, 33, 5)"
      ]
     },
     "execution_count": 30,
     "metadata": {},
     "output_type": "execute_result"
    }
   ],
   "source": [
    "num_stores = df_train['store_nbr'].nunique()\n",
    "num_city = df_train['city'].nunique()\n",
    "num_state = df_train['state'].nunique()\n",
    "num_family = df_train['family'].nunique()\n",
    "num_cluster = df_train['cluster'].nunique()\n",
    "num_type = df_train['type'].nunique()\n",
    "num_stores,num_city,num_state,num_cluster,num_family,num_type"
   ]
  },
  {
   "cell_type": "code",
   "execution_count": 31,
   "id": "e117321e",
   "metadata": {},
   "outputs": [
    {
     "data": {
      "text/plain": [
       "city\n",
       "Puyo              4090201.740800000\n",
       "Playas            7676679.421669600\n",
       "El Carmen        11057483.117904900\n",
       "Riobamba         11387918.748218000\n",
       "Salinas          11420997.872574501\n",
       "Ibarra           11451270.022647999\n",
       "Guaranda         13049509.836733000\n",
       "Manta            13912337.015932100\n",
       "Quevedo          14178501.293449000\n",
       "Libertad         15322431.096578000\n",
       "Esmeraldas       16391692.211909600\n",
       "Babahoyo         17746872.701506998\n",
       "Loja             18859999.260529600\n",
       "Daule            19188021.381534200\n",
       "Latacunga        21182263.775176000\n",
       "Cayambe          28325558.481396001\n",
       "Machala          33386796.544552401\n",
       "Santo Domingo    35834323.037312403\n",
       "Ambato           40304401.299603999\n",
       "Cuenca           49168596.033181101\n",
       "Guayaquil       122967260.481856197\n",
       "Quito           556741836.828002930\n",
       "Name: sales, dtype: float64"
      ]
     },
     "execution_count": 31,
     "metadata": {},
     "output_type": "execute_result"
    },
    {
     "data": {
      "image/png": "[encoded data removed]",
      "text/plain": [
       "<Figure size 432x288 with 1 Axes>"
      ]
     },
     "metadata": {
      "needs_background": "light"
     },
     "output_type": "display_data"
    }
   ],
   "source": [
    "#Sales by city\n",
    "total_sales_city = df_train.groupby(['city'])['sales'].sum()\n",
    "total_sales_city = total_sales_city.sort_values()\n",
    "total_sales_city.plot.barh()\n",
    "\n",
    "total_sales_city"
   ]
  },
  {
   "cell_type": "markdown",
   "id": "09574705",
   "metadata": {},
   "source": []
  },
  {
   "cell_type": "code",
   "execution_count": 32,
   "id": "97369630",
   "metadata": {},
   "outputs": [
    {
     "data": {
      "text/plain": [
       "type\n",
       "E    59822435.838497497\n",
       "B   145260635.133332908\n",
       "C   164434742.564854205\n",
       "D   351083296.863727927\n",
       "A   353043841.802655995\n",
       "Name: sales, dtype: float64"
      ]
     },
     "execution_count": 32,
     "metadata": {},
     "output_type": "execute_result"
    },
    {
     "data": {
      "image/png": "[encoded data removed]",
      "text/plain": [
       "<Figure size 432x288 with 1 Axes>"
      ]
     },
     "metadata": {
      "needs_background": "light"
     },
     "output_type": "display_data"
    }
   ],
   "source": [
    "#Sales by store type\n",
    "total_sales_store = df_train.groupby(['type'])['sales'].sum()\n",
    "total_sales_store = total_sales_store.sort_values()\n",
    "total_sales_store.plot.barh()\n",
    "\n",
    "total_sales_store"
   ]
  },
  {
   "cell_type": "code",
   "execution_count": 33,
   "id": "ed8849c2",
   "metadata": {},
   "outputs": [
    {
     "data": {
      "text/plain": [
       "cluster\n",
       "1     54376751.955821700\n",
       "2     28916403.499641102\n",
       "3     75628703.455255195\n",
       "4     49443442.971467197\n",
       "5     62087553.250088997\n",
       "6    114254386.741921604\n",
       "7     15478120.489018001\n",
       "8    107928246.696068004\n",
       "9     30561081.054909699\n",
       "10    85324430.431869298\n",
       "11   100614275.933690995\n",
       "12    18030969.250161000\n",
       "13    72102248.793955401\n",
       "14   157430523.081272006\n",
       "15    55296949.370420001\n",
       "16    13259375.689904300\n",
       "17    32911489.537604000\n",
       "Name: sales, dtype: float64"
      ]
     },
     "execution_count": 33,
     "metadata": {},
     "output_type": "execute_result"
    },
    {
     "data": {
      "image/png": "[encoded data removed]",
      "text/plain": [
       "<Figure size 432x288 with 1 Axes>"
      ]
     },
     "metadata": {
      "needs_background": "light"
     },
     "output_type": "display_data"
    }
   ],
   "source": [
    "#Sales by store cluster\n",
    "total_sales_cluster = df_train.groupby(['cluster'])['sales'].sum()\n",
    "total_sales_cluster = total_sales_cluster.sort_index()\n",
    "total_sales_cluster.plot.barh()\n",
    "\n",
    "total_sales_cluster"
   ]
  },
  {
   "cell_type": "code",
   "execution_count": 34,
   "id": "e01d9854",
   "metadata": {},
   "outputs": [
    {
     "data": {
      "text/plain": [
       "state\n",
       "Pastaza                            4090201.740800000\n",
       "Chimborazo                        11387918.748218000\n",
       "Santa Elena                       11420997.872574501\n",
       "Imbabura                          11451270.022647999\n",
       "Bolivar                           13049509.836733000\n",
       "Esmeraldas                        16391692.211909600\n",
       "Loja                              18859999.260529600\n",
       "Cotopaxi                          21182263.775176000\n",
       "Manabi                            24969820.133837000\n",
       "Los Rios                          31925373.994956002\n",
       "El Oro                            33386796.544552401\n",
       "Santo Domingo de los Tsachilas    35834323.037312403\n",
       "Tungurahua                        40304401.299603999\n",
       "Azuay                             49168596.033181101\n",
       "Guayas                           165154392.381637990\n",
       "Pichincha                        585067395.309398890\n",
       "Name: sales, dtype: float64"
      ]
     },
     "execution_count": 34,
     "metadata": {},
     "output_type": "execute_result"
    },
    {
     "data": {
      "image/png": "[encoded data removed]",
      "text/plain": [
       "<Figure size 432x288 with 1 Axes>"
      ]
     },
     "metadata": {
      "needs_background": "light"
     },
     "output_type": "display_data"
    }
   ],
   "source": [
    "#Sales by State\n",
    "total_sales_state = df_train.groupby(['state'])['sales'].sum()\n",
    "total_sales_state = total_sales_state.sort_values()\n",
    "total_sales_state.plot.barh()\n",
    "\n",
    "total_sales_state"
   ]
  },
  {
   "cell_type": "code",
   "execution_count": 35,
   "id": "765fcff1",
   "metadata": {},
   "outputs": [
    {
     "data": {
      "image/png": "[encoded data removed]",
      "text/plain": [
       "<Figure size 432x288 with 1 Axes>"
      ]
     },
     "metadata": {
      "needs_background": "light"
     },
     "output_type": "display_data"
    },
    {
     "data": {
      "text/html": [
       "<div>\n",
       "<style scoped>\n",
       "    .dataframe tbody tr th:only-of-type {\n",
       "        vertical-align: middle;\n",
       "    }\n",
       "\n",
       "    .dataframe tbody tr th {\n",
       "        vertical-align: top;\n",
       "    }\n",
       "\n",
       "    .dataframe thead th {\n",
       "        text-align: right;\n",
       "    }\n",
       "</style>\n",
       "<table border=\"1\" class=\"dataframe\">\n",
       "  <thead>\n",
       "    <tr style=\"text-align: right;\">\n",
       "      <th></th>\n",
       "      <th></th>\n",
       "      <th>sum</th>\n",
       "    </tr>\n",
       "    <tr>\n",
       "      <th>family</th>\n",
       "      <th>city</th>\n",
       "      <th></th>\n",
       "    </tr>\n",
       "  </thead>\n",
       "  <tbody>\n",
       "    <tr>\n",
       "      <th>AUTOMOTIVE</th>\n",
       "      <th>Ambato</th>\n",
       "      <td>23453.000000000</td>\n",
       "    </tr>\n",
       "    <tr>\n",
       "      <th>PRODUCE</th>\n",
       "      <th>Ambato</th>\n",
       "      <td>3760752.039800000</td>\n",
       "    </tr>\n",
       "    <tr>\n",
       "      <th>BEVERAGES</th>\n",
       "      <th>Ambato</th>\n",
       "      <td>7402705.000000000</td>\n",
       "    </tr>\n",
       "    <tr>\n",
       "      <th>PREPARED FOODS</th>\n",
       "      <th>Ambato</th>\n",
       "      <td>290215.719004000</td>\n",
       "    </tr>\n",
       "    <tr>\n",
       "      <th>BOOKS</th>\n",
       "      <th>Ambato</th>\n",
       "      <td>379.000000000</td>\n",
       "    </tr>\n",
       "    <tr>\n",
       "      <th>...</th>\n",
       "      <th>...</th>\n",
       "      <td>...</td>\n",
       "    </tr>\n",
       "    <tr>\n",
       "      <th>HOME CARE</th>\n",
       "      <th>Santo Domingo</th>\n",
       "      <td>707196.000000000</td>\n",
       "    </tr>\n",
       "    <tr>\n",
       "      <th>PRODUCE</th>\n",
       "      <th>Santo Domingo</th>\n",
       "      <td>3238346.453300000</td>\n",
       "    </tr>\n",
       "    <tr>\n",
       "      <th>GROCERY I</th>\n",
       "      <th>Santo Domingo</th>\n",
       "      <td>12732769.839000000</td>\n",
       "    </tr>\n",
       "    <tr>\n",
       "      <th>POULTRY</th>\n",
       "      <th>Santo Domingo</th>\n",
       "      <td>708850.147725700</td>\n",
       "    </tr>\n",
       "    <tr>\n",
       "      <th>SEAFOOD</th>\n",
       "      <th>Santo Domingo</th>\n",
       "      <td>31404.993995200</td>\n",
       "    </tr>\n",
       "  </tbody>\n",
       "</table>\n",
       "<p>726 rows × 1 columns</p>\n",
       "</div>"
      ],
      "text/plain": [
       "                                            sum\n",
       "family         city                            \n",
       "AUTOMOTIVE     Ambato           23453.000000000\n",
       "PRODUCE        Ambato         3760752.039800000\n",
       "BEVERAGES      Ambato         7402705.000000000\n",
       "PREPARED FOODS Ambato          290215.719004000\n",
       "BOOKS          Ambato             379.000000000\n",
       "...                                         ...\n",
       "HOME CARE      Santo Domingo   707196.000000000\n",
       "PRODUCE        Santo Domingo  3238346.453300000\n",
       "GROCERY I      Santo Domingo 12732769.839000000\n",
       "POULTRY        Santo Domingo   708850.147725700\n",
       "SEAFOOD        Santo Domingo    31404.993995200\n",
       "\n",
       "[726 rows x 1 columns]"
      ]
     },
     "execution_count": 35,
     "metadata": {},
     "output_type": "execute_result"
    }
   ],
   "source": [
    "total_sales = df_train.groupby(['family','city'])['sales'].agg([\"sum\"])\n",
    "total_sales = total_sales.sort_values('city')\n",
    "total_sales.head(10).plot.barh()\n",
    "plt.show()\n",
    "total_sales"
   ]
  },
  {
   "cell_type": "code",
   "execution_count": null,
   "id": "a08be003",
   "metadata": {},
   "outputs": [],
   "source": []
  },
  {
   "cell_type": "code",
   "execution_count": 36,
   "id": "85d835e7",
   "metadata": {},
   "outputs": [
    {
     "data": {
      "text/html": [
       "<div>\n",
       "<style scoped>\n",
       "    .dataframe tbody tr th:only-of-type {\n",
       "        vertical-align: middle;\n",
       "    }\n",
       "\n",
       "    .dataframe tbody tr th {\n",
       "        vertical-align: top;\n",
       "    }\n",
       "\n",
       "    .dataframe thead th {\n",
       "        text-align: right;\n",
       "    }\n",
       "</style>\n",
       "<table border=\"1\" class=\"dataframe\">\n",
       "  <thead>\n",
       "    <tr style=\"text-align: right;\">\n",
       "      <th></th>\n",
       "      <th></th>\n",
       "      <th>sum</th>\n",
       "    </tr>\n",
       "    <tr>\n",
       "      <th>family</th>\n",
       "      <th>city</th>\n",
       "      <th></th>\n",
       "    </tr>\n",
       "  </thead>\n",
       "  <tbody>\n",
       "    <tr>\n",
       "      <th>AUTOMOTIVE</th>\n",
       "      <th>Ambato</th>\n",
       "      <td>23453.000000000</td>\n",
       "    </tr>\n",
       "    <tr>\n",
       "      <th>PRODUCE</th>\n",
       "      <th>Ambato</th>\n",
       "      <td>3760752.039800000</td>\n",
       "    </tr>\n",
       "    <tr>\n",
       "      <th>BEVERAGES</th>\n",
       "      <th>Ambato</th>\n",
       "      <td>7402705.000000000</td>\n",
       "    </tr>\n",
       "    <tr>\n",
       "      <th>PREPARED FOODS</th>\n",
       "      <th>Ambato</th>\n",
       "      <td>290215.719004000</td>\n",
       "    </tr>\n",
       "    <tr>\n",
       "      <th>BOOKS</th>\n",
       "      <th>Ambato</th>\n",
       "      <td>379.000000000</td>\n",
       "    </tr>\n",
       "    <tr>\n",
       "      <th>...</th>\n",
       "      <th>...</th>\n",
       "      <td>...</td>\n",
       "    </tr>\n",
       "    <tr>\n",
       "      <th>HOME CARE</th>\n",
       "      <th>Santo Domingo</th>\n",
       "      <td>707196.000000000</td>\n",
       "    </tr>\n",
       "    <tr>\n",
       "      <th>PRODUCE</th>\n",
       "      <th>Santo Domingo</th>\n",
       "      <td>3238346.453300000</td>\n",
       "    </tr>\n",
       "    <tr>\n",
       "      <th>GROCERY I</th>\n",
       "      <th>Santo Domingo</th>\n",
       "      <td>12732769.839000000</td>\n",
       "    </tr>\n",
       "    <tr>\n",
       "      <th>POULTRY</th>\n",
       "      <th>Santo Domingo</th>\n",
       "      <td>708850.147725700</td>\n",
       "    </tr>\n",
       "    <tr>\n",
       "      <th>SEAFOOD</th>\n",
       "      <th>Santo Domingo</th>\n",
       "      <td>31404.993995200</td>\n",
       "    </tr>\n",
       "  </tbody>\n",
       "</table>\n",
       "<p>726 rows × 1 columns</p>\n",
       "</div>"
      ],
      "text/plain": [
       "                                            sum\n",
       "family         city                            \n",
       "AUTOMOTIVE     Ambato           23453.000000000\n",
       "PRODUCE        Ambato         3760752.039800000\n",
       "BEVERAGES      Ambato         7402705.000000000\n",
       "PREPARED FOODS Ambato          290215.719004000\n",
       "BOOKS          Ambato             379.000000000\n",
       "...                                         ...\n",
       "HOME CARE      Santo Domingo   707196.000000000\n",
       "PRODUCE        Santo Domingo  3238346.453300000\n",
       "GROCERY I      Santo Domingo 12732769.839000000\n",
       "POULTRY        Santo Domingo   708850.147725700\n",
       "SEAFOOD        Santo Domingo    31404.993995200\n",
       "\n",
       "[726 rows x 1 columns]"
      ]
     },
     "execution_count": 36,
     "metadata": {},
     "output_type": "execute_result"
    },
    {
     "data": {
      "image/png": "[encoded data removed]",
      "text/plain": [
       "<Figure size 432x288 with 1 Axes>"
      ]
     },
     "metadata": {
      "needs_background": "light"
     },
     "output_type": "display_data"
    }
   ],
   "source": [
    "#Sales by product family\n",
    "total_sales_family = df_train.groupby(['family'])['sales'].agg([\"sum\"])\n",
    "total_sales_family = total_sales_family.sort_values('family')\n",
    "total_sales_family.plot.bar()\n",
    "\n",
    "total_sales"
   ]
  },
  {
   "cell_type": "markdown",
   "id": "88e19a0d",
   "metadata": {},
   "source": [
    "# 4. Are sales affected by promotions, oil prices and holidays?"
   ]
  },
  {
   "cell_type": "code",
   "execution_count": 37,
   "id": "af26a30f",
   "metadata": {},
   "outputs": [
    {
     "data": {
      "text/plain": [
       "<matplotlib.collections.PathCollection at 0x200877ea3b0>"
      ]
     },
     "execution_count": 37,
     "metadata": {},
     "output_type": "execute_result"
    },
    {
     "data": {
      "image/png": "[encoded data removed]",
      "text/plain": [
       "<Figure size 432x288 with 1 Axes>"
      ]
     },
     "metadata": {
      "needs_background": "light"
     },
     "output_type": "display_data"
    }
   ],
   "source": [
    "x1=df_train['sales'] \n",
    "y1=df_train['onpromotion']\n",
    "plt.scatter(x1,y1)"
   ]
  },
  {
   "cell_type": "code",
   "execution_count": 38,
   "id": "332f29be",
   "metadata": {},
   "outputs": [
    {
     "name": "stderr",
     "output_type": "stream",
     "text": [
      "C:\\Users\\SISEY\\AppData\\Roaming\\Python\\Python310\\site-packages\\pandas\\core\\arraylike.py:397: RuntimeWarning: divide by zero encountered in log\n",
      "  result = getattr(ufunc, method)(*inputs, **kwargs)\n"
     ]
    },
    {
     "data": {
      "text/plain": [
       "<matplotlib.collections.PathCollection at 0x2008780dd80>"
      ]
     },
     "execution_count": 38,
     "metadata": {},
     "output_type": "execute_result"
    },
    {
     "data": {
      "image/png": "[encoded data removed]",
      "text/plain": [
       "<Figure size 432x288 with 1 Axes>"
      ]
     },
     "metadata": {
      "needs_background": "light"
     },
     "output_type": "display_data"
    }
   ],
   "source": [
    "log_y= np.log(y1)\n",
    "log_x= np.log(x1)\n",
    "plt.scatter(log_x, log_y)"
   ]
  },
  {
   "cell_type": "code",
   "execution_count": null,
   "id": "13d58951",
   "metadata": {},
   "outputs": [],
   "source": []
  },
  {
   "cell_type": "code",
   "execution_count": 39,
   "id": "4940ebcf",
   "metadata": {},
   "outputs": [
    {
     "data": {
      "text/plain": [
       "0      2389559\n",
       "1       174551\n",
       "2        79386\n",
       "3        45862\n",
       "4        31659\n",
       "        ...   \n",
       "313          1\n",
       "452          1\n",
       "642          1\n",
       "305          1\n",
       "425          1\n",
       "Name: onpromotion, Length: 362, dtype: int64"
      ]
     },
     "execution_count": 39,
     "metadata": {},
     "output_type": "execute_result"
    }
   ],
   "source": [
    "df_train['onpromotion'].value_counts()"
   ]
  },
  {
   "cell_type": "code",
   "execution_count": 40,
   "id": "5131fec9",
   "metadata": {},
   "outputs": [
    {
     "data": {
      "text/plain": [
       "onpromotion\n",
       "0     378139781.744311512\n",
       "1      81612460.217610195\n",
       "2      52627014.227566600\n",
       "3      39964517.927072696\n",
       "4      30706574.926338501\n",
       "              ...        \n",
       "719        6681.000000000\n",
       "720        6154.000000000\n",
       "722        5846.000000000\n",
       "726        6044.000000000\n",
       "741        7517.000000000\n",
       "Name: sales, Length: 362, dtype: float64"
      ]
     },
     "execution_count": 40,
     "metadata": {},
     "output_type": "execute_result"
    },
    {
     "data": {
      "image/png": "[encoded data removed]",
      "text/plain": [
       "<Figure size 432x288 with 1 Axes>"
      ]
     },
     "metadata": {
      "needs_background": "light"
     },
     "output_type": "display_data"
    }
   ],
   "source": [
    "total_sales = df_train.groupby(['onpromotion'])['sales'].sum()\n",
    "#total_sales = df_train.groupby(['year'])['sales'].sum()\n",
    "#total_sales = df_train.groupby(['year'].as_index=False)['sales'].sum()\n",
    "#total_sales1 = total_sales.sort_index()\n",
    "total_sales.plot.barh()\n",
    "total_sales"
   ]
  },
  {
   "cell_type": "markdown",
   "id": "2ee32bf3",
   "metadata": {},
   "source": [
    "# 5. What analysis can we get from the date and its extractable features?"
   ]
  },
  {
   "cell_type": "code",
   "execution_count": null,
   "id": "980e854a",
   "metadata": {},
   "outputs": [],
   "source": []
  },
  {
   "cell_type": "code",
   "execution_count": 41,
   "id": "eb537a09",
   "metadata": {},
   "outputs": [
    {
     "data": {
      "text/plain": [
       "<AxesSubplot:xlabel='date'>"
      ]
     },
     "execution_count": 41,
     "metadata": {},
     "output_type": "execute_result"
    },
    {
     "data": {
      "image/png": "[encoded data removed]",
      "text/plain": [
       "<Figure size 432x288 with 1 Axes>"
      ]
     },
     "metadata": {
      "needs_background": "light"
     },
     "output_type": "display_data"
    }
   ],
   "source": [
    "#Sales by year\n",
    "total_sales = df_train.groupby(['date'])['sales'].sum()\n",
    "total_sales.plot()\n"
   ]
  },
  {
   "cell_type": "code",
   "execution_count": 42,
   "id": "3370d744",
   "metadata": {},
   "outputs": [
    {
     "data": {
      "text/plain": [
       "(sum   140419013.919617206\n",
       " dtype: float64,\n",
       " sum   288654522.953896105\n",
       " dtype: float64)"
      ]
     },
     "execution_count": 42,
     "metadata": {},
     "output_type": "execute_result"
    },
    {
     "data": {
      "image/png": "[encoded data removed]",
      "text/plain": [
       "<Figure size 432x288 with 1 Axes>"
      ]
     },
     "metadata": {
      "needs_background": "light"
     },
     "output_type": "display_data"
    }
   ],
   "source": [
    "total_sales = df_train.groupby(['year'])['sales'].agg([\"sum\"])\n",
    "total_sales.plot.bar()\n",
    "total_sales.min(),total_sales.max()\n",
    "#total_sales"
   ]
  },
  {
   "cell_type": "code",
   "execution_count": 43,
   "id": "4a651f4f",
   "metadata": {},
   "outputs": [
    {
     "data": {
      "text/html": [
       "<div>\n",
       "<style scoped>\n",
       "    .dataframe tbody tr th:only-of-type {\n",
       "        vertical-align: middle;\n",
       "    }\n",
       "\n",
       "    .dataframe tbody tr th {\n",
       "        vertical-align: top;\n",
       "    }\n",
       "\n",
       "    .dataframe thead th {\n",
       "        text-align: right;\n",
       "    }\n",
       "</style>\n",
       "<table border=\"1\" class=\"dataframe\">\n",
       "  <thead>\n",
       "    <tr style=\"text-align: right;\">\n",
       "      <th></th>\n",
       "      <th>sum</th>\n",
       "    </tr>\n",
       "    <tr>\n",
       "      <th>month</th>\n",
       "      <th></th>\n",
       "    </tr>\n",
       "  </thead>\n",
       "  <tbody>\n",
       "    <tr>\n",
       "      <th>1</th>\n",
       "      <td>94442152.316650599</td>\n",
       "    </tr>\n",
       "    <tr>\n",
       "      <th>2</th>\n",
       "      <td>80637229.435735896</td>\n",
       "    </tr>\n",
       "    <tr>\n",
       "      <th>3</th>\n",
       "      <td>97228487.147018999</td>\n",
       "    </tr>\n",
       "    <tr>\n",
       "      <th>4</th>\n",
       "      <td>90668117.557454005</td>\n",
       "    </tr>\n",
       "    <tr>\n",
       "      <th>5</th>\n",
       "      <td>94399137.023353994</td>\n",
       "    </tr>\n",
       "    <tr>\n",
       "      <th>6</th>\n",
       "      <td>94516703.291864499</td>\n",
       "    </tr>\n",
       "    <tr>\n",
       "      <th>7</th>\n",
       "      <td>103363060.689176396</td>\n",
       "    </tr>\n",
       "    <tr>\n",
       "      <th>8</th>\n",
       "      <td>83472376.838480800</td>\n",
       "    </tr>\n",
       "    <tr>\n",
       "      <th>9</th>\n",
       "      <td>77473679.920585394</td>\n",
       "    </tr>\n",
       "    <tr>\n",
       "      <th>10</th>\n",
       "      <td>80080379.155550301</td>\n",
       "    </tr>\n",
       "    <tr>\n",
       "      <th>11</th>\n",
       "      <td>80335788.062233999</td>\n",
       "    </tr>\n",
       "    <tr>\n",
       "      <th>12</th>\n",
       "      <td>97027840.764963597</td>\n",
       "    </tr>\n",
       "  </tbody>\n",
       "</table>\n",
       "</div>"
      ],
      "text/plain": [
       "                      sum\n",
       "month                    \n",
       "1      94442152.316650599\n",
       "2      80637229.435735896\n",
       "3      97228487.147018999\n",
       "4      90668117.557454005\n",
       "5      94399137.023353994\n",
       "6      94516703.291864499\n",
       "7     103363060.689176396\n",
       "8      83472376.838480800\n",
       "9      77473679.920585394\n",
       "10     80080379.155550301\n",
       "11     80335788.062233999\n",
       "12     97027840.764963597"
      ]
     },
     "execution_count": 43,
     "metadata": {},
     "output_type": "execute_result"
    },
    {
     "data": {
      "image/png": "[encoded data removed]",
      "text/plain": [
       "<Figure size 432x288 with 1 Axes>"
      ]
     },
     "metadata": {
      "needs_background": "light"
     },
     "output_type": "display_data"
    }
   ],
   "source": [
    "#Sales by Month\n",
    "total_sales_bydate = df_train.groupby(['month'])['sales'].agg([\"sum\"])\n",
    "total_sales_bydate.plot.bar(ylabel= 'Sales Amount in Dollars',xlabel='Month')\n",
    "total_sales_bydate"
   ]
  },
  {
   "cell_type": "code",
   "execution_count": 44,
   "id": "42fd4336",
   "metadata": {},
   "outputs": [
    {
     "data": {
      "text/plain": [
       "<AxesSubplot:xlabel='day_of_week'>"
      ]
     },
     "execution_count": 44,
     "metadata": {},
     "output_type": "execute_result"
    },
    {
     "data": {
      "image/png": "[encoded data removed]",
      "text/plain": [
       "<Figure size 432x288 with 1 Axes>"
      ]
     },
     "metadata": {
      "needs_background": "light"
     },
     "output_type": "display_data"
    }
   ],
   "source": [
    "\n",
    "total_sales_byday = df_train.groupby(['day_of_week'])['sales'].agg([\"sum\"])\n",
    "#total_sales_byday = df_train.groupby(['sales'])['day_of_week'].agg([\"sum\"])\n",
    "total_sales_byday = total_sales_byday.sort_index(axis =0)\n",
    "total_sales_byday.plot.bar()\n",
    "#(x=total_investment.index, y=total_investment.values, \n",
    "                        #  ylabel= 'Funding Amount in Dollars',xlabel='Funding Year')\n"
   ]
  },
  {
   "cell_type": "code",
   "execution_count": 45,
   "id": "e7bc3426",
   "metadata": {},
   "outputs": [
    {
     "data": {
      "text/html": [
       "<div>\n",
       "<style scoped>\n",
       "    .dataframe tbody tr th:only-of-type {\n",
       "        vertical-align: middle;\n",
       "    }\n",
       "\n",
       "    .dataframe tbody tr th {\n",
       "        vertical-align: top;\n",
       "    }\n",
       "\n",
       "    .dataframe thead th {\n",
       "        text-align: right;\n",
       "    }\n",
       "</style>\n",
       "<table border=\"1\" class=\"dataframe\">\n",
       "  <thead>\n",
       "    <tr style=\"text-align: right;\">\n",
       "      <th></th>\n",
       "      <th>mean</th>\n",
       "    </tr>\n",
       "    <tr>\n",
       "      <th>year</th>\n",
       "      <th></th>\n",
       "    </tr>\n",
       "  </thead>\n",
       "  <tbody>\n",
       "    <tr>\n",
       "      <th>2013</th>\n",
       "      <td>216.479529606</td>\n",
       "    </tr>\n",
       "    <tr>\n",
       "      <th>2014</th>\n",
       "      <td>322.939785988</td>\n",
       "    </tr>\n",
       "    <tr>\n",
       "      <th>2015</th>\n",
       "      <td>371.357193200</td>\n",
       "    </tr>\n",
       "    <tr>\n",
       "      <th>2016</th>\n",
       "      <td>443.790297117</td>\n",
       "    </tr>\n",
       "    <tr>\n",
       "      <th>2017</th>\n",
       "      <td>480.124466331</td>\n",
       "    </tr>\n",
       "  </tbody>\n",
       "</table>\n",
       "</div>"
      ],
      "text/plain": [
       "              mean\n",
       "year              \n",
       "2013 216.479529606\n",
       "2014 322.939785988\n",
       "2015 371.357193200\n",
       "2016 443.790297117\n",
       "2017 480.124466331"
      ]
     },
     "execution_count": 45,
     "metadata": {},
     "output_type": "execute_result"
    },
    {
     "data": {
      "image/png": "[encoded data removed]",
      "text/plain": [
       "<Figure size 432x288 with 1 Axes>"
      ]
     },
     "metadata": {
      "needs_background": "light"
     },
     "output_type": "display_data"
    }
   ],
   "source": [
    "total_sales = df_train.groupby(['year'])['sales'].agg([\"mean\"])\n",
    "total_sales.plot.bar()\n",
    "total_sales"
   ]
  },
  {
   "cell_type": "code",
   "execution_count": 46,
   "id": "6a68a040",
   "metadata": {},
   "outputs": [
    {
     "data": {
      "image/png": "[encoded data removed]",
      "text/plain": [
       "<Figure size 432x288 with 1 Axes>"
      ]
     },
     "metadata": {
      "needs_background": "light"
     },
     "output_type": "display_data"
    },
    {
     "data": {
      "text/plain": [
       "Quito            1000296\n",
       "Guayaquil         444576\n",
       "Santo Domingo     166716\n",
       "Cuenca            166716\n",
       "Latacunga         111144\n",
       "Manta             111144\n",
       "Machala           111144\n",
       "Ambato            111144\n",
       "Quevedo            55572\n",
       "Esmeraldas         55572\n",
       "Loja               55572\n",
       "Libertad           55572\n",
       "Playas             55572\n",
       "Daule              55572\n",
       "Babahoyo           55572\n",
       "Cayambe            55572\n",
       "Salinas            55572\n",
       "Puyo               55572\n",
       "Guaranda           55572\n",
       "Ibarra             55572\n",
       "Riobamba           55572\n",
       "El Carmen          55572\n",
       "Name: city, dtype: int64"
      ]
     },
     "execution_count": 46,
     "metadata": {},
     "output_type": "execute_result"
    }
   ],
   "source": [
    "#volume of transaction/ number of transactions by year\n",
    "#sales_count = df_train.groupby(['city'])['store_nbr'].value_counts()\n",
    "sales_count = df_train['city'].value_counts()\n",
    "#sales_count = df_train[\"year\"].value_counts(sort=False)\n",
    "#sales_count.plot.line(x=sales_counts.index, y=sales_counts.values)\n",
    "sales_count.plot.line()\n",
    "plt.show()\n",
    "sales_count"
   ]
  },
  {
   "cell_type": "code",
   "execution_count": 47,
   "id": "6d621264",
   "metadata": {},
   "outputs": [
    {
     "data": {
      "image/png": "[encoded data removed]",
      "text/plain": [
       "<Figure size 432x288 with 1 Axes>"
      ]
     },
     "metadata": {
      "needs_background": "light"
     },
     "output_type": "display_data"
    },
    {
     "data": {
      "text/plain": [
       "2013    648648\n",
       "2014    648648\n",
       "2015    648648\n",
       "2016    650430\n",
       "2017    404514\n",
       "Name: year, dtype: int64"
      ]
     },
     "execution_count": 47,
     "metadata": {},
     "output_type": "execute_result"
    }
   ],
   "source": [
    "#volume of sales transaction/ number of sales transactions by year\n",
    "sales_count = df_train[\"year\"].value_counts(sort=False)\n",
    "#tran_count = transactions[\"transactions\"].value_counts(sort=False)\n",
    "sales_count.plot.bar()\n",
    "plt.show()\n",
    "sales_count\n",
    "#tran_count"
   ]
  },
  {
   "cell_type": "markdown",
   "id": "9947a0b0",
   "metadata": {},
   "source": [
    "The number of individuals sales are the same for all years except 2017 which is less than the rest of the years. Further analysis reveled that , the data for 2017 was collected between 1st january and August 15. This may account for the year having less number of sales transactions than the other years."
   ]
  },
  {
   "cell_type": "code",
   "execution_count": 48,
   "id": "b1baea0b",
   "metadata": {},
   "outputs": [
    {
     "name": "stderr",
     "output_type": "stream",
     "text": [
      "C:\\Users\\SISEY\\anaconda3\\envs\\pythonEnv\\lib\\site-packages\\IPython\\lib\\pretty.py:778: FutureWarning: Index.ravel returning ndarray is deprecated; in a future version this will return a view on self.\n",
      "  output = repr(obj)\n"
     ]
    },
    {
     "data": {
      "text/plain": [
       "([0.000000000, 2.000000000, 810.000000000, 180.589000000, 186.000000000, ..., 551.713000000, 6630.383000000, 438.133000000, 154.553000000, 2419.729000000]\n",
       " Length: 379610\n",
       " Categories (379610, float64): [0.000000000, 0.122000000, 0.146000000, 0.154000000, ..., 76090.000000000, 87438.516000000, 89576.360000000, 124717.000000000],\n",
       " 2163723   124717.000000000\n",
       " 2445984    89576.360000000\n",
       " Name: sales, dtype: float64)"
      ]
     },
     "execution_count": 48,
     "metadata": {},
     "output_type": "execute_result"
    }
   ],
   "source": [
    "zz= pd.Categorical(pd.unique(df_train['sales']))\n",
    "#z= df_train['sales'].nsmallest()\n",
    "#zz= z.nsmallest(n=12)\n",
    "#z=df_train.groupby(['sales'])['sales'].nsmallest(n=12)\n",
    "#z= df_train['sales'].nsmallest(n=12)\n",
    "u = df_train['sales'].nlargest(n=2)\n",
    "#total_sales\n",
    "zz,u"
   ]
  },
  {
   "cell_type": "code",
   "execution_count": 49,
   "id": "7bb2017f",
   "metadata": {},
   "outputs": [
    {
     "ename": "NameError",
     "evalue": "name 'z' is not defined",
     "output_type": "error",
     "traceback": [
      "\u001b[1;31m---------------------------------------------------------------------------\u001b[0m",
      "\u001b[1;31mNameError\u001b[0m                                 Traceback (most recent call last)",
      "Input \u001b[1;32mIn [49]\u001b[0m, in \u001b[0;36m<cell line: 1>\u001b[1;34m()\u001b[0m\n\u001b[1;32m----> 1\u001b[0m df_train\u001b[38;5;241m.\u001b[39mloc[df_train[\u001b[38;5;124m'\u001b[39m\u001b[38;5;124msales\u001b[39m\u001b[38;5;124m'\u001b[39m] \u001b[38;5;241m==\u001b[39m \u001b[43mz\u001b[49m]\n\u001b[0;32m      2\u001b[0m df_train\u001b[38;5;241m.\u001b[39mloc[df_train[\u001b[38;5;124m'\u001b[39m\u001b[38;5;124msales\u001b[39m\u001b[38;5;124m'\u001b[39m] \u001b[38;5;241m==\u001b[39m \u001b[38;5;241m1\u001b[39m]\n",
      "\u001b[1;31mNameError\u001b[0m: name 'z' is not defined"
     ]
    }
   ],
   "source": [
    "df_train.loc[df_train['sales'] == z]\n",
    "df_train.loc[df_train['sales'] == 1]\n",
    "\n"
   ]
  },
  {
   "cell_type": "code",
   "execution_count": null,
   "id": "9d38ffdf",
   "metadata": {},
   "outputs": [],
   "source": [
    "#Sales by state\n",
    "total_sales_state = df_train.groupby(['state'])['sales'].agg([\"sum\"])\n",
    "\n",
    "total_sales_state = total_sales_state.sort_index()\n",
    "total_sales_state.head(20).plot.barh()\n",
    "\n",
    "total_sales_state"
   ]
  },
  {
   "cell_type": "code",
   "execution_count": null,
   "id": "004b4498",
   "metadata": {},
   "outputs": [],
   "source": [
    "#volume of transaction/ number of transactions by year\n",
    "#sales_count = df_train.groupby(['city'])['store_nbr'].value_counts()\n",
    "sales_count = df_train['city'].value_counts()\n",
    "#sales_count = df_train[\"year\"].value_counts(sort=False)\n",
    "#sales_count.plot.line(x=sales_counts.index, y=sales_counts.values)\n",
    "sales_count.plot.bar()\n",
    "plt.show()\n",
    "sales_count"
   ]
  },
  {
   "cell_type": "code",
   "execution_count": null,
   "id": "cabe6155",
   "metadata": {},
   "outputs": [],
   "source": [
    "z = df_train['transactions']\n",
    "z.plot()\n",
    "plt.show()\n"
   ]
  },
  {
   "cell_type": "code",
   "execution_count": null,
   "id": "387aca28",
   "metadata": {},
   "outputs": [],
   "source": [
    "missing_values = df_train.isnull().sum().sort_values(ascending =True)\n",
    "missing_values"
   ]
  },
  {
   "cell_type": "code",
   "execution_count": null,
   "id": "092c198b",
   "metadata": {},
   "outputs": [],
   "source": [
    "train.plot(x=\"store_nbr\", y=\"sales\")\n",
    "plt.show()"
   ]
  },
  {
   "cell_type": "code",
   "execution_count": null,
   "id": "3bd31a96",
   "metadata": {},
   "outputs": [],
   "source": [
    "train.head()"
   ]
  },
  {
   "cell_type": "code",
   "execution_count": null,
   "id": "f4bf69dd",
   "metadata": {},
   "outputs": [],
   "source": [
    "#merging the 5 datasets\n",
    "df_train1 = train.merge(transactions, on = ['date', 'store_nbr'], how='left')\n",
    "df_train1 = df_train1.merge(stores, on = 'store_nbr', how='left')\n",
    "df_train1 = df_train1.merge(oil, on = 'date', how='left')\n",
    "df_train1 = train.merge(holidays, on = 'date', how='left')\n",
    "#df_train1 = df_train1.rename(columns = {\"type_x\" : \"holiday_type\", \"type_y\" : \"store_type\"})\n",
    "df_train1.head()\n"
   ]
  },
  {
   "cell_type": "code",
   "execution_count": null,
   "id": "e2af049e",
   "metadata": {},
   "outputs": [],
   "source": [
    "#Breaking the year column into day, month, year, day of the week, and week so we can aggregate the data by those parameters\n",
    "df_train1['date'] = pd.to_datetime(df_train1['date'])\n",
    "df_train1['year'] = df_train1['date'].dt.year\n",
    "df_train1['month'] = df_train1['date'].dt.month\n",
    "df_train1['week'] = df_train1['date'].dt.isocalendar().week\n",
    "df_train1['quarter'] = df_train1['date'].dt.quarter\n",
    "df_train1['day_of_week'] = df_train1['date'].dt.day_name()\n",
    "df_train1[:2]"
   ]
  },
  {
   "cell_type": "code",
   "execution_count": null,
   "id": "5acfa116",
   "metadata": {},
   "outputs": [],
   "source": [
    "a = df_train1[\"year\"].value_counts(sort=False)\n",
    "a\n",
    "#plt.show()"
   ]
  },
  {
   "cell_type": "code",
   "execution_count": null,
   "id": "26ac934c",
   "metadata": {},
   "outputs": [],
   "source": [
    "#b = df_train1[\"store_nbr\"].unique()\n",
    "b= stores[\"city\"].value_counts(sort=False)\n",
    "#b = stores[\"city\"].unique()\n",
    "b\n"
   ]
  },
  {
   "cell_type": "code",
   "execution_count": null,
   "id": "13ea0ba8",
   "metadata": {},
   "outputs": [],
   "source": [
    "missing_values = df_train1.isnull().sum().sort_values(ascending =True)\n",
    "missing_values"
   ]
  },
  {
   "cell_type": "code",
   "execution_count": null,
   "id": "b0e5e495",
   "metadata": {},
   "outputs": [],
   "source": [
    "#merging the 5 dataset\n",
    "dfs = train\n",
    "df1 = dfs.merge(holidays, on = 'date', how='left')\n",
    "df1 = df1.merge(stores, on = 'store_nbr', how='left')\n",
    "df1\n"
   ]
  },
  {
   "cell_type": "code",
   "execution_count": null,
   "id": "3b5201b4",
   "metadata": {},
   "outputs": [],
   "source": [
    "missing_values = df1.isnull().sum().sort_values(ascending =True)\n",
    "missing_values.head(20)"
   ]
  },
  {
   "cell_type": "code",
   "execution_count": null,
   "id": "73e7e9cc",
   "metadata": {},
   "outputs": [],
   "source": [
    "#Lets have a look at the missing data in the sector column \n",
    "nan_values = df1[df1['sales'].isna()]\n",
    "nan_values"
   ]
  },
  {
   "cell_type": "code",
   "execution_count": null,
   "id": "8572cae0",
   "metadata": {},
   "outputs": [],
   "source": [
    "#Max value and date for 2016\n",
    "df1.loc[df1['sales'] == \"2017-01-15\"]"
   ]
  },
  {
   "cell_type": "code",
   "execution_count": null,
   "id": "a559228c",
   "metadata": {},
   "outputs": [],
   "source": [
    "# Dropping missing values\n",
    "df1.dropna(inplace=True)\n",
    "df1.info()\n"
   ]
  },
  {
   "cell_type": "code",
   "execution_count": null,
   "id": "2a3162df",
   "metadata": {},
   "outputs": [],
   "source": [
    "tota = df1.groupby(['type_x'])['sales'].agg([\"sum\"])\n",
    "#total_sales2 = total_sales2.sort_index()\n",
    "tota.plot.bar()\n",
    "#(x=total_investment.index, y=total_investment.values, \n",
    "                        #  ylabel= 'Funding Amount in Dollars',xlabel='Funding Year')\n",
    "tota"
   ]
  },
  {
   "cell_type": "code",
   "execution_count": null,
   "id": "9d99cf96",
   "metadata": {},
   "outputs": [],
   "source": [
    "b= df1[\"locale\"].value_counts(sort=True)\n",
    "b.plot.barh()\n",
    "plt.show()"
   ]
  },
  {
   "cell_type": "code",
   "execution_count": null,
   "id": "c311410b",
   "metadata": {},
   "outputs": [],
   "source": [
    "missing_values = df1.isnull().sum().sort_values(ascending =True)\n",
    "missing_values"
   ]
  },
  {
   "cell_type": "code",
   "execution_count": null,
   "id": "0e8fa592",
   "metadata": {},
   "outputs": [],
   "source": [
    "stores.head()"
   ]
  },
  {
   "cell_type": "code",
   "execution_count": null,
   "id": "7b31437b",
   "metadata": {},
   "outputs": [],
   "source": [
    "#Checking for completeness of the dates\n",
    "train.date.min(), train.date.max()\n",
    "train['sales_date'] = pd.to_datetime(train['date']).dt.date\n",
    "train['sales_date'].min(), train['sales_date'].max()\n",
    "#expected number of days\n",
    "#difference =(train['sales_date'].max - train['sales_date'].min())\n",
    "difference =(train['sales_date'].max() - train['sales_date'].min())\n",
    "difference.days + 1"
   ]
  },
  {
   "cell_type": "code",
   "execution_count": null,
   "id": "ecb214a8",
   "metadata": {},
   "outputs": [],
   "source": [
    "train['sales_date'].max()"
   ]
  },
  {
   "cell_type": "code",
   "execution_count": null,
   "id": "aa193df1",
   "metadata": {},
   "outputs": [],
   "source": []
  },
  {
   "cell_type": "code",
   "execution_count": null,
   "id": "4491e96a",
   "metadata": {},
   "outputs": [],
   "source": [
    "#Actual number of days\n",
    "train['sales_date'].nunique()"
   ]
  },
  {
   "cell_type": "code",
   "execution_count": null,
   "id": "6674208d",
   "metadata": {},
   "outputs": [],
   "source": [
    "#Missing dates\n",
    "expected_dates = pd.date_range(start =train['sales_date'].min(), end= train['sales_date'].max())\n",
    "set(expected_dates.date) - set(train['sales_date'].unique())"
   ]
  },
  {
   "cell_type": "code",
   "execution_count": null,
   "id": "7dfa0c5f",
   "metadata": {},
   "outputs": [],
   "source": [
    "#df = train.append({'date':'2013, 12, 25','2014, 12, 25','2015, 12, 25','2016, 12, 25'}, ignore_index=True)\n",
    "df = train.append({'date':'2013, 12, 25'}, ignore_index=True)"
   ]
  },
  {
   "cell_type": "code",
   "execution_count": null,
   "id": "194a9e69",
   "metadata": {},
   "outputs": [],
   "source": [
    "df"
   ]
  },
  {
   "cell_type": "code",
   "execution_count": null,
   "id": "83d9aba3",
   "metadata": {},
   "outputs": [],
   "source": [
    "store"
   ]
  },
  {
   "cell_type": "code",
   "execution_count": null,
   "id": "5b38ae40",
   "metadata": {},
   "outputs": [],
   "source": [
    "stores.head()"
   ]
  },
  {
   "cell_type": "code",
   "execution_count": null,
   "id": "1eced1b6",
   "metadata": {},
   "outputs": [],
   "source": [
    "a =stores[\"city\"].value_counts(sort=False)\n",
    "a"
   ]
  },
  {
   "cell_type": "code",
   "execution_count": null,
   "id": "8fc0762b",
   "metadata": {},
   "outputs": [],
   "source": [
    "stores['cluster'].nunique()"
   ]
  },
  {
   "cell_type": "code",
   "execution_count": null,
   "id": "b0e4826f",
   "metadata": {},
   "outputs": [],
   "source": [
    "promotion = df_train[df_train[\"onpromotion\"] !=0 ].sort_values(\"onpromotion\", ascending= False)"
   ]
  },
  {
   "cell_type": "code",
   "execution_count": null,
   "id": "668b9b23",
   "metadata": {},
   "outputs": [],
   "source": [
    "promotion"
   ]
  },
  {
   "cell_type": "markdown",
   "id": "a12e6fdd",
   "metadata": {},
   "source": [
    "# Modeling and Prediction "
   ]
  },
  {
   "cell_type": "markdown",
   "id": "b5730d18",
   "metadata": {},
   "source": [
    "# Evaluation"
   ]
  },
  {
   "cell_type": "code",
   "execution_count": null,
   "id": "81a4b2d0",
   "metadata": {},
   "outputs": [],
   "source": [
    "#Max value and date for 2017\n",
    "a= sales_2013.loc[sales_2013['month'] == 3]\n",
    "a.loc[sales_2013['day'] == 2]"
   ]
  },
  {
   "cell_type": "markdown",
   "id": "58ae6e40",
   "metadata": {},
   "source": [
    "2012-03-02"
   ]
  },
  {
   "cell_type": "code",
   "execution_count": 57,
   "id": "259b7c4d",
   "metadata": {},
   "outputs": [
    {
     "data": {
      "text/html": [
       "<div>\n",
       "<style scoped>\n",
       "    .dataframe tbody tr th:only-of-type {\n",
       "        vertical-align: middle;\n",
       "    }\n",
       "\n",
       "    .dataframe tbody tr th {\n",
       "        vertical-align: top;\n",
       "    }\n",
       "\n",
       "    .dataframe thead th {\n",
       "        text-align: right;\n",
       "    }\n",
       "</style>\n",
       "<table border=\"1\" class=\"dataframe\">\n",
       "  <thead>\n",
       "    <tr style=\"text-align: right;\">\n",
       "      <th></th>\n",
       "      <th>id</th>\n",
       "      <th>date</th>\n",
       "      <th>store_nbr</th>\n",
       "      <th>family</th>\n",
       "      <th>sales</th>\n",
       "      <th>onpromotion</th>\n",
       "      <th>transactions</th>\n",
       "      <th>city</th>\n",
       "      <th>state</th>\n",
       "      <th>type</th>\n",
       "      <th>cluster</th>\n",
       "      <th>year</th>\n",
       "      <th>month</th>\n",
       "      <th>day</th>\n",
       "      <th>weekday</th>\n",
       "      <th>week</th>\n",
       "      <th>quarter</th>\n",
       "      <th>day_of_week</th>\n",
       "      <th>lag_1</th>\n",
       "    </tr>\n",
       "  </thead>\n",
       "  <tbody>\n",
       "    <tr>\n",
       "      <th>0</th>\n",
       "      <td>0</td>\n",
       "      <td>2013-01-01</td>\n",
       "      <td>1</td>\n",
       "      <td>AUTOMOTIVE</td>\n",
       "      <td>0.000000000</td>\n",
       "      <td>0</td>\n",
       "      <td>770.000000000</td>\n",
       "      <td>Quito</td>\n",
       "      <td>Pichincha</td>\n",
       "      <td>D</td>\n",
       "      <td>13</td>\n",
       "      <td>2013</td>\n",
       "      <td>1</td>\n",
       "      <td>1</td>\n",
       "      <td>1</td>\n",
       "      <td>1</td>\n",
       "      <td>1</td>\n",
       "      <td>Tuesday</td>\n",
       "      <td>NaN</td>\n",
       "    </tr>\n",
       "    <tr>\n",
       "      <th>1</th>\n",
       "      <td>1</td>\n",
       "      <td>2013-01-01</td>\n",
       "      <td>1</td>\n",
       "      <td>BABY CARE</td>\n",
       "      <td>0.000000000</td>\n",
       "      <td>0</td>\n",
       "      <td>770.000000000</td>\n",
       "      <td>Quito</td>\n",
       "      <td>Pichincha</td>\n",
       "      <td>D</td>\n",
       "      <td>13</td>\n",
       "      <td>2013</td>\n",
       "      <td>1</td>\n",
       "      <td>1</td>\n",
       "      <td>1</td>\n",
       "      <td>1</td>\n",
       "      <td>1</td>\n",
       "      <td>Tuesday</td>\n",
       "      <td>0.000000000</td>\n",
       "    </tr>\n",
       "    <tr>\n",
       "      <th>2</th>\n",
       "      <td>2</td>\n",
       "      <td>2013-01-01</td>\n",
       "      <td>1</td>\n",
       "      <td>BEAUTY</td>\n",
       "      <td>0.000000000</td>\n",
       "      <td>0</td>\n",
       "      <td>770.000000000</td>\n",
       "      <td>Quito</td>\n",
       "      <td>Pichincha</td>\n",
       "      <td>D</td>\n",
       "      <td>13</td>\n",
       "      <td>2013</td>\n",
       "      <td>1</td>\n",
       "      <td>1</td>\n",
       "      <td>1</td>\n",
       "      <td>1</td>\n",
       "      <td>1</td>\n",
       "      <td>Tuesday</td>\n",
       "      <td>0.000000000</td>\n",
       "    </tr>\n",
       "    <tr>\n",
       "      <th>3</th>\n",
       "      <td>3</td>\n",
       "      <td>2013-01-01</td>\n",
       "      <td>1</td>\n",
       "      <td>BEVERAGES</td>\n",
       "      <td>0.000000000</td>\n",
       "      <td>0</td>\n",
       "      <td>770.000000000</td>\n",
       "      <td>Quito</td>\n",
       "      <td>Pichincha</td>\n",
       "      <td>D</td>\n",
       "      <td>13</td>\n",
       "      <td>2013</td>\n",
       "      <td>1</td>\n",
       "      <td>1</td>\n",
       "      <td>1</td>\n",
       "      <td>1</td>\n",
       "      <td>1</td>\n",
       "      <td>Tuesday</td>\n",
       "      <td>0.000000000</td>\n",
       "    </tr>\n",
       "    <tr>\n",
       "      <th>4</th>\n",
       "      <td>4</td>\n",
       "      <td>2013-01-01</td>\n",
       "      <td>1</td>\n",
       "      <td>BOOKS</td>\n",
       "      <td>0.000000000</td>\n",
       "      <td>0</td>\n",
       "      <td>770.000000000</td>\n",
       "      <td>Quito</td>\n",
       "      <td>Pichincha</td>\n",
       "      <td>D</td>\n",
       "      <td>13</td>\n",
       "      <td>2013</td>\n",
       "      <td>1</td>\n",
       "      <td>1</td>\n",
       "      <td>1</td>\n",
       "      <td>1</td>\n",
       "      <td>1</td>\n",
       "      <td>Tuesday</td>\n",
       "      <td>0.000000000</td>\n",
       "    </tr>\n",
       "    <tr>\n",
       "      <th>...</th>\n",
       "      <td>...</td>\n",
       "      <td>...</td>\n",
       "      <td>...</td>\n",
       "      <td>...</td>\n",
       "      <td>...</td>\n",
       "      <td>...</td>\n",
       "      <td>...</td>\n",
       "      <td>...</td>\n",
       "      <td>...</td>\n",
       "      <td>...</td>\n",
       "      <td>...</td>\n",
       "      <td>...</td>\n",
       "      <td>...</td>\n",
       "      <td>...</td>\n",
       "      <td>...</td>\n",
       "      <td>...</td>\n",
       "      <td>...</td>\n",
       "      <td>...</td>\n",
       "      <td>...</td>\n",
       "    </tr>\n",
       "    <tr>\n",
       "      <th>3000883</th>\n",
       "      <td>3000883</td>\n",
       "      <td>2017-08-15</td>\n",
       "      <td>9</td>\n",
       "      <td>POULTRY</td>\n",
       "      <td>438.133000000</td>\n",
       "      <td>0</td>\n",
       "      <td>2155.000000000</td>\n",
       "      <td>Quito</td>\n",
       "      <td>Pichincha</td>\n",
       "      <td>B</td>\n",
       "      <td>6</td>\n",
       "      <td>2017</td>\n",
       "      <td>8</td>\n",
       "      <td>15</td>\n",
       "      <td>1</td>\n",
       "      <td>33</td>\n",
       "      <td>3</td>\n",
       "      <td>Tuesday</td>\n",
       "      <td>6.000000000</td>\n",
       "    </tr>\n",
       "    <tr>\n",
       "      <th>3000884</th>\n",
       "      <td>3000884</td>\n",
       "      <td>2017-08-15</td>\n",
       "      <td>9</td>\n",
       "      <td>PREPARED FOODS</td>\n",
       "      <td>154.553000000</td>\n",
       "      <td>1</td>\n",
       "      <td>2155.000000000</td>\n",
       "      <td>Quito</td>\n",
       "      <td>Pichincha</td>\n",
       "      <td>B</td>\n",
       "      <td>6</td>\n",
       "      <td>2017</td>\n",
       "      <td>8</td>\n",
       "      <td>15</td>\n",
       "      <td>1</td>\n",
       "      <td>33</td>\n",
       "      <td>3</td>\n",
       "      <td>Tuesday</td>\n",
       "      <td>438.133000000</td>\n",
       "    </tr>\n",
       "    <tr>\n",
       "      <th>3000885</th>\n",
       "      <td>3000885</td>\n",
       "      <td>2017-08-15</td>\n",
       "      <td>9</td>\n",
       "      <td>PRODUCE</td>\n",
       "      <td>2419.729000000</td>\n",
       "      <td>148</td>\n",
       "      <td>2155.000000000</td>\n",
       "      <td>Quito</td>\n",
       "      <td>Pichincha</td>\n",
       "      <td>B</td>\n",
       "      <td>6</td>\n",
       "      <td>2017</td>\n",
       "      <td>8</td>\n",
       "      <td>15</td>\n",
       "      <td>1</td>\n",
       "      <td>33</td>\n",
       "      <td>3</td>\n",
       "      <td>Tuesday</td>\n",
       "      <td>154.553000000</td>\n",
       "    </tr>\n",
       "    <tr>\n",
       "      <th>3000886</th>\n",
       "      <td>3000886</td>\n",
       "      <td>2017-08-15</td>\n",
       "      <td>9</td>\n",
       "      <td>SCHOOL AND OFFICE SUPPLIES</td>\n",
       "      <td>121.000000000</td>\n",
       "      <td>8</td>\n",
       "      <td>2155.000000000</td>\n",
       "      <td>Quito</td>\n",
       "      <td>Pichincha</td>\n",
       "      <td>B</td>\n",
       "      <td>6</td>\n",
       "      <td>2017</td>\n",
       "      <td>8</td>\n",
       "      <td>15</td>\n",
       "      <td>1</td>\n",
       "      <td>33</td>\n",
       "      <td>3</td>\n",
       "      <td>Tuesday</td>\n",
       "      <td>2419.729000000</td>\n",
       "    </tr>\n",
       "    <tr>\n",
       "      <th>3000887</th>\n",
       "      <td>3000887</td>\n",
       "      <td>2017-08-15</td>\n",
       "      <td>9</td>\n",
       "      <td>SEAFOOD</td>\n",
       "      <td>16.000000000</td>\n",
       "      <td>0</td>\n",
       "      <td>2155.000000000</td>\n",
       "      <td>Quito</td>\n",
       "      <td>Pichincha</td>\n",
       "      <td>B</td>\n",
       "      <td>6</td>\n",
       "      <td>2017</td>\n",
       "      <td>8</td>\n",
       "      <td>15</td>\n",
       "      <td>1</td>\n",
       "      <td>33</td>\n",
       "      <td>3</td>\n",
       "      <td>Tuesday</td>\n",
       "      <td>121.000000000</td>\n",
       "    </tr>\n",
       "  </tbody>\n",
       "</table>\n",
       "<p>3000888 rows × 19 columns</p>\n",
       "</div>"
      ],
      "text/plain": [
       "              id       date  store_nbr                      family  \\\n",
       "0              0 2013-01-01          1                  AUTOMOTIVE   \n",
       "1              1 2013-01-01          1                   BABY CARE   \n",
       "2              2 2013-01-01          1                      BEAUTY   \n",
       "3              3 2013-01-01          1                   BEVERAGES   \n",
       "4              4 2013-01-01          1                       BOOKS   \n",
       "...          ...        ...        ...                         ...   \n",
       "3000883  3000883 2017-08-15          9                     POULTRY   \n",
       "3000884  3000884 2017-08-15          9              PREPARED FOODS   \n",
       "3000885  3000885 2017-08-15          9                     PRODUCE   \n",
       "3000886  3000886 2017-08-15          9  SCHOOL AND OFFICE SUPPLIES   \n",
       "3000887  3000887 2017-08-15          9                     SEAFOOD   \n",
       "\n",
       "                 sales  onpromotion   transactions   city      state type  \\\n",
       "0          0.000000000            0  770.000000000  Quito  Pichincha    D   \n",
       "1          0.000000000            0  770.000000000  Quito  Pichincha    D   \n",
       "2          0.000000000            0  770.000000000  Quito  Pichincha    D   \n",
       "3          0.000000000            0  770.000000000  Quito  Pichincha    D   \n",
       "4          0.000000000            0  770.000000000  Quito  Pichincha    D   \n",
       "...                ...          ...            ...    ...        ...  ...   \n",
       "3000883  438.133000000            0 2155.000000000  Quito  Pichincha    B   \n",
       "3000884  154.553000000            1 2155.000000000  Quito  Pichincha    B   \n",
       "3000885 2419.729000000          148 2155.000000000  Quito  Pichincha    B   \n",
       "3000886  121.000000000            8 2155.000000000  Quito  Pichincha    B   \n",
       "3000887   16.000000000            0 2155.000000000  Quito  Pichincha    B   \n",
       "\n",
       "         cluster  year  month  day  weekday  week  quarter day_of_week  \\\n",
       "0             13  2013      1    1        1     1        1     Tuesday   \n",
       "1             13  2013      1    1        1     1        1     Tuesday   \n",
       "2             13  2013      1    1        1     1        1     Tuesday   \n",
       "3             13  2013      1    1        1     1        1     Tuesday   \n",
       "4             13  2013      1    1        1     1        1     Tuesday   \n",
       "...          ...   ...    ...  ...      ...   ...      ...         ...   \n",
       "3000883        6  2017      8   15        1    33        3     Tuesday   \n",
       "3000884        6  2017      8   15        1    33        3     Tuesday   \n",
       "3000885        6  2017      8   15        1    33        3     Tuesday   \n",
       "3000886        6  2017      8   15        1    33        3     Tuesday   \n",
       "3000887        6  2017      8   15        1    33        3     Tuesday   \n",
       "\n",
       "                 lag_1  \n",
       "0                  NaN  \n",
       "1          0.000000000  \n",
       "2          0.000000000  \n",
       "3          0.000000000  \n",
       "4          0.000000000  \n",
       "...                ...  \n",
       "3000883    6.000000000  \n",
       "3000884  438.133000000  \n",
       "3000885  154.553000000  \n",
       "3000886 2419.729000000  \n",
       "3000887  121.000000000  \n",
       "\n",
       "[3000888 rows x 19 columns]"
      ]
     },
     "execution_count": 57,
     "metadata": {},
     "output_type": "execute_result"
    }
   ],
   "source": [
    "df_train"
   ]
  },
  {
   "cell_type": "code",
   "execution_count": null,
   "id": "3d8fe7d6",
   "metadata": {},
   "outputs": [],
   "source": [
    "y= df_train['sales']\n",
    "x= df_train['date']\n",
    "\n",
    "plt.plot(x,y)"
   ]
  },
  {
   "cell_type": "code",
   "execution_count": null,
   "id": "8cc68fe0",
   "metadata": {},
   "outputs": [],
   "source": [
    "data_plot =df_train\n",
    "sns.scatterplot(x = \"date\", y = \"sales\", data=data_plot)\n",
    "plt.show()"
   ]
  },
  {
   "cell_type": "code",
   "execution_count": null,
   "id": "d7598490",
   "metadata": {
    "scrolled": true
   },
   "outputs": [],
   "source": [
    "data = df_train[[\"sales\",'date']]\n",
    "#data['date'] = data[\"date\"].apply(str)\n",
    "\n",
    "sns.lineplot(x= \"date\", y= \"sales\" ,data=data)\n",
    "plt.show()\n",
    "data.info()"
   ]
  },
  {
   "cell_type": "code",
   "execution_count": 51,
   "id": "cca64850",
   "metadata": {},
   "outputs": [
    {
     "data": {
      "image/png": "[encoded data removed]",
      "text/plain": [
       "<Figure size 432x288 with 4 Axes>"
      ]
     },
     "execution_count": 51,
     "metadata": {},
     "output_type": "execute_result"
    },
    {
     "data": {
      "image/png": "[encoded data removed]",
      "text/plain": [
       "<Figure size 432x288 with 4 Axes>"
      ]
     },
     "metadata": {
      "needs_background": "light"
     },
     "output_type": "display_data"
    }
   ],
   "source": [
    "# Decomposition \n",
    "from statsmodels.tsa.seasonal import seasonal_decompose\n",
    "series=df_train[\"date\"]\n",
    "# Create New DataFrame of Specific column by DataFrame.assign() method.\n",
    "\n",
    "#data4 = df_train.assign(sales=df_train['sales'],year= df_train['year'])\n",
    "#result = seasonal_decompose(df_train[\"sales\"], model='additive', period=1)\n",
    "#result = seasonal_decompose(df_train[[\"year\",\"sales\"]], model='multiplicative', period=1)\n",
    "result = seasonal_decompose(series, model='additive', period=1)\n",
    "#print(result.trend)\n",
    "#result.trend.plot()\n",
    "#result.seasonal.plot()\n",
    "#print(result.seasonal)\n",
    "#print(result.resid)\n",
    "#print(result.observed)\n",
    "result.plot()"
   ]
  },
  {
   "cell_type": "code",
   "execution_count": 52,
   "id": "4ecd8865",
   "metadata": {},
   "outputs": [],
   "source": [
    "#check for weekly, monthly, yearly trends"
   ]
  },
  {
   "cell_type": "code",
   "execution_count": 53,
   "id": "af5b00b2",
   "metadata": {},
   "outputs": [
    {
     "name": "stderr",
     "output_type": "stream",
     "text": [
      "C:\\Users\\SISEY\\AppData\\Roaming\\Python\\Python310\\site-packages\\pandas\\core\\arraylike.py:397: RuntimeWarning: divide by zero encountered in log\n",
      "  result = getattr(ufunc, method)(*inputs, **kwargs)\n"
     ]
    },
    {
     "data": {
      "text/plain": [
       "<AxesSubplot:>"
      ]
     },
     "execution_count": 53,
     "metadata": {},
     "output_type": "execute_result"
    },
    {
     "data": {
      "image/png": "[encoded data removed]",
      "text/plain": [
       "<Figure size 432x288 with 1 Axes>"
      ]
     },
     "metadata": {
      "needs_background": "light"
     },
     "output_type": "display_data"
    }
   ],
   "source": [
    "#Transformation\n",
    "tran = np.log(df_train[\"sales\"])\n",
    "tran.plot()"
   ]
  },
  {
   "cell_type": "code",
   "execution_count": null,
   "id": "c11c0ef0",
   "metadata": {},
   "outputs": [],
   "source": [
    "#create lag features\n"
   ]
  },
  {
   "cell_type": "code",
   "execution_count": 54,
   "id": "c7b17aec",
   "metadata": {},
   "outputs": [
    {
     "name": "stderr",
     "output_type": "stream",
     "text": [
      "C:\\Users\\SISEY\\AppData\\Local\\Temp\\ipykernel_25428\\1903689307.py:4: UserWarning: FixedFormatter should only be used together with FixedLocator\n",
      "  _ = ax.set(\n"
     ]
    },
    {
     "data": {
      "image/png": "[encoded data removed]",
      "text/plain": [
       "<Figure size 864x288 with 1 Axes>"
      ]
     },
     "metadata": {
      "needs_background": "light"
     },
     "output_type": "display_data"
    }
   ],
   "source": [
    "fig, ax = plt.subplots(figsize=(12, 4))\n",
    "average_week_demand = df_train.groupby([\"day\"])[\"sales\"]\n",
    "average_week_demand.plot(ax=ax)\n",
    "_ = ax.set(\n",
    "    title=\"Average weekly sales during the months\",\n",
    "   # xticks=[i * 12 for i in range(7)],\n",
    "    xticklabels=[\"year\"],\n",
    "    xlabel=\"Day of the week\",\n",
    "    ylabel=\"Sales\",\n",
    ")"
   ]
  },
  {
   "cell_type": "code",
   "execution_count": 55,
   "id": "aa60da94",
   "metadata": {},
   "outputs": [
    {
     "data": {
      "image/png": "[encoded data removed]",
      "text/plain": [
       "<Figure size 864x288 with 1 Axes>"
      ]
     },
     "metadata": {
      "needs_background": "light"
     },
     "output_type": "display_data"
    }
   ],
   "source": [
    "fig, ax = plt.subplots(figsize=(12, 4))\n",
    "average_week_demand = df_train.groupby([\"weekday\", \"month\"]).mean()[\"sales\"]\n",
    "average_week_demand.plot(ax=ax)\n",
    "_ = ax.set(\n",
    "    title=\"Average weekly sales during the months\",\n",
    "    xticks=[i * 12 for i in range(7)],\n",
    "    xticklabels=[\"Sun\", \"Mon\", \"Tue\", \"Wed\", \"Thu\", \"Fri\", \"Sat\"],\n",
    "    xlabel=\"Day of the week\",\n",
    "    ylabel=\"Sales\",\n",
    ")"
   ]
  },
  {
   "cell_type": "code",
   "execution_count": null,
   "id": "52b27bc6",
   "metadata": {},
   "outputs": [],
   "source": [
    "fig, ax = plt.subplots(figsize=(12, 4))\n",
    "average_week_demand = df_train.groupby([\"month\", \"year\"]).mean()[\"sales\"]\n",
    "average_week_demand.plot(ax=ax)\n",
    "_ = ax.set(\n",
    "    title=\"Average monthly sales during the period\",\n",
    "    xticks=[i * 5 for i in range(12)],\n",
    "    #xticklabels=[\"Sun\", \"Mon\", \"Tue\", \"Wed\", \"Thu\", \"Fri\", \"Sat\"],\n",
    "    xticklabels=[\"Jan\", \"Feb\", \"Mar\", \"Apr\", \"May\", \"Jun\", \"Jul\", \"Aug\", \"Sep\", \"Oct\", \"Nov\", \"Dec\"],\n",
    "    xlabel=\"Month of the Year\",\n",
    "    ylabel=\"Sales\",\n",
    ")"
   ]
  },
  {
   "cell_type": "code",
   "execution_count": null,
   "id": "e9f5d87e",
   "metadata": {},
   "outputs": [],
   "source": [
    "df_train[\"sales\"].max()"
   ]
  },
  {
   "cell_type": "code",
   "execution_count": null,
   "id": "ea1c7574",
   "metadata": {},
   "outputs": [],
   "source": []
  },
  {
   "cell_type": "code",
   "execution_count": 50,
   "id": "872204f5",
   "metadata": {},
   "outputs": [
    {
     "ename": "NameError",
     "evalue": "name 'seasonal_decompose' is not defined",
     "output_type": "error",
     "traceback": [
      "\u001b[1;31m---------------------------------------------------------------------------\u001b[0m",
      "\u001b[1;31mNameError\u001b[0m                                 Traceback (most recent call last)",
      "Input \u001b[1;32mIn [50]\u001b[0m, in \u001b[0;36m<cell line: 5>\u001b[1;34m()\u001b[0m\n\u001b[0;32m      1\u001b[0m \u001b[38;5;66;03m#data4 = df_train.assign(sales=df_train['sales'],year= df_train['year'])\u001b[39;00m\n\u001b[0;32m      2\u001b[0m \u001b[38;5;66;03m#result = seasonal_decompose(df_train[\"sales\"], model='additive', period=1)\u001b[39;00m\n\u001b[0;32m      3\u001b[0m \u001b[38;5;66;03m#result = seasonal_decompose(df_train[[\"year\",\"sales\"]], model='multiplicative', period=1)\u001b[39;00m\n\u001b[0;32m      4\u001b[0m average_week_demand \u001b[38;5;241m=\u001b[39m df_train\u001b[38;5;241m.\u001b[39mgroupby([\u001b[38;5;124m\"\u001b[39m\u001b[38;5;124mday\u001b[39m\u001b[38;5;124m\"\u001b[39m])\u001b[38;5;241m.\u001b[39mmean()[\u001b[38;5;124m\"\u001b[39m\u001b[38;5;124msales\u001b[39m\u001b[38;5;124m\"\u001b[39m]\n\u001b[1;32m----> 5\u001b[0m result \u001b[38;5;241m=\u001b[39m \u001b[43mseasonal_decompose\u001b[49m(average_week_demand, model\u001b[38;5;241m=\u001b[39m\u001b[38;5;124m'\u001b[39m\u001b[38;5;124madditive\u001b[39m\u001b[38;5;124m'\u001b[39m, period\u001b[38;5;241m=\u001b[39m\u001b[38;5;241m1\u001b[39m)\n\u001b[0;32m      6\u001b[0m \u001b[38;5;66;03m#print(result.trend)\u001b[39;00m\n\u001b[0;32m      7\u001b[0m \u001b[38;5;66;03m#result.trend.plot()\u001b[39;00m\n\u001b[0;32m      8\u001b[0m \u001b[38;5;66;03m#result.seasonal.plot()\u001b[39;00m\n\u001b[0;32m      9\u001b[0m \u001b[38;5;66;03m#print(result.seasonal)\u001b[39;00m\n\u001b[0;32m     10\u001b[0m \u001b[38;5;66;03m#print(result.resid)\u001b[39;00m\n\u001b[0;32m     11\u001b[0m \u001b[38;5;66;03m#print(result.observed)\u001b[39;00m\n\u001b[0;32m     12\u001b[0m result\u001b[38;5;241m.\u001b[39mplot()\n",
      "\u001b[1;31mNameError\u001b[0m: name 'seasonal_decompose' is not defined"
     ]
    }
   ],
   "source": [
    "\n",
    "#data4 = df_train.assign(sales=df_train['sales'],year= df_train['year'])\n",
    "#result = seasonal_decompose(df_train[\"sales\"], model='additive', period=1)\n",
    "#result = seasonal_decompose(df_train[[\"year\",\"sales\"]], model='multiplicative', period=1)\n",
    "average_week_demand = df_train.groupby([\"day\"]).mean()[\"sales\"]\n",
    "result = seasonal_decompose(average_week_demand, model='additive', period=1)\n",
    "#print(result.trend)\n",
    "#result.trend.plot()\n",
    "#result.seasonal.plot()\n",
    "#print(result.seasonal)\n",
    "#print(result.resid)\n",
    "#print(result.observed)\n",
    "result.plot()"
   ]
  },
  {
   "cell_type": "markdown",
   "id": "97e8e5db",
   "metadata": {},
   "source": [
    "#from statsmodels.tsa.stattools import adfuller\n",
    "#from numpy import log\n",
    "result = adfuller(df_train[\"year\"].dropna())\n",
    "print('p-value: %f' % result[1])"
   ]
  },
  {
   "cell_type": "code",
   "execution_count": null,
   "id": "8d986ecd",
   "metadata": {},
   "outputs": [],
   "source": [
    "#Ccreating sales for next day\n",
    "df_train['next_day_sales'] = df_train.groupby(\"family\")['sales'].shift(-1)\n",
    "data.head()"
   ]
  },
  {
   "cell_type": "code",
   "execution_count": 58,
   "id": "23e877c0",
   "metadata": {},
   "outputs": [
    {
     "data": {
      "text/html": [
       "<div>\n",
       "<style scoped>\n",
       "    .dataframe tbody tr th:only-of-type {\n",
       "        vertical-align: middle;\n",
       "    }\n",
       "\n",
       "    .dataframe tbody tr th {\n",
       "        vertical-align: top;\n",
       "    }\n",
       "\n",
       "    .dataframe thead th {\n",
       "        text-align: right;\n",
       "    }\n",
       "</style>\n",
       "<table border=\"1\" class=\"dataframe\">\n",
       "  <thead>\n",
       "    <tr style=\"text-align: right;\">\n",
       "      <th></th>\n",
       "      <th>day</th>\n",
       "      <th>lag_1</th>\n",
       "      <th>sales</th>\n",
       "    </tr>\n",
       "  </thead>\n",
       "  <tbody>\n",
       "    <tr>\n",
       "      <th>0</th>\n",
       "      <td>1</td>\n",
       "      <td>NaN</td>\n",
       "      <td>0.000000000</td>\n",
       "    </tr>\n",
       "    <tr>\n",
       "      <th>1</th>\n",
       "      <td>1</td>\n",
       "      <td>0.000000000</td>\n",
       "      <td>0.000000000</td>\n",
       "    </tr>\n",
       "    <tr>\n",
       "      <th>2</th>\n",
       "      <td>1</td>\n",
       "      <td>0.000000000</td>\n",
       "      <td>0.000000000</td>\n",
       "    </tr>\n",
       "    <tr>\n",
       "      <th>3</th>\n",
       "      <td>1</td>\n",
       "      <td>0.000000000</td>\n",
       "      <td>0.000000000</td>\n",
       "    </tr>\n",
       "    <tr>\n",
       "      <th>4</th>\n",
       "      <td>1</td>\n",
       "      <td>0.000000000</td>\n",
       "      <td>0.000000000</td>\n",
       "    </tr>\n",
       "  </tbody>\n",
       "</table>\n",
       "</div>"
      ],
      "text/plain": [
       "   day       lag_1       sales\n",
       "0    1         NaN 0.000000000\n",
       "1    1 0.000000000 0.000000000\n",
       "2    1 0.000000000 0.000000000\n",
       "3    1 0.000000000 0.000000000\n",
       "4    1 0.000000000 0.000000000"
      ]
     },
     "execution_count": 58,
     "metadata": {},
     "output_type": "execute_result"
    }
   ],
   "source": [
    "#Ccreating lags\n",
    "df_train['lag_1'] = df_train['sales'].shift(1)\n",
    "data = df_train[['day', 'lag_1', 'sales']]\n",
    "data.head()"
   ]
  },
  {
   "cell_type": "code",
   "execution_count": 59,
   "id": "3eeb2098",
   "metadata": {},
   "outputs": [
    {
     "data": {
      "text/plain": [
       "day      0\n",
       "sales    0\n",
       "lag_1    1\n",
       "dtype: int64"
      ]
     },
     "execution_count": 59,
     "metadata": {},
     "output_type": "execute_result"
    }
   ],
   "source": [
    "missing_values = data.isnull().sum().sort_values(ascending =True)\n",
    "missing_values"
   ]
  },
  {
   "cell_type": "code",
   "execution_count": 60,
   "id": "90c8a24d",
   "metadata": {},
   "outputs": [
    {
     "name": "stdout",
     "output_type": "stream",
     "text": [
      "<class 'pandas.core.frame.DataFrame'>\n",
      "Int64Index: 3000887 entries, 1 to 3000887\n",
      "Data columns (total 3 columns):\n",
      " #   Column  Dtype  \n",
      "---  ------  -----  \n",
      " 0   day     int64  \n",
      " 1   lag_1   float64\n",
      " 2   sales   float64\n",
      "dtypes: float64(2), int64(1)\n",
      "memory usage: 91.6 MB\n"
     ]
    },
    {
     "name": "stderr",
     "output_type": "stream",
     "text": [
      "C:\\Users\\SISEY\\AppData\\Local\\Temp\\ipykernel_25428\\2568581418.py:2: SettingWithCopyWarning: \n",
      "A value is trying to be set on a copy of a slice from a DataFrame\n",
      "\n",
      "See the caveats in the documentation: https://pandas.pydata.org/pandas-docs/stable/user_guide/indexing.html#returning-a-view-versus-a-copy\n",
      "  data.dropna(inplace=True)\n"
     ]
    }
   ],
   "source": [
    "# Dropping missing values\n",
    "data.dropna(inplace=True)\n",
    "data.info()\n"
   ]
  },
  {
   "cell_type": "code",
   "execution_count": 61,
   "id": "096a6f67",
   "metadata": {},
   "outputs": [
    {
     "data": {
      "text/plain": [
       "day      0\n",
       "lag_1    0\n",
       "sales    0\n",
       "dtype: int64"
      ]
     },
     "execution_count": 61,
     "metadata": {},
     "output_type": "execute_result"
    }
   ],
   "source": [
    "missing_values = data.isnull().sum().sort_values(ascending =True)\n",
    "missing_values"
   ]
  },
  {
   "cell_type": "code",
   "execution_count": 63,
   "id": "aebe51c5",
   "metadata": {},
   "outputs": [
    {
     "name": "stderr",
     "output_type": "stream",
     "text": [
      "C:\\Users\\SISEY\\AppData\\Local\\Temp\\ipykernel_25428\\2652165324.py:2: SettingWithCopyWarning: \n",
      "A value is trying to be set on a copy of a slice from a DataFrame.\n",
      "Try using .loc[row_indexer,col_indexer] = value instead\n",
      "\n",
      "See the caveats in the documentation: https://pandas.pydata.org/pandas-docs/stable/user_guide/indexing.html#returning-a-view-versus-a-copy\n",
      "  data['next_day_sales'] = df_train.groupby(\"family\")['sales'].shift(-1)\n"
     ]
    },
    {
     "data": {
      "text/html": [
       "<div>\n",
       "<style scoped>\n",
       "    .dataframe tbody tr th:only-of-type {\n",
       "        vertical-align: middle;\n",
       "    }\n",
       "\n",
       "    .dataframe tbody tr th {\n",
       "        vertical-align: top;\n",
       "    }\n",
       "\n",
       "    .dataframe thead th {\n",
       "        text-align: right;\n",
       "    }\n",
       "</style>\n",
       "<table border=\"1\" class=\"dataframe\">\n",
       "  <thead>\n",
       "    <tr style=\"text-align: right;\">\n",
       "      <th></th>\n",
       "      <th>day</th>\n",
       "      <th>lag_1</th>\n",
       "      <th>sales</th>\n",
       "      <th>next_day_sales</th>\n",
       "    </tr>\n",
       "  </thead>\n",
       "  <tbody>\n",
       "    <tr>\n",
       "      <th>1</th>\n",
       "      <td>1</td>\n",
       "      <td>0.000000000</td>\n",
       "      <td>0.000000000</td>\n",
       "      <td>0.000000000</td>\n",
       "    </tr>\n",
       "    <tr>\n",
       "      <th>2</th>\n",
       "      <td>1</td>\n",
       "      <td>0.000000000</td>\n",
       "      <td>0.000000000</td>\n",
       "      <td>0.000000000</td>\n",
       "    </tr>\n",
       "    <tr>\n",
       "      <th>3</th>\n",
       "      <td>1</td>\n",
       "      <td>0.000000000</td>\n",
       "      <td>0.000000000</td>\n",
       "      <td>0.000000000</td>\n",
       "    </tr>\n",
       "    <tr>\n",
       "      <th>4</th>\n",
       "      <td>1</td>\n",
       "      <td>0.000000000</td>\n",
       "      <td>0.000000000</td>\n",
       "      <td>0.000000000</td>\n",
       "    </tr>\n",
       "    <tr>\n",
       "      <th>5</th>\n",
       "      <td>1</td>\n",
       "      <td>0.000000000</td>\n",
       "      <td>0.000000000</td>\n",
       "      <td>0.000000000</td>\n",
       "    </tr>\n",
       "  </tbody>\n",
       "</table>\n",
       "</div>"
      ],
      "text/plain": [
       "   day       lag_1       sales  next_day_sales\n",
       "1    1 0.000000000 0.000000000     0.000000000\n",
       "2    1 0.000000000 0.000000000     0.000000000\n",
       "3    1 0.000000000 0.000000000     0.000000000\n",
       "4    1 0.000000000 0.000000000     0.000000000\n",
       "5    1 0.000000000 0.000000000     0.000000000"
      ]
     },
     "execution_count": 63,
     "metadata": {},
     "output_type": "execute_result"
    }
   ],
   "source": [
    "#Ccreating sales for next day\n",
    "#This might cause data leakage\n",
    "data['next_day_sales'] = df_train.groupby(\"family\")['sales'].shift(-1)\n",
    "data.head()"
   ]
  },
  {
   "cell_type": "code",
   "execution_count": 64,
   "id": "3b530f55",
   "metadata": {},
   "outputs": [],
   "source": [
    "#drop NaN"
   ]
  },
  {
   "cell_type": "code",
   "execution_count": 65,
   "id": "7413ccf5",
   "metadata": {},
   "outputs": [
    {
     "name": "stderr",
     "output_type": "stream",
     "text": [
      "C:\\Users\\SISEY\\AppData\\Local\\Temp\\ipykernel_25428\\3640281541.py:4: SettingWithCopyWarning: \n",
      "A value is trying to be set on a copy of a slice from a DataFrame.\n",
      "Try using .loc[row_indexer,col_indexer] = value instead\n",
      "\n",
      "See the caveats in the documentation: https://pandas.pydata.org/pandas-docs/stable/user_guide/indexing.html#returning-a-view-versus-a-copy\n",
      "  data['sales_diff'] = df_train.groupby(\"family\")['sales'].diff(1)\n"
     ]
    },
    {
     "data": {
      "text/html": [
       "<div>\n",
       "<style scoped>\n",
       "    .dataframe tbody tr th:only-of-type {\n",
       "        vertical-align: middle;\n",
       "    }\n",
       "\n",
       "    .dataframe tbody tr th {\n",
       "        vertical-align: top;\n",
       "    }\n",
       "\n",
       "    .dataframe thead th {\n",
       "        text-align: right;\n",
       "    }\n",
       "</style>\n",
       "<table border=\"1\" class=\"dataframe\">\n",
       "  <thead>\n",
       "    <tr style=\"text-align: right;\">\n",
       "      <th></th>\n",
       "      <th>day</th>\n",
       "      <th>lag_1</th>\n",
       "      <th>sales</th>\n",
       "      <th>next_day_sales</th>\n",
       "      <th>sales_diff</th>\n",
       "    </tr>\n",
       "  </thead>\n",
       "  <tbody>\n",
       "    <tr>\n",
       "      <th>1</th>\n",
       "      <td>1</td>\n",
       "      <td>0.000000000</td>\n",
       "      <td>0.000000000</td>\n",
       "      <td>0.000000000</td>\n",
       "      <td>NaN</td>\n",
       "    </tr>\n",
       "    <tr>\n",
       "      <th>2</th>\n",
       "      <td>1</td>\n",
       "      <td>0.000000000</td>\n",
       "      <td>0.000000000</td>\n",
       "      <td>0.000000000</td>\n",
       "      <td>NaN</td>\n",
       "    </tr>\n",
       "    <tr>\n",
       "      <th>3</th>\n",
       "      <td>1</td>\n",
       "      <td>0.000000000</td>\n",
       "      <td>0.000000000</td>\n",
       "      <td>0.000000000</td>\n",
       "      <td>NaN</td>\n",
       "    </tr>\n",
       "    <tr>\n",
       "      <th>4</th>\n",
       "      <td>1</td>\n",
       "      <td>0.000000000</td>\n",
       "      <td>0.000000000</td>\n",
       "      <td>0.000000000</td>\n",
       "      <td>NaN</td>\n",
       "    </tr>\n",
       "    <tr>\n",
       "      <th>5</th>\n",
       "      <td>1</td>\n",
       "      <td>0.000000000</td>\n",
       "      <td>0.000000000</td>\n",
       "      <td>0.000000000</td>\n",
       "      <td>NaN</td>\n",
       "    </tr>\n",
       "  </tbody>\n",
       "</table>\n",
       "</div>"
      ],
      "text/plain": [
       "   day       lag_1       sales  next_day_sales  sales_diff\n",
       "1    1 0.000000000 0.000000000     0.000000000         NaN\n",
       "2    1 0.000000000 0.000000000     0.000000000         NaN\n",
       "3    1 0.000000000 0.000000000     0.000000000         NaN\n",
       "4    1 0.000000000 0.000000000     0.000000000         NaN\n",
       "5    1 0.000000000 0.000000000     0.000000000         NaN"
      ]
     },
     "execution_count": 65,
     "metadata": {},
     "output_type": "execute_result"
    }
   ],
   "source": [
    "#CALCULATE DIFFERENCE\n",
    "#Ccreating sales for next day\n",
    "#This might cause data leakage\n",
    "data['sales_diff'] = df_train.groupby(\"family\")['sales'].diff(1)\n",
    "data.head()"
   ]
  },
  {
   "cell_type": "code",
   "execution_count": 66,
   "id": "d3e11571",
   "metadata": {},
   "outputs": [
    {
     "ename": "SyntaxError",
     "evalue": "invalid syntax (378763676.py, line 2)",
     "output_type": "error",
     "traceback": [
      "\u001b[1;36m  Input \u001b[1;32mIn [66]\u001b[1;36m\u001b[0m\n\u001b[1;33m    data['mean']df_train.groupby(\"family\")['sales'].rolling(2).mean().reset_index(level=0, drop=True)\u001b[0m\n\u001b[1;37m                ^\u001b[0m\n\u001b[1;31mSyntaxError\u001b[0m\u001b[1;31m:\u001b[0m invalid syntax\n"
     ]
    }
   ],
   "source": [
    "#Rolling statistics\n",
    "data['mean']=df_train.groupby(\"family\")['sales'].rolling(2).mean().reset_index(level=0, drop=True)"
   ]
  },
  {
   "cell_type": "code",
   "execution_count": null,
   "id": "75fff3f6",
   "metadata": {},
   "outputs": [],
   "source": [
    "#add holidays\n"
   ]
  }
 ],
 "metadata": {
  "kernelspec": {
   "display_name": "Python 3 (ipykernel)",
   "language": "python",
   "name": "python3"
  },
  "language_info": {
   "codemirror_mode": {
    "name": "ipython",
    "version": 3
   },
   "file_extension": ".py",
   "mimetype": "text/x-python",
   "name": "python",
   "nbconvert_exporter": "python",
   "pygments_lexer": "ipython3",
   "version": "3.10.4"
  }
 },
 "nbformat": 4,
 "nbformat_minor": 5
}
