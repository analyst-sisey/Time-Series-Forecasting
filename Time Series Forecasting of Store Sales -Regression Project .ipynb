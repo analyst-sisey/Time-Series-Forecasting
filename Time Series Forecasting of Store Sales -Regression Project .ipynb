{
 "cells": [
  {
   "cell_type": "markdown",
   "id": "3dc2a271",
   "metadata": {},
   "source": [
    "# Business Understanding\n",
    "The goal of this project is to build a model that accurately predicts the unit sales for items sold at different Favorita stores.\n"
   ]
  },
  {
   "cell_type": "markdown",
   "id": "3d3f754f",
   "metadata": {},
   "source": [
    "# Data Understanding\n",
    "The dataset consist of 6 different files\n",
    "\n",
    "1. train\n",
    "2. test\n",
    "3. transactions\n",
    "4. stores\n",
    "5. holidays_events\n",
    "6. oil\n",
    "\n"
   ]
  },
  {
   "cell_type": "markdown",
   "id": "458a0720",
   "metadata": {},
   "source": [
    "# Data Preparation"
   ]
  },
  {
   "cell_type": "code",
   "execution_count": 110,
   "id": "3d14271f",
   "metadata": {
    "scrolled": true
   },
   "outputs": [],
   "source": [
    "#Importing libraries and dependencies\n",
    "import pandas as pd\n",
    "import numpy as np\n",
    "from sklearn.impute import SimpleImputer\n",
    "#from sklearn.ensemble import RandomForestRegressor\n",
    "from sklearn import preprocessing \n",
    "from sklearn.ensemble import RandomForestClassifier,RandomForestRegressor,RandomForestClassifier\n",
    "from sklearn.tree import DecisionTreeRegressor\n",
    "from sklearn.metrics import mean_squared_error,mean_absolute_error,mean_squared_log_error\n",
    "from statsmodels.tsa.seasonal import seasonal_decompose\n",
    "from statsmodels.tsa.stattools import adfuller\n",
    "from numpy import log\n",
    "import matplotlib.pyplot as plt \n",
    "import seaborn as sns\n",
    "import wordcloud \n",
    "from wordcloud import WordCloud, STOPWORDS, ImageColorGenerator\n",
    "#pd.set_option('display.float_format', lambda x: '%.9f' % x)"
   ]
  },
  {
   "cell_type": "code",
   "execution_count": 2,
   "id": "30845f8f",
   "metadata": {},
   "outputs": [],
   "source": [
    "# Loading the datasets into DataFrames\n",
    "stores = pd.read_csv(\"stores.csv\")\n",
    "train = pd.read_csv(\"train.csv\")\n",
    "tests = pd.read_csv(\"test.csv\")\n",
    "transactions = pd.read_csv(\"transactions.csv\")\n",
    "holidays = pd.read_csv(\"holidays_events.csv\")\n",
    "oil = pd.read_csv(\"oil.csv\")"
   ]
  },
  {
   "cell_type": "code",
   "execution_count": null,
   "id": "076426fd",
   "metadata": {},
   "outputs": [],
   "source": []
  },
  {
   "cell_type": "markdown",
   "id": "f1ba6da3",
   "metadata": {},
   "source": [
    "# Exploring the various dataset"
   ]
  },
  {
   "cell_type": "code",
   "execution_count": 3,
   "id": "b13bb94a",
   "metadata": {},
   "outputs": [
    {
     "name": "stdout",
     "output_type": "stream",
     "text": [
      "<class 'pandas.core.frame.DataFrame'>\n",
      "RangeIndex: 3000888 entries, 0 to 3000887\n",
      "Data columns (total 6 columns):\n",
      " #   Column       Dtype  \n",
      "---  ------       -----  \n",
      " 0   id           int64  \n",
      " 1   date         object \n",
      " 2   store_nbr    int64  \n",
      " 3   family       object \n",
      " 4   sales        float64\n",
      " 5   onpromotion  int64  \n",
      "dtypes: float64(1), int64(3), object(2)\n",
      "memory usage: 137.4+ MB\n"
     ]
    },
    {
     "data": {
      "text/html": [
       "<div>\n",
       "<style scoped>\n",
       "    .dataframe tbody tr th:only-of-type {\n",
       "        vertical-align: middle;\n",
       "    }\n",
       "\n",
       "    .dataframe tbody tr th {\n",
       "        vertical-align: top;\n",
       "    }\n",
       "\n",
       "    .dataframe thead th {\n",
       "        text-align: right;\n",
       "    }\n",
       "</style>\n",
       "<table border=\"1\" class=\"dataframe\">\n",
       "  <thead>\n",
       "    <tr style=\"text-align: right;\">\n",
       "      <th></th>\n",
       "      <th>id</th>\n",
       "      <th>date</th>\n",
       "      <th>store_nbr</th>\n",
       "      <th>family</th>\n",
       "      <th>sales</th>\n",
       "      <th>onpromotion</th>\n",
       "    </tr>\n",
       "  </thead>\n",
       "  <tbody>\n",
       "    <tr>\n",
       "      <th>0</th>\n",
       "      <td>0</td>\n",
       "      <td>2013-01-01</td>\n",
       "      <td>1</td>\n",
       "      <td>AUTOMOTIVE</td>\n",
       "      <td>0.0</td>\n",
       "      <td>0</td>\n",
       "    </tr>\n",
       "    <tr>\n",
       "      <th>1</th>\n",
       "      <td>1</td>\n",
       "      <td>2013-01-01</td>\n",
       "      <td>1</td>\n",
       "      <td>BABY CARE</td>\n",
       "      <td>0.0</td>\n",
       "      <td>0</td>\n",
       "    </tr>\n",
       "    <tr>\n",
       "      <th>2</th>\n",
       "      <td>2</td>\n",
       "      <td>2013-01-01</td>\n",
       "      <td>1</td>\n",
       "      <td>BEAUTY</td>\n",
       "      <td>0.0</td>\n",
       "      <td>0</td>\n",
       "    </tr>\n",
       "    <tr>\n",
       "      <th>3</th>\n",
       "      <td>3</td>\n",
       "      <td>2013-01-01</td>\n",
       "      <td>1</td>\n",
       "      <td>BEVERAGES</td>\n",
       "      <td>0.0</td>\n",
       "      <td>0</td>\n",
       "    </tr>\n",
       "    <tr>\n",
       "      <th>4</th>\n",
       "      <td>4</td>\n",
       "      <td>2013-01-01</td>\n",
       "      <td>1</td>\n",
       "      <td>BOOKS</td>\n",
       "      <td>0.0</td>\n",
       "      <td>0</td>\n",
       "    </tr>\n",
       "  </tbody>\n",
       "</table>\n",
       "</div>"
      ],
      "text/plain": [
       "   id        date  store_nbr      family  sales  onpromotion\n",
       "0   0  2013-01-01          1  AUTOMOTIVE    0.0            0\n",
       "1   1  2013-01-01          1   BABY CARE    0.0            0\n",
       "2   2  2013-01-01          1      BEAUTY    0.0            0\n",
       "3   3  2013-01-01          1   BEVERAGES    0.0            0\n",
       "4   4  2013-01-01          1       BOOKS    0.0            0"
      ]
     },
     "execution_count": 3,
     "metadata": {},
     "output_type": "execute_result"
    }
   ],
   "source": [
    "#Exploring the train dataset\n",
    "train.info()\n",
    "train.head()"
   ]
  },
  {
   "cell_type": "code",
   "execution_count": 4,
   "id": "73523fe3",
   "metadata": {},
   "outputs": [
    {
     "name": "stdout",
     "output_type": "stream",
     "text": [
      "<class 'pandas.core.frame.DataFrame'>\n",
      "RangeIndex: 28512 entries, 0 to 28511\n",
      "Data columns (total 5 columns):\n",
      " #   Column       Non-Null Count  Dtype \n",
      "---  ------       --------------  ----- \n",
      " 0   id           28512 non-null  int64 \n",
      " 1   date         28512 non-null  object\n",
      " 2   store_nbr    28512 non-null  int64 \n",
      " 3   family       28512 non-null  object\n",
      " 4   onpromotion  28512 non-null  int64 \n",
      "dtypes: int64(3), object(2)\n",
      "memory usage: 1.1+ MB\n"
     ]
    },
    {
     "data": {
      "text/html": [
       "<div>\n",
       "<style scoped>\n",
       "    .dataframe tbody tr th:only-of-type {\n",
       "        vertical-align: middle;\n",
       "    }\n",
       "\n",
       "    .dataframe tbody tr th {\n",
       "        vertical-align: top;\n",
       "    }\n",
       "\n",
       "    .dataframe thead th {\n",
       "        text-align: right;\n",
       "    }\n",
       "</style>\n",
       "<table border=\"1\" class=\"dataframe\">\n",
       "  <thead>\n",
       "    <tr style=\"text-align: right;\">\n",
       "      <th></th>\n",
       "      <th>id</th>\n",
       "      <th>date</th>\n",
       "      <th>store_nbr</th>\n",
       "      <th>family</th>\n",
       "      <th>onpromotion</th>\n",
       "    </tr>\n",
       "  </thead>\n",
       "  <tbody>\n",
       "    <tr>\n",
       "      <th>0</th>\n",
       "      <td>3000888</td>\n",
       "      <td>2017-08-16</td>\n",
       "      <td>1</td>\n",
       "      <td>AUTOMOTIVE</td>\n",
       "      <td>0</td>\n",
       "    </tr>\n",
       "    <tr>\n",
       "      <th>1</th>\n",
       "      <td>3000889</td>\n",
       "      <td>2017-08-16</td>\n",
       "      <td>1</td>\n",
       "      <td>BABY CARE</td>\n",
       "      <td>0</td>\n",
       "    </tr>\n",
       "    <tr>\n",
       "      <th>2</th>\n",
       "      <td>3000890</td>\n",
       "      <td>2017-08-16</td>\n",
       "      <td>1</td>\n",
       "      <td>BEAUTY</td>\n",
       "      <td>2</td>\n",
       "    </tr>\n",
       "    <tr>\n",
       "      <th>3</th>\n",
       "      <td>3000891</td>\n",
       "      <td>2017-08-16</td>\n",
       "      <td>1</td>\n",
       "      <td>BEVERAGES</td>\n",
       "      <td>20</td>\n",
       "    </tr>\n",
       "    <tr>\n",
       "      <th>4</th>\n",
       "      <td>3000892</td>\n",
       "      <td>2017-08-16</td>\n",
       "      <td>1</td>\n",
       "      <td>BOOKS</td>\n",
       "      <td>0</td>\n",
       "    </tr>\n",
       "  </tbody>\n",
       "</table>\n",
       "</div>"
      ],
      "text/plain": [
       "        id        date  store_nbr      family  onpromotion\n",
       "0  3000888  2017-08-16          1  AUTOMOTIVE            0\n",
       "1  3000889  2017-08-16          1   BABY CARE            0\n",
       "2  3000890  2017-08-16          1      BEAUTY            2\n",
       "3  3000891  2017-08-16          1   BEVERAGES           20\n",
       "4  3000892  2017-08-16          1       BOOKS            0"
      ]
     },
     "execution_count": 4,
     "metadata": {},
     "output_type": "execute_result"
    }
   ],
   "source": [
    "#Exploring the test dataset\n",
    "tests.info()\n",
    "tests.head()"
   ]
  },
  {
   "cell_type": "markdown",
   "id": "b2e902db",
   "metadata": {},
   "source": [
    "**Exploring the data shows that the train and test data have similar columns except the \"sales\" column which is not in the test data.**"
   ]
  },
  {
   "cell_type": "code",
   "execution_count": 5,
   "id": "afd24483",
   "metadata": {},
   "outputs": [
    {
     "data": {
      "text/plain": [
       "id             0\n",
       "date           0\n",
       "store_nbr      0\n",
       "family         0\n",
       "sales          0\n",
       "onpromotion    0\n",
       "dtype: int64"
      ]
     },
     "execution_count": 5,
     "metadata": {},
     "output_type": "execute_result"
    }
   ],
   "source": [
    "#Checking for missing values\n",
    "missing_values1 = train.isnull().sum().sort_values(ascending =True)\n",
    "missing_values1"
   ]
  },
  {
   "cell_type": "markdown",
   "id": "f8bb943b",
   "metadata": {},
   "source": [
    "**Both train and test data have no missing values.\n",
    "Let's explore the other datasets\n"
   ]
  },
  {
   "cell_type": "code",
   "execution_count": 6,
   "id": "826c324f",
   "metadata": {},
   "outputs": [
    {
     "name": "stdout",
     "output_type": "stream",
     "text": [
      "<class 'pandas.core.frame.DataFrame'>\n",
      "RangeIndex: 83488 entries, 0 to 83487\n",
      "Data columns (total 3 columns):\n",
      " #   Column        Non-Null Count  Dtype \n",
      "---  ------        --------------  ----- \n",
      " 0   date          83488 non-null  object\n",
      " 1   store_nbr     83488 non-null  int64 \n",
      " 2   transactions  83488 non-null  int64 \n",
      "dtypes: int64(2), object(1)\n",
      "memory usage: 1.9+ MB\n"
     ]
    },
    {
     "data": {
      "text/html": [
       "<div>\n",
       "<style scoped>\n",
       "    .dataframe tbody tr th:only-of-type {\n",
       "        vertical-align: middle;\n",
       "    }\n",
       "\n",
       "    .dataframe tbody tr th {\n",
       "        vertical-align: top;\n",
       "    }\n",
       "\n",
       "    .dataframe thead th {\n",
       "        text-align: right;\n",
       "    }\n",
       "</style>\n",
       "<table border=\"1\" class=\"dataframe\">\n",
       "  <thead>\n",
       "    <tr style=\"text-align: right;\">\n",
       "      <th></th>\n",
       "      <th>date</th>\n",
       "      <th>store_nbr</th>\n",
       "      <th>transactions</th>\n",
       "    </tr>\n",
       "  </thead>\n",
       "  <tbody>\n",
       "    <tr>\n",
       "      <th>0</th>\n",
       "      <td>2013-01-01</td>\n",
       "      <td>25</td>\n",
       "      <td>770</td>\n",
       "    </tr>\n",
       "    <tr>\n",
       "      <th>1</th>\n",
       "      <td>2013-01-02</td>\n",
       "      <td>1</td>\n",
       "      <td>2111</td>\n",
       "    </tr>\n",
       "    <tr>\n",
       "      <th>2</th>\n",
       "      <td>2013-01-02</td>\n",
       "      <td>2</td>\n",
       "      <td>2358</td>\n",
       "    </tr>\n",
       "    <tr>\n",
       "      <th>3</th>\n",
       "      <td>2013-01-02</td>\n",
       "      <td>3</td>\n",
       "      <td>3487</td>\n",
       "    </tr>\n",
       "    <tr>\n",
       "      <th>4</th>\n",
       "      <td>2013-01-02</td>\n",
       "      <td>4</td>\n",
       "      <td>1922</td>\n",
       "    </tr>\n",
       "  </tbody>\n",
       "</table>\n",
       "</div>"
      ],
      "text/plain": [
       "         date  store_nbr  transactions\n",
       "0  2013-01-01         25           770\n",
       "1  2013-01-02          1          2111\n",
       "2  2013-01-02          2          2358\n",
       "3  2013-01-02          3          3487\n",
       "4  2013-01-02          4          1922"
      ]
     },
     "execution_count": 6,
     "metadata": {},
     "output_type": "execute_result"
    }
   ],
   "source": [
    "#Exploring the transactions dataset\n",
    "transactions.info()\n",
    "transactions.head()\n"
   ]
  },
  {
   "cell_type": "code",
   "execution_count": 7,
   "id": "ee77db13",
   "metadata": {},
   "outputs": [
    {
     "name": "stdout",
     "output_type": "stream",
     "text": [
      "<class 'pandas.core.frame.DataFrame'>\n",
      "RangeIndex: 54 entries, 0 to 53\n",
      "Data columns (total 5 columns):\n",
      " #   Column     Non-Null Count  Dtype \n",
      "---  ------     --------------  ----- \n",
      " 0   store_nbr  54 non-null     int64 \n",
      " 1   city       54 non-null     object\n",
      " 2   state      54 non-null     object\n",
      " 3   type       54 non-null     object\n",
      " 4   cluster    54 non-null     int64 \n",
      "dtypes: int64(2), object(3)\n",
      "memory usage: 2.2+ KB\n"
     ]
    },
    {
     "data": {
      "text/html": [
       "<div>\n",
       "<style scoped>\n",
       "    .dataframe tbody tr th:only-of-type {\n",
       "        vertical-align: middle;\n",
       "    }\n",
       "\n",
       "    .dataframe tbody tr th {\n",
       "        vertical-align: top;\n",
       "    }\n",
       "\n",
       "    .dataframe thead th {\n",
       "        text-align: right;\n",
       "    }\n",
       "</style>\n",
       "<table border=\"1\" class=\"dataframe\">\n",
       "  <thead>\n",
       "    <tr style=\"text-align: right;\">\n",
       "      <th></th>\n",
       "      <th>store_nbr</th>\n",
       "      <th>city</th>\n",
       "      <th>state</th>\n",
       "      <th>type</th>\n",
       "      <th>cluster</th>\n",
       "    </tr>\n",
       "  </thead>\n",
       "  <tbody>\n",
       "    <tr>\n",
       "      <th>0</th>\n",
       "      <td>1</td>\n",
       "      <td>Quito</td>\n",
       "      <td>Pichincha</td>\n",
       "      <td>D</td>\n",
       "      <td>13</td>\n",
       "    </tr>\n",
       "    <tr>\n",
       "      <th>1</th>\n",
       "      <td>2</td>\n",
       "      <td>Quito</td>\n",
       "      <td>Pichincha</td>\n",
       "      <td>D</td>\n",
       "      <td>13</td>\n",
       "    </tr>\n",
       "    <tr>\n",
       "      <th>2</th>\n",
       "      <td>3</td>\n",
       "      <td>Quito</td>\n",
       "      <td>Pichincha</td>\n",
       "      <td>D</td>\n",
       "      <td>8</td>\n",
       "    </tr>\n",
       "    <tr>\n",
       "      <th>3</th>\n",
       "      <td>4</td>\n",
       "      <td>Quito</td>\n",
       "      <td>Pichincha</td>\n",
       "      <td>D</td>\n",
       "      <td>9</td>\n",
       "    </tr>\n",
       "    <tr>\n",
       "      <th>4</th>\n",
       "      <td>5</td>\n",
       "      <td>Santo Domingo</td>\n",
       "      <td>Santo Domingo de los Tsachilas</td>\n",
       "      <td>D</td>\n",
       "      <td>4</td>\n",
       "    </tr>\n",
       "  </tbody>\n",
       "</table>\n",
       "</div>"
      ],
      "text/plain": [
       "   store_nbr           city                           state type  cluster\n",
       "0          1          Quito                       Pichincha    D       13\n",
       "1          2          Quito                       Pichincha    D       13\n",
       "2          3          Quito                       Pichincha    D        8\n",
       "3          4          Quito                       Pichincha    D        9\n",
       "4          5  Santo Domingo  Santo Domingo de los Tsachilas    D        4"
      ]
     },
     "execution_count": 7,
     "metadata": {},
     "output_type": "execute_result"
    }
   ],
   "source": [
    "#Exploring the Stores dataset\n",
    "stores.info()\n",
    "stores.head()"
   ]
  },
  {
   "cell_type": "markdown",
   "id": "a2584c34",
   "metadata": {},
   "source": [
    "**The transaction and stores datasets have columns common to both test and train datasets. These columns can be used as a linking attribute (PK/FK) to merge the datasets on.**"
   ]
  },
  {
   "cell_type": "code",
   "execution_count": 8,
   "id": "3e0fff7f",
   "metadata": {},
   "outputs": [
    {
     "data": {
      "text/plain": [
       "(store_nbr    0\n",
       " city         0\n",
       " state        0\n",
       " type         0\n",
       " cluster      0\n",
       " dtype: int64,\n",
       " date            0\n",
       " store_nbr       0\n",
       " transactions    0\n",
       " dtype: int64)"
      ]
     },
     "execution_count": 8,
     "metadata": {},
     "output_type": "execute_result"
    }
   ],
   "source": [
    "#Checking for missing values\n",
    "transactions_missing_values = transactions.isnull().sum().sort_values(ascending =True)\n",
    "stores_missing_values = stores.isnull().sum().sort_values(ascending =True)\n",
    "stores_missing_values,transactions_missing_values"
   ]
  },
  {
   "cell_type": "markdown",
   "id": "ebc62671",
   "metadata": {},
   "source": [
    "**Both datasets have no missing values so we will go ahead and merge them with the train data. We will merge all 3 data set into a new dataFrame called df_train"
   ]
  },
  {
   "cell_type": "code",
   "execution_count": 9,
   "id": "fcf2ed74",
   "metadata": {},
   "outputs": [
    {
     "name": "stdout",
     "output_type": "stream",
     "text": [
      "<class 'pandas.core.frame.DataFrame'>\n",
      "Int64Index: 3000888 entries, 0 to 3000887\n",
      "Data columns (total 11 columns):\n",
      " #   Column        Dtype  \n",
      "---  ------        -----  \n",
      " 0   id            int64  \n",
      " 1   date          object \n",
      " 2   store_nbr     int64  \n",
      " 3   family        object \n",
      " 4   sales         float64\n",
      " 5   onpromotion   int64  \n",
      " 6   transactions  float64\n",
      " 7   city          object \n",
      " 8   state         object \n",
      " 9   type          object \n",
      " 10  cluster       int64  \n",
      "dtypes: float64(2), int64(4), object(5)\n",
      "memory usage: 274.7+ MB\n"
     ]
    },
    {
     "data": {
      "text/html": [
       "<div>\n",
       "<style scoped>\n",
       "    .dataframe tbody tr th:only-of-type {\n",
       "        vertical-align: middle;\n",
       "    }\n",
       "\n",
       "    .dataframe tbody tr th {\n",
       "        vertical-align: top;\n",
       "    }\n",
       "\n",
       "    .dataframe thead th {\n",
       "        text-align: right;\n",
       "    }\n",
       "</style>\n",
       "<table border=\"1\" class=\"dataframe\">\n",
       "  <thead>\n",
       "    <tr style=\"text-align: right;\">\n",
       "      <th></th>\n",
       "      <th>id</th>\n",
       "      <th>date</th>\n",
       "      <th>store_nbr</th>\n",
       "      <th>family</th>\n",
       "      <th>sales</th>\n",
       "      <th>onpromotion</th>\n",
       "      <th>transactions</th>\n",
       "      <th>city</th>\n",
       "      <th>state</th>\n",
       "      <th>type</th>\n",
       "      <th>cluster</th>\n",
       "    </tr>\n",
       "  </thead>\n",
       "  <tbody>\n",
       "    <tr>\n",
       "      <th>0</th>\n",
       "      <td>0</td>\n",
       "      <td>2013-01-01</td>\n",
       "      <td>1</td>\n",
       "      <td>AUTOMOTIVE</td>\n",
       "      <td>0.0</td>\n",
       "      <td>0</td>\n",
       "      <td>NaN</td>\n",
       "      <td>Quito</td>\n",
       "      <td>Pichincha</td>\n",
       "      <td>D</td>\n",
       "      <td>13</td>\n",
       "    </tr>\n",
       "    <tr>\n",
       "      <th>1</th>\n",
       "      <td>1</td>\n",
       "      <td>2013-01-01</td>\n",
       "      <td>1</td>\n",
       "      <td>BABY CARE</td>\n",
       "      <td>0.0</td>\n",
       "      <td>0</td>\n",
       "      <td>NaN</td>\n",
       "      <td>Quito</td>\n",
       "      <td>Pichincha</td>\n",
       "      <td>D</td>\n",
       "      <td>13</td>\n",
       "    </tr>\n",
       "    <tr>\n",
       "      <th>2</th>\n",
       "      <td>2</td>\n",
       "      <td>2013-01-01</td>\n",
       "      <td>1</td>\n",
       "      <td>BEAUTY</td>\n",
       "      <td>0.0</td>\n",
       "      <td>0</td>\n",
       "      <td>NaN</td>\n",
       "      <td>Quito</td>\n",
       "      <td>Pichincha</td>\n",
       "      <td>D</td>\n",
       "      <td>13</td>\n",
       "    </tr>\n",
       "    <tr>\n",
       "      <th>3</th>\n",
       "      <td>3</td>\n",
       "      <td>2013-01-01</td>\n",
       "      <td>1</td>\n",
       "      <td>BEVERAGES</td>\n",
       "      <td>0.0</td>\n",
       "      <td>0</td>\n",
       "      <td>NaN</td>\n",
       "      <td>Quito</td>\n",
       "      <td>Pichincha</td>\n",
       "      <td>D</td>\n",
       "      <td>13</td>\n",
       "    </tr>\n",
       "    <tr>\n",
       "      <th>4</th>\n",
       "      <td>4</td>\n",
       "      <td>2013-01-01</td>\n",
       "      <td>1</td>\n",
       "      <td>BOOKS</td>\n",
       "      <td>0.0</td>\n",
       "      <td>0</td>\n",
       "      <td>NaN</td>\n",
       "      <td>Quito</td>\n",
       "      <td>Pichincha</td>\n",
       "      <td>D</td>\n",
       "      <td>13</td>\n",
       "    </tr>\n",
       "  </tbody>\n",
       "</table>\n",
       "</div>"
      ],
      "text/plain": [
       "   id        date  store_nbr      family  sales  onpromotion  transactions  \\\n",
       "0   0  2013-01-01          1  AUTOMOTIVE    0.0            0           NaN   \n",
       "1   1  2013-01-01          1   BABY CARE    0.0            0           NaN   \n",
       "2   2  2013-01-01          1      BEAUTY    0.0            0           NaN   \n",
       "3   3  2013-01-01          1   BEVERAGES    0.0            0           NaN   \n",
       "4   4  2013-01-01          1       BOOKS    0.0            0           NaN   \n",
       "\n",
       "    city      state type  cluster  \n",
       "0  Quito  Pichincha    D       13  \n",
       "1  Quito  Pichincha    D       13  \n",
       "2  Quito  Pichincha    D       13  \n",
       "3  Quito  Pichincha    D       13  \n",
       "4  Quito  Pichincha    D       13  "
      ]
     },
     "execution_count": 9,
     "metadata": {},
     "output_type": "execute_result"
    }
   ],
   "source": [
    "#merging the 3 datasets\n",
    "df_train = train.merge(transactions, on = ['date', 'store_nbr'], how='left')\n",
    "df_train = df_train.merge(stores, on = 'store_nbr', how='left')\n",
    "df_train.info()\n",
    "df_train.head()\n"
   ]
  },
  {
   "cell_type": "code",
   "execution_count": null,
   "id": "7c5bac39",
   "metadata": {},
   "outputs": [],
   "source": []
  },
  {
   "cell_type": "code",
   "execution_count": 10,
   "id": "f5a96b42",
   "metadata": {},
   "outputs": [
    {
     "data": {
      "text/plain": [
       "transactions    245784\n",
       "id                   0\n",
       "date                 0\n",
       "store_nbr            0\n",
       "family               0\n",
       "sales                0\n",
       "onpromotion          0\n",
       "city                 0\n",
       "state                0\n",
       "type                 0\n",
       "cluster              0\n",
       "dtype: int64"
      ]
     },
     "execution_count": 10,
     "metadata": {},
     "output_type": "execute_result"
    }
   ],
   "source": [
    "#Checking for missing values in our new dataset\n",
    "missing_values2 = df_train.isnull().sum().sort_values(ascending =False)\n",
    "missing_values2"
   ]
  },
  {
   "cell_type": "markdown",
   "id": "1985fc4a",
   "metadata": {},
   "source": [
    "**The transactions column is missing 245784 values** Since the column contains the count of sales transactions for each date, store_nbr combination, we have to fill the missing data as it is important for our analysis. \n",
    "**We will be using the back fill method because analysis of the data shows that the rows have repeating values. "
   ]
  },
  {
   "cell_type": "code",
   "execution_count": 11,
   "id": "07f9d820",
   "metadata": {},
   "outputs": [
    {
     "data": {
      "text/html": [
       "<div>\n",
       "<style scoped>\n",
       "    .dataframe tbody tr th:only-of-type {\n",
       "        vertical-align: middle;\n",
       "    }\n",
       "\n",
       "    .dataframe tbody tr th {\n",
       "        vertical-align: top;\n",
       "    }\n",
       "\n",
       "    .dataframe thead th {\n",
       "        text-align: right;\n",
       "    }\n",
       "</style>\n",
       "<table border=\"1\" class=\"dataframe\">\n",
       "  <thead>\n",
       "    <tr style=\"text-align: right;\">\n",
       "      <th></th>\n",
       "      <th>id</th>\n",
       "      <th>date</th>\n",
       "      <th>store_nbr</th>\n",
       "      <th>family</th>\n",
       "      <th>sales</th>\n",
       "      <th>onpromotion</th>\n",
       "      <th>transactions</th>\n",
       "      <th>city</th>\n",
       "      <th>state</th>\n",
       "      <th>type</th>\n",
       "      <th>cluster</th>\n",
       "    </tr>\n",
       "  </thead>\n",
       "  <tbody>\n",
       "    <tr>\n",
       "      <th>0</th>\n",
       "      <td>0</td>\n",
       "      <td>2013-01-01</td>\n",
       "      <td>1</td>\n",
       "      <td>AUTOMOTIVE</td>\n",
       "      <td>0.000</td>\n",
       "      <td>0</td>\n",
       "      <td>770.0</td>\n",
       "      <td>Quito</td>\n",
       "      <td>Pichincha</td>\n",
       "      <td>D</td>\n",
       "      <td>13</td>\n",
       "    </tr>\n",
       "    <tr>\n",
       "      <th>1</th>\n",
       "      <td>1</td>\n",
       "      <td>2013-01-01</td>\n",
       "      <td>1</td>\n",
       "      <td>BABY CARE</td>\n",
       "      <td>0.000</td>\n",
       "      <td>0</td>\n",
       "      <td>770.0</td>\n",
       "      <td>Quito</td>\n",
       "      <td>Pichincha</td>\n",
       "      <td>D</td>\n",
       "      <td>13</td>\n",
       "    </tr>\n",
       "    <tr>\n",
       "      <th>2</th>\n",
       "      <td>2</td>\n",
       "      <td>2013-01-01</td>\n",
       "      <td>1</td>\n",
       "      <td>BEAUTY</td>\n",
       "      <td>0.000</td>\n",
       "      <td>0</td>\n",
       "      <td>770.0</td>\n",
       "      <td>Quito</td>\n",
       "      <td>Pichincha</td>\n",
       "      <td>D</td>\n",
       "      <td>13</td>\n",
       "    </tr>\n",
       "    <tr>\n",
       "      <th>3</th>\n",
       "      <td>3</td>\n",
       "      <td>2013-01-01</td>\n",
       "      <td>1</td>\n",
       "      <td>BEVERAGES</td>\n",
       "      <td>0.000</td>\n",
       "      <td>0</td>\n",
       "      <td>770.0</td>\n",
       "      <td>Quito</td>\n",
       "      <td>Pichincha</td>\n",
       "      <td>D</td>\n",
       "      <td>13</td>\n",
       "    </tr>\n",
       "    <tr>\n",
       "      <th>4</th>\n",
       "      <td>4</td>\n",
       "      <td>2013-01-01</td>\n",
       "      <td>1</td>\n",
       "      <td>BOOKS</td>\n",
       "      <td>0.000</td>\n",
       "      <td>0</td>\n",
       "      <td>770.0</td>\n",
       "      <td>Quito</td>\n",
       "      <td>Pichincha</td>\n",
       "      <td>D</td>\n",
       "      <td>13</td>\n",
       "    </tr>\n",
       "    <tr>\n",
       "      <th>...</th>\n",
       "      <td>...</td>\n",
       "      <td>...</td>\n",
       "      <td>...</td>\n",
       "      <td>...</td>\n",
       "      <td>...</td>\n",
       "      <td>...</td>\n",
       "      <td>...</td>\n",
       "      <td>...</td>\n",
       "      <td>...</td>\n",
       "      <td>...</td>\n",
       "      <td>...</td>\n",
       "    </tr>\n",
       "    <tr>\n",
       "      <th>3000883</th>\n",
       "      <td>3000883</td>\n",
       "      <td>2017-08-15</td>\n",
       "      <td>9</td>\n",
       "      <td>POULTRY</td>\n",
       "      <td>438.133</td>\n",
       "      <td>0</td>\n",
       "      <td>2155.0</td>\n",
       "      <td>Quito</td>\n",
       "      <td>Pichincha</td>\n",
       "      <td>B</td>\n",
       "      <td>6</td>\n",
       "    </tr>\n",
       "    <tr>\n",
       "      <th>3000884</th>\n",
       "      <td>3000884</td>\n",
       "      <td>2017-08-15</td>\n",
       "      <td>9</td>\n",
       "      <td>PREPARED FOODS</td>\n",
       "      <td>154.553</td>\n",
       "      <td>1</td>\n",
       "      <td>2155.0</td>\n",
       "      <td>Quito</td>\n",
       "      <td>Pichincha</td>\n",
       "      <td>B</td>\n",
       "      <td>6</td>\n",
       "    </tr>\n",
       "    <tr>\n",
       "      <th>3000885</th>\n",
       "      <td>3000885</td>\n",
       "      <td>2017-08-15</td>\n",
       "      <td>9</td>\n",
       "      <td>PRODUCE</td>\n",
       "      <td>2419.729</td>\n",
       "      <td>148</td>\n",
       "      <td>2155.0</td>\n",
       "      <td>Quito</td>\n",
       "      <td>Pichincha</td>\n",
       "      <td>B</td>\n",
       "      <td>6</td>\n",
       "    </tr>\n",
       "    <tr>\n",
       "      <th>3000886</th>\n",
       "      <td>3000886</td>\n",
       "      <td>2017-08-15</td>\n",
       "      <td>9</td>\n",
       "      <td>SCHOOL AND OFFICE SUPPLIES</td>\n",
       "      <td>121.000</td>\n",
       "      <td>8</td>\n",
       "      <td>2155.0</td>\n",
       "      <td>Quito</td>\n",
       "      <td>Pichincha</td>\n",
       "      <td>B</td>\n",
       "      <td>6</td>\n",
       "    </tr>\n",
       "    <tr>\n",
       "      <th>3000887</th>\n",
       "      <td>3000887</td>\n",
       "      <td>2017-08-15</td>\n",
       "      <td>9</td>\n",
       "      <td>SEAFOOD</td>\n",
       "      <td>16.000</td>\n",
       "      <td>0</td>\n",
       "      <td>2155.0</td>\n",
       "      <td>Quito</td>\n",
       "      <td>Pichincha</td>\n",
       "      <td>B</td>\n",
       "      <td>6</td>\n",
       "    </tr>\n",
       "  </tbody>\n",
       "</table>\n",
       "<p>3000888 rows × 11 columns</p>\n",
       "</div>"
      ],
      "text/plain": [
       "              id        date  store_nbr                      family     sales  \\\n",
       "0              0  2013-01-01          1                  AUTOMOTIVE     0.000   \n",
       "1              1  2013-01-01          1                   BABY CARE     0.000   \n",
       "2              2  2013-01-01          1                      BEAUTY     0.000   \n",
       "3              3  2013-01-01          1                   BEVERAGES     0.000   \n",
       "4              4  2013-01-01          1                       BOOKS     0.000   \n",
       "...          ...         ...        ...                         ...       ...   \n",
       "3000883  3000883  2017-08-15          9                     POULTRY   438.133   \n",
       "3000884  3000884  2017-08-15          9              PREPARED FOODS   154.553   \n",
       "3000885  3000885  2017-08-15          9                     PRODUCE  2419.729   \n",
       "3000886  3000886  2017-08-15          9  SCHOOL AND OFFICE SUPPLIES   121.000   \n",
       "3000887  3000887  2017-08-15          9                     SEAFOOD    16.000   \n",
       "\n",
       "         onpromotion  transactions   city      state type  cluster  \n",
       "0                  0         770.0  Quito  Pichincha    D       13  \n",
       "1                  0         770.0  Quito  Pichincha    D       13  \n",
       "2                  0         770.0  Quito  Pichincha    D       13  \n",
       "3                  0         770.0  Quito  Pichincha    D       13  \n",
       "4                  0         770.0  Quito  Pichincha    D       13  \n",
       "...              ...           ...    ...        ...  ...      ...  \n",
       "3000883            0        2155.0  Quito  Pichincha    B        6  \n",
       "3000884            1        2155.0  Quito  Pichincha    B        6  \n",
       "3000885          148        2155.0  Quito  Pichincha    B        6  \n",
       "3000886            8        2155.0  Quito  Pichincha    B        6  \n",
       "3000887            0        2155.0  Quito  Pichincha    B        6  \n",
       "\n",
       "[3000888 rows x 11 columns]"
      ]
     },
     "execution_count": 11,
     "metadata": {},
     "output_type": "execute_result"
    }
   ],
   "source": [
    "#Filling the missing data using the Backfill method\n",
    "df_train[\"transactions\"].fillna(method='bfill', inplace=True)\n",
    "df_train"
   ]
  },
  {
   "cell_type": "markdown",
   "id": "ff3a1e3c",
   "metadata": {},
   "source": [
    "** Let's disaggregate the date column into Year, Month and Day columns so we can aggregate the data by those parameters**"
   ]
  },
  {
   "cell_type": "code",
   "execution_count": 12,
   "id": "80f3d68b",
   "metadata": {},
   "outputs": [
    {
     "data": {
      "text/html": [
       "<div>\n",
       "<style scoped>\n",
       "    .dataframe tbody tr th:only-of-type {\n",
       "        vertical-align: middle;\n",
       "    }\n",
       "\n",
       "    .dataframe tbody tr th {\n",
       "        vertical-align: top;\n",
       "    }\n",
       "\n",
       "    .dataframe thead th {\n",
       "        text-align: right;\n",
       "    }\n",
       "</style>\n",
       "<table border=\"1\" class=\"dataframe\">\n",
       "  <thead>\n",
       "    <tr style=\"text-align: right;\">\n",
       "      <th></th>\n",
       "      <th>id</th>\n",
       "      <th>date</th>\n",
       "      <th>store_nbr</th>\n",
       "      <th>family</th>\n",
       "      <th>sales</th>\n",
       "      <th>onpromotion</th>\n",
       "      <th>transactions</th>\n",
       "      <th>city</th>\n",
       "      <th>state</th>\n",
       "      <th>type</th>\n",
       "      <th>cluster</th>\n",
       "      <th>year</th>\n",
       "      <th>month</th>\n",
       "      <th>day</th>\n",
       "      <th>weekday</th>\n",
       "      <th>week</th>\n",
       "      <th>quarter</th>\n",
       "      <th>day_of_week</th>\n",
       "    </tr>\n",
       "  </thead>\n",
       "  <tbody>\n",
       "    <tr>\n",
       "      <th>0</th>\n",
       "      <td>0</td>\n",
       "      <td>2013-01-01</td>\n",
       "      <td>1</td>\n",
       "      <td>AUTOMOTIVE</td>\n",
       "      <td>0.000</td>\n",
       "      <td>0</td>\n",
       "      <td>770.0</td>\n",
       "      <td>Quito</td>\n",
       "      <td>Pichincha</td>\n",
       "      <td>D</td>\n",
       "      <td>13</td>\n",
       "      <td>2013</td>\n",
       "      <td>1</td>\n",
       "      <td>1</td>\n",
       "      <td>1</td>\n",
       "      <td>1</td>\n",
       "      <td>1</td>\n",
       "      <td>Tuesday</td>\n",
       "    </tr>\n",
       "    <tr>\n",
       "      <th>1</th>\n",
       "      <td>1</td>\n",
       "      <td>2013-01-01</td>\n",
       "      <td>1</td>\n",
       "      <td>BABY CARE</td>\n",
       "      <td>0.000</td>\n",
       "      <td>0</td>\n",
       "      <td>770.0</td>\n",
       "      <td>Quito</td>\n",
       "      <td>Pichincha</td>\n",
       "      <td>D</td>\n",
       "      <td>13</td>\n",
       "      <td>2013</td>\n",
       "      <td>1</td>\n",
       "      <td>1</td>\n",
       "      <td>1</td>\n",
       "      <td>1</td>\n",
       "      <td>1</td>\n",
       "      <td>Tuesday</td>\n",
       "    </tr>\n",
       "    <tr>\n",
       "      <th>2</th>\n",
       "      <td>2</td>\n",
       "      <td>2013-01-01</td>\n",
       "      <td>1</td>\n",
       "      <td>BEAUTY</td>\n",
       "      <td>0.000</td>\n",
       "      <td>0</td>\n",
       "      <td>770.0</td>\n",
       "      <td>Quito</td>\n",
       "      <td>Pichincha</td>\n",
       "      <td>D</td>\n",
       "      <td>13</td>\n",
       "      <td>2013</td>\n",
       "      <td>1</td>\n",
       "      <td>1</td>\n",
       "      <td>1</td>\n",
       "      <td>1</td>\n",
       "      <td>1</td>\n",
       "      <td>Tuesday</td>\n",
       "    </tr>\n",
       "    <tr>\n",
       "      <th>3</th>\n",
       "      <td>3</td>\n",
       "      <td>2013-01-01</td>\n",
       "      <td>1</td>\n",
       "      <td>BEVERAGES</td>\n",
       "      <td>0.000</td>\n",
       "      <td>0</td>\n",
       "      <td>770.0</td>\n",
       "      <td>Quito</td>\n",
       "      <td>Pichincha</td>\n",
       "      <td>D</td>\n",
       "      <td>13</td>\n",
       "      <td>2013</td>\n",
       "      <td>1</td>\n",
       "      <td>1</td>\n",
       "      <td>1</td>\n",
       "      <td>1</td>\n",
       "      <td>1</td>\n",
       "      <td>Tuesday</td>\n",
       "    </tr>\n",
       "    <tr>\n",
       "      <th>4</th>\n",
       "      <td>4</td>\n",
       "      <td>2013-01-01</td>\n",
       "      <td>1</td>\n",
       "      <td>BOOKS</td>\n",
       "      <td>0.000</td>\n",
       "      <td>0</td>\n",
       "      <td>770.0</td>\n",
       "      <td>Quito</td>\n",
       "      <td>Pichincha</td>\n",
       "      <td>D</td>\n",
       "      <td>13</td>\n",
       "      <td>2013</td>\n",
       "      <td>1</td>\n",
       "      <td>1</td>\n",
       "      <td>1</td>\n",
       "      <td>1</td>\n",
       "      <td>1</td>\n",
       "      <td>Tuesday</td>\n",
       "    </tr>\n",
       "    <tr>\n",
       "      <th>...</th>\n",
       "      <td>...</td>\n",
       "      <td>...</td>\n",
       "      <td>...</td>\n",
       "      <td>...</td>\n",
       "      <td>...</td>\n",
       "      <td>...</td>\n",
       "      <td>...</td>\n",
       "      <td>...</td>\n",
       "      <td>...</td>\n",
       "      <td>...</td>\n",
       "      <td>...</td>\n",
       "      <td>...</td>\n",
       "      <td>...</td>\n",
       "      <td>...</td>\n",
       "      <td>...</td>\n",
       "      <td>...</td>\n",
       "      <td>...</td>\n",
       "      <td>...</td>\n",
       "    </tr>\n",
       "    <tr>\n",
       "      <th>3000883</th>\n",
       "      <td>3000883</td>\n",
       "      <td>2017-08-15</td>\n",
       "      <td>9</td>\n",
       "      <td>POULTRY</td>\n",
       "      <td>438.133</td>\n",
       "      <td>0</td>\n",
       "      <td>2155.0</td>\n",
       "      <td>Quito</td>\n",
       "      <td>Pichincha</td>\n",
       "      <td>B</td>\n",
       "      <td>6</td>\n",
       "      <td>2017</td>\n",
       "      <td>8</td>\n",
       "      <td>15</td>\n",
       "      <td>1</td>\n",
       "      <td>33</td>\n",
       "      <td>3</td>\n",
       "      <td>Tuesday</td>\n",
       "    </tr>\n",
       "    <tr>\n",
       "      <th>3000884</th>\n",
       "      <td>3000884</td>\n",
       "      <td>2017-08-15</td>\n",
       "      <td>9</td>\n",
       "      <td>PREPARED FOODS</td>\n",
       "      <td>154.553</td>\n",
       "      <td>1</td>\n",
       "      <td>2155.0</td>\n",
       "      <td>Quito</td>\n",
       "      <td>Pichincha</td>\n",
       "      <td>B</td>\n",
       "      <td>6</td>\n",
       "      <td>2017</td>\n",
       "      <td>8</td>\n",
       "      <td>15</td>\n",
       "      <td>1</td>\n",
       "      <td>33</td>\n",
       "      <td>3</td>\n",
       "      <td>Tuesday</td>\n",
       "    </tr>\n",
       "    <tr>\n",
       "      <th>3000885</th>\n",
       "      <td>3000885</td>\n",
       "      <td>2017-08-15</td>\n",
       "      <td>9</td>\n",
       "      <td>PRODUCE</td>\n",
       "      <td>2419.729</td>\n",
       "      <td>148</td>\n",
       "      <td>2155.0</td>\n",
       "      <td>Quito</td>\n",
       "      <td>Pichincha</td>\n",
       "      <td>B</td>\n",
       "      <td>6</td>\n",
       "      <td>2017</td>\n",
       "      <td>8</td>\n",
       "      <td>15</td>\n",
       "      <td>1</td>\n",
       "      <td>33</td>\n",
       "      <td>3</td>\n",
       "      <td>Tuesday</td>\n",
       "    </tr>\n",
       "    <tr>\n",
       "      <th>3000886</th>\n",
       "      <td>3000886</td>\n",
       "      <td>2017-08-15</td>\n",
       "      <td>9</td>\n",
       "      <td>SCHOOL AND OFFICE SUPPLIES</td>\n",
       "      <td>121.000</td>\n",
       "      <td>8</td>\n",
       "      <td>2155.0</td>\n",
       "      <td>Quito</td>\n",
       "      <td>Pichincha</td>\n",
       "      <td>B</td>\n",
       "      <td>6</td>\n",
       "      <td>2017</td>\n",
       "      <td>8</td>\n",
       "      <td>15</td>\n",
       "      <td>1</td>\n",
       "      <td>33</td>\n",
       "      <td>3</td>\n",
       "      <td>Tuesday</td>\n",
       "    </tr>\n",
       "    <tr>\n",
       "      <th>3000887</th>\n",
       "      <td>3000887</td>\n",
       "      <td>2017-08-15</td>\n",
       "      <td>9</td>\n",
       "      <td>SEAFOOD</td>\n",
       "      <td>16.000</td>\n",
       "      <td>0</td>\n",
       "      <td>2155.0</td>\n",
       "      <td>Quito</td>\n",
       "      <td>Pichincha</td>\n",
       "      <td>B</td>\n",
       "      <td>6</td>\n",
       "      <td>2017</td>\n",
       "      <td>8</td>\n",
       "      <td>15</td>\n",
       "      <td>1</td>\n",
       "      <td>33</td>\n",
       "      <td>3</td>\n",
       "      <td>Tuesday</td>\n",
       "    </tr>\n",
       "  </tbody>\n",
       "</table>\n",
       "<p>3000888 rows × 18 columns</p>\n",
       "</div>"
      ],
      "text/plain": [
       "              id       date  store_nbr                      family     sales  \\\n",
       "0              0 2013-01-01          1                  AUTOMOTIVE     0.000   \n",
       "1              1 2013-01-01          1                   BABY CARE     0.000   \n",
       "2              2 2013-01-01          1                      BEAUTY     0.000   \n",
       "3              3 2013-01-01          1                   BEVERAGES     0.000   \n",
       "4              4 2013-01-01          1                       BOOKS     0.000   \n",
       "...          ...        ...        ...                         ...       ...   \n",
       "3000883  3000883 2017-08-15          9                     POULTRY   438.133   \n",
       "3000884  3000884 2017-08-15          9              PREPARED FOODS   154.553   \n",
       "3000885  3000885 2017-08-15          9                     PRODUCE  2419.729   \n",
       "3000886  3000886 2017-08-15          9  SCHOOL AND OFFICE SUPPLIES   121.000   \n",
       "3000887  3000887 2017-08-15          9                     SEAFOOD    16.000   \n",
       "\n",
       "         onpromotion  transactions   city      state type  cluster  year  \\\n",
       "0                  0         770.0  Quito  Pichincha    D       13  2013   \n",
       "1                  0         770.0  Quito  Pichincha    D       13  2013   \n",
       "2                  0         770.0  Quito  Pichincha    D       13  2013   \n",
       "3                  0         770.0  Quito  Pichincha    D       13  2013   \n",
       "4                  0         770.0  Quito  Pichincha    D       13  2013   \n",
       "...              ...           ...    ...        ...  ...      ...   ...   \n",
       "3000883            0        2155.0  Quito  Pichincha    B        6  2017   \n",
       "3000884            1        2155.0  Quito  Pichincha    B        6  2017   \n",
       "3000885          148        2155.0  Quito  Pichincha    B        6  2017   \n",
       "3000886            8        2155.0  Quito  Pichincha    B        6  2017   \n",
       "3000887            0        2155.0  Quito  Pichincha    B        6  2017   \n",
       "\n",
       "         month  day  weekday  week  quarter day_of_week  \n",
       "0            1    1        1     1        1     Tuesday  \n",
       "1            1    1        1     1        1     Tuesday  \n",
       "2            1    1        1     1        1     Tuesday  \n",
       "3            1    1        1     1        1     Tuesday  \n",
       "4            1    1        1     1        1     Tuesday  \n",
       "...        ...  ...      ...   ...      ...         ...  \n",
       "3000883      8   15        1    33        3     Tuesday  \n",
       "3000884      8   15        1    33        3     Tuesday  \n",
       "3000885      8   15        1    33        3     Tuesday  \n",
       "3000886      8   15        1    33        3     Tuesday  \n",
       "3000887      8   15        1    33        3     Tuesday  \n",
       "\n",
       "[3000888 rows x 18 columns]"
      ]
     },
     "execution_count": 12,
     "metadata": {},
     "output_type": "execute_result"
    }
   ],
   "source": [
    "#Breaking the year column into day, month, year, day of the week, and week.\n",
    "df_train['date'] = pd.to_datetime(train['date'])\n",
    "df_train['year'] = df_train['date'].dt.year\n",
    "df_train['month'] = df_train['date'].dt.month\n",
    "df_train['day'] = df_train['date'].dt.day\n",
    "df_train['weekday'] = df_train['date'].dt.weekday\n",
    "df_train['week'] = df_train['date'].dt.isocalendar().week\n",
    "df_train['quarter'] = df_train['date'].dt.quarter\n",
    "df_train['day_of_week'] = df_train['date'].dt.day_name()\n",
    "df_train"
   ]
  },
  {
   "cell_type": "code",
   "execution_count": 13,
   "id": "4eaa1859",
   "metadata": {},
   "outputs": [
    {
     "name": "stdout",
     "output_type": "stream",
     "text": [
      "<class 'pandas.core.frame.DataFrame'>\n",
      "Int64Index: 3000888 entries, 0 to 3000887\n",
      "Data columns (total 18 columns):\n",
      " #   Column        Dtype         \n",
      "---  ------        -----         \n",
      " 0   id            int64         \n",
      " 1   date          datetime64[ns]\n",
      " 2   store_nbr     int64         \n",
      " 3   family        object        \n",
      " 4   sales         float64       \n",
      " 5   onpromotion   int64         \n",
      " 6   transactions  float64       \n",
      " 7   city          object        \n",
      " 8   state         object        \n",
      " 9   type          object        \n",
      " 10  cluster       int64         \n",
      " 11  year          int64         \n",
      " 12  month         int64         \n",
      " 13  day           int64         \n",
      " 14  weekday       int64         \n",
      " 15  week          UInt32        \n",
      " 16  quarter       int64         \n",
      " 17  day_of_week   object        \n",
      "dtypes: UInt32(1), datetime64[ns](1), float64(2), int64(9), object(5)\n",
      "memory usage: 426.4+ MB\n"
     ]
    }
   ],
   "source": [
    "df_train.info()"
   ]
  },
  {
   "cell_type": "code",
   "execution_count": 14,
   "id": "b90fd083",
   "metadata": {},
   "outputs": [],
   "source": [
    "#reseting dataframe index \n",
    "df_train.reset_index(drop=True, inplace=True)"
   ]
  },
  {
   "cell_type": "markdown",
   "id": "ea19e453",
   "metadata": {},
   "source": [
    "# QUESTIONS"
   ]
  },
  {
   "cell_type": "markdown",
   "id": "5d18fa76",
   "metadata": {},
   "source": [
    "# 1. Is the train dataset complete (has all the required dates)?"
   ]
  },
  {
   "cell_type": "markdown",
   "id": "698da73d",
   "metadata": {},
   "source": [
    "# Checking for missing dates"
   ]
  },
  {
   "cell_type": "code",
   "execution_count": 15,
   "id": "2a8c734f",
   "metadata": {},
   "outputs": [
    {
     "data": {
      "text/plain": [
       "(datetime.date(2013, 1, 1), datetime.date(2017, 8, 15))"
      ]
     },
     "execution_count": 15,
     "metadata": {},
     "output_type": "execute_result"
    }
   ],
   "source": [
    "#Checking for completeness of the dates\n",
    "train.date.min(), train.date.max()\n",
    "train['sales_date'] = pd.to_datetime(train['date']).dt.date\n",
    "train['sales_date'].min(), train['sales_date'].max()"
   ]
  },
  {
   "cell_type": "code",
   "execution_count": 16,
   "id": "c3ff3483",
   "metadata": {},
   "outputs": [
    {
     "data": {
      "text/plain": [
       "1688"
      ]
     },
     "execution_count": 16,
     "metadata": {},
     "output_type": "execute_result"
    }
   ],
   "source": [
    "#expected number of days (max dates - min dates)\n",
    "\n",
    "difference =(train['sales_date'].max() - train['sales_date'].min())\n",
    "difference.days + 1\n"
   ]
  },
  {
   "cell_type": "code",
   "execution_count": 17,
   "id": "91bad6fd",
   "metadata": {},
   "outputs": [
    {
     "data": {
      "text/plain": [
       "1684"
      ]
     },
     "execution_count": 17,
     "metadata": {},
     "output_type": "execute_result"
    }
   ],
   "source": [
    "#Actual number of days\n",
    "train['sales_date'].nunique()\n"
   ]
  },
  {
   "cell_type": "code",
   "execution_count": 18,
   "id": "6d535451",
   "metadata": {},
   "outputs": [
    {
     "data": {
      "text/plain": [
       "{datetime.date(2013, 12, 25),\n",
       " datetime.date(2014, 12, 25),\n",
       " datetime.date(2015, 12, 25),\n",
       " datetime.date(2016, 12, 25)}"
      ]
     },
     "execution_count": 18,
     "metadata": {},
     "output_type": "execute_result"
    }
   ],
   "source": [
    "#Missing dates\n",
    "expected_dates = pd.date_range(start =train['sales_date'].min(), end= train['sales_date'].max())\n",
    "set(expected_dates.date) - set(train['sales_date'].unique())"
   ]
  },
  {
   "cell_type": "markdown",
   "id": "1791fc40",
   "metadata": {},
   "source": [
    "From the result, the train dataset is mising 4 dates.These missing dates follow a sequence. All the years are missing dates of december 25th ( 12,25). This date is also a holiday in Ecuador. This analysis therfore assumes that no data was taken on this day every year as the shops may be closed down on that day each year. "
   ]
  },
  {
   "cell_type": "markdown",
   "id": "8d536d0f",
   "metadata": {},
   "source": [
    "# 2. Which dates have the lowest and highest sales for each year?"
   ]
  },
  {
   "cell_type": "code",
   "execution_count": 19,
   "id": "7ef0aff5",
   "metadata": {},
   "outputs": [
    {
     "data": {
      "text/plain": [
       "<AxesSubplot:xlabel='year'>"
      ]
     },
     "execution_count": 19,
     "metadata": {},
     "output_type": "execute_result"
    },
    {
     "data": {
      "image/png": "[encoded data removed]",
      "text/plain": [
       "<Figure size 432x288 with 1 Axes>"
      ]
     },
     "metadata": {
      "needs_background": "light"
     },
     "output_type": "display_data"
    }
   ],
   "source": [
    "total_sales_by_year = df_train.groupby(['year'])['sales'].sum()\n",
    "total_sales_by_year.plot.bar()\n"
   ]
  },
  {
   "cell_type": "markdown",
   "id": "d3630cf6",
   "metadata": {},
   "source": [
    "The Company recorded the highest sales in 2016, followed by 2015 and then 2014.The lowest sales was recorded in 2013 followed by 2017. However, the data for 2017 was collected for only 8 mont (2017/08/15) which may account for the ranking. Moreover, the trend shows yearly increase in sales which might make 2017 record the highest sales if the data for the rest of the months is added."
   ]
  },
  {
   "cell_type": "code",
   "execution_count": 20,
   "id": "343f4cc0",
   "metadata": {},
   "outputs": [
    {
     "data": {
      "text/plain": [
       "(46271, 45361, 40351.46, 124717, 38422.625)"
      ]
     },
     "execution_count": 20,
     "metadata": {},
     "output_type": "execute_result"
    }
   ],
   "source": [
    "#Breaking the data into yearly set\n",
    "sales_2013 =df_train.loc[df_train['year'] == 2013]\n",
    "sales_2014 =df_train.loc[df_train['year'] == 2014]\n",
    "sales_2015 =df_train.loc[df_train['year'] == 2015]\n",
    "sales_2016 =df_train.loc[df_train['year'] == 2016]\n",
    "sales_2017 =df_train.loc[df_train['year'] == 2017]\n",
    "#Calculating minimum sales\n",
    "min_2013 = int(sales_2013['sales'].min())\n",
    "min_2014= int(sales_2014['sales'].min())\n",
    "min_2015= int(sales_2015['sales'].min())\n",
    "min_2016= int(sales_2016['sales'].min())\n",
    "min_2017= int(sales_2017['sales'].min())\n",
    "#Calculating maximum sales\n",
    "max_2013= int(sales_2013['sales'].max())\n",
    "max_2014= int(sales_2014['sales'].max())\n",
    "max_2015= float(sales_2015['sales'].max())\n",
    "max_2016= int(sales_2016['sales'].max())\n",
    "max_2017= float(sales_2017['sales'].max())\n",
    "max_2013,max_2014,max_2015,max_2016,max_2017"
   ]
  },
  {
   "cell_type": "code",
   "execution_count": 21,
   "id": "7d067c3c",
   "metadata": {},
   "outputs": [
    {
     "data": {
      "text/html": [
       "<div>\n",
       "<style scoped>\n",
       "    .dataframe tbody tr th:only-of-type {\n",
       "        vertical-align: middle;\n",
       "    }\n",
       "\n",
       "    .dataframe tbody tr th {\n",
       "        vertical-align: top;\n",
       "    }\n",
       "\n",
       "    .dataframe thead th {\n",
       "        text-align: right;\n",
       "    }\n",
       "</style>\n",
       "<table border=\"1\" class=\"dataframe\">\n",
       "  <thead>\n",
       "    <tr style=\"text-align: right;\">\n",
       "      <th></th>\n",
       "      <th>id</th>\n",
       "      <th>date</th>\n",
       "      <th>store_nbr</th>\n",
       "      <th>family</th>\n",
       "      <th>sales</th>\n",
       "      <th>onpromotion</th>\n",
       "      <th>transactions</th>\n",
       "      <th>city</th>\n",
       "      <th>state</th>\n",
       "      <th>type</th>\n",
       "      <th>cluster</th>\n",
       "      <th>year</th>\n",
       "      <th>month</th>\n",
       "      <th>day</th>\n",
       "      <th>weekday</th>\n",
       "      <th>week</th>\n",
       "      <th>quarter</th>\n",
       "      <th>day_of_week</th>\n",
       "    </tr>\n",
       "  </thead>\n",
       "  <tbody>\n",
       "    <tr>\n",
       "      <th>562596</th>\n",
       "      <td>562596</td>\n",
       "      <td>2013-11-12</td>\n",
       "      <td>44</td>\n",
       "      <td>GROCERY I</td>\n",
       "      <td>46271.0</td>\n",
       "      <td>0</td>\n",
       "      <td>3577.0</td>\n",
       "      <td>Quito</td>\n",
       "      <td>Pichincha</td>\n",
       "      <td>A</td>\n",
       "      <td>5</td>\n",
       "      <td>2013</td>\n",
       "      <td>11</td>\n",
       "      <td>12</td>\n",
       "      <td>1</td>\n",
       "      <td>46</td>\n",
       "      <td>4</td>\n",
       "      <td>Tuesday</td>\n",
       "    </tr>\n",
       "  </tbody>\n",
       "</table>\n",
       "</div>"
      ],
      "text/plain": [
       "            id       date  store_nbr     family    sales  onpromotion  \\\n",
       "562596  562596 2013-11-12         44  GROCERY I  46271.0            0   \n",
       "\n",
       "        transactions   city      state type  cluster  year  month  day  \\\n",
       "562596        3577.0  Quito  Pichincha    A        5  2013     11   12   \n",
       "\n",
       "        weekday  week  quarter day_of_week  \n",
       "562596        1    46        4     Tuesday  "
      ]
     },
     "execution_count": 21,
     "metadata": {},
     "output_type": "execute_result"
    }
   ],
   "source": [
    "#Max value and date for 2013\n",
    "sales_2013.loc[sales_2013['sales'] == max_2013]"
   ]
  },
  {
   "cell_type": "code",
   "execution_count": 22,
   "id": "e35e8fbb",
   "metadata": {},
   "outputs": [
    {
     "data": {
      "text/html": [
       "<div>\n",
       "<style scoped>\n",
       "    .dataframe tbody tr th:only-of-type {\n",
       "        vertical-align: middle;\n",
       "    }\n",
       "\n",
       "    .dataframe tbody tr th {\n",
       "        vertical-align: top;\n",
       "    }\n",
       "\n",
       "    .dataframe thead th {\n",
       "        text-align: right;\n",
       "    }\n",
       "</style>\n",
       "<table border=\"1\" class=\"dataframe\">\n",
       "  <thead>\n",
       "    <tr style=\"text-align: right;\">\n",
       "      <th></th>\n",
       "      <th>id</th>\n",
       "      <th>date</th>\n",
       "      <th>store_nbr</th>\n",
       "      <th>family</th>\n",
       "      <th>sales</th>\n",
       "      <th>onpromotion</th>\n",
       "      <th>transactions</th>\n",
       "      <th>city</th>\n",
       "      <th>state</th>\n",
       "      <th>type</th>\n",
       "      <th>cluster</th>\n",
       "      <th>year</th>\n",
       "      <th>month</th>\n",
       "      <th>day</th>\n",
       "      <th>weekday</th>\n",
       "      <th>week</th>\n",
       "      <th>quarter</th>\n",
       "      <th>day_of_week</th>\n",
       "    </tr>\n",
       "  </thead>\n",
       "  <tbody>\n",
       "    <tr>\n",
       "      <th>1257246</th>\n",
       "      <td>1257246</td>\n",
       "      <td>2014-12-08</td>\n",
       "      <td>35</td>\n",
       "      <td>GROCERY I</td>\n",
       "      <td>45361.0</td>\n",
       "      <td>3</td>\n",
       "      <td>624.0</td>\n",
       "      <td>Playas</td>\n",
       "      <td>Guayas</td>\n",
       "      <td>C</td>\n",
       "      <td>3</td>\n",
       "      <td>2014</td>\n",
       "      <td>12</td>\n",
       "      <td>8</td>\n",
       "      <td>0</td>\n",
       "      <td>50</td>\n",
       "      <td>4</td>\n",
       "      <td>Monday</td>\n",
       "    </tr>\n",
       "  </tbody>\n",
       "</table>\n",
       "</div>"
      ],
      "text/plain": [
       "              id       date  store_nbr     family    sales  onpromotion  \\\n",
       "1257246  1257246 2014-12-08         35  GROCERY I  45361.0            3   \n",
       "\n",
       "         transactions    city   state type  cluster  year  month  day  \\\n",
       "1257246         624.0  Playas  Guayas    C        3  2014     12    8   \n",
       "\n",
       "         weekday  week  quarter day_of_week  \n",
       "1257246        0    50        4      Monday  "
      ]
     },
     "execution_count": 22,
     "metadata": {},
     "output_type": "execute_result"
    }
   ],
   "source": [
    "#Max value and date for 2014\n",
    "sales_2014.loc[sales_2014['sales'] == max_2014]"
   ]
  },
  {
   "cell_type": "code",
   "execution_count": 23,
   "id": "9cd0ab9d",
   "metadata": {},
   "outputs": [
    {
     "data": {
      "text/html": [
       "<div>\n",
       "<style scoped>\n",
       "    .dataframe tbody tr th:only-of-type {\n",
       "        vertical-align: middle;\n",
       "    }\n",
       "\n",
       "    .dataframe tbody tr th {\n",
       "        vertical-align: top;\n",
       "    }\n",
       "\n",
       "    .dataframe thead th {\n",
       "        text-align: right;\n",
       "    }\n",
       "</style>\n",
       "<table border=\"1\" class=\"dataframe\">\n",
       "  <thead>\n",
       "    <tr style=\"text-align: right;\">\n",
       "      <th></th>\n",
       "      <th>id</th>\n",
       "      <th>date</th>\n",
       "      <th>store_nbr</th>\n",
       "      <th>family</th>\n",
       "      <th>sales</th>\n",
       "      <th>onpromotion</th>\n",
       "      <th>transactions</th>\n",
       "      <th>city</th>\n",
       "      <th>state</th>\n",
       "      <th>type</th>\n",
       "      <th>cluster</th>\n",
       "      <th>year</th>\n",
       "      <th>month</th>\n",
       "      <th>day</th>\n",
       "      <th>weekday</th>\n",
       "      <th>week</th>\n",
       "      <th>quarter</th>\n",
       "      <th>day_of_week</th>\n",
       "    </tr>\n",
       "  </thead>\n",
       "  <tbody>\n",
       "    <tr>\n",
       "      <th>1916586</th>\n",
       "      <td>1916586</td>\n",
       "      <td>2015-12-14</td>\n",
       "      <td>35</td>\n",
       "      <td>GROCERY I</td>\n",
       "      <td>40351.46</td>\n",
       "      <td>7</td>\n",
       "      <td>594.0</td>\n",
       "      <td>Playas</td>\n",
       "      <td>Guayas</td>\n",
       "      <td>C</td>\n",
       "      <td>3</td>\n",
       "      <td>2015</td>\n",
       "      <td>12</td>\n",
       "      <td>14</td>\n",
       "      <td>0</td>\n",
       "      <td>51</td>\n",
       "      <td>4</td>\n",
       "      <td>Monday</td>\n",
       "    </tr>\n",
       "  </tbody>\n",
       "</table>\n",
       "</div>"
      ],
      "text/plain": [
       "              id       date  store_nbr     family     sales  onpromotion  \\\n",
       "1916586  1916586 2015-12-14         35  GROCERY I  40351.46            7   \n",
       "\n",
       "         transactions    city   state type  cluster  year  month  day  \\\n",
       "1916586         594.0  Playas  Guayas    C        3  2015     12   14   \n",
       "\n",
       "         weekday  week  quarter day_of_week  \n",
       "1916586        0    51        4      Monday  "
      ]
     },
     "execution_count": 23,
     "metadata": {},
     "output_type": "execute_result"
    }
   ],
   "source": [
    "#Max value and date for 2015\n",
    "sales_2015.loc[sales_2015['sales'] == max_2015]"
   ]
  },
  {
   "cell_type": "code",
   "execution_count": 24,
   "id": "543ff55a",
   "metadata": {},
   "outputs": [
    {
     "data": {
      "text/html": [
       "<div>\n",
       "<style scoped>\n",
       "    .dataframe tbody tr th:only-of-type {\n",
       "        vertical-align: middle;\n",
       "    }\n",
       "\n",
       "    .dataframe tbody tr th {\n",
       "        vertical-align: top;\n",
       "    }\n",
       "\n",
       "    .dataframe thead th {\n",
       "        text-align: right;\n",
       "    }\n",
       "</style>\n",
       "<table border=\"1\" class=\"dataframe\">\n",
       "  <thead>\n",
       "    <tr style=\"text-align: right;\">\n",
       "      <th></th>\n",
       "      <th>id</th>\n",
       "      <th>date</th>\n",
       "      <th>store_nbr</th>\n",
       "      <th>family</th>\n",
       "      <th>sales</th>\n",
       "      <th>onpromotion</th>\n",
       "      <th>transactions</th>\n",
       "      <th>city</th>\n",
       "      <th>state</th>\n",
       "      <th>type</th>\n",
       "      <th>cluster</th>\n",
       "      <th>year</th>\n",
       "      <th>month</th>\n",
       "      <th>day</th>\n",
       "      <th>weekday</th>\n",
       "      <th>week</th>\n",
       "      <th>quarter</th>\n",
       "      <th>day_of_week</th>\n",
       "    </tr>\n",
       "  </thead>\n",
       "  <tbody>\n",
       "    <tr>\n",
       "      <th>2163723</th>\n",
       "      <td>2163723</td>\n",
       "      <td>2016-05-02</td>\n",
       "      <td>2</td>\n",
       "      <td>GROCERY I</td>\n",
       "      <td>124717.0</td>\n",
       "      <td>59</td>\n",
       "      <td>1905.0</td>\n",
       "      <td>Quito</td>\n",
       "      <td>Pichincha</td>\n",
       "      <td>D</td>\n",
       "      <td>13</td>\n",
       "      <td>2016</td>\n",
       "      <td>5</td>\n",
       "      <td>2</td>\n",
       "      <td>0</td>\n",
       "      <td>18</td>\n",
       "      <td>2</td>\n",
       "      <td>Monday</td>\n",
       "    </tr>\n",
       "  </tbody>\n",
       "</table>\n",
       "</div>"
      ],
      "text/plain": [
       "              id       date  store_nbr     family     sales  onpromotion  \\\n",
       "2163723  2163723 2016-05-02          2  GROCERY I  124717.0           59   \n",
       "\n",
       "         transactions   city      state type  cluster  year  month  day  \\\n",
       "2163723        1905.0  Quito  Pichincha    D       13  2016      5    2   \n",
       "\n",
       "         weekday  week  quarter day_of_week  \n",
       "2163723        0    18        2      Monday  "
      ]
     },
     "execution_count": 24,
     "metadata": {},
     "output_type": "execute_result"
    }
   ],
   "source": [
    "#Max value and date for 2016\n",
    "sales_2016.loc[sales_2016['sales'] == max_2016]"
   ]
  },
  {
   "cell_type": "code",
   "execution_count": 25,
   "id": "39aae7c3",
   "metadata": {},
   "outputs": [
    {
     "data": {
      "text/html": [
       "<div>\n",
       "<style scoped>\n",
       "    .dataframe tbody tr th:only-of-type {\n",
       "        vertical-align: middle;\n",
       "    }\n",
       "\n",
       "    .dataframe tbody tr th {\n",
       "        vertical-align: top;\n",
       "    }\n",
       "\n",
       "    .dataframe thead th {\n",
       "        text-align: right;\n",
       "    }\n",
       "</style>\n",
       "<table border=\"1\" class=\"dataframe\">\n",
       "  <thead>\n",
       "    <tr style=\"text-align: right;\">\n",
       "      <th></th>\n",
       "      <th>id</th>\n",
       "      <th>date</th>\n",
       "      <th>store_nbr</th>\n",
       "      <th>family</th>\n",
       "      <th>sales</th>\n",
       "      <th>onpromotion</th>\n",
       "      <th>transactions</th>\n",
       "      <th>city</th>\n",
       "      <th>state</th>\n",
       "      <th>type</th>\n",
       "      <th>cluster</th>\n",
       "      <th>year</th>\n",
       "      <th>month</th>\n",
       "      <th>day</th>\n",
       "      <th>weekday</th>\n",
       "      <th>week</th>\n",
       "      <th>quarter</th>\n",
       "      <th>day_of_week</th>\n",
       "    </tr>\n",
       "  </thead>\n",
       "  <tbody>\n",
       "    <tr>\n",
       "      <th>2760297</th>\n",
       "      <td>2760297</td>\n",
       "      <td>2017-04-02</td>\n",
       "      <td>9</td>\n",
       "      <td>GROCERY I</td>\n",
       "      <td>38422.625</td>\n",
       "      <td>73</td>\n",
       "      <td>2245.0</td>\n",
       "      <td>Quito</td>\n",
       "      <td>Pichincha</td>\n",
       "      <td>B</td>\n",
       "      <td>6</td>\n",
       "      <td>2017</td>\n",
       "      <td>4</td>\n",
       "      <td>2</td>\n",
       "      <td>6</td>\n",
       "      <td>13</td>\n",
       "      <td>2</td>\n",
       "      <td>Sunday</td>\n",
       "    </tr>\n",
       "  </tbody>\n",
       "</table>\n",
       "</div>"
      ],
      "text/plain": [
       "              id       date  store_nbr     family      sales  onpromotion  \\\n",
       "2760297  2760297 2017-04-02          9  GROCERY I  38422.625           73   \n",
       "\n",
       "         transactions   city      state type  cluster  year  month  day  \\\n",
       "2760297        2245.0  Quito  Pichincha    B        6  2017      4    2   \n",
       "\n",
       "         weekday  week  quarter day_of_week  \n",
       "2760297        6    13        2      Sunday  "
      ]
     },
     "execution_count": 25,
     "metadata": {},
     "output_type": "execute_result"
    }
   ],
   "source": [
    "#Max value and date for 2017\n",
    "sales_2017.loc[sales_2017['sales'] == max_2017]"
   ]
  },
  {
   "cell_type": "markdown",
   "id": "04554ff6",
   "metadata": {},
   "source": [
    "The dates and maximum values for the years are\n",
    "YEAR     DATE       AMOUNT\n",
    "2013  2013-11-12     46271\n",
    "2014  2014-12-08\t 45361\n",
    "2015  2015-12-14     40351.46\n",
    "2016  2016-05-02\t 124717\n",
    "2017  2017-04-02     124717"
   ]
  },
  {
   "cell_type": "markdown",
   "id": "35e741dc",
   "metadata": {},
   "source": [
    "# 3. Did the earthquake impact sales?"
   ]
  },
  {
   "cell_type": "markdown",
   "id": "bdba6284",
   "metadata": {},
   "source": [
    "Since the earthquake struck Ecuador on April 16, 2016, lets explore the 2016 data"
   ]
  },
  {
   "cell_type": "code",
   "execution_count": null,
   "id": "9b850c85",
   "metadata": {},
   "outputs": [],
   "source": []
  },
  {
   "cell_type": "code",
   "execution_count": 26,
   "id": "0b8cca55",
   "metadata": {},
   "outputs": [
    {
     "data": {
      "text/plain": [
       "day\n",
       "1     1.004172e+07\n",
       "2     1.130189e+07\n",
       "3     1.117659e+07\n",
       "4     1.040226e+07\n",
       "5     9.910870e+06\n",
       "6     1.009564e+07\n",
       "7     9.156555e+06\n",
       "8     8.573419e+06\n",
       "9     9.493922e+06\n",
       "10    9.537904e+06\n",
       "11    9.016023e+06\n",
       "12    8.936502e+06\n",
       "13    8.954708e+06\n",
       "14    8.426829e+06\n",
       "15    8.825597e+06\n",
       "16    9.801118e+06\n",
       "17    9.988999e+06\n",
       "18    9.864747e+06\n",
       "19    9.374226e+06\n",
       "20    1.001174e+07\n",
       "21    9.597905e+06\n",
       "22    9.100030e+06\n",
       "23    9.745349e+06\n",
       "24    9.499665e+06\n",
       "25    7.579952e+06\n",
       "26    8.790574e+06\n",
       "27    9.078644e+06\n",
       "28    8.512522e+06\n",
       "29    8.552453e+06\n",
       "30    9.127977e+06\n",
       "31    6.178197e+06\n",
       "Name: sales, dtype: float64"
      ]
     },
     "execution_count": 26,
     "metadata": {},
     "output_type": "execute_result"
    },
    {
     "data": {
      "image/png": "[encoded data removed]",
      "text/plain": [
       "<Figure size 432x288 with 1 Axes>"
      ]
     },
     "metadata": {
      "needs_background": "light"
     },
     "output_type": "display_data"
    }
   ],
   "source": [
    "total_sale = sales_2016.groupby([\"day\"])['sales'].sum()\n",
    "\n",
    "total_sale.plot()\n",
    "total_sale"
   ]
  },
  {
   "cell_type": "code",
   "execution_count": 27,
   "id": "7eb80e9f",
   "metadata": {},
   "outputs": [
    {
     "data": {
      "text/plain": [
       "day\n",
       "1     7.715082e+06\n",
       "2     8.212901e+06\n",
       "3     7.410473e+06\n",
       "4     7.837522e+06\n",
       "5     7.476711e+06\n",
       "6     6.694271e+06\n",
       "7     7.044224e+06\n",
       "8     6.905308e+06\n",
       "9     6.519628e+06\n",
       "10    6.223471e+06\n",
       "11    6.877406e+06\n",
       "12    6.716819e+06\n",
       "13    6.396314e+06\n",
       "14    6.302049e+06\n",
       "15    6.850851e+06\n",
       "16    5.898453e+06\n",
       "17    5.853783e+06\n",
       "18    5.925920e+06\n",
       "19    5.691621e+06\n",
       "20    5.498339e+06\n",
       "21    6.083462e+06\n",
       "22    5.952142e+06\n",
       "23    5.793121e+06\n",
       "24    5.606596e+06\n",
       "25    5.953790e+06\n",
       "26    5.715473e+06\n",
       "27    5.150372e+06\n",
       "28    6.056566e+06\n",
       "29    5.408016e+06\n",
       "30    5.045494e+06\n",
       "31    3.400891e+06\n",
       "Name: sales, dtype: float64"
      ]
     },
     "execution_count": 27,
     "metadata": {},
     "output_type": "execute_result"
    },
    {
     "data": {
      "image/png": "[encoded data removed]",
      "text/plain": [
       "<Figure size 432x288 with 1 Axes>"
      ]
     },
     "metadata": {
      "needs_background": "light"
     },
     "output_type": "display_data"
    }
   ],
   "source": [
    "total_sale = sales_2017.groupby(['day'])['sales'].sum()\n",
    "#total_sale = total_sale.sort_index()\n",
    "#total_sale.plot(x=total_sale.index, y=total_sale.values, ylabel= 'Funding Amount in Dollars',xlabel='Funding Year')\n",
    "total_sale.plot()\n",
    "#plt.show()\n",
    "#earth__quake =df_train.loc[df_train['date'] == '2016-04-17']\n",
    "#earth__quake\n",
    "#April 16, 2016\n",
    "#total_sale.plot.bar()\n",
    "total_sale"
   ]
  },
  {
   "cell_type": "code",
   "execution_count": 28,
   "id": "f9313fc7",
   "metadata": {},
   "outputs": [
    {
     "data": {
      "text/plain": [
       "<AxesSubplot:xlabel='day'>"
      ]
     },
     "execution_count": 28,
     "metadata": {},
     "output_type": "execute_result"
    },
    {
     "data": {
      "image/png": "[encoded data removed]",
      "text/plain": [
       "<Figure size 432x288 with 1 Axes>"
      ]
     },
     "metadata": {
      "needs_background": "light"
     },
     "output_type": "display_data"
    }
   ],
   "source": [
    "total_sal = sales_2017.groupby(['day'])['sales'].agg([\"sum\"])\n",
    "#total_sales = df_train.groupby(['year'])['sales'].sum()\n",
    "#total_sales = df_train.groupby(['year'].as_index=False)['sales'].sum()\n",
    "#total_sales1 = total_sales.sort_index()\n",
    "total_sal.plot.bar()\n"
   ]
  },
  {
   "cell_type": "code",
   "execution_count": 29,
   "id": "a37be2a8",
   "metadata": {},
   "outputs": [
    {
     "data": {
      "text/html": [
       "<div>\n",
       "<style scoped>\n",
       "    .dataframe tbody tr th:only-of-type {\n",
       "        vertical-align: middle;\n",
       "    }\n",
       "\n",
       "    .dataframe tbody tr th {\n",
       "        vertical-align: top;\n",
       "    }\n",
       "\n",
       "    .dataframe thead th {\n",
       "        text-align: right;\n",
       "    }\n",
       "</style>\n",
       "<table border=\"1\" class=\"dataframe\">\n",
       "  <thead>\n",
       "    <tr style=\"text-align: right;\">\n",
       "      <th></th>\n",
       "      <th>sum</th>\n",
       "    </tr>\n",
       "    <tr>\n",
       "      <th>month</th>\n",
       "      <th></th>\n",
       "    </tr>\n",
       "  </thead>\n",
       "  <tbody>\n",
       "    <tr>\n",
       "      <th>1</th>\n",
       "      <td>2.397780e+07</td>\n",
       "    </tr>\n",
       "    <tr>\n",
       "      <th>2</th>\n",
       "      <td>2.194741e+07</td>\n",
       "    </tr>\n",
       "    <tr>\n",
       "      <th>3</th>\n",
       "      <td>2.313178e+07</td>\n",
       "    </tr>\n",
       "    <tr>\n",
       "      <th>4</th>\n",
       "      <td>2.596303e+07</td>\n",
       "    </tr>\n",
       "    <tr>\n",
       "      <th>5</th>\n",
       "      <td>2.477943e+07</td>\n",
       "    </tr>\n",
       "    <tr>\n",
       "      <th>6</th>\n",
       "      <td>2.220922e+07</td>\n",
       "    </tr>\n",
       "    <tr>\n",
       "      <th>7</th>\n",
       "      <td>2.346267e+07</td>\n",
       "    </tr>\n",
       "    <tr>\n",
       "      <th>8</th>\n",
       "      <td>2.245241e+07</td>\n",
       "    </tr>\n",
       "    <tr>\n",
       "      <th>9</th>\n",
       "      <td>2.241745e+07</td>\n",
       "    </tr>\n",
       "    <tr>\n",
       "      <th>10</th>\n",
       "      <td>2.403039e+07</td>\n",
       "    </tr>\n",
       "    <tr>\n",
       "      <th>11</th>\n",
       "      <td>2.464264e+07</td>\n",
       "    </tr>\n",
       "    <tr>\n",
       "      <th>12</th>\n",
       "      <td>2.964029e+07</td>\n",
       "    </tr>\n",
       "  </tbody>\n",
       "</table>\n",
       "</div>"
      ],
      "text/plain": [
       "                sum\n",
       "month              \n",
       "1      2.397780e+07\n",
       "2      2.194741e+07\n",
       "3      2.313178e+07\n",
       "4      2.596303e+07\n",
       "5      2.477943e+07\n",
       "6      2.220922e+07\n",
       "7      2.346267e+07\n",
       "8      2.245241e+07\n",
       "9      2.241745e+07\n",
       "10     2.403039e+07\n",
       "11     2.464264e+07\n",
       "12     2.964029e+07"
      ]
     },
     "execution_count": 29,
     "metadata": {},
     "output_type": "execute_result"
    },
    {
     "data": {
      "image/png": "[encoded data removed]",
      "text/plain": [
       "<Figure size 432x288 with 1 Axes>"
      ]
     },
     "metadata": {
      "needs_background": "light"
     },
     "output_type": "display_data"
    }
   ],
   "source": [
    "total_sal = sales_2016.groupby(['month'])['sales'].agg([\"sum\"])\n",
    "#total_sales = df_train.groupby(['year'])['sales'].sum()\n",
    "#total_sales = df_train.groupby(['year'].as_index=False)['sales'].sum()\n",
    "#total_sales1 = total_sales.sort_index()\n",
    "total_sal.plot.bar()\n",
    "total_sal"
   ]
  },
  {
   "cell_type": "code",
   "execution_count": 30,
   "id": "0a7e6fca",
   "metadata": {},
   "outputs": [
    {
     "data": {
      "text/html": [
       "<div>\n",
       "<style scoped>\n",
       "    .dataframe tbody tr th:only-of-type {\n",
       "        vertical-align: middle;\n",
       "    }\n",
       "\n",
       "    .dataframe tbody tr th {\n",
       "        vertical-align: top;\n",
       "    }\n",
       "\n",
       "    .dataframe thead th {\n",
       "        text-align: right;\n",
       "    }\n",
       "</style>\n",
       "<table border=\"1\" class=\"dataframe\">\n",
       "  <thead>\n",
       "    <tr style=\"text-align: right;\">\n",
       "      <th></th>\n",
       "      <th>sum</th>\n",
       "    </tr>\n",
       "    <tr>\n",
       "      <th>month</th>\n",
       "      <th></th>\n",
       "    </tr>\n",
       "  </thead>\n",
       "  <tbody>\n",
       "    <tr>\n",
       "      <th>1</th>\n",
       "      <td>2.632816e+07</td>\n",
       "    </tr>\n",
       "    <tr>\n",
       "      <th>2</th>\n",
       "      <td>2.325011e+07</td>\n",
       "    </tr>\n",
       "    <tr>\n",
       "      <th>3</th>\n",
       "      <td>2.670402e+07</td>\n",
       "    </tr>\n",
       "    <tr>\n",
       "      <th>4</th>\n",
       "      <td>2.589531e+07</td>\n",
       "    </tr>\n",
       "    <tr>\n",
       "      <th>5</th>\n",
       "      <td>2.691185e+07</td>\n",
       "    </tr>\n",
       "    <tr>\n",
       "      <th>6</th>\n",
       "      <td>2.568282e+07</td>\n",
       "    </tr>\n",
       "    <tr>\n",
       "      <th>7</th>\n",
       "      <td>2.701148e+07</td>\n",
       "    </tr>\n",
       "    <tr>\n",
       "      <th>8</th>\n",
       "      <td>1.243332e+07</td>\n",
       "    </tr>\n",
       "  </tbody>\n",
       "</table>\n",
       "</div>"
      ],
      "text/plain": [
       "                sum\n",
       "month              \n",
       "1      2.632816e+07\n",
       "2      2.325011e+07\n",
       "3      2.670402e+07\n",
       "4      2.589531e+07\n",
       "5      2.691185e+07\n",
       "6      2.568282e+07\n",
       "7      2.701148e+07\n",
       "8      1.243332e+07"
      ]
     },
     "execution_count": 30,
     "metadata": {},
     "output_type": "execute_result"
    },
    {
     "data": {
      "image/png": "[encoded data removed]",
      "text/plain": [
       "<Figure size 432x288 with 1 Axes>"
      ]
     },
     "metadata": {
      "needs_background": "light"
     },
     "output_type": "display_data"
    }
   ],
   "source": [
    "total_sal = sales_2017.groupby(['month'])['sales'].agg([\"sum\"])\n",
    "#total_sales = df_train.groupby(['year'])['sales'].sum()\n",
    "#total_sales = df_train.groupby(['year'].as_index=False)['sales'].sum()\n",
    "#total_sales1 = total_sales.sort_index()\n",
    "total_sal.plot.bar()\n",
    "total_sal"
   ]
  },
  {
   "cell_type": "markdown",
   "id": "8f8c5434",
   "metadata": {},
   "source": [
    "From the analysis, there was no clear evidence of the effect(positive or negative) of the earth quick on sales. Sales in the month of the earthquake(APRIL)was within the yearly average for that month. Sales for the month after the earthquake was also within the yearly average."
   ]
  },
  {
   "cell_type": "markdown",
   "id": "003315ee",
   "metadata": {},
   "source": [
    "# 4.  Are certain groups of stores selling more products? (Cluster, city, state, type)"
   ]
  },
  {
   "cell_type": "code",
   "execution_count": 31,
   "id": "552f67b3",
   "metadata": {},
   "outputs": [
    {
     "data": {
      "text/plain": [
       "(54, 22, 16, 17, 33, 5)"
      ]
     },
     "execution_count": 31,
     "metadata": {},
     "output_type": "execute_result"
    }
   ],
   "source": [
    "num_stores = df_train['store_nbr'].nunique()\n",
    "num_city = df_train['city'].nunique()\n",
    "num_state = df_train['state'].nunique()\n",
    "num_family = df_train['family'].nunique()\n",
    "num_cluster = df_train['cluster'].nunique()\n",
    "num_type = df_train['type'].nunique()\n",
    "num_stores,num_city,num_state,num_cluster,num_family,num_type"
   ]
  },
  {
   "cell_type": "markdown",
   "id": "63dc0df2",
   "metadata": {},
   "source": [
    "There are 54 stores located in 22 cities across 16 states selling 17 group of items. The stores are grouped into 33 clusters and 5 types."
   ]
  },
  {
   "cell_type": "code",
   "execution_count": 32,
   "id": "96daf13a",
   "metadata": {},
   "outputs": [
    {
     "data": {
      "text/plain": [
       "store_nbr\n",
       "52    2.696170e+06\n",
       "22    4.090202e+06\n",
       "32    5.951796e+06\n",
       "30    7.382074e+06\n",
       "35    7.676679e+06\n",
       "26    7.755122e+06\n",
       "42    8.945768e+06\n",
       "21    9.255506e+06\n",
       "10    9.613906e+06\n",
       "29    9.725158e+06\n",
       "13    1.052305e+07\n",
       "12    1.065922e+07\n",
       "16    1.098641e+07\n",
       "54    1.105748e+07\n",
       "53    1.121617e+07\n",
       "14    1.138792e+07\n",
       "25    1.142100e+07\n",
       "15    1.145127e+07\n",
       "23    1.165138e+07\n",
       "20    1.292095e+07\n",
       "19    1.304951e+07\n",
       "18    1.325938e+07\n",
       "1     1.414501e+07\n",
       "33    1.417850e+07\n",
       "41    1.499104e+07\n",
       "36    1.532243e+07\n",
       "5     1.559240e+07\n",
       "43    1.639169e+07\n",
       "34    1.709073e+07\n",
       "31    1.774687e+07\n",
       "17    1.803097e+07\n",
       "28    1.838315e+07\n",
       "40    1.839576e+07\n",
       "38    1.886000e+07\n",
       "4     1.890970e+07\n",
       "27    1.918802e+07\n",
       "37    1.997064e+07\n",
       "39    2.025219e+07\n",
       "2     2.155739e+07\n",
       "24    2.376773e+07\n",
       "6     2.518368e+07\n",
       "9     2.640944e+07\n",
       "7     2.695205e+07\n",
       "11    2.832556e+07\n",
       "50    2.865302e+07\n",
       "8     3.049429e+07\n",
       "51    3.291149e+07\n",
       "48    3.593313e+07\n",
       "46    4.189606e+07\n",
       "49    4.342010e+07\n",
       "3     5.048191e+07\n",
       "47    5.094831e+07\n",
       "45    5.449801e+07\n",
       "44    6.208755e+07\n",
       "Name: sales, dtype: float64"
      ]
     },
     "execution_count": 32,
     "metadata": {},
     "output_type": "execute_result"
    },
    {
     "data": {
      "image/png": "[encoded data removed]",
      "text/plain": [
       "<Figure size 432x288 with 1 Axes>"
      ]
     },
     "metadata": {
      "needs_background": "light"
     },
     "output_type": "display_data"
    }
   ],
   "source": [
    "#Sales by store \n",
    "total_sales_store = df_train.groupby(['store_nbr'])['sales'].sum()\n",
    "total_sales_store = total_sales_store.sort_values()\n",
    "total_sales_store.plot.barh()\n",
    "\n",
    "total_sales_store"
   ]
  },
  {
   "cell_type": "code",
   "execution_count": 33,
   "id": "e117321e",
   "metadata": {},
   "outputs": [
    {
     "data": {
      "text/plain": [
       "<AxesSubplot:ylabel='city'>"
      ]
     },
     "execution_count": 33,
     "metadata": {},
     "output_type": "execute_result"
    },
    {
     "data": {
      "image/png": "[encoded data removed]",
      "text/plain": [
       "<Figure size 432x288 with 1 Axes>"
      ]
     },
     "metadata": {
      "needs_background": "light"
     },
     "output_type": "display_data"
    }
   ],
   "source": [
    "#Sales by city\n",
    "total_sales_city = df_train.groupby(['city'])['sales'].sum()\n",
    "total_sales_city = total_sales_city.sort_values()\n",
    "total_sales_city.plot.barh()\n",
    "\n",
    "#total_sales_city"
   ]
  },
  {
   "cell_type": "markdown",
   "id": "09574705",
   "metadata": {},
   "source": [
    "**Quito is the city with the highest sales of $556,741,836.83**"
   ]
  },
  {
   "cell_type": "code",
   "execution_count": 34,
   "id": "e01d9854",
   "metadata": {},
   "outputs": [
    {
     "data": {
      "text/plain": [
       "state\n",
       "Pastaza                           4.090202e+06\n",
       "Chimborazo                        1.138792e+07\n",
       "Santa Elena                       1.142100e+07\n",
       "Imbabura                          1.145127e+07\n",
       "Bolivar                           1.304951e+07\n",
       "Esmeraldas                        1.639169e+07\n",
       "Loja                              1.886000e+07\n",
       "Cotopaxi                          2.118226e+07\n",
       "Manabi                            2.496982e+07\n",
       "Los Rios                          3.192537e+07\n",
       "El Oro                            3.338680e+07\n",
       "Santo Domingo de los Tsachilas    3.583432e+07\n",
       "Tungurahua                        4.030440e+07\n",
       "Azuay                             4.916860e+07\n",
       "Guayas                            1.651544e+08\n",
       "Pichincha                         5.850674e+08\n",
       "Name: sales, dtype: float64"
      ]
     },
     "execution_count": 34,
     "metadata": {},
     "output_type": "execute_result"
    },
    {
     "data": {
      "image/png": "[encoded data removed]",
      "text/plain": [
       "<Figure size 432x288 with 1 Axes>"
      ]
     },
     "metadata": {
      "needs_background": "light"
     },
     "output_type": "display_data"
    }
   ],
   "source": [
    "#Sales by State\n",
    "total_sales_state = df_train.groupby(['state'])['sales'].sum()\n",
    "total_sales_state = total_sales_state.sort_values()\n",
    "total_sales_state.plot.barh()\n",
    "\n",
    "total_sales_state"
   ]
  },
  {
   "cell_type": "code",
   "execution_count": 35,
   "id": "ed8849c2",
   "metadata": {},
   "outputs": [
    {
     "data": {
      "text/plain": [
       "cluster\n",
       "16    1.325938e+07\n",
       "7     1.547812e+07\n",
       "12    1.803097e+07\n",
       "2     2.891640e+07\n",
       "9     3.056108e+07\n",
       "17    3.291149e+07\n",
       "4     4.944344e+07\n",
       "1     5.437675e+07\n",
       "15    5.529695e+07\n",
       "5     6.208755e+07\n",
       "13    7.210225e+07\n",
       "3     7.562870e+07\n",
       "10    8.532443e+07\n",
       "11    1.006143e+08\n",
       "8     1.079282e+08\n",
       "6     1.142544e+08\n",
       "14    1.574305e+08\n",
       "Name: sales, dtype: float64"
      ]
     },
     "execution_count": 35,
     "metadata": {},
     "output_type": "execute_result"
    },
    {
     "data": {
      "image/png": "[encoded data removed]",
      "text/plain": [
       "<Figure size 432x288 with 1 Axes>"
      ]
     },
     "metadata": {
      "needs_background": "light"
     },
     "output_type": "display_data"
    }
   ],
   "source": [
    "#Sales by store cluster\n",
    "total_sales_cluster = df_train.groupby(['cluster'])['sales'].sum()\n",
    "total_sales_cluster = total_sales_cluster.sort_values()\n",
    "total_sales_cluster.plot.barh()\n",
    "\n",
    "total_sales_cluster"
   ]
  },
  {
   "cell_type": "code",
   "execution_count": 36,
   "id": "97369630",
   "metadata": {},
   "outputs": [
    {
     "data": {
      "text/plain": [
       "type\n",
       "E    5.982244e+07\n",
       "B    1.452606e+08\n",
       "C    1.644347e+08\n",
       "D    3.510833e+08\n",
       "A    3.530438e+08\n",
       "Name: sales, dtype: float64"
      ]
     },
     "execution_count": 36,
     "metadata": {},
     "output_type": "execute_result"
    },
    {
     "data": {
      "image/png": "[encoded data removed]",
      "text/plain": [
       "<Figure size 432x288 with 1 Axes>"
      ]
     },
     "metadata": {
      "needs_background": "light"
     },
     "output_type": "display_data"
    }
   ],
   "source": [
    "#Sales by store type\n",
    "total_sales_store = df_train.groupby(['type'])['sales'].sum()\n",
    "total_sales_store = total_sales_store.sort_values()\n",
    "total_sales_store.plot.barh()\n",
    "\n",
    "total_sales_store"
   ]
  },
  {
   "cell_type": "code",
   "execution_count": 37,
   "id": "765fcff1",
   "metadata": {},
   "outputs": [
    {
     "data": {
      "image/png": "[encoded data removed]",
      "text/plain": [
       "<Figure size 432x288 with 1 Axes>"
      ]
     },
     "metadata": {
      "needs_background": "light"
     },
     "output_type": "display_data"
    },
    {
     "data": {
      "text/html": [
       "<div>\n",
       "<style scoped>\n",
       "    .dataframe tbody tr th:only-of-type {\n",
       "        vertical-align: middle;\n",
       "    }\n",
       "\n",
       "    .dataframe tbody tr th {\n",
       "        vertical-align: top;\n",
       "    }\n",
       "\n",
       "    .dataframe thead th {\n",
       "        text-align: right;\n",
       "    }\n",
       "</style>\n",
       "<table border=\"1\" class=\"dataframe\">\n",
       "  <thead>\n",
       "    <tr style=\"text-align: right;\">\n",
       "      <th></th>\n",
       "      <th></th>\n",
       "      <th>sum</th>\n",
       "    </tr>\n",
       "    <tr>\n",
       "      <th>family</th>\n",
       "      <th>city</th>\n",
       "      <th></th>\n",
       "    </tr>\n",
       "  </thead>\n",
       "  <tbody>\n",
       "    <tr>\n",
       "      <th>AUTOMOTIVE</th>\n",
       "      <th>Ambato</th>\n",
       "      <td>2.345300e+04</td>\n",
       "    </tr>\n",
       "    <tr>\n",
       "      <th>PRODUCE</th>\n",
       "      <th>Ambato</th>\n",
       "      <td>3.760752e+06</td>\n",
       "    </tr>\n",
       "    <tr>\n",
       "      <th>BEVERAGES</th>\n",
       "      <th>Ambato</th>\n",
       "      <td>7.402705e+06</td>\n",
       "    </tr>\n",
       "    <tr>\n",
       "      <th>PREPARED FOODS</th>\n",
       "      <th>Ambato</th>\n",
       "      <td>2.902157e+05</td>\n",
       "    </tr>\n",
       "    <tr>\n",
       "      <th>BOOKS</th>\n",
       "      <th>Ambato</th>\n",
       "      <td>3.790000e+02</td>\n",
       "    </tr>\n",
       "    <tr>\n",
       "      <th>...</th>\n",
       "      <th>...</th>\n",
       "      <td>...</td>\n",
       "    </tr>\n",
       "    <tr>\n",
       "      <th>HOME CARE</th>\n",
       "      <th>Santo Domingo</th>\n",
       "      <td>7.071960e+05</td>\n",
       "    </tr>\n",
       "    <tr>\n",
       "      <th>PRODUCE</th>\n",
       "      <th>Santo Domingo</th>\n",
       "      <td>3.238346e+06</td>\n",
       "    </tr>\n",
       "    <tr>\n",
       "      <th>GROCERY I</th>\n",
       "      <th>Santo Domingo</th>\n",
       "      <td>1.273277e+07</td>\n",
       "    </tr>\n",
       "    <tr>\n",
       "      <th>POULTRY</th>\n",
       "      <th>Santo Domingo</th>\n",
       "      <td>7.088501e+05</td>\n",
       "    </tr>\n",
       "    <tr>\n",
       "      <th>SEAFOOD</th>\n",
       "      <th>Santo Domingo</th>\n",
       "      <td>3.140499e+04</td>\n",
       "    </tr>\n",
       "  </tbody>\n",
       "</table>\n",
       "<p>726 rows × 1 columns</p>\n",
       "</div>"
      ],
      "text/plain": [
       "                                       sum\n",
       "family         city                       \n",
       "AUTOMOTIVE     Ambato         2.345300e+04\n",
       "PRODUCE        Ambato         3.760752e+06\n",
       "BEVERAGES      Ambato         7.402705e+06\n",
       "PREPARED FOODS Ambato         2.902157e+05\n",
       "BOOKS          Ambato         3.790000e+02\n",
       "...                                    ...\n",
       "HOME CARE      Santo Domingo  7.071960e+05\n",
       "PRODUCE        Santo Domingo  3.238346e+06\n",
       "GROCERY I      Santo Domingo  1.273277e+07\n",
       "POULTRY        Santo Domingo  7.088501e+05\n",
       "SEAFOOD        Santo Domingo  3.140499e+04\n",
       "\n",
       "[726 rows x 1 columns]"
      ]
     },
     "execution_count": 37,
     "metadata": {},
     "output_type": "execute_result"
    }
   ],
   "source": [
    "total_sales = df_train.groupby(['family','city'])['sales'].agg([\"sum\"])\n",
    "total_sales = total_sales.sort_values('city')\n",
    "total_sales.head(10).plot.barh()\n",
    "plt.show()\n",
    "total_sales"
   ]
  },
  {
   "cell_type": "code",
   "execution_count": null,
   "id": "a08be003",
   "metadata": {},
   "outputs": [],
   "source": []
  },
  {
   "cell_type": "code",
   "execution_count": 38,
   "id": "85d835e7",
   "metadata": {},
   "outputs": [
    {
     "data": {
      "text/html": [
       "<div>\n",
       "<style scoped>\n",
       "    .dataframe tbody tr th:only-of-type {\n",
       "        vertical-align: middle;\n",
       "    }\n",
       "\n",
       "    .dataframe tbody tr th {\n",
       "        vertical-align: top;\n",
       "    }\n",
       "\n",
       "    .dataframe thead th {\n",
       "        text-align: right;\n",
       "    }\n",
       "</style>\n",
       "<table border=\"1\" class=\"dataframe\">\n",
       "  <thead>\n",
       "    <tr style=\"text-align: right;\">\n",
       "      <th></th>\n",
       "      <th></th>\n",
       "      <th>sum</th>\n",
       "    </tr>\n",
       "    <tr>\n",
       "      <th>family</th>\n",
       "      <th>city</th>\n",
       "      <th></th>\n",
       "    </tr>\n",
       "  </thead>\n",
       "  <tbody>\n",
       "    <tr>\n",
       "      <th>AUTOMOTIVE</th>\n",
       "      <th>Ambato</th>\n",
       "      <td>2.345300e+04</td>\n",
       "    </tr>\n",
       "    <tr>\n",
       "      <th>PRODUCE</th>\n",
       "      <th>Ambato</th>\n",
       "      <td>3.760752e+06</td>\n",
       "    </tr>\n",
       "    <tr>\n",
       "      <th>BEVERAGES</th>\n",
       "      <th>Ambato</th>\n",
       "      <td>7.402705e+06</td>\n",
       "    </tr>\n",
       "    <tr>\n",
       "      <th>PREPARED FOODS</th>\n",
       "      <th>Ambato</th>\n",
       "      <td>2.902157e+05</td>\n",
       "    </tr>\n",
       "    <tr>\n",
       "      <th>BOOKS</th>\n",
       "      <th>Ambato</th>\n",
       "      <td>3.790000e+02</td>\n",
       "    </tr>\n",
       "    <tr>\n",
       "      <th>...</th>\n",
       "      <th>...</th>\n",
       "      <td>...</td>\n",
       "    </tr>\n",
       "    <tr>\n",
       "      <th>HOME CARE</th>\n",
       "      <th>Santo Domingo</th>\n",
       "      <td>7.071960e+05</td>\n",
       "    </tr>\n",
       "    <tr>\n",
       "      <th>PRODUCE</th>\n",
       "      <th>Santo Domingo</th>\n",
       "      <td>3.238346e+06</td>\n",
       "    </tr>\n",
       "    <tr>\n",
       "      <th>GROCERY I</th>\n",
       "      <th>Santo Domingo</th>\n",
       "      <td>1.273277e+07</td>\n",
       "    </tr>\n",
       "    <tr>\n",
       "      <th>POULTRY</th>\n",
       "      <th>Santo Domingo</th>\n",
       "      <td>7.088501e+05</td>\n",
       "    </tr>\n",
       "    <tr>\n",
       "      <th>SEAFOOD</th>\n",
       "      <th>Santo Domingo</th>\n",
       "      <td>3.140499e+04</td>\n",
       "    </tr>\n",
       "  </tbody>\n",
       "</table>\n",
       "<p>726 rows × 1 columns</p>\n",
       "</div>"
      ],
      "text/plain": [
       "                                       sum\n",
       "family         city                       \n",
       "AUTOMOTIVE     Ambato         2.345300e+04\n",
       "PRODUCE        Ambato         3.760752e+06\n",
       "BEVERAGES      Ambato         7.402705e+06\n",
       "PREPARED FOODS Ambato         2.902157e+05\n",
       "BOOKS          Ambato         3.790000e+02\n",
       "...                                    ...\n",
       "HOME CARE      Santo Domingo  7.071960e+05\n",
       "PRODUCE        Santo Domingo  3.238346e+06\n",
       "GROCERY I      Santo Domingo  1.273277e+07\n",
       "POULTRY        Santo Domingo  7.088501e+05\n",
       "SEAFOOD        Santo Domingo  3.140499e+04\n",
       "\n",
       "[726 rows x 1 columns]"
      ]
     },
     "execution_count": 38,
     "metadata": {},
     "output_type": "execute_result"
    },
    {
     "data": {
      "image/png": "[encoded data removed]",
      "text/plain": [
       "<Figure size 432x288 with 1 Axes>"
      ]
     },
     "metadata": {
      "needs_background": "light"
     },
     "output_type": "display_data"
    }
   ],
   "source": [
    "#Sales by product family\n",
    "total_sales_family = df_train.groupby(['family'])['sales'].agg([\"sum\"])\n",
    "total_sales_family = total_sales_family.sort_values('family')\n",
    "total_sales_family.plot.bar()\n",
    "\n",
    "total_sales"
   ]
  },
  {
   "cell_type": "markdown",
   "id": "88e19a0d",
   "metadata": {},
   "source": [
    "# 4. Are sales affected by promotions, oil prices and holidays?"
   ]
  },
  {
   "cell_type": "code",
   "execution_count": 39,
   "id": "af26a30f",
   "metadata": {},
   "outputs": [
    {
     "data": {
      "text/plain": [
       "<matplotlib.collections.PathCollection at 0x1ecad6fca30>"
      ]
     },
     "execution_count": 39,
     "metadata": {},
     "output_type": "execute_result"
    },
    {
     "data": {
      "image/png": "[encoded data removed]",
      "text/plain": [
       "<Figure size 432x288 with 1 Axes>"
      ]
     },
     "metadata": {
      "needs_background": "light"
     },
     "output_type": "display_data"
    }
   ],
   "source": [
    "x1=df_train['sales'] \n",
    "y1=df_train['onpromotion']\n",
    "plt.scatter(x1,y1)"
   ]
  },
  {
   "cell_type": "code",
   "execution_count": 40,
   "id": "332f29be",
   "metadata": {},
   "outputs": [
    {
     "data": {
      "text/plain": [
       "<AxesSubplot:>"
      ]
     },
     "execution_count": 40,
     "metadata": {},
     "output_type": "execute_result"
    },
    {
     "data": {
      "image/png": "[encoded data removed]",
      "text/plain": [
       "<Figure size 432x288 with 2 Axes>"
      ]
     },
     "metadata": {
      "needs_background": "light"
     },
     "output_type": "display_data"
    }
   ],
   "source": [
    "\n",
    "sns.heatmap(df_train.corr())\n"
   ]
  },
  {
   "cell_type": "code",
   "execution_count": null,
   "id": "13d58951",
   "metadata": {},
   "outputs": [],
   "source": []
  },
  {
   "cell_type": "code",
   "execution_count": null,
   "id": "4940ebcf",
   "metadata": {},
   "outputs": [],
   "source": []
  },
  {
   "cell_type": "code",
   "execution_count": null,
   "id": "5131fec9",
   "metadata": {},
   "outputs": [],
   "source": []
  },
  {
   "cell_type": "markdown",
   "id": "2ee32bf3",
   "metadata": {},
   "source": [
    "# 5. What analysis can we get from the date and its extractable features?"
   ]
  },
  {
   "cell_type": "code",
   "execution_count": null,
   "id": "980e854a",
   "metadata": {},
   "outputs": [],
   "source": []
  },
  {
   "cell_type": "code",
   "execution_count": 41,
   "id": "eb537a09",
   "metadata": {},
   "outputs": [
    {
     "data": {
      "text/plain": [
       "<AxesSubplot:xlabel='date'>"
      ]
     },
     "execution_count": 41,
     "metadata": {},
     "output_type": "execute_result"
    },
    {
     "data": {
      "image/png": "[encoded data removed]",
      "text/plain": [
       "<Figure size 432x288 with 1 Axes>"
      ]
     },
     "metadata": {
      "needs_background": "light"
     },
     "output_type": "display_data"
    }
   ],
   "source": [
    "#Sales by year\n",
    "total_sales = df_train.groupby(['date'])['sales'].sum()\n",
    "total_sales.plot()\n"
   ]
  },
  {
   "cell_type": "code",
   "execution_count": 42,
   "id": "3370d744",
   "metadata": {},
   "outputs": [
    {
     "data": {
      "text/plain": [
       "(sum    1.404190e+08\n",
       " dtype: float64,\n",
       " sum    2.886545e+08\n",
       " dtype: float64)"
      ]
     },
     "execution_count": 42,
     "metadata": {},
     "output_type": "execute_result"
    },
    {
     "data": {
      "image/png": "[encoded data removed]",
      "text/plain": [
       "<Figure size 432x288 with 1 Axes>"
      ]
     },
     "metadata": {
      "needs_background": "light"
     },
     "output_type": "display_data"
    }
   ],
   "source": [
    "#Total sales by Year\n",
    "total_sales = df_train.groupby(['year'])['sales'].agg([\"sum\"])\n",
    "total_sales.plot.bar()\n",
    "total_sales.min(),total_sales.max()\n",
    "#total_sales"
   ]
  },
  {
   "cell_type": "code",
   "execution_count": 43,
   "id": "4a651f4f",
   "metadata": {},
   "outputs": [
    {
     "data": {
      "text/html": [
       "<div>\n",
       "<style scoped>\n",
       "    .dataframe tbody tr th:only-of-type {\n",
       "        vertical-align: middle;\n",
       "    }\n",
       "\n",
       "    .dataframe tbody tr th {\n",
       "        vertical-align: top;\n",
       "    }\n",
       "\n",
       "    .dataframe thead th {\n",
       "        text-align: right;\n",
       "    }\n",
       "</style>\n",
       "<table border=\"1\" class=\"dataframe\">\n",
       "  <thead>\n",
       "    <tr style=\"text-align: right;\">\n",
       "      <th></th>\n",
       "      <th>sum</th>\n",
       "    </tr>\n",
       "    <tr>\n",
       "      <th>month</th>\n",
       "      <th></th>\n",
       "    </tr>\n",
       "  </thead>\n",
       "  <tbody>\n",
       "    <tr>\n",
       "      <th>1</th>\n",
       "      <td>9.444215e+07</td>\n",
       "    </tr>\n",
       "    <tr>\n",
       "      <th>2</th>\n",
       "      <td>8.063723e+07</td>\n",
       "    </tr>\n",
       "    <tr>\n",
       "      <th>3</th>\n",
       "      <td>9.722849e+07</td>\n",
       "    </tr>\n",
       "    <tr>\n",
       "      <th>4</th>\n",
       "      <td>9.066812e+07</td>\n",
       "    </tr>\n",
       "    <tr>\n",
       "      <th>5</th>\n",
       "      <td>9.439914e+07</td>\n",
       "    </tr>\n",
       "    <tr>\n",
       "      <th>6</th>\n",
       "      <td>9.451670e+07</td>\n",
       "    </tr>\n",
       "    <tr>\n",
       "      <th>7</th>\n",
       "      <td>1.033631e+08</td>\n",
       "    </tr>\n",
       "    <tr>\n",
       "      <th>8</th>\n",
       "      <td>8.347238e+07</td>\n",
       "    </tr>\n",
       "    <tr>\n",
       "      <th>9</th>\n",
       "      <td>7.747368e+07</td>\n",
       "    </tr>\n",
       "    <tr>\n",
       "      <th>10</th>\n",
       "      <td>8.008038e+07</td>\n",
       "    </tr>\n",
       "    <tr>\n",
       "      <th>11</th>\n",
       "      <td>8.033579e+07</td>\n",
       "    </tr>\n",
       "    <tr>\n",
       "      <th>12</th>\n",
       "      <td>9.702784e+07</td>\n",
       "    </tr>\n",
       "  </tbody>\n",
       "</table>\n",
       "</div>"
      ],
      "text/plain": [
       "                sum\n",
       "month              \n",
       "1      9.444215e+07\n",
       "2      8.063723e+07\n",
       "3      9.722849e+07\n",
       "4      9.066812e+07\n",
       "5      9.439914e+07\n",
       "6      9.451670e+07\n",
       "7      1.033631e+08\n",
       "8      8.347238e+07\n",
       "9      7.747368e+07\n",
       "10     8.008038e+07\n",
       "11     8.033579e+07\n",
       "12     9.702784e+07"
      ]
     },
     "execution_count": 43,
     "metadata": {},
     "output_type": "execute_result"
    },
    {
     "data": {
      "image/png": "[encoded data removed]",
      "text/plain": [
       "<Figure size 432x288 with 1 Axes>"
      ]
     },
     "metadata": {
      "needs_background": "light"
     },
     "output_type": "display_data"
    }
   ],
   "source": [
    "#Sales by Month\n",
    "total_sales_bydate = df_train.groupby(['month'])['sales'].agg([\"sum\"])\n",
    "total_sales_bydate.plot.bar(ylabel= 'Sales Amount in Dollars',xlabel='Month')\n",
    "total_sales_bydate"
   ]
  },
  {
   "cell_type": "code",
   "execution_count": 44,
   "id": "42fd4336",
   "metadata": {},
   "outputs": [
    {
     "data": {
      "text/plain": [
       "<AxesSubplot:xlabel='day_of_week'>"
      ]
     },
     "execution_count": 44,
     "metadata": {},
     "output_type": "execute_result"
    },
    {
     "data": {
      "image/png": "[encoded data removed]",
      "text/plain": [
       "<Figure size 432x288 with 1 Axes>"
      ]
     },
     "metadata": {
      "needs_background": "light"
     },
     "output_type": "display_data"
    }
   ],
   "source": [
    "\n",
    "total_sales_byday = df_train.groupby(['day_of_week'])['sales'].agg([\"sum\"])\n",
    "#total_sales_byday = df_train.groupby(['sales'])['day_of_week'].agg([\"sum\"])\n",
    "total_sales_byday = total_sales_byday.sort_index(axis =0)\n",
    "total_sales_byday.plot.bar()\n",
    "#(x=total_investment.index, y=total_investment.values, \n",
    "                        #  ylabel= 'Funding Amount in Dollars',xlabel='Funding Year')\n"
   ]
  },
  {
   "cell_type": "code",
   "execution_count": 45,
   "id": "e7bc3426",
   "metadata": {},
   "outputs": [
    {
     "data": {
      "text/html": [
       "<div>\n",
       "<style scoped>\n",
       "    .dataframe tbody tr th:only-of-type {\n",
       "        vertical-align: middle;\n",
       "    }\n",
       "\n",
       "    .dataframe tbody tr th {\n",
       "        vertical-align: top;\n",
       "    }\n",
       "\n",
       "    .dataframe thead th {\n",
       "        text-align: right;\n",
       "    }\n",
       "</style>\n",
       "<table border=\"1\" class=\"dataframe\">\n",
       "  <thead>\n",
       "    <tr style=\"text-align: right;\">\n",
       "      <th></th>\n",
       "      <th>mean</th>\n",
       "    </tr>\n",
       "    <tr>\n",
       "      <th>year</th>\n",
       "      <th></th>\n",
       "    </tr>\n",
       "  </thead>\n",
       "  <tbody>\n",
       "    <tr>\n",
       "      <th>2013</th>\n",
       "      <td>216.479530</td>\n",
       "    </tr>\n",
       "    <tr>\n",
       "      <th>2014</th>\n",
       "      <td>322.939786</td>\n",
       "    </tr>\n",
       "    <tr>\n",
       "      <th>2015</th>\n",
       "      <td>371.357193</td>\n",
       "    </tr>\n",
       "    <tr>\n",
       "      <th>2016</th>\n",
       "      <td>443.790297</td>\n",
       "    </tr>\n",
       "    <tr>\n",
       "      <th>2017</th>\n",
       "      <td>480.124466</td>\n",
       "    </tr>\n",
       "  </tbody>\n",
       "</table>\n",
       "</div>"
      ],
      "text/plain": [
       "            mean\n",
       "year            \n",
       "2013  216.479530\n",
       "2014  322.939786\n",
       "2015  371.357193\n",
       "2016  443.790297\n",
       "2017  480.124466"
      ]
     },
     "execution_count": 45,
     "metadata": {},
     "output_type": "execute_result"
    },
    {
     "data": {
      "image/png": "[encoded data removed]",
      "text/plain": [
       "<Figure size 432x288 with 1 Axes>"
      ]
     },
     "metadata": {
      "needs_background": "light"
     },
     "output_type": "display_data"
    }
   ],
   "source": [
    "total_sales = df_train.groupby(['year'])['sales'].agg([\"mean\"])\n",
    "total_sales.plot.bar()\n",
    "total_sales"
   ]
  },
  {
   "cell_type": "code",
   "execution_count": 46,
   "id": "6d621264",
   "metadata": {},
   "outputs": [
    {
     "data": {
      "image/png": "[encoded data removed]",
      "text/plain": [
       "<Figure size 432x288 with 1 Axes>"
      ]
     },
     "metadata": {
      "needs_background": "light"
     },
     "output_type": "display_data"
    },
    {
     "data": {
      "text/plain": [
       "2013    648648\n",
       "2014    648648\n",
       "2015    648648\n",
       "2016    650430\n",
       "2017    404514\n",
       "Name: year, dtype: int64"
      ]
     },
     "execution_count": 46,
     "metadata": {},
     "output_type": "execute_result"
    }
   ],
   "source": [
    "#volume of sales transaction/ number of sales transactions by year\n",
    "sales_count = df_train[\"year\"].value_counts(sort=False)\n",
    "#tran_count = transactions[\"transactions\"].value_counts(sort=False)\n",
    "sales_count.plot.bar()\n",
    "plt.show()\n",
    "sales_count\n",
    "#tran_count"
   ]
  },
  {
   "cell_type": "markdown",
   "id": "9947a0b0",
   "metadata": {},
   "source": [
    "The number of individuals sales are the same for all years except 2017 which is less than the rest of the years. Further analysis reveled that , the data for 2017 was collected between 1st january and August 15. This may account for the year having less number of sales transactions than the other years."
   ]
  },
  {
   "cell_type": "code",
   "execution_count": 47,
   "id": "6a68a040",
   "metadata": {},
   "outputs": [
    {
     "data": {
      "image/png": "[encoded data removed]",
      "text/plain": [
       "<Figure size 432x288 with 1 Axes>"
      ]
     },
     "metadata": {
      "needs_background": "light"
     },
     "output_type": "display_data"
    },
    {
     "data": {
      "text/plain": [
       "Quito            1000296\n",
       "Guayaquil         444576\n",
       "Santo Domingo     166716\n",
       "Cuenca            166716\n",
       "Latacunga         111144\n",
       "Manta             111144\n",
       "Machala           111144\n",
       "Ambato            111144\n",
       "Quevedo            55572\n",
       "Esmeraldas         55572\n",
       "Loja               55572\n",
       "Libertad           55572\n",
       "Playas             55572\n",
       "Daule              55572\n",
       "Babahoyo           55572\n",
       "Cayambe            55572\n",
       "Salinas            55572\n",
       "Puyo               55572\n",
       "Guaranda           55572\n",
       "Ibarra             55572\n",
       "Riobamba           55572\n",
       "El Carmen          55572\n",
       "Name: city, dtype: int64"
      ]
     },
     "execution_count": 47,
     "metadata": {},
     "output_type": "execute_result"
    }
   ],
   "source": [
    "#volume of transaction/ number of transactions by year\n",
    "#sales_count = df_train.groupby(['city'])['store_nbr'].value_counts()\n",
    "sales_count = df_train['city'].value_counts()\n",
    "#sales_count = df_train[\"year\"].value_counts(sort=False)\n",
    "#sales_count.plot.line(x=sales_counts.index, y=sales_counts.values)\n",
    "sales_count.plot.line()\n",
    "plt.show()\n",
    "sales_count"
   ]
  },
  {
   "cell_type": "code",
   "execution_count": null,
   "id": "b1baea0b",
   "metadata": {},
   "outputs": [],
   "source": []
  },
  {
   "cell_type": "code",
   "execution_count": null,
   "id": "7bb2017f",
   "metadata": {},
   "outputs": [],
   "source": []
  },
  {
   "cell_type": "code",
   "execution_count": 48,
   "id": "9d38ffdf",
   "metadata": {},
   "outputs": [
    {
     "data": {
      "text/html": [
       "<div>\n",
       "<style scoped>\n",
       "    .dataframe tbody tr th:only-of-type {\n",
       "        vertical-align: middle;\n",
       "    }\n",
       "\n",
       "    .dataframe tbody tr th {\n",
       "        vertical-align: top;\n",
       "    }\n",
       "\n",
       "    .dataframe thead th {\n",
       "        text-align: right;\n",
       "    }\n",
       "</style>\n",
       "<table border=\"1\" class=\"dataframe\">\n",
       "  <thead>\n",
       "    <tr style=\"text-align: right;\">\n",
       "      <th></th>\n",
       "      <th>sum</th>\n",
       "    </tr>\n",
       "    <tr>\n",
       "      <th>state</th>\n",
       "      <th></th>\n",
       "    </tr>\n",
       "  </thead>\n",
       "  <tbody>\n",
       "    <tr>\n",
       "      <th>Azuay</th>\n",
       "      <td>4.916860e+07</td>\n",
       "    </tr>\n",
       "    <tr>\n",
       "      <th>Bolivar</th>\n",
       "      <td>1.304951e+07</td>\n",
       "    </tr>\n",
       "    <tr>\n",
       "      <th>Chimborazo</th>\n",
       "      <td>1.138792e+07</td>\n",
       "    </tr>\n",
       "    <tr>\n",
       "      <th>Cotopaxi</th>\n",
       "      <td>2.118226e+07</td>\n",
       "    </tr>\n",
       "    <tr>\n",
       "      <th>El Oro</th>\n",
       "      <td>3.338680e+07</td>\n",
       "    </tr>\n",
       "    <tr>\n",
       "      <th>Esmeraldas</th>\n",
       "      <td>1.639169e+07</td>\n",
       "    </tr>\n",
       "    <tr>\n",
       "      <th>Guayas</th>\n",
       "      <td>1.651544e+08</td>\n",
       "    </tr>\n",
       "    <tr>\n",
       "      <th>Imbabura</th>\n",
       "      <td>1.145127e+07</td>\n",
       "    </tr>\n",
       "    <tr>\n",
       "      <th>Loja</th>\n",
       "      <td>1.886000e+07</td>\n",
       "    </tr>\n",
       "    <tr>\n",
       "      <th>Los Rios</th>\n",
       "      <td>3.192537e+07</td>\n",
       "    </tr>\n",
       "    <tr>\n",
       "      <th>Manabi</th>\n",
       "      <td>2.496982e+07</td>\n",
       "    </tr>\n",
       "    <tr>\n",
       "      <th>Pastaza</th>\n",
       "      <td>4.090202e+06</td>\n",
       "    </tr>\n",
       "    <tr>\n",
       "      <th>Pichincha</th>\n",
       "      <td>5.850674e+08</td>\n",
       "    </tr>\n",
       "    <tr>\n",
       "      <th>Santa Elena</th>\n",
       "      <td>1.142100e+07</td>\n",
       "    </tr>\n",
       "    <tr>\n",
       "      <th>Santo Domingo de los Tsachilas</th>\n",
       "      <td>3.583432e+07</td>\n",
       "    </tr>\n",
       "    <tr>\n",
       "      <th>Tungurahua</th>\n",
       "      <td>4.030440e+07</td>\n",
       "    </tr>\n",
       "  </tbody>\n",
       "</table>\n",
       "</div>"
      ],
      "text/plain": [
       "                                         sum\n",
       "state                                       \n",
       "Azuay                           4.916860e+07\n",
       "Bolivar                         1.304951e+07\n",
       "Chimborazo                      1.138792e+07\n",
       "Cotopaxi                        2.118226e+07\n",
       "El Oro                          3.338680e+07\n",
       "Esmeraldas                      1.639169e+07\n",
       "Guayas                          1.651544e+08\n",
       "Imbabura                        1.145127e+07\n",
       "Loja                            1.886000e+07\n",
       "Los Rios                        3.192537e+07\n",
       "Manabi                          2.496982e+07\n",
       "Pastaza                         4.090202e+06\n",
       "Pichincha                       5.850674e+08\n",
       "Santa Elena                     1.142100e+07\n",
       "Santo Domingo de los Tsachilas  3.583432e+07\n",
       "Tungurahua                      4.030440e+07"
      ]
     },
     "execution_count": 48,
     "metadata": {},
     "output_type": "execute_result"
    },
    {
     "data": {
      "image/png": "[encoded data removed]",
      "text/plain": [
       "<Figure size 432x288 with 1 Axes>"
      ]
     },
     "metadata": {
      "needs_background": "light"
     },
     "output_type": "display_data"
    }
   ],
   "source": [
    "#Sales by state\n",
    "total_sales_state = df_train.groupby(['state'])['sales'].agg([\"sum\"])\n",
    "\n",
    "total_sales_state = total_sales_state.sort_index()\n",
    "total_sales_state.head(20).plot.barh()\n",
    "\n",
    "total_sales_state"
   ]
  },
  {
   "cell_type": "code",
   "execution_count": 49,
   "id": "004b4498",
   "metadata": {},
   "outputs": [
    {
     "data": {
      "image/png": "[encoded data removed]",
      "text/plain": [
       "<Figure size 432x288 with 1 Axes>"
      ]
     },
     "metadata": {
      "needs_background": "light"
     },
     "output_type": "display_data"
    },
    {
     "data": {
      "text/plain": [
       "Quito            1000296\n",
       "Guayaquil         444576\n",
       "Santo Domingo     166716\n",
       "Cuenca            166716\n",
       "Latacunga         111144\n",
       "Manta             111144\n",
       "Machala           111144\n",
       "Ambato            111144\n",
       "Quevedo            55572\n",
       "Esmeraldas         55572\n",
       "Loja               55572\n",
       "Libertad           55572\n",
       "Playas             55572\n",
       "Daule              55572\n",
       "Babahoyo           55572\n",
       "Cayambe            55572\n",
       "Salinas            55572\n",
       "Puyo               55572\n",
       "Guaranda           55572\n",
       "Ibarra             55572\n",
       "Riobamba           55572\n",
       "El Carmen          55572\n",
       "Name: city, dtype: int64"
      ]
     },
     "execution_count": 49,
     "metadata": {},
     "output_type": "execute_result"
    }
   ],
   "source": [
    "#volume of transaction/ number of transactions by year\n",
    "#sales_count = df_train.groupby(['city'])['store_nbr'].value_counts()\n",
    "sales_count = df_train['city'].value_counts()\n",
    "#sales_count = df_train[\"year\"].value_counts(sort=False)\n",
    "#sales_count.plot.line(x=sales_counts.index, y=sales_counts.values)\n",
    "sales_count.plot.bar()\n",
    "plt.show()\n",
    "sales_count"
   ]
  },
  {
   "cell_type": "code",
   "execution_count": 50,
   "id": "cabe6155",
   "metadata": {},
   "outputs": [
    {
     "data": {
      "image/png": "[encoded data removed]",
      "text/plain": [
       "<Figure size 432x288 with 1 Axes>"
      ]
     },
     "metadata": {
      "needs_background": "light"
     },
     "output_type": "display_data"
    }
   ],
   "source": [
    "z = df_train['transactions']\n",
    "z.plot()\n",
    "plt.show()\n"
   ]
  },
  {
   "cell_type": "code",
   "execution_count": 51,
   "id": "387aca28",
   "metadata": {},
   "outputs": [
    {
     "data": {
      "text/plain": [
       "id              0\n",
       "week            0\n",
       "weekday         0\n",
       "day             0\n",
       "month           0\n",
       "year            0\n",
       "cluster         0\n",
       "type            0\n",
       "state           0\n",
       "city            0\n",
       "transactions    0\n",
       "onpromotion     0\n",
       "sales           0\n",
       "family          0\n",
       "store_nbr       0\n",
       "date            0\n",
       "quarter         0\n",
       "day_of_week     0\n",
       "dtype: int64"
      ]
     },
     "execution_count": 51,
     "metadata": {},
     "output_type": "execute_result"
    }
   ],
   "source": [
    "missing_values = df_train.isnull().sum().sort_values(ascending =True)\n",
    "missing_values"
   ]
  },
  {
   "cell_type": "code",
   "execution_count": 52,
   "id": "092c198b",
   "metadata": {},
   "outputs": [
    {
     "data": {
      "image/png": "[encoded data removed]",
      "text/plain": [
       "<Figure size 432x288 with 1 Axes>"
      ]
     },
     "metadata": {
      "needs_background": "light"
     },
     "output_type": "display_data"
    }
   ],
   "source": [
    "train.plot(x=\"store_nbr\", y=\"sales\")\n",
    "plt.show()"
   ]
  },
  {
   "cell_type": "code",
   "execution_count": 53,
   "id": "3bd31a96",
   "metadata": {},
   "outputs": [
    {
     "data": {
      "text/html": [
       "<div>\n",
       "<style scoped>\n",
       "    .dataframe tbody tr th:only-of-type {\n",
       "        vertical-align: middle;\n",
       "    }\n",
       "\n",
       "    .dataframe tbody tr th {\n",
       "        vertical-align: top;\n",
       "    }\n",
       "\n",
       "    .dataframe thead th {\n",
       "        text-align: right;\n",
       "    }\n",
       "</style>\n",
       "<table border=\"1\" class=\"dataframe\">\n",
       "  <thead>\n",
       "    <tr style=\"text-align: right;\">\n",
       "      <th></th>\n",
       "      <th>id</th>\n",
       "      <th>date</th>\n",
       "      <th>store_nbr</th>\n",
       "      <th>family</th>\n",
       "      <th>sales</th>\n",
       "      <th>onpromotion</th>\n",
       "      <th>sales_date</th>\n",
       "    </tr>\n",
       "  </thead>\n",
       "  <tbody>\n",
       "    <tr>\n",
       "      <th>0</th>\n",
       "      <td>0</td>\n",
       "      <td>2013-01-01</td>\n",
       "      <td>1</td>\n",
       "      <td>AUTOMOTIVE</td>\n",
       "      <td>0.0</td>\n",
       "      <td>0</td>\n",
       "      <td>2013-01-01</td>\n",
       "    </tr>\n",
       "    <tr>\n",
       "      <th>1</th>\n",
       "      <td>1</td>\n",
       "      <td>2013-01-01</td>\n",
       "      <td>1</td>\n",
       "      <td>BABY CARE</td>\n",
       "      <td>0.0</td>\n",
       "      <td>0</td>\n",
       "      <td>2013-01-01</td>\n",
       "    </tr>\n",
       "    <tr>\n",
       "      <th>2</th>\n",
       "      <td>2</td>\n",
       "      <td>2013-01-01</td>\n",
       "      <td>1</td>\n",
       "      <td>BEAUTY</td>\n",
       "      <td>0.0</td>\n",
       "      <td>0</td>\n",
       "      <td>2013-01-01</td>\n",
       "    </tr>\n",
       "    <tr>\n",
       "      <th>3</th>\n",
       "      <td>3</td>\n",
       "      <td>2013-01-01</td>\n",
       "      <td>1</td>\n",
       "      <td>BEVERAGES</td>\n",
       "      <td>0.0</td>\n",
       "      <td>0</td>\n",
       "      <td>2013-01-01</td>\n",
       "    </tr>\n",
       "    <tr>\n",
       "      <th>4</th>\n",
       "      <td>4</td>\n",
       "      <td>2013-01-01</td>\n",
       "      <td>1</td>\n",
       "      <td>BOOKS</td>\n",
       "      <td>0.0</td>\n",
       "      <td>0</td>\n",
       "      <td>2013-01-01</td>\n",
       "    </tr>\n",
       "  </tbody>\n",
       "</table>\n",
       "</div>"
      ],
      "text/plain": [
       "   id        date  store_nbr      family  sales  onpromotion  sales_date\n",
       "0   0  2013-01-01          1  AUTOMOTIVE    0.0            0  2013-01-01\n",
       "1   1  2013-01-01          1   BABY CARE    0.0            0  2013-01-01\n",
       "2   2  2013-01-01          1      BEAUTY    0.0            0  2013-01-01\n",
       "3   3  2013-01-01          1   BEVERAGES    0.0            0  2013-01-01\n",
       "4   4  2013-01-01          1       BOOKS    0.0            0  2013-01-01"
      ]
     },
     "execution_count": 53,
     "metadata": {},
     "output_type": "execute_result"
    }
   ],
   "source": [
    "train.head()"
   ]
  },
  {
   "cell_type": "code",
   "execution_count": 54,
   "id": "f4bf69dd",
   "metadata": {},
   "outputs": [
    {
     "data": {
      "text/html": [
       "<div>\n",
       "<style scoped>\n",
       "    .dataframe tbody tr th:only-of-type {\n",
       "        vertical-align: middle;\n",
       "    }\n",
       "\n",
       "    .dataframe tbody tr th {\n",
       "        vertical-align: top;\n",
       "    }\n",
       "\n",
       "    .dataframe thead th {\n",
       "        text-align: right;\n",
       "    }\n",
       "</style>\n",
       "<table border=\"1\" class=\"dataframe\">\n",
       "  <thead>\n",
       "    <tr style=\"text-align: right;\">\n",
       "      <th></th>\n",
       "      <th>id</th>\n",
       "      <th>date</th>\n",
       "      <th>store_nbr</th>\n",
       "      <th>family</th>\n",
       "      <th>sales</th>\n",
       "      <th>onpromotion</th>\n",
       "      <th>sales_date</th>\n",
       "      <th>type</th>\n",
       "      <th>locale</th>\n",
       "      <th>locale_name</th>\n",
       "      <th>description</th>\n",
       "      <th>transferred</th>\n",
       "    </tr>\n",
       "  </thead>\n",
       "  <tbody>\n",
       "    <tr>\n",
       "      <th>0</th>\n",
       "      <td>0</td>\n",
       "      <td>2013-01-01</td>\n",
       "      <td>1</td>\n",
       "      <td>AUTOMOTIVE</td>\n",
       "      <td>0.0</td>\n",
       "      <td>0</td>\n",
       "      <td>2013-01-01</td>\n",
       "      <td>Holiday</td>\n",
       "      <td>National</td>\n",
       "      <td>Ecuador</td>\n",
       "      <td>Primer dia del ano</td>\n",
       "      <td>False</td>\n",
       "    </tr>\n",
       "    <tr>\n",
       "      <th>1</th>\n",
       "      <td>1</td>\n",
       "      <td>2013-01-01</td>\n",
       "      <td>1</td>\n",
       "      <td>BABY CARE</td>\n",
       "      <td>0.0</td>\n",
       "      <td>0</td>\n",
       "      <td>2013-01-01</td>\n",
       "      <td>Holiday</td>\n",
       "      <td>National</td>\n",
       "      <td>Ecuador</td>\n",
       "      <td>Primer dia del ano</td>\n",
       "      <td>False</td>\n",
       "    </tr>\n",
       "    <tr>\n",
       "      <th>2</th>\n",
       "      <td>2</td>\n",
       "      <td>2013-01-01</td>\n",
       "      <td>1</td>\n",
       "      <td>BEAUTY</td>\n",
       "      <td>0.0</td>\n",
       "      <td>0</td>\n",
       "      <td>2013-01-01</td>\n",
       "      <td>Holiday</td>\n",
       "      <td>National</td>\n",
       "      <td>Ecuador</td>\n",
       "      <td>Primer dia del ano</td>\n",
       "      <td>False</td>\n",
       "    </tr>\n",
       "    <tr>\n",
       "      <th>3</th>\n",
       "      <td>3</td>\n",
       "      <td>2013-01-01</td>\n",
       "      <td>1</td>\n",
       "      <td>BEVERAGES</td>\n",
       "      <td>0.0</td>\n",
       "      <td>0</td>\n",
       "      <td>2013-01-01</td>\n",
       "      <td>Holiday</td>\n",
       "      <td>National</td>\n",
       "      <td>Ecuador</td>\n",
       "      <td>Primer dia del ano</td>\n",
       "      <td>False</td>\n",
       "    </tr>\n",
       "    <tr>\n",
       "      <th>4</th>\n",
       "      <td>4</td>\n",
       "      <td>2013-01-01</td>\n",
       "      <td>1</td>\n",
       "      <td>BOOKS</td>\n",
       "      <td>0.0</td>\n",
       "      <td>0</td>\n",
       "      <td>2013-01-01</td>\n",
       "      <td>Holiday</td>\n",
       "      <td>National</td>\n",
       "      <td>Ecuador</td>\n",
       "      <td>Primer dia del ano</td>\n",
       "      <td>False</td>\n",
       "    </tr>\n",
       "  </tbody>\n",
       "</table>\n",
       "</div>"
      ],
      "text/plain": [
       "   id        date  store_nbr      family  sales  onpromotion  sales_date  \\\n",
       "0   0  2013-01-01          1  AUTOMOTIVE    0.0            0  2013-01-01   \n",
       "1   1  2013-01-01          1   BABY CARE    0.0            0  2013-01-01   \n",
       "2   2  2013-01-01          1      BEAUTY    0.0            0  2013-01-01   \n",
       "3   3  2013-01-01          1   BEVERAGES    0.0            0  2013-01-01   \n",
       "4   4  2013-01-01          1       BOOKS    0.0            0  2013-01-01   \n",
       "\n",
       "      type    locale locale_name         description transferred  \n",
       "0  Holiday  National     Ecuador  Primer dia del ano       False  \n",
       "1  Holiday  National     Ecuador  Primer dia del ano       False  \n",
       "2  Holiday  National     Ecuador  Primer dia del ano       False  \n",
       "3  Holiday  National     Ecuador  Primer dia del ano       False  \n",
       "4  Holiday  National     Ecuador  Primer dia del ano       False  "
      ]
     },
     "execution_count": 54,
     "metadata": {},
     "output_type": "execute_result"
    }
   ],
   "source": [
    "#merging the 5 datasets\n",
    "df_train1 = train.merge(transactions, on = ['date', 'store_nbr'], how='left')\n",
    "df_train1 = df_train1.merge(stores, on = 'store_nbr', how='left')\n",
    "df_train1 = df_train1.merge(oil, on = 'date', how='left')\n",
    "df_train1 = train.merge(holidays, on = 'date', how='left')\n",
    "#df_train1 = df_train1.rename(columns = {\"type_x\" : \"holiday_type\", \"type_y\" : \"store_type\"})\n",
    "df_train1.head()\n"
   ]
  },
  {
   "cell_type": "code",
   "execution_count": 55,
   "id": "e2af049e",
   "metadata": {},
   "outputs": [
    {
     "data": {
      "text/html": [
       "<div>\n",
       "<style scoped>\n",
       "    .dataframe tbody tr th:only-of-type {\n",
       "        vertical-align: middle;\n",
       "    }\n",
       "\n",
       "    .dataframe tbody tr th {\n",
       "        vertical-align: top;\n",
       "    }\n",
       "\n",
       "    .dataframe thead th {\n",
       "        text-align: right;\n",
       "    }\n",
       "</style>\n",
       "<table border=\"1\" class=\"dataframe\">\n",
       "  <thead>\n",
       "    <tr style=\"text-align: right;\">\n",
       "      <th></th>\n",
       "      <th>id</th>\n",
       "      <th>date</th>\n",
       "      <th>store_nbr</th>\n",
       "      <th>family</th>\n",
       "      <th>sales</th>\n",
       "      <th>onpromotion</th>\n",
       "      <th>sales_date</th>\n",
       "      <th>type</th>\n",
       "      <th>locale</th>\n",
       "      <th>locale_name</th>\n",
       "      <th>description</th>\n",
       "      <th>transferred</th>\n",
       "      <th>year</th>\n",
       "      <th>month</th>\n",
       "      <th>week</th>\n",
       "      <th>quarter</th>\n",
       "      <th>day_of_week</th>\n",
       "    </tr>\n",
       "  </thead>\n",
       "  <tbody>\n",
       "    <tr>\n",
       "      <th>0</th>\n",
       "      <td>0</td>\n",
       "      <td>2013-01-01</td>\n",
       "      <td>1</td>\n",
       "      <td>AUTOMOTIVE</td>\n",
       "      <td>0.0</td>\n",
       "      <td>0</td>\n",
       "      <td>2013-01-01</td>\n",
       "      <td>Holiday</td>\n",
       "      <td>National</td>\n",
       "      <td>Ecuador</td>\n",
       "      <td>Primer dia del ano</td>\n",
       "      <td>False</td>\n",
       "      <td>2013</td>\n",
       "      <td>1</td>\n",
       "      <td>1</td>\n",
       "      <td>1</td>\n",
       "      <td>Tuesday</td>\n",
       "    </tr>\n",
       "    <tr>\n",
       "      <th>1</th>\n",
       "      <td>1</td>\n",
       "      <td>2013-01-01</td>\n",
       "      <td>1</td>\n",
       "      <td>BABY CARE</td>\n",
       "      <td>0.0</td>\n",
       "      <td>0</td>\n",
       "      <td>2013-01-01</td>\n",
       "      <td>Holiday</td>\n",
       "      <td>National</td>\n",
       "      <td>Ecuador</td>\n",
       "      <td>Primer dia del ano</td>\n",
       "      <td>False</td>\n",
       "      <td>2013</td>\n",
       "      <td>1</td>\n",
       "      <td>1</td>\n",
       "      <td>1</td>\n",
       "      <td>Tuesday</td>\n",
       "    </tr>\n",
       "  </tbody>\n",
       "</table>\n",
       "</div>"
      ],
      "text/plain": [
       "   id       date  store_nbr      family  sales  onpromotion  sales_date  \\\n",
       "0   0 2013-01-01          1  AUTOMOTIVE    0.0            0  2013-01-01   \n",
       "1   1 2013-01-01          1   BABY CARE    0.0            0  2013-01-01   \n",
       "\n",
       "      type    locale locale_name         description transferred  year  month  \\\n",
       "0  Holiday  National     Ecuador  Primer dia del ano       False  2013      1   \n",
       "1  Holiday  National     Ecuador  Primer dia del ano       False  2013      1   \n",
       "\n",
       "   week  quarter day_of_week  \n",
       "0     1        1     Tuesday  \n",
       "1     1        1     Tuesday  "
      ]
     },
     "execution_count": 55,
     "metadata": {},
     "output_type": "execute_result"
    }
   ],
   "source": [
    "#Breaking the year column into day, month, year, day of the week, and week so we can aggregate the data by those parameters\n",
    "df_train1['date'] = pd.to_datetime(df_train1['date'])\n",
    "df_train1['year'] = df_train1['date'].dt.year\n",
    "df_train1['month'] = df_train1['date'].dt.month\n",
    "df_train1['week'] = df_train1['date'].dt.isocalendar().week\n",
    "df_train1['quarter'] = df_train1['date'].dt.quarter\n",
    "df_train1['day_of_week'] = df_train1['date'].dt.day_name()\n",
    "df_train1[:2]"
   ]
  },
  {
   "cell_type": "code",
   "execution_count": 56,
   "id": "5acfa116",
   "metadata": {},
   "outputs": [
    {
     "data": {
      "text/plain": [
       "2013    657558\n",
       "2014    659340\n",
       "2015    655776\n",
       "2016    670032\n",
       "2017    411642\n",
       "Name: year, dtype: int64"
      ]
     },
     "execution_count": 56,
     "metadata": {},
     "output_type": "execute_result"
    }
   ],
   "source": [
    "a = df_train1[\"year\"].value_counts(sort=False)\n",
    "a\n",
    "#plt.show()"
   ]
  },
  {
   "cell_type": "code",
   "execution_count": 57,
   "id": "26ac934c",
   "metadata": {},
   "outputs": [
    {
     "data": {
      "text/plain": [
       "Quito            18\n",
       "Santo Domingo     3\n",
       "Cayambe           1\n",
       "Latacunga         2\n",
       "Riobamba          1\n",
       "Ibarra            1\n",
       "Guaranda          1\n",
       "Puyo              1\n",
       "Ambato            2\n",
       "Guayaquil         8\n",
       "Salinas           1\n",
       "Daule             1\n",
       "Babahoyo          1\n",
       "Quevedo           1\n",
       "Playas            1\n",
       "Libertad          1\n",
       "Cuenca            3\n",
       "Loja              1\n",
       "Machala           2\n",
       "Esmeraldas        1\n",
       "Manta             2\n",
       "El Carmen         1\n",
       "Name: city, dtype: int64"
      ]
     },
     "execution_count": 57,
     "metadata": {},
     "output_type": "execute_result"
    }
   ],
   "source": [
    "#b = df_train1[\"store_nbr\"].unique()\n",
    "b= stores[\"city\"].value_counts(sort=False)\n",
    "#b = stores[\"city\"].unique()\n",
    "b\n"
   ]
  },
  {
   "cell_type": "code",
   "execution_count": 58,
   "id": "13ea0ba8",
   "metadata": {},
   "outputs": [
    {
     "data": {
      "text/plain": [
       "id                   0\n",
       "week                 0\n",
       "month                0\n",
       "year                 0\n",
       "quarter              0\n",
       "sales_date           0\n",
       "day_of_week          0\n",
       "sales                0\n",
       "family               0\n",
       "store_nbr            0\n",
       "date                 0\n",
       "onpromotion          0\n",
       "type           2551824\n",
       "locale_name    2551824\n",
       "description    2551824\n",
       "transferred    2551824\n",
       "locale         2551824\n",
       "dtype: int64"
      ]
     },
     "execution_count": 58,
     "metadata": {},
     "output_type": "execute_result"
    }
   ],
   "source": [
    "missing_values = df_train1.isnull().sum().sort_values(ascending =True)\n",
    "missing_values"
   ]
  },
  {
   "cell_type": "code",
   "execution_count": 59,
   "id": "b0e5e495",
   "metadata": {},
   "outputs": [
    {
     "data": {
      "text/html": [
       "<div>\n",
       "<style scoped>\n",
       "    .dataframe tbody tr th:only-of-type {\n",
       "        vertical-align: middle;\n",
       "    }\n",
       "\n",
       "    .dataframe tbody tr th {\n",
       "        vertical-align: top;\n",
       "    }\n",
       "\n",
       "    .dataframe thead th {\n",
       "        text-align: right;\n",
       "    }\n",
       "</style>\n",
       "<table border=\"1\" class=\"dataframe\">\n",
       "  <thead>\n",
       "    <tr style=\"text-align: right;\">\n",
       "      <th></th>\n",
       "      <th>id</th>\n",
       "      <th>date</th>\n",
       "      <th>store_nbr</th>\n",
       "      <th>family</th>\n",
       "      <th>sales</th>\n",
       "      <th>onpromotion</th>\n",
       "      <th>sales_date</th>\n",
       "      <th>type_x</th>\n",
       "      <th>locale</th>\n",
       "      <th>locale_name</th>\n",
       "      <th>description</th>\n",
       "      <th>transferred</th>\n",
       "      <th>city</th>\n",
       "      <th>state</th>\n",
       "      <th>type_y</th>\n",
       "      <th>cluster</th>\n",
       "    </tr>\n",
       "  </thead>\n",
       "  <tbody>\n",
       "    <tr>\n",
       "      <th>0</th>\n",
       "      <td>0</td>\n",
       "      <td>2013-01-01</td>\n",
       "      <td>1</td>\n",
       "      <td>AUTOMOTIVE</td>\n",
       "      <td>0.000</td>\n",
       "      <td>0</td>\n",
       "      <td>2013-01-01</td>\n",
       "      <td>Holiday</td>\n",
       "      <td>National</td>\n",
       "      <td>Ecuador</td>\n",
       "      <td>Primer dia del ano</td>\n",
       "      <td>False</td>\n",
       "      <td>Quito</td>\n",
       "      <td>Pichincha</td>\n",
       "      <td>D</td>\n",
       "      <td>13</td>\n",
       "    </tr>\n",
       "    <tr>\n",
       "      <th>1</th>\n",
       "      <td>1</td>\n",
       "      <td>2013-01-01</td>\n",
       "      <td>1</td>\n",
       "      <td>BABY CARE</td>\n",
       "      <td>0.000</td>\n",
       "      <td>0</td>\n",
       "      <td>2013-01-01</td>\n",
       "      <td>Holiday</td>\n",
       "      <td>National</td>\n",
       "      <td>Ecuador</td>\n",
       "      <td>Primer dia del ano</td>\n",
       "      <td>False</td>\n",
       "      <td>Quito</td>\n",
       "      <td>Pichincha</td>\n",
       "      <td>D</td>\n",
       "      <td>13</td>\n",
       "    </tr>\n",
       "    <tr>\n",
       "      <th>2</th>\n",
       "      <td>2</td>\n",
       "      <td>2013-01-01</td>\n",
       "      <td>1</td>\n",
       "      <td>BEAUTY</td>\n",
       "      <td>0.000</td>\n",
       "      <td>0</td>\n",
       "      <td>2013-01-01</td>\n",
       "      <td>Holiday</td>\n",
       "      <td>National</td>\n",
       "      <td>Ecuador</td>\n",
       "      <td>Primer dia del ano</td>\n",
       "      <td>False</td>\n",
       "      <td>Quito</td>\n",
       "      <td>Pichincha</td>\n",
       "      <td>D</td>\n",
       "      <td>13</td>\n",
       "    </tr>\n",
       "    <tr>\n",
       "      <th>3</th>\n",
       "      <td>3</td>\n",
       "      <td>2013-01-01</td>\n",
       "      <td>1</td>\n",
       "      <td>BEVERAGES</td>\n",
       "      <td>0.000</td>\n",
       "      <td>0</td>\n",
       "      <td>2013-01-01</td>\n",
       "      <td>Holiday</td>\n",
       "      <td>National</td>\n",
       "      <td>Ecuador</td>\n",
       "      <td>Primer dia del ano</td>\n",
       "      <td>False</td>\n",
       "      <td>Quito</td>\n",
       "      <td>Pichincha</td>\n",
       "      <td>D</td>\n",
       "      <td>13</td>\n",
       "    </tr>\n",
       "    <tr>\n",
       "      <th>4</th>\n",
       "      <td>4</td>\n",
       "      <td>2013-01-01</td>\n",
       "      <td>1</td>\n",
       "      <td>BOOKS</td>\n",
       "      <td>0.000</td>\n",
       "      <td>0</td>\n",
       "      <td>2013-01-01</td>\n",
       "      <td>Holiday</td>\n",
       "      <td>National</td>\n",
       "      <td>Ecuador</td>\n",
       "      <td>Primer dia del ano</td>\n",
       "      <td>False</td>\n",
       "      <td>Quito</td>\n",
       "      <td>Pichincha</td>\n",
       "      <td>D</td>\n",
       "      <td>13</td>\n",
       "    </tr>\n",
       "    <tr>\n",
       "      <th>...</th>\n",
       "      <td>...</td>\n",
       "      <td>...</td>\n",
       "      <td>...</td>\n",
       "      <td>...</td>\n",
       "      <td>...</td>\n",
       "      <td>...</td>\n",
       "      <td>...</td>\n",
       "      <td>...</td>\n",
       "      <td>...</td>\n",
       "      <td>...</td>\n",
       "      <td>...</td>\n",
       "      <td>...</td>\n",
       "      <td>...</td>\n",
       "      <td>...</td>\n",
       "      <td>...</td>\n",
       "      <td>...</td>\n",
       "    </tr>\n",
       "    <tr>\n",
       "      <th>3054343</th>\n",
       "      <td>3000883</td>\n",
       "      <td>2017-08-15</td>\n",
       "      <td>9</td>\n",
       "      <td>POULTRY</td>\n",
       "      <td>438.133</td>\n",
       "      <td>0</td>\n",
       "      <td>2017-08-15</td>\n",
       "      <td>Holiday</td>\n",
       "      <td>Local</td>\n",
       "      <td>Riobamba</td>\n",
       "      <td>Fundacion de Riobamba</td>\n",
       "      <td>False</td>\n",
       "      <td>Quito</td>\n",
       "      <td>Pichincha</td>\n",
       "      <td>B</td>\n",
       "      <td>6</td>\n",
       "    </tr>\n",
       "    <tr>\n",
       "      <th>3054344</th>\n",
       "      <td>3000884</td>\n",
       "      <td>2017-08-15</td>\n",
       "      <td>9</td>\n",
       "      <td>PREPARED FOODS</td>\n",
       "      <td>154.553</td>\n",
       "      <td>1</td>\n",
       "      <td>2017-08-15</td>\n",
       "      <td>Holiday</td>\n",
       "      <td>Local</td>\n",
       "      <td>Riobamba</td>\n",
       "      <td>Fundacion de Riobamba</td>\n",
       "      <td>False</td>\n",
       "      <td>Quito</td>\n",
       "      <td>Pichincha</td>\n",
       "      <td>B</td>\n",
       "      <td>6</td>\n",
       "    </tr>\n",
       "    <tr>\n",
       "      <th>3054345</th>\n",
       "      <td>3000885</td>\n",
       "      <td>2017-08-15</td>\n",
       "      <td>9</td>\n",
       "      <td>PRODUCE</td>\n",
       "      <td>2419.729</td>\n",
       "      <td>148</td>\n",
       "      <td>2017-08-15</td>\n",
       "      <td>Holiday</td>\n",
       "      <td>Local</td>\n",
       "      <td>Riobamba</td>\n",
       "      <td>Fundacion de Riobamba</td>\n",
       "      <td>False</td>\n",
       "      <td>Quito</td>\n",
       "      <td>Pichincha</td>\n",
       "      <td>B</td>\n",
       "      <td>6</td>\n",
       "    </tr>\n",
       "    <tr>\n",
       "      <th>3054346</th>\n",
       "      <td>3000886</td>\n",
       "      <td>2017-08-15</td>\n",
       "      <td>9</td>\n",
       "      <td>SCHOOL AND OFFICE SUPPLIES</td>\n",
       "      <td>121.000</td>\n",
       "      <td>8</td>\n",
       "      <td>2017-08-15</td>\n",
       "      <td>Holiday</td>\n",
       "      <td>Local</td>\n",
       "      <td>Riobamba</td>\n",
       "      <td>Fundacion de Riobamba</td>\n",
       "      <td>False</td>\n",
       "      <td>Quito</td>\n",
       "      <td>Pichincha</td>\n",
       "      <td>B</td>\n",
       "      <td>6</td>\n",
       "    </tr>\n",
       "    <tr>\n",
       "      <th>3054347</th>\n",
       "      <td>3000887</td>\n",
       "      <td>2017-08-15</td>\n",
       "      <td>9</td>\n",
       "      <td>SEAFOOD</td>\n",
       "      <td>16.000</td>\n",
       "      <td>0</td>\n",
       "      <td>2017-08-15</td>\n",
       "      <td>Holiday</td>\n",
       "      <td>Local</td>\n",
       "      <td>Riobamba</td>\n",
       "      <td>Fundacion de Riobamba</td>\n",
       "      <td>False</td>\n",
       "      <td>Quito</td>\n",
       "      <td>Pichincha</td>\n",
       "      <td>B</td>\n",
       "      <td>6</td>\n",
       "    </tr>\n",
       "  </tbody>\n",
       "</table>\n",
       "<p>3054348 rows × 16 columns</p>\n",
       "</div>"
      ],
      "text/plain": [
       "              id        date  store_nbr                      family     sales  \\\n",
       "0              0  2013-01-01          1                  AUTOMOTIVE     0.000   \n",
       "1              1  2013-01-01          1                   BABY CARE     0.000   \n",
       "2              2  2013-01-01          1                      BEAUTY     0.000   \n",
       "3              3  2013-01-01          1                   BEVERAGES     0.000   \n",
       "4              4  2013-01-01          1                       BOOKS     0.000   \n",
       "...          ...         ...        ...                         ...       ...   \n",
       "3054343  3000883  2017-08-15          9                     POULTRY   438.133   \n",
       "3054344  3000884  2017-08-15          9              PREPARED FOODS   154.553   \n",
       "3054345  3000885  2017-08-15          9                     PRODUCE  2419.729   \n",
       "3054346  3000886  2017-08-15          9  SCHOOL AND OFFICE SUPPLIES   121.000   \n",
       "3054347  3000887  2017-08-15          9                     SEAFOOD    16.000   \n",
       "\n",
       "         onpromotion  sales_date   type_x    locale locale_name  \\\n",
       "0                  0  2013-01-01  Holiday  National     Ecuador   \n",
       "1                  0  2013-01-01  Holiday  National     Ecuador   \n",
       "2                  0  2013-01-01  Holiday  National     Ecuador   \n",
       "3                  0  2013-01-01  Holiday  National     Ecuador   \n",
       "4                  0  2013-01-01  Holiday  National     Ecuador   \n",
       "...              ...         ...      ...       ...         ...   \n",
       "3054343            0  2017-08-15  Holiday     Local    Riobamba   \n",
       "3054344            1  2017-08-15  Holiday     Local    Riobamba   \n",
       "3054345          148  2017-08-15  Holiday     Local    Riobamba   \n",
       "3054346            8  2017-08-15  Holiday     Local    Riobamba   \n",
       "3054347            0  2017-08-15  Holiday     Local    Riobamba   \n",
       "\n",
       "                   description transferred   city      state type_y  cluster  \n",
       "0           Primer dia del ano       False  Quito  Pichincha      D       13  \n",
       "1           Primer dia del ano       False  Quito  Pichincha      D       13  \n",
       "2           Primer dia del ano       False  Quito  Pichincha      D       13  \n",
       "3           Primer dia del ano       False  Quito  Pichincha      D       13  \n",
       "4           Primer dia del ano       False  Quito  Pichincha      D       13  \n",
       "...                        ...         ...    ...        ...    ...      ...  \n",
       "3054343  Fundacion de Riobamba       False  Quito  Pichincha      B        6  \n",
       "3054344  Fundacion de Riobamba       False  Quito  Pichincha      B        6  \n",
       "3054345  Fundacion de Riobamba       False  Quito  Pichincha      B        6  \n",
       "3054346  Fundacion de Riobamba       False  Quito  Pichincha      B        6  \n",
       "3054347  Fundacion de Riobamba       False  Quito  Pichincha      B        6  \n",
       "\n",
       "[3054348 rows x 16 columns]"
      ]
     },
     "execution_count": 59,
     "metadata": {},
     "output_type": "execute_result"
    }
   ],
   "source": [
    "#merging the 5 dataset\n",
    "dfs = train\n",
    "df1 = dfs.merge(holidays, on = 'date', how='left')\n",
    "df1 = df1.merge(stores, on = 'store_nbr', how='left')\n",
    "df1\n"
   ]
  },
  {
   "cell_type": "code",
   "execution_count": 60,
   "id": "3b5201b4",
   "metadata": {},
   "outputs": [
    {
     "data": {
      "text/plain": [
       "id                   0\n",
       "date                 0\n",
       "store_nbr            0\n",
       "family               0\n",
       "sales                0\n",
       "onpromotion          0\n",
       "sales_date           0\n",
       "city                 0\n",
       "state                0\n",
       "type_y               0\n",
       "cluster              0\n",
       "type_x         2551824\n",
       "locale         2551824\n",
       "locale_name    2551824\n",
       "description    2551824\n",
       "transferred    2551824\n",
       "dtype: int64"
      ]
     },
     "execution_count": 60,
     "metadata": {},
     "output_type": "execute_result"
    }
   ],
   "source": [
    "missing_values = df1.isnull().sum().sort_values(ascending =True)\n",
    "missing_values.head(20)"
   ]
  },
  {
   "cell_type": "code",
   "execution_count": 61,
   "id": "73e7e9cc",
   "metadata": {},
   "outputs": [
    {
     "data": {
      "text/html": [
       "<div>\n",
       "<style scoped>\n",
       "    .dataframe tbody tr th:only-of-type {\n",
       "        vertical-align: middle;\n",
       "    }\n",
       "\n",
       "    .dataframe tbody tr th {\n",
       "        vertical-align: top;\n",
       "    }\n",
       "\n",
       "    .dataframe thead th {\n",
       "        text-align: right;\n",
       "    }\n",
       "</style>\n",
       "<table border=\"1\" class=\"dataframe\">\n",
       "  <thead>\n",
       "    <tr style=\"text-align: right;\">\n",
       "      <th></th>\n",
       "      <th>id</th>\n",
       "      <th>date</th>\n",
       "      <th>store_nbr</th>\n",
       "      <th>family</th>\n",
       "      <th>sales</th>\n",
       "      <th>onpromotion</th>\n",
       "      <th>sales_date</th>\n",
       "      <th>type_x</th>\n",
       "      <th>locale</th>\n",
       "      <th>locale_name</th>\n",
       "      <th>description</th>\n",
       "      <th>transferred</th>\n",
       "      <th>city</th>\n",
       "      <th>state</th>\n",
       "      <th>type_y</th>\n",
       "      <th>cluster</th>\n",
       "    </tr>\n",
       "  </thead>\n",
       "  <tbody>\n",
       "  </tbody>\n",
       "</table>\n",
       "</div>"
      ],
      "text/plain": [
       "Empty DataFrame\n",
       "Columns: [id, date, store_nbr, family, sales, onpromotion, sales_date, type_x, locale, locale_name, description, transferred, city, state, type_y, cluster]\n",
       "Index: []"
      ]
     },
     "execution_count": 61,
     "metadata": {},
     "output_type": "execute_result"
    }
   ],
   "source": [
    "#Lets have a look at the missing data in the sector column \n",
    "nan_values = df1[df1['sales'].isna()]\n",
    "nan_values"
   ]
  },
  {
   "cell_type": "code",
   "execution_count": 62,
   "id": "8572cae0",
   "metadata": {},
   "outputs": [
    {
     "data": {
      "text/html": [
       "<div>\n",
       "<style scoped>\n",
       "    .dataframe tbody tr th:only-of-type {\n",
       "        vertical-align: middle;\n",
       "    }\n",
       "\n",
       "    .dataframe tbody tr th {\n",
       "        vertical-align: top;\n",
       "    }\n",
       "\n",
       "    .dataframe thead th {\n",
       "        text-align: right;\n",
       "    }\n",
       "</style>\n",
       "<table border=\"1\" class=\"dataframe\">\n",
       "  <thead>\n",
       "    <tr style=\"text-align: right;\">\n",
       "      <th></th>\n",
       "      <th>id</th>\n",
       "      <th>date</th>\n",
       "      <th>store_nbr</th>\n",
       "      <th>family</th>\n",
       "      <th>sales</th>\n",
       "      <th>onpromotion</th>\n",
       "      <th>sales_date</th>\n",
       "      <th>type_x</th>\n",
       "      <th>locale</th>\n",
       "      <th>locale_name</th>\n",
       "      <th>description</th>\n",
       "      <th>transferred</th>\n",
       "      <th>city</th>\n",
       "      <th>state</th>\n",
       "      <th>type_y</th>\n",
       "      <th>cluster</th>\n",
       "    </tr>\n",
       "  </thead>\n",
       "  <tbody>\n",
       "  </tbody>\n",
       "</table>\n",
       "</div>"
      ],
      "text/plain": [
       "Empty DataFrame\n",
       "Columns: [id, date, store_nbr, family, sales, onpromotion, sales_date, type_x, locale, locale_name, description, transferred, city, state, type_y, cluster]\n",
       "Index: []"
      ]
     },
     "execution_count": 62,
     "metadata": {},
     "output_type": "execute_result"
    }
   ],
   "source": [
    "#Max value and date for 2016\n",
    "df1.loc[df1['sales'] == \"2017-01-15\"]"
   ]
  },
  {
   "cell_type": "code",
   "execution_count": 63,
   "id": "a559228c",
   "metadata": {},
   "outputs": [
    {
     "name": "stdout",
     "output_type": "stream",
     "text": [
      "<class 'pandas.core.frame.DataFrame'>\n",
      "Int64Index: 502524 entries, 0 to 3054347\n",
      "Data columns (total 16 columns):\n",
      " #   Column       Non-Null Count   Dtype  \n",
      "---  ------       --------------   -----  \n",
      " 0   id           502524 non-null  int64  \n",
      " 1   date         502524 non-null  object \n",
      " 2   store_nbr    502524 non-null  int64  \n",
      " 3   family       502524 non-null  object \n",
      " 4   sales        502524 non-null  float64\n",
      " 5   onpromotion  502524 non-null  int64  \n",
      " 6   sales_date   502524 non-null  object \n",
      " 7   type_x       502524 non-null  object \n",
      " 8   locale       502524 non-null  object \n",
      " 9   locale_name  502524 non-null  object \n",
      " 10  description  502524 non-null  object \n",
      " 11  transferred  502524 non-null  object \n",
      " 12  city         502524 non-null  object \n",
      " 13  state        502524 non-null  object \n",
      " 14  type_y       502524 non-null  object \n",
      " 15  cluster      502524 non-null  int64  \n",
      "dtypes: float64(1), int64(4), object(11)\n",
      "memory usage: 65.2+ MB\n"
     ]
    }
   ],
   "source": [
    "# Dropping missing values\n",
    "df1.dropna(inplace=True)\n",
    "df1.info()\n"
   ]
  },
  {
   "cell_type": "code",
   "execution_count": 64,
   "id": "2a3162df",
   "metadata": {},
   "outputs": [
    {
     "data": {
      "text/html": [
       "<div>\n",
       "<style scoped>\n",
       "    .dataframe tbody tr th:only-of-type {\n",
       "        vertical-align: middle;\n",
       "    }\n",
       "\n",
       "    .dataframe tbody tr th {\n",
       "        vertical-align: top;\n",
       "    }\n",
       "\n",
       "    .dataframe thead th {\n",
       "        text-align: right;\n",
       "    }\n",
       "</style>\n",
       "<table border=\"1\" class=\"dataframe\">\n",
       "  <thead>\n",
       "    <tr style=\"text-align: right;\">\n",
       "      <th></th>\n",
       "      <th>sum</th>\n",
       "    </tr>\n",
       "    <tr>\n",
       "      <th>type_x</th>\n",
       "      <th></th>\n",
       "    </tr>\n",
       "  </thead>\n",
       "  <tbody>\n",
       "    <tr>\n",
       "      <th>Additional</th>\n",
       "      <td>3.302028e+07</td>\n",
       "    </tr>\n",
       "    <tr>\n",
       "      <th>Bridge</th>\n",
       "      <td>2.388330e+06</td>\n",
       "    </tr>\n",
       "    <tr>\n",
       "      <th>Event</th>\n",
       "      <td>4.247747e+07</td>\n",
       "    </tr>\n",
       "    <tr>\n",
       "      <th>Holiday</th>\n",
       "      <td>1.092227e+08</td>\n",
       "    </tr>\n",
       "    <tr>\n",
       "      <th>Transfer</th>\n",
       "      <td>7.501824e+06</td>\n",
       "    </tr>\n",
       "    <tr>\n",
       "      <th>Work Day</th>\n",
       "      <td>3.315924e+06</td>\n",
       "    </tr>\n",
       "  </tbody>\n",
       "</table>\n",
       "</div>"
      ],
      "text/plain": [
       "                     sum\n",
       "type_x                  \n",
       "Additional  3.302028e+07\n",
       "Bridge      2.388330e+06\n",
       "Event       4.247747e+07\n",
       "Holiday     1.092227e+08\n",
       "Transfer    7.501824e+06\n",
       "Work Day    3.315924e+06"
      ]
     },
     "execution_count": 64,
     "metadata": {},
     "output_type": "execute_result"
    },
    {
     "data": {
      "image/png": "[encoded data removed]",
      "text/plain": [
       "<Figure size 432x288 with 1 Axes>"
      ]
     },
     "metadata": {
      "needs_background": "light"
     },
     "output_type": "display_data"
    }
   ],
   "source": [
    "tota = df1.groupby(['type_x'])['sales'].agg([\"sum\"])\n",
    "#total_sales2 = total_sales2.sort_index()\n",
    "tota.plot.bar()\n",
    "#(x=total_investment.index, y=total_investment.values, \n",
    "                        #  ylabel= 'Funding Amount in Dollars',xlabel='Funding Year')\n",
    "tota"
   ]
  },
  {
   "cell_type": "code",
   "execution_count": 65,
   "id": "9d99cf96",
   "metadata": {},
   "outputs": [
    {
     "data": {
      "image/png": "[encoded data removed]",
      "text/plain": [
       "<Figure size 432x288 with 1 Axes>"
      ]
     },
     "metadata": {
      "needs_background": "light"
     },
     "output_type": "display_data"
    }
   ],
   "source": [
    "b= df1[\"locale\"].value_counts(sort=True)\n",
    "b.plot.barh()\n",
    "plt.show()"
   ]
  },
  {
   "cell_type": "code",
   "execution_count": 66,
   "id": "c311410b",
   "metadata": {},
   "outputs": [
    {
     "data": {
      "text/plain": [
       "id             0\n",
       "date           0\n",
       "store_nbr      0\n",
       "family         0\n",
       "sales          0\n",
       "onpromotion    0\n",
       "sales_date     0\n",
       "type_x         0\n",
       "locale         0\n",
       "locale_name    0\n",
       "description    0\n",
       "transferred    0\n",
       "city           0\n",
       "state          0\n",
       "type_y         0\n",
       "cluster        0\n",
       "dtype: int64"
      ]
     },
     "execution_count": 66,
     "metadata": {},
     "output_type": "execute_result"
    }
   ],
   "source": [
    "missing_values = df1.isnull().sum().sort_values(ascending =True)\n",
    "missing_values"
   ]
  },
  {
   "cell_type": "code",
   "execution_count": 67,
   "id": "0e8fa592",
   "metadata": {},
   "outputs": [
    {
     "data": {
      "text/html": [
       "<div>\n",
       "<style scoped>\n",
       "    .dataframe tbody tr th:only-of-type {\n",
       "        vertical-align: middle;\n",
       "    }\n",
       "\n",
       "    .dataframe tbody tr th {\n",
       "        vertical-align: top;\n",
       "    }\n",
       "\n",
       "    .dataframe thead th {\n",
       "        text-align: right;\n",
       "    }\n",
       "</style>\n",
       "<table border=\"1\" class=\"dataframe\">\n",
       "  <thead>\n",
       "    <tr style=\"text-align: right;\">\n",
       "      <th></th>\n",
       "      <th>store_nbr</th>\n",
       "      <th>city</th>\n",
       "      <th>state</th>\n",
       "      <th>type</th>\n",
       "      <th>cluster</th>\n",
       "    </tr>\n",
       "  </thead>\n",
       "  <tbody>\n",
       "    <tr>\n",
       "      <th>0</th>\n",
       "      <td>1</td>\n",
       "      <td>Quito</td>\n",
       "      <td>Pichincha</td>\n",
       "      <td>D</td>\n",
       "      <td>13</td>\n",
       "    </tr>\n",
       "    <tr>\n",
       "      <th>1</th>\n",
       "      <td>2</td>\n",
       "      <td>Quito</td>\n",
       "      <td>Pichincha</td>\n",
       "      <td>D</td>\n",
       "      <td>13</td>\n",
       "    </tr>\n",
       "    <tr>\n",
       "      <th>2</th>\n",
       "      <td>3</td>\n",
       "      <td>Quito</td>\n",
       "      <td>Pichincha</td>\n",
       "      <td>D</td>\n",
       "      <td>8</td>\n",
       "    </tr>\n",
       "    <tr>\n",
       "      <th>3</th>\n",
       "      <td>4</td>\n",
       "      <td>Quito</td>\n",
       "      <td>Pichincha</td>\n",
       "      <td>D</td>\n",
       "      <td>9</td>\n",
       "    </tr>\n",
       "    <tr>\n",
       "      <th>4</th>\n",
       "      <td>5</td>\n",
       "      <td>Santo Domingo</td>\n",
       "      <td>Santo Domingo de los Tsachilas</td>\n",
       "      <td>D</td>\n",
       "      <td>4</td>\n",
       "    </tr>\n",
       "  </tbody>\n",
       "</table>\n",
       "</div>"
      ],
      "text/plain": [
       "   store_nbr           city                           state type  cluster\n",
       "0          1          Quito                       Pichincha    D       13\n",
       "1          2          Quito                       Pichincha    D       13\n",
       "2          3          Quito                       Pichincha    D        8\n",
       "3          4          Quito                       Pichincha    D        9\n",
       "4          5  Santo Domingo  Santo Domingo de los Tsachilas    D        4"
      ]
     },
     "execution_count": 67,
     "metadata": {},
     "output_type": "execute_result"
    }
   ],
   "source": [
    "stores.head()"
   ]
  },
  {
   "cell_type": "code",
   "execution_count": 68,
   "id": "7b31437b",
   "metadata": {},
   "outputs": [
    {
     "data": {
      "text/plain": [
       "1688"
      ]
     },
     "execution_count": 68,
     "metadata": {},
     "output_type": "execute_result"
    }
   ],
   "source": [
    "#Checking for completeness of the dates\n",
    "train.date.min(), train.date.max()\n",
    "train['sales_date'] = pd.to_datetime(train['date']).dt.date\n",
    "train['sales_date'].min(), train['sales_date'].max()\n",
    "#expected number of days\n",
    "#difference =(train['sales_date'].max - train['sales_date'].min())\n",
    "difference =(train['sales_date'].max() - train['sales_date'].min())\n",
    "difference.days + 1"
   ]
  },
  {
   "cell_type": "code",
   "execution_count": 69,
   "id": "ecb214a8",
   "metadata": {},
   "outputs": [
    {
     "data": {
      "text/plain": [
       "datetime.date(2017, 8, 15)"
      ]
     },
     "execution_count": 69,
     "metadata": {},
     "output_type": "execute_result"
    }
   ],
   "source": [
    "train['sales_date'].max()"
   ]
  },
  {
   "cell_type": "code",
   "execution_count": null,
   "id": "aa193df1",
   "metadata": {},
   "outputs": [],
   "source": []
  },
  {
   "cell_type": "code",
   "execution_count": 70,
   "id": "4491e96a",
   "metadata": {},
   "outputs": [
    {
     "data": {
      "text/plain": [
       "1684"
      ]
     },
     "execution_count": 70,
     "metadata": {},
     "output_type": "execute_result"
    }
   ],
   "source": [
    "#Actual number of days\n",
    "train['sales_date'].nunique()"
   ]
  },
  {
   "cell_type": "code",
   "execution_count": 71,
   "id": "6674208d",
   "metadata": {},
   "outputs": [
    {
     "data": {
      "text/plain": [
       "{datetime.date(2013, 12, 25),\n",
       " datetime.date(2014, 12, 25),\n",
       " datetime.date(2015, 12, 25),\n",
       " datetime.date(2016, 12, 25)}"
      ]
     },
     "execution_count": 71,
     "metadata": {},
     "output_type": "execute_result"
    }
   ],
   "source": [
    "#Missing dates\n",
    "expected_dates = pd.date_range(start =train['sales_date'].min(), end= train['sales_date'].max())\n",
    "set(expected_dates.date) - set(train['sales_date'].unique())"
   ]
  },
  {
   "cell_type": "code",
   "execution_count": 72,
   "id": "7dfa0c5f",
   "metadata": {},
   "outputs": [
    {
     "name": "stderr",
     "output_type": "stream",
     "text": [
      "C:\\Users\\SISEY\\AppData\\Local\\Temp\\ipykernel_17396\\2357646388.py:2: FutureWarning: The frame.append method is deprecated and will be removed from pandas in a future version. Use pandas.concat instead.\n",
      "  df = train.append({'date':'2013, 12, 25'}, ignore_index=True)\n"
     ]
    }
   ],
   "source": [
    "#df = train.append({'date':'2013, 12, 25','2014, 12, 25','2015, 12, 25','2016, 12, 25'}, ignore_index=True)\n",
    "df = train.append({'date':'2013, 12, 25'}, ignore_index=True)"
   ]
  },
  {
   "cell_type": "code",
   "execution_count": 73,
   "id": "194a9e69",
   "metadata": {},
   "outputs": [
    {
     "data": {
      "text/html": [
       "<div>\n",
       "<style scoped>\n",
       "    .dataframe tbody tr th:only-of-type {\n",
       "        vertical-align: middle;\n",
       "    }\n",
       "\n",
       "    .dataframe tbody tr th {\n",
       "        vertical-align: top;\n",
       "    }\n",
       "\n",
       "    .dataframe thead th {\n",
       "        text-align: right;\n",
       "    }\n",
       "</style>\n",
       "<table border=\"1\" class=\"dataframe\">\n",
       "  <thead>\n",
       "    <tr style=\"text-align: right;\">\n",
       "      <th></th>\n",
       "      <th>id</th>\n",
       "      <th>date</th>\n",
       "      <th>store_nbr</th>\n",
       "      <th>family</th>\n",
       "      <th>sales</th>\n",
       "      <th>onpromotion</th>\n",
       "      <th>sales_date</th>\n",
       "    </tr>\n",
       "  </thead>\n",
       "  <tbody>\n",
       "    <tr>\n",
       "      <th>0</th>\n",
       "      <td>0.0</td>\n",
       "      <td>2013-01-01</td>\n",
       "      <td>1.0</td>\n",
       "      <td>AUTOMOTIVE</td>\n",
       "      <td>0.000</td>\n",
       "      <td>0.0</td>\n",
       "      <td>2013-01-01</td>\n",
       "    </tr>\n",
       "    <tr>\n",
       "      <th>1</th>\n",
       "      <td>1.0</td>\n",
       "      <td>2013-01-01</td>\n",
       "      <td>1.0</td>\n",
       "      <td>BABY CARE</td>\n",
       "      <td>0.000</td>\n",
       "      <td>0.0</td>\n",
       "      <td>2013-01-01</td>\n",
       "    </tr>\n",
       "    <tr>\n",
       "      <th>2</th>\n",
       "      <td>2.0</td>\n",
       "      <td>2013-01-01</td>\n",
       "      <td>1.0</td>\n",
       "      <td>BEAUTY</td>\n",
       "      <td>0.000</td>\n",
       "      <td>0.0</td>\n",
       "      <td>2013-01-01</td>\n",
       "    </tr>\n",
       "    <tr>\n",
       "      <th>3</th>\n",
       "      <td>3.0</td>\n",
       "      <td>2013-01-01</td>\n",
       "      <td>1.0</td>\n",
       "      <td>BEVERAGES</td>\n",
       "      <td>0.000</td>\n",
       "      <td>0.0</td>\n",
       "      <td>2013-01-01</td>\n",
       "    </tr>\n",
       "    <tr>\n",
       "      <th>4</th>\n",
       "      <td>4.0</td>\n",
       "      <td>2013-01-01</td>\n",
       "      <td>1.0</td>\n",
       "      <td>BOOKS</td>\n",
       "      <td>0.000</td>\n",
       "      <td>0.0</td>\n",
       "      <td>2013-01-01</td>\n",
       "    </tr>\n",
       "    <tr>\n",
       "      <th>...</th>\n",
       "      <td>...</td>\n",
       "      <td>...</td>\n",
       "      <td>...</td>\n",
       "      <td>...</td>\n",
       "      <td>...</td>\n",
       "      <td>...</td>\n",
       "      <td>...</td>\n",
       "    </tr>\n",
       "    <tr>\n",
       "      <th>3000884</th>\n",
       "      <td>3000884.0</td>\n",
       "      <td>2017-08-15</td>\n",
       "      <td>9.0</td>\n",
       "      <td>PREPARED FOODS</td>\n",
       "      <td>154.553</td>\n",
       "      <td>1.0</td>\n",
       "      <td>2017-08-15</td>\n",
       "    </tr>\n",
       "    <tr>\n",
       "      <th>3000885</th>\n",
       "      <td>3000885.0</td>\n",
       "      <td>2017-08-15</td>\n",
       "      <td>9.0</td>\n",
       "      <td>PRODUCE</td>\n",
       "      <td>2419.729</td>\n",
       "      <td>148.0</td>\n",
       "      <td>2017-08-15</td>\n",
       "    </tr>\n",
       "    <tr>\n",
       "      <th>3000886</th>\n",
       "      <td>3000886.0</td>\n",
       "      <td>2017-08-15</td>\n",
       "      <td>9.0</td>\n",
       "      <td>SCHOOL AND OFFICE SUPPLIES</td>\n",
       "      <td>121.000</td>\n",
       "      <td>8.0</td>\n",
       "      <td>2017-08-15</td>\n",
       "    </tr>\n",
       "    <tr>\n",
       "      <th>3000887</th>\n",
       "      <td>3000887.0</td>\n",
       "      <td>2017-08-15</td>\n",
       "      <td>9.0</td>\n",
       "      <td>SEAFOOD</td>\n",
       "      <td>16.000</td>\n",
       "      <td>0.0</td>\n",
       "      <td>2017-08-15</td>\n",
       "    </tr>\n",
       "    <tr>\n",
       "      <th>3000888</th>\n",
       "      <td>NaN</td>\n",
       "      <td>2013, 12, 25</td>\n",
       "      <td>NaN</td>\n",
       "      <td>NaN</td>\n",
       "      <td>NaN</td>\n",
       "      <td>NaN</td>\n",
       "      <td>NaN</td>\n",
       "    </tr>\n",
       "  </tbody>\n",
       "</table>\n",
       "<p>3000889 rows × 7 columns</p>\n",
       "</div>"
      ],
      "text/plain": [
       "                id          date  store_nbr                      family  \\\n",
       "0              0.0    2013-01-01        1.0                  AUTOMOTIVE   \n",
       "1              1.0    2013-01-01        1.0                   BABY CARE   \n",
       "2              2.0    2013-01-01        1.0                      BEAUTY   \n",
       "3              3.0    2013-01-01        1.0                   BEVERAGES   \n",
       "4              4.0    2013-01-01        1.0                       BOOKS   \n",
       "...            ...           ...        ...                         ...   \n",
       "3000884  3000884.0    2017-08-15        9.0              PREPARED FOODS   \n",
       "3000885  3000885.0    2017-08-15        9.0                     PRODUCE   \n",
       "3000886  3000886.0    2017-08-15        9.0  SCHOOL AND OFFICE SUPPLIES   \n",
       "3000887  3000887.0    2017-08-15        9.0                     SEAFOOD   \n",
       "3000888        NaN  2013, 12, 25        NaN                         NaN   \n",
       "\n",
       "            sales  onpromotion  sales_date  \n",
       "0           0.000          0.0  2013-01-01  \n",
       "1           0.000          0.0  2013-01-01  \n",
       "2           0.000          0.0  2013-01-01  \n",
       "3           0.000          0.0  2013-01-01  \n",
       "4           0.000          0.0  2013-01-01  \n",
       "...           ...          ...         ...  \n",
       "3000884   154.553          1.0  2017-08-15  \n",
       "3000885  2419.729        148.0  2017-08-15  \n",
       "3000886   121.000          8.0  2017-08-15  \n",
       "3000887    16.000          0.0  2017-08-15  \n",
       "3000888       NaN          NaN         NaN  \n",
       "\n",
       "[3000889 rows x 7 columns]"
      ]
     },
     "execution_count": 73,
     "metadata": {},
     "output_type": "execute_result"
    }
   ],
   "source": [
    "df"
   ]
  },
  {
   "cell_type": "code",
   "execution_count": 74,
   "id": "83d9aba3",
   "metadata": {},
   "outputs": [
    {
     "name": "stdout",
     "output_type": "stream",
     "text": [
      "Stored variables and their in-db values:\n"
     ]
    }
   ],
   "source": [
    "store"
   ]
  },
  {
   "cell_type": "code",
   "execution_count": 75,
   "id": "5b38ae40",
   "metadata": {},
   "outputs": [
    {
     "data": {
      "text/html": [
       "<div>\n",
       "<style scoped>\n",
       "    .dataframe tbody tr th:only-of-type {\n",
       "        vertical-align: middle;\n",
       "    }\n",
       "\n",
       "    .dataframe tbody tr th {\n",
       "        vertical-align: top;\n",
       "    }\n",
       "\n",
       "    .dataframe thead th {\n",
       "        text-align: right;\n",
       "    }\n",
       "</style>\n",
       "<table border=\"1\" class=\"dataframe\">\n",
       "  <thead>\n",
       "    <tr style=\"text-align: right;\">\n",
       "      <th></th>\n",
       "      <th>store_nbr</th>\n",
       "      <th>city</th>\n",
       "      <th>state</th>\n",
       "      <th>type</th>\n",
       "      <th>cluster</th>\n",
       "    </tr>\n",
       "  </thead>\n",
       "  <tbody>\n",
       "    <tr>\n",
       "      <th>0</th>\n",
       "      <td>1</td>\n",
       "      <td>Quito</td>\n",
       "      <td>Pichincha</td>\n",
       "      <td>D</td>\n",
       "      <td>13</td>\n",
       "    </tr>\n",
       "    <tr>\n",
       "      <th>1</th>\n",
       "      <td>2</td>\n",
       "      <td>Quito</td>\n",
       "      <td>Pichincha</td>\n",
       "      <td>D</td>\n",
       "      <td>13</td>\n",
       "    </tr>\n",
       "    <tr>\n",
       "      <th>2</th>\n",
       "      <td>3</td>\n",
       "      <td>Quito</td>\n",
       "      <td>Pichincha</td>\n",
       "      <td>D</td>\n",
       "      <td>8</td>\n",
       "    </tr>\n",
       "    <tr>\n",
       "      <th>3</th>\n",
       "      <td>4</td>\n",
       "      <td>Quito</td>\n",
       "      <td>Pichincha</td>\n",
       "      <td>D</td>\n",
       "      <td>9</td>\n",
       "    </tr>\n",
       "    <tr>\n",
       "      <th>4</th>\n",
       "      <td>5</td>\n",
       "      <td>Santo Domingo</td>\n",
       "      <td>Santo Domingo de los Tsachilas</td>\n",
       "      <td>D</td>\n",
       "      <td>4</td>\n",
       "    </tr>\n",
       "  </tbody>\n",
       "</table>\n",
       "</div>"
      ],
      "text/plain": [
       "   store_nbr           city                           state type  cluster\n",
       "0          1          Quito                       Pichincha    D       13\n",
       "1          2          Quito                       Pichincha    D       13\n",
       "2          3          Quito                       Pichincha    D        8\n",
       "3          4          Quito                       Pichincha    D        9\n",
       "4          5  Santo Domingo  Santo Domingo de los Tsachilas    D        4"
      ]
     },
     "execution_count": 75,
     "metadata": {},
     "output_type": "execute_result"
    }
   ],
   "source": [
    "stores.head()"
   ]
  },
  {
   "cell_type": "code",
   "execution_count": 76,
   "id": "1eced1b6",
   "metadata": {},
   "outputs": [
    {
     "data": {
      "text/plain": [
       "Quito            18\n",
       "Santo Domingo     3\n",
       "Cayambe           1\n",
       "Latacunga         2\n",
       "Riobamba          1\n",
       "Ibarra            1\n",
       "Guaranda          1\n",
       "Puyo              1\n",
       "Ambato            2\n",
       "Guayaquil         8\n",
       "Salinas           1\n",
       "Daule             1\n",
       "Babahoyo          1\n",
       "Quevedo           1\n",
       "Playas            1\n",
       "Libertad          1\n",
       "Cuenca            3\n",
       "Loja              1\n",
       "Machala           2\n",
       "Esmeraldas        1\n",
       "Manta             2\n",
       "El Carmen         1\n",
       "Name: city, dtype: int64"
      ]
     },
     "execution_count": 76,
     "metadata": {},
     "output_type": "execute_result"
    }
   ],
   "source": [
    "a =stores[\"city\"].value_counts(sort=False)\n",
    "a"
   ]
  },
  {
   "cell_type": "code",
   "execution_count": 77,
   "id": "8fc0762b",
   "metadata": {},
   "outputs": [
    {
     "data": {
      "text/plain": [
       "17"
      ]
     },
     "execution_count": 77,
     "metadata": {},
     "output_type": "execute_result"
    }
   ],
   "source": [
    "stores['cluster'].nunique()"
   ]
  },
  {
   "cell_type": "code",
   "execution_count": 78,
   "id": "b0e4826f",
   "metadata": {},
   "outputs": [],
   "source": [
    "promotion = df_train[df_train[\"onpromotion\"] !=0 ].sort_values(\"onpromotion\", ascending= False)"
   ]
  },
  {
   "cell_type": "code",
   "execution_count": 79,
   "id": "668b9b23",
   "metadata": {},
   "outputs": [
    {
     "data": {
      "text/html": [
       "<div>\n",
       "<style scoped>\n",
       "    .dataframe tbody tr th:only-of-type {\n",
       "        vertical-align: middle;\n",
       "    }\n",
       "\n",
       "    .dataframe tbody tr th {\n",
       "        vertical-align: top;\n",
       "    }\n",
       "\n",
       "    .dataframe thead th {\n",
       "        text-align: right;\n",
       "    }\n",
       "</style>\n",
       "<table border=\"1\" class=\"dataframe\">\n",
       "  <thead>\n",
       "    <tr style=\"text-align: right;\">\n",
       "      <th></th>\n",
       "      <th>id</th>\n",
       "      <th>date</th>\n",
       "      <th>store_nbr</th>\n",
       "      <th>family</th>\n",
       "      <th>sales</th>\n",
       "      <th>onpromotion</th>\n",
       "      <th>transactions</th>\n",
       "      <th>city</th>\n",
       "      <th>state</th>\n",
       "      <th>type</th>\n",
       "      <th>cluster</th>\n",
       "      <th>year</th>\n",
       "      <th>month</th>\n",
       "      <th>day</th>\n",
       "      <th>weekday</th>\n",
       "      <th>week</th>\n",
       "      <th>quarter</th>\n",
       "      <th>day_of_week</th>\n",
       "    </tr>\n",
       "  </thead>\n",
       "  <tbody>\n",
       "    <tr>\n",
       "      <th>2216622</th>\n",
       "      <td>2216622</td>\n",
       "      <td>2016-05-31</td>\n",
       "      <td>53</td>\n",
       "      <td>GROCERY I</td>\n",
       "      <td>7517.000</td>\n",
       "      <td>741</td>\n",
       "      <td>1950.0</td>\n",
       "      <td>Manta</td>\n",
       "      <td>Manabi</td>\n",
       "      <td>D</td>\n",
       "      <td>13</td>\n",
       "      <td>2016</td>\n",
       "      <td>5</td>\n",
       "      <td>31</td>\n",
       "      <td>1</td>\n",
       "      <td>22</td>\n",
       "      <td>2</td>\n",
       "      <td>Tuesday</td>\n",
       "    </tr>\n",
       "    <tr>\n",
       "      <th>2200584</th>\n",
       "      <td>2200584</td>\n",
       "      <td>2016-05-22</td>\n",
       "      <td>53</td>\n",
       "      <td>GROCERY I</td>\n",
       "      <td>6044.000</td>\n",
       "      <td>726</td>\n",
       "      <td>2001.0</td>\n",
       "      <td>Manta</td>\n",
       "      <td>Manabi</td>\n",
       "      <td>D</td>\n",
       "      <td>13</td>\n",
       "      <td>2016</td>\n",
       "      <td>5</td>\n",
       "      <td>22</td>\n",
       "      <td>6</td>\n",
       "      <td>20</td>\n",
       "      <td>2</td>\n",
       "      <td>Sunday</td>\n",
       "    </tr>\n",
       "    <tr>\n",
       "      <th>2211276</th>\n",
       "      <td>2211276</td>\n",
       "      <td>2016-05-28</td>\n",
       "      <td>53</td>\n",
       "      <td>GROCERY I</td>\n",
       "      <td>5846.000</td>\n",
       "      <td>722</td>\n",
       "      <td>1883.0</td>\n",
       "      <td>Manta</td>\n",
       "      <td>Manabi</td>\n",
       "      <td>D</td>\n",
       "      <td>13</td>\n",
       "      <td>2016</td>\n",
       "      <td>5</td>\n",
       "      <td>28</td>\n",
       "      <td>5</td>\n",
       "      <td>21</td>\n",
       "      <td>2</td>\n",
       "      <td>Saturday</td>\n",
       "    </tr>\n",
       "    <tr>\n",
       "      <th>2188110</th>\n",
       "      <td>2188110</td>\n",
       "      <td>2016-05-15</td>\n",
       "      <td>53</td>\n",
       "      <td>GROCERY I</td>\n",
       "      <td>6154.000</td>\n",
       "      <td>720</td>\n",
       "      <td>2026.0</td>\n",
       "      <td>Manta</td>\n",
       "      <td>Manabi</td>\n",
       "      <td>D</td>\n",
       "      <td>13</td>\n",
       "      <td>2016</td>\n",
       "      <td>5</td>\n",
       "      <td>15</td>\n",
       "      <td>6</td>\n",
       "      <td>19</td>\n",
       "      <td>2</td>\n",
       "      <td>Sunday</td>\n",
       "    </tr>\n",
       "    <tr>\n",
       "      <th>2213058</th>\n",
       "      <td>2213058</td>\n",
       "      <td>2016-05-29</td>\n",
       "      <td>53</td>\n",
       "      <td>GROCERY I</td>\n",
       "      <td>6681.000</td>\n",
       "      <td>719</td>\n",
       "      <td>1839.0</td>\n",
       "      <td>Manta</td>\n",
       "      <td>Manabi</td>\n",
       "      <td>D</td>\n",
       "      <td>13</td>\n",
       "      <td>2016</td>\n",
       "      <td>5</td>\n",
       "      <td>29</td>\n",
       "      <td>6</td>\n",
       "      <td>21</td>\n",
       "      <td>2</td>\n",
       "      <td>Sunday</td>\n",
       "    </tr>\n",
       "    <tr>\n",
       "      <th>...</th>\n",
       "      <td>...</td>\n",
       "      <td>...</td>\n",
       "      <td>...</td>\n",
       "      <td>...</td>\n",
       "      <td>...</td>\n",
       "      <td>...</td>\n",
       "      <td>...</td>\n",
       "      <td>...</td>\n",
       "      <td>...</td>\n",
       "      <td>...</td>\n",
       "      <td>...</td>\n",
       "      <td>...</td>\n",
       "      <td>...</td>\n",
       "      <td>...</td>\n",
       "      <td>...</td>\n",
       "      <td>...</td>\n",
       "      <td>...</td>\n",
       "      <td>...</td>\n",
       "    </tr>\n",
       "    <tr>\n",
       "      <th>2503758</th>\n",
       "      <td>2503758</td>\n",
       "      <td>2016-11-09</td>\n",
       "      <td>10</td>\n",
       "      <td>HOME AND KITCHEN I</td>\n",
       "      <td>6.000</td>\n",
       "      <td>1</td>\n",
       "      <td>838.0</td>\n",
       "      <td>Quito</td>\n",
       "      <td>Pichincha</td>\n",
       "      <td>C</td>\n",
       "      <td>15</td>\n",
       "      <td>2016</td>\n",
       "      <td>11</td>\n",
       "      <td>9</td>\n",
       "      <td>2</td>\n",
       "      <td>45</td>\n",
       "      <td>4</td>\n",
       "      <td>Wednesday</td>\n",
       "    </tr>\n",
       "    <tr>\n",
       "      <th>2139309</th>\n",
       "      <td>2139309</td>\n",
       "      <td>2016-04-18</td>\n",
       "      <td>34</td>\n",
       "      <td>HOME CARE</td>\n",
       "      <td>459.000</td>\n",
       "      <td>1</td>\n",
       "      <td>2294.0</td>\n",
       "      <td>Guayaquil</td>\n",
       "      <td>Guayas</td>\n",
       "      <td>B</td>\n",
       "      <td>6</td>\n",
       "      <td>2016</td>\n",
       "      <td>4</td>\n",
       "      <td>18</td>\n",
       "      <td>0</td>\n",
       "      <td>16</td>\n",
       "      <td>2</td>\n",
       "      <td>Monday</td>\n",
       "    </tr>\n",
       "    <tr>\n",
       "      <th>1619448</th>\n",
       "      <td>1619448</td>\n",
       "      <td>2015-06-30</td>\n",
       "      <td>48</td>\n",
       "      <td>CELEBRATION</td>\n",
       "      <td>15.000</td>\n",
       "      <td>1</td>\n",
       "      <td>2589.0</td>\n",
       "      <td>Quito</td>\n",
       "      <td>Pichincha</td>\n",
       "      <td>A</td>\n",
       "      <td>14</td>\n",
       "      <td>2015</td>\n",
       "      <td>6</td>\n",
       "      <td>30</td>\n",
       "      <td>1</td>\n",
       "      <td>27</td>\n",
       "      <td>2</td>\n",
       "      <td>Tuesday</td>\n",
       "    </tr>\n",
       "    <tr>\n",
       "      <th>1619439</th>\n",
       "      <td>1619439</td>\n",
       "      <td>2015-06-30</td>\n",
       "      <td>47</td>\n",
       "      <td>PRODUCE</td>\n",
       "      <td>4706.284</td>\n",
       "      <td>1</td>\n",
       "      <td>3343.0</td>\n",
       "      <td>Quito</td>\n",
       "      <td>Pichincha</td>\n",
       "      <td>A</td>\n",
       "      <td>14</td>\n",
       "      <td>2015</td>\n",
       "      <td>6</td>\n",
       "      <td>30</td>\n",
       "      <td>1</td>\n",
       "      <td>27</td>\n",
       "      <td>2</td>\n",
       "      <td>Tuesday</td>\n",
       "    </tr>\n",
       "    <tr>\n",
       "      <th>1500143</th>\n",
       "      <td>1500143</td>\n",
       "      <td>2015-04-24</td>\n",
       "      <td>5</td>\n",
       "      <td>PREPARED FOODS</td>\n",
       "      <td>102.720</td>\n",
       "      <td>1</td>\n",
       "      <td>1418.0</td>\n",
       "      <td>Santo Domingo</td>\n",
       "      <td>Santo Domingo de los Tsachilas</td>\n",
       "      <td>D</td>\n",
       "      <td>4</td>\n",
       "      <td>2015</td>\n",
       "      <td>4</td>\n",
       "      <td>24</td>\n",
       "      <td>4</td>\n",
       "      <td>17</td>\n",
       "      <td>2</td>\n",
       "      <td>Friday</td>\n",
       "    </tr>\n",
       "  </tbody>\n",
       "</table>\n",
       "<p>611329 rows × 18 columns</p>\n",
       "</div>"
      ],
      "text/plain": [
       "              id       date  store_nbr              family     sales  \\\n",
       "2216622  2216622 2016-05-31         53           GROCERY I  7517.000   \n",
       "2200584  2200584 2016-05-22         53           GROCERY I  6044.000   \n",
       "2211276  2211276 2016-05-28         53           GROCERY I  5846.000   \n",
       "2188110  2188110 2016-05-15         53           GROCERY I  6154.000   \n",
       "2213058  2213058 2016-05-29         53           GROCERY I  6681.000   \n",
       "...          ...        ...        ...                 ...       ...   \n",
       "2503758  2503758 2016-11-09         10  HOME AND KITCHEN I     6.000   \n",
       "2139309  2139309 2016-04-18         34           HOME CARE   459.000   \n",
       "1619448  1619448 2015-06-30         48         CELEBRATION    15.000   \n",
       "1619439  1619439 2015-06-30         47             PRODUCE  4706.284   \n",
       "1500143  1500143 2015-04-24          5      PREPARED FOODS   102.720   \n",
       "\n",
       "         onpromotion  transactions           city  \\\n",
       "2216622          741        1950.0          Manta   \n",
       "2200584          726        2001.0          Manta   \n",
       "2211276          722        1883.0          Manta   \n",
       "2188110          720        2026.0          Manta   \n",
       "2213058          719        1839.0          Manta   \n",
       "...              ...           ...            ...   \n",
       "2503758            1         838.0          Quito   \n",
       "2139309            1        2294.0      Guayaquil   \n",
       "1619448            1        2589.0          Quito   \n",
       "1619439            1        3343.0          Quito   \n",
       "1500143            1        1418.0  Santo Domingo   \n",
       "\n",
       "                                  state type  cluster  year  month  day  \\\n",
       "2216622                          Manabi    D       13  2016      5   31   \n",
       "2200584                          Manabi    D       13  2016      5   22   \n",
       "2211276                          Manabi    D       13  2016      5   28   \n",
       "2188110                          Manabi    D       13  2016      5   15   \n",
       "2213058                          Manabi    D       13  2016      5   29   \n",
       "...                                 ...  ...      ...   ...    ...  ...   \n",
       "2503758                       Pichincha    C       15  2016     11    9   \n",
       "2139309                          Guayas    B        6  2016      4   18   \n",
       "1619448                       Pichincha    A       14  2015      6   30   \n",
       "1619439                       Pichincha    A       14  2015      6   30   \n",
       "1500143  Santo Domingo de los Tsachilas    D        4  2015      4   24   \n",
       "\n",
       "         weekday  week  quarter day_of_week  \n",
       "2216622        1    22        2     Tuesday  \n",
       "2200584        6    20        2      Sunday  \n",
       "2211276        5    21        2    Saturday  \n",
       "2188110        6    19        2      Sunday  \n",
       "2213058        6    21        2      Sunday  \n",
       "...          ...   ...      ...         ...  \n",
       "2503758        2    45        4   Wednesday  \n",
       "2139309        0    16        2      Monday  \n",
       "1619448        1    27        2     Tuesday  \n",
       "1619439        1    27        2     Tuesday  \n",
       "1500143        4    17        2      Friday  \n",
       "\n",
       "[611329 rows x 18 columns]"
      ]
     },
     "execution_count": 79,
     "metadata": {},
     "output_type": "execute_result"
    }
   ],
   "source": [
    "promotion"
   ]
  },
  {
   "cell_type": "markdown",
   "id": "08bfd4de",
   "metadata": {},
   "source": [
    "# Feature Engeneering\n",
    "\n",
    "**For better understanding and to have a better grasp of the time series information we weill decompose our data into trend, and seasonality.\n",
    "# Trend-Seasonal Decomposition"
   ]
  },
  {
   "cell_type": "code",
   "execution_count": 80,
   "id": "66f373db",
   "metadata": {},
   "outputs": [
    {
     "data": {
      "image/png": "[encoded data removed]",
      "text/plain": [
       "<Figure size 432x288 with 4 Axes>"
      ]
     },
     "execution_count": 80,
     "metadata": {},
     "output_type": "execute_result"
    },
    {
     "data": {
      "image/png": "[encoded data removed]",
      "text/plain": [
       "<Figure size 432x288 with 4 Axes>"
      ]
     },
     "metadata": {
      "needs_background": "light"
     },
     "output_type": "display_data"
    }
   ],
   "source": [
    "# Checking for trends and seasonality\n",
    "# Decomposition data\n",
    "series = df_train[\"sales\"]\n",
    "result = seasonal_decompose(series, model='additive', period=1)\n",
    "result.plot()\n"
   ]
  },
  {
   "cell_type": "code",
   "execution_count": 81,
   "id": "81bc51cf",
   "metadata": {},
   "outputs": [
    {
     "data": {
      "image/png": "[encoded data removed]",
      "text/plain": [
       "<Figure size 432x288 with 4 Axes>"
      ]
     },
     "execution_count": 81,
     "metadata": {},
     "output_type": "execute_result"
    },
    {
     "data": {
      "image/png": "[encoded data removed]",
      "text/plain": [
       "<Figure size 432x288 with 4 Axes>"
      ]
     },
     "metadata": {
      "needs_background": "light"
     },
     "output_type": "display_data"
    }
   ],
   "source": [
    "# Checking for trends and seasonality\n",
    "# Decomposition data\n",
    "#from statsmodels.tsa.seasonal import seasonal_decompose\n",
    "series = df_train.groupby([\"date\"]).mean()[\"sales\"]\n",
    "series1= np.array(series.values.tolist())\n",
    "#series = df_train[\"date\"]\n",
    "result = seasonal_decompose(series1, model='multiplicative', period=1)\n",
    "result.plot()"
   ]
  },
  {
   "cell_type": "code",
   "execution_count": 82,
   "id": "6518e93f",
   "metadata": {},
   "outputs": [
    {
     "data": {
      "image/png": "[encoded data removed]",
      "text/plain": [
       "<Figure size 432x288 with 4 Axes>"
      ]
     },
     "execution_count": 82,
     "metadata": {},
     "output_type": "execute_result"
    },
    {
     "data": {
      "image/png": "[encoded data removed]",
      "text/plain": [
       "<Figure size 432x288 with 4 Axes>"
      ]
     },
     "metadata": {
      "needs_background": "light"
     },
     "output_type": "display_data"
    }
   ],
   "source": [
    "# Checking for trends and seasonality\n",
    "# Decomposition data\n",
    "#from statsmodels.tsa.seasonal import seasonal_decompose\n",
    "series = df_train.groupby([\"month\", \"year\"]).mean()[\"sales\"]\n",
    "series1= np.array(series.values.tolist())\n",
    "#series = df_train[\"date\"]\n",
    "result = seasonal_decompose(series1, model='additive', period=1)\n",
    "result.plot()"
   ]
  },
  {
   "cell_type": "code",
   "execution_count": 83,
   "id": "f04984d4",
   "metadata": {},
   "outputs": [
    {
     "data": {
      "image/png": "[encoded data removed]",
      "text/plain": [
       "<Figure size 432x288 with 4 Axes>"
      ]
     },
     "execution_count": 83,
     "metadata": {},
     "output_type": "execute_result"
    },
    {
     "data": {
      "image/png": "[encoded data removed]",
      "text/plain": [
       "<Figure size 432x288 with 4 Axes>"
      ]
     },
     "metadata": {
      "needs_background": "light"
     },
     "output_type": "display_data"
    }
   ],
   "source": [
    "# Checking for trends and seasonality\n",
    "# Decomposition data\n",
    "#from statsmodels.tsa.seasonal import seasonal_decompose\n",
    "series = df_train.groupby([\"day\"]).mean()[\"sales\"]\n",
    "series1= np.array(series.values.tolist())\n",
    "#series = df_train[\"date\"]\n",
    "result = seasonal_decompose(series1, model='additive', period=1)\n",
    "result.plot()"
   ]
  },
  {
   "cell_type": "markdown",
   "id": "5df92f96",
   "metadata": {},
   "source": [
    "**Both multiplicative and additive decomposition shows there is a trend in the data but there is no seasonality"
   ]
  },
  {
   "cell_type": "markdown",
   "id": "b1f92827",
   "metadata": {},
   "source": [
    "# Feature Creation\n",
    "We will create features that will help us in training our model. We will be using the sales, day, and ...columns from the df_train dataset and create other features in addition."
   ]
  },
  {
   "cell_type": "code",
   "execution_count": 84,
   "id": "4ebee3fb",
   "metadata": {},
   "outputs": [
    {
     "data": {
      "text/html": [
       "<div>\n",
       "<style scoped>\n",
       "    .dataframe tbody tr th:only-of-type {\n",
       "        vertical-align: middle;\n",
       "    }\n",
       "\n",
       "    .dataframe tbody tr th {\n",
       "        vertical-align: top;\n",
       "    }\n",
       "\n",
       "    .dataframe thead th {\n",
       "        text-align: right;\n",
       "    }\n",
       "</style>\n",
       "<table border=\"1\" class=\"dataframe\">\n",
       "  <thead>\n",
       "    <tr style=\"text-align: right;\">\n",
       "      <th></th>\n",
       "      <th>id</th>\n",
       "      <th>date</th>\n",
       "      <th>store_nbr</th>\n",
       "      <th>family</th>\n",
       "      <th>sales</th>\n",
       "      <th>onpromotion</th>\n",
       "      <th>transactions</th>\n",
       "      <th>city</th>\n",
       "      <th>state</th>\n",
       "      <th>type</th>\n",
       "      <th>cluster</th>\n",
       "      <th>year</th>\n",
       "      <th>month</th>\n",
       "      <th>day</th>\n",
       "      <th>weekday</th>\n",
       "      <th>week</th>\n",
       "      <th>quarter</th>\n",
       "      <th>day_of_week</th>\n",
       "    </tr>\n",
       "  </thead>\n",
       "  <tbody>\n",
       "    <tr>\n",
       "      <th>0</th>\n",
       "      <td>0</td>\n",
       "      <td>2013-01-01</td>\n",
       "      <td>1</td>\n",
       "      <td>AUTOMOTIVE</td>\n",
       "      <td>0.000</td>\n",
       "      <td>0</td>\n",
       "      <td>770.0</td>\n",
       "      <td>Quito</td>\n",
       "      <td>Pichincha</td>\n",
       "      <td>D</td>\n",
       "      <td>13</td>\n",
       "      <td>2013</td>\n",
       "      <td>1</td>\n",
       "      <td>1</td>\n",
       "      <td>1</td>\n",
       "      <td>1</td>\n",
       "      <td>1</td>\n",
       "      <td>Tuesday</td>\n",
       "    </tr>\n",
       "    <tr>\n",
       "      <th>1</th>\n",
       "      <td>1</td>\n",
       "      <td>2013-01-01</td>\n",
       "      <td>1</td>\n",
       "      <td>BABY CARE</td>\n",
       "      <td>0.000</td>\n",
       "      <td>0</td>\n",
       "      <td>770.0</td>\n",
       "      <td>Quito</td>\n",
       "      <td>Pichincha</td>\n",
       "      <td>D</td>\n",
       "      <td>13</td>\n",
       "      <td>2013</td>\n",
       "      <td>1</td>\n",
       "      <td>1</td>\n",
       "      <td>1</td>\n",
       "      <td>1</td>\n",
       "      <td>1</td>\n",
       "      <td>Tuesday</td>\n",
       "    </tr>\n",
       "    <tr>\n",
       "      <th>2</th>\n",
       "      <td>2</td>\n",
       "      <td>2013-01-01</td>\n",
       "      <td>1</td>\n",
       "      <td>BEAUTY</td>\n",
       "      <td>0.000</td>\n",
       "      <td>0</td>\n",
       "      <td>770.0</td>\n",
       "      <td>Quito</td>\n",
       "      <td>Pichincha</td>\n",
       "      <td>D</td>\n",
       "      <td>13</td>\n",
       "      <td>2013</td>\n",
       "      <td>1</td>\n",
       "      <td>1</td>\n",
       "      <td>1</td>\n",
       "      <td>1</td>\n",
       "      <td>1</td>\n",
       "      <td>Tuesday</td>\n",
       "    </tr>\n",
       "    <tr>\n",
       "      <th>3</th>\n",
       "      <td>3</td>\n",
       "      <td>2013-01-01</td>\n",
       "      <td>1</td>\n",
       "      <td>BEVERAGES</td>\n",
       "      <td>0.000</td>\n",
       "      <td>0</td>\n",
       "      <td>770.0</td>\n",
       "      <td>Quito</td>\n",
       "      <td>Pichincha</td>\n",
       "      <td>D</td>\n",
       "      <td>13</td>\n",
       "      <td>2013</td>\n",
       "      <td>1</td>\n",
       "      <td>1</td>\n",
       "      <td>1</td>\n",
       "      <td>1</td>\n",
       "      <td>1</td>\n",
       "      <td>Tuesday</td>\n",
       "    </tr>\n",
       "    <tr>\n",
       "      <th>4</th>\n",
       "      <td>4</td>\n",
       "      <td>2013-01-01</td>\n",
       "      <td>1</td>\n",
       "      <td>BOOKS</td>\n",
       "      <td>0.000</td>\n",
       "      <td>0</td>\n",
       "      <td>770.0</td>\n",
       "      <td>Quito</td>\n",
       "      <td>Pichincha</td>\n",
       "      <td>D</td>\n",
       "      <td>13</td>\n",
       "      <td>2013</td>\n",
       "      <td>1</td>\n",
       "      <td>1</td>\n",
       "      <td>1</td>\n",
       "      <td>1</td>\n",
       "      <td>1</td>\n",
       "      <td>Tuesday</td>\n",
       "    </tr>\n",
       "    <tr>\n",
       "      <th>...</th>\n",
       "      <td>...</td>\n",
       "      <td>...</td>\n",
       "      <td>...</td>\n",
       "      <td>...</td>\n",
       "      <td>...</td>\n",
       "      <td>...</td>\n",
       "      <td>...</td>\n",
       "      <td>...</td>\n",
       "      <td>...</td>\n",
       "      <td>...</td>\n",
       "      <td>...</td>\n",
       "      <td>...</td>\n",
       "      <td>...</td>\n",
       "      <td>...</td>\n",
       "      <td>...</td>\n",
       "      <td>...</td>\n",
       "      <td>...</td>\n",
       "      <td>...</td>\n",
       "    </tr>\n",
       "    <tr>\n",
       "      <th>3000883</th>\n",
       "      <td>3000883</td>\n",
       "      <td>2017-08-15</td>\n",
       "      <td>9</td>\n",
       "      <td>POULTRY</td>\n",
       "      <td>438.133</td>\n",
       "      <td>0</td>\n",
       "      <td>2155.0</td>\n",
       "      <td>Quito</td>\n",
       "      <td>Pichincha</td>\n",
       "      <td>B</td>\n",
       "      <td>6</td>\n",
       "      <td>2017</td>\n",
       "      <td>8</td>\n",
       "      <td>15</td>\n",
       "      <td>1</td>\n",
       "      <td>33</td>\n",
       "      <td>3</td>\n",
       "      <td>Tuesday</td>\n",
       "    </tr>\n",
       "    <tr>\n",
       "      <th>3000884</th>\n",
       "      <td>3000884</td>\n",
       "      <td>2017-08-15</td>\n",
       "      <td>9</td>\n",
       "      <td>PREPARED FOODS</td>\n",
       "      <td>154.553</td>\n",
       "      <td>1</td>\n",
       "      <td>2155.0</td>\n",
       "      <td>Quito</td>\n",
       "      <td>Pichincha</td>\n",
       "      <td>B</td>\n",
       "      <td>6</td>\n",
       "      <td>2017</td>\n",
       "      <td>8</td>\n",
       "      <td>15</td>\n",
       "      <td>1</td>\n",
       "      <td>33</td>\n",
       "      <td>3</td>\n",
       "      <td>Tuesday</td>\n",
       "    </tr>\n",
       "    <tr>\n",
       "      <th>3000885</th>\n",
       "      <td>3000885</td>\n",
       "      <td>2017-08-15</td>\n",
       "      <td>9</td>\n",
       "      <td>PRODUCE</td>\n",
       "      <td>2419.729</td>\n",
       "      <td>148</td>\n",
       "      <td>2155.0</td>\n",
       "      <td>Quito</td>\n",
       "      <td>Pichincha</td>\n",
       "      <td>B</td>\n",
       "      <td>6</td>\n",
       "      <td>2017</td>\n",
       "      <td>8</td>\n",
       "      <td>15</td>\n",
       "      <td>1</td>\n",
       "      <td>33</td>\n",
       "      <td>3</td>\n",
       "      <td>Tuesday</td>\n",
       "    </tr>\n",
       "    <tr>\n",
       "      <th>3000886</th>\n",
       "      <td>3000886</td>\n",
       "      <td>2017-08-15</td>\n",
       "      <td>9</td>\n",
       "      <td>SCHOOL AND OFFICE SUPPLIES</td>\n",
       "      <td>121.000</td>\n",
       "      <td>8</td>\n",
       "      <td>2155.0</td>\n",
       "      <td>Quito</td>\n",
       "      <td>Pichincha</td>\n",
       "      <td>B</td>\n",
       "      <td>6</td>\n",
       "      <td>2017</td>\n",
       "      <td>8</td>\n",
       "      <td>15</td>\n",
       "      <td>1</td>\n",
       "      <td>33</td>\n",
       "      <td>3</td>\n",
       "      <td>Tuesday</td>\n",
       "    </tr>\n",
       "    <tr>\n",
       "      <th>3000887</th>\n",
       "      <td>3000887</td>\n",
       "      <td>2017-08-15</td>\n",
       "      <td>9</td>\n",
       "      <td>SEAFOOD</td>\n",
       "      <td>16.000</td>\n",
       "      <td>0</td>\n",
       "      <td>2155.0</td>\n",
       "      <td>Quito</td>\n",
       "      <td>Pichincha</td>\n",
       "      <td>B</td>\n",
       "      <td>6</td>\n",
       "      <td>2017</td>\n",
       "      <td>8</td>\n",
       "      <td>15</td>\n",
       "      <td>1</td>\n",
       "      <td>33</td>\n",
       "      <td>3</td>\n",
       "      <td>Tuesday</td>\n",
       "    </tr>\n",
       "  </tbody>\n",
       "</table>\n",
       "<p>3000888 rows × 18 columns</p>\n",
       "</div>"
      ],
      "text/plain": [
       "              id       date  store_nbr                      family     sales  \\\n",
       "0              0 2013-01-01          1                  AUTOMOTIVE     0.000   \n",
       "1              1 2013-01-01          1                   BABY CARE     0.000   \n",
       "2              2 2013-01-01          1                      BEAUTY     0.000   \n",
       "3              3 2013-01-01          1                   BEVERAGES     0.000   \n",
       "4              4 2013-01-01          1                       BOOKS     0.000   \n",
       "...          ...        ...        ...                         ...       ...   \n",
       "3000883  3000883 2017-08-15          9                     POULTRY   438.133   \n",
       "3000884  3000884 2017-08-15          9              PREPARED FOODS   154.553   \n",
       "3000885  3000885 2017-08-15          9                     PRODUCE  2419.729   \n",
       "3000886  3000886 2017-08-15          9  SCHOOL AND OFFICE SUPPLIES   121.000   \n",
       "3000887  3000887 2017-08-15          9                     SEAFOOD    16.000   \n",
       "\n",
       "         onpromotion  transactions   city      state type  cluster  year  \\\n",
       "0                  0         770.0  Quito  Pichincha    D       13  2013   \n",
       "1                  0         770.0  Quito  Pichincha    D       13  2013   \n",
       "2                  0         770.0  Quito  Pichincha    D       13  2013   \n",
       "3                  0         770.0  Quito  Pichincha    D       13  2013   \n",
       "4                  0         770.0  Quito  Pichincha    D       13  2013   \n",
       "...              ...           ...    ...        ...  ...      ...   ...   \n",
       "3000883            0        2155.0  Quito  Pichincha    B        6  2017   \n",
       "3000884            1        2155.0  Quito  Pichincha    B        6  2017   \n",
       "3000885          148        2155.0  Quito  Pichincha    B        6  2017   \n",
       "3000886            8        2155.0  Quito  Pichincha    B        6  2017   \n",
       "3000887            0        2155.0  Quito  Pichincha    B        6  2017   \n",
       "\n",
       "         month  day  weekday  week  quarter day_of_week  \n",
       "0            1    1        1     1        1     Tuesday  \n",
       "1            1    1        1     1        1     Tuesday  \n",
       "2            1    1        1     1        1     Tuesday  \n",
       "3            1    1        1     1        1     Tuesday  \n",
       "4            1    1        1     1        1     Tuesday  \n",
       "...        ...  ...      ...   ...      ...         ...  \n",
       "3000883      8   15        1    33        3     Tuesday  \n",
       "3000884      8   15        1    33        3     Tuesday  \n",
       "3000885      8   15        1    33        3     Tuesday  \n",
       "3000886      8   15        1    33        3     Tuesday  \n",
       "3000887      8   15        1    33        3     Tuesday  \n",
       "\n",
       "[3000888 rows x 18 columns]"
      ]
     },
     "execution_count": 84,
     "metadata": {},
     "output_type": "execute_result"
    }
   ],
   "source": [
    "df_train"
   ]
  },
  {
   "cell_type": "code",
   "execution_count": 85,
   "id": "ebf03e92",
   "metadata": {},
   "outputs": [],
   "source": [
    "#Creating lags\n",
    "#df_train['lag_1'] = df_train.groupby(\"family\")['sales'].shift(-1)\n",
    "\n",
    "#Creating lags\n",
    "df_train['lag_1'] = df_train['sales'].shift(-1)"
   ]
  },
  {
   "cell_type": "code",
   "execution_count": 86,
   "id": "1b384176",
   "metadata": {},
   "outputs": [],
   "source": [
    "#Creating sales for next day\n",
    "#This might cause data leakage\n",
    "#df_train['next_day_sales'] = df_train.groupby(\"family\")['sales'].shift(-1)\n",
    "#Creating sales for next day\n",
    "df_train['next_day_sales'] = df_train['sales'].shift(-1)"
   ]
  },
  {
   "cell_type": "code",
   "execution_count": 87,
   "id": "525feb59",
   "metadata": {},
   "outputs": [],
   "source": [
    "#df_train['sales_diff'] = df_train.groupby(\"family\")['sales'].diff(1)\n",
    "\n",
    "df_train['sales_diff'] = df_train['sales'].diff(1)"
   ]
  },
  {
   "cell_type": "code",
   "execution_count": 88,
   "id": "ed2ee1cf",
   "metadata": {},
   "outputs": [],
   "source": [
    "#Rolling statistics\n",
    "#df_train['mean']=df_train.groupby(\"family\")['sales'].rolling(2).mean().reset_index(level=0, drop=True)\n",
    "#df_train['median']=df_train.groupby(\"family\")['sales'].rolling(2).median().reset_index(level=0, drop=True)\n",
    "\n",
    "#Rolling statistics\n",
    "df_train['mean']=df_train['sales'].rolling(2).mean().reset_index(level=0, drop=True)\n",
    "df_train['median']=df_train['sales'].rolling(2).median().reset_index(level=0, drop=True)\n"
   ]
  },
  {
   "cell_type": "code",
   "execution_count": 89,
   "id": "4919cfab",
   "metadata": {},
   "outputs": [
    {
     "data": {
      "text/html": [
       "<div>\n",
       "<style scoped>\n",
       "    .dataframe tbody tr th:only-of-type {\n",
       "        vertical-align: middle;\n",
       "    }\n",
       "\n",
       "    .dataframe tbody tr th {\n",
       "        vertical-align: top;\n",
       "    }\n",
       "\n",
       "    .dataframe thead th {\n",
       "        text-align: right;\n",
       "    }\n",
       "</style>\n",
       "<table border=\"1\" class=\"dataframe\">\n",
       "  <thead>\n",
       "    <tr style=\"text-align: right;\">\n",
       "      <th></th>\n",
       "      <th>id</th>\n",
       "      <th>date</th>\n",
       "      <th>store_nbr</th>\n",
       "      <th>family</th>\n",
       "      <th>sales</th>\n",
       "      <th>Promotions</th>\n",
       "      <th>onpromotion</th>\n",
       "      <th>transactions</th>\n",
       "      <th>city</th>\n",
       "      <th>state</th>\n",
       "      <th>...</th>\n",
       "      <th>day</th>\n",
       "      <th>weekday</th>\n",
       "      <th>week</th>\n",
       "      <th>quarter</th>\n",
       "      <th>day_of_week</th>\n",
       "      <th>lag_1</th>\n",
       "      <th>next_day_sales</th>\n",
       "      <th>sales_diff</th>\n",
       "      <th>mean</th>\n",
       "      <th>median</th>\n",
       "    </tr>\n",
       "  </thead>\n",
       "  <tbody>\n",
       "    <tr>\n",
       "      <th>0</th>\n",
       "      <td>0</td>\n",
       "      <td>2013-01-01</td>\n",
       "      <td>1</td>\n",
       "      <td>AUTOMOTIVE</td>\n",
       "      <td>0.000</td>\n",
       "      <td>0</td>\n",
       "      <td>0</td>\n",
       "      <td>770.0</td>\n",
       "      <td>Quito</td>\n",
       "      <td>Pichincha</td>\n",
       "      <td>...</td>\n",
       "      <td>1</td>\n",
       "      <td>1</td>\n",
       "      <td>1</td>\n",
       "      <td>1</td>\n",
       "      <td>Tuesday</td>\n",
       "      <td>0.000</td>\n",
       "      <td>0.000</td>\n",
       "      <td>NaN</td>\n",
       "      <td>NaN</td>\n",
       "      <td>NaN</td>\n",
       "    </tr>\n",
       "    <tr>\n",
       "      <th>1</th>\n",
       "      <td>1</td>\n",
       "      <td>2013-01-01</td>\n",
       "      <td>1</td>\n",
       "      <td>BABY CARE</td>\n",
       "      <td>0.000</td>\n",
       "      <td>0</td>\n",
       "      <td>0</td>\n",
       "      <td>770.0</td>\n",
       "      <td>Quito</td>\n",
       "      <td>Pichincha</td>\n",
       "      <td>...</td>\n",
       "      <td>1</td>\n",
       "      <td>1</td>\n",
       "      <td>1</td>\n",
       "      <td>1</td>\n",
       "      <td>Tuesday</td>\n",
       "      <td>0.000</td>\n",
       "      <td>0.000</td>\n",
       "      <td>0.000</td>\n",
       "      <td>0.0000</td>\n",
       "      <td>0.0000</td>\n",
       "    </tr>\n",
       "    <tr>\n",
       "      <th>2</th>\n",
       "      <td>2</td>\n",
       "      <td>2013-01-01</td>\n",
       "      <td>1</td>\n",
       "      <td>BEAUTY</td>\n",
       "      <td>0.000</td>\n",
       "      <td>0</td>\n",
       "      <td>0</td>\n",
       "      <td>770.0</td>\n",
       "      <td>Quito</td>\n",
       "      <td>Pichincha</td>\n",
       "      <td>...</td>\n",
       "      <td>1</td>\n",
       "      <td>1</td>\n",
       "      <td>1</td>\n",
       "      <td>1</td>\n",
       "      <td>Tuesday</td>\n",
       "      <td>0.000</td>\n",
       "      <td>0.000</td>\n",
       "      <td>0.000</td>\n",
       "      <td>0.0000</td>\n",
       "      <td>0.0000</td>\n",
       "    </tr>\n",
       "    <tr>\n",
       "      <th>3</th>\n",
       "      <td>3</td>\n",
       "      <td>2013-01-01</td>\n",
       "      <td>1</td>\n",
       "      <td>BEVERAGES</td>\n",
       "      <td>0.000</td>\n",
       "      <td>0</td>\n",
       "      <td>0</td>\n",
       "      <td>770.0</td>\n",
       "      <td>Quito</td>\n",
       "      <td>Pichincha</td>\n",
       "      <td>...</td>\n",
       "      <td>1</td>\n",
       "      <td>1</td>\n",
       "      <td>1</td>\n",
       "      <td>1</td>\n",
       "      <td>Tuesday</td>\n",
       "      <td>0.000</td>\n",
       "      <td>0.000</td>\n",
       "      <td>0.000</td>\n",
       "      <td>0.0000</td>\n",
       "      <td>0.0000</td>\n",
       "    </tr>\n",
       "    <tr>\n",
       "      <th>4</th>\n",
       "      <td>4</td>\n",
       "      <td>2013-01-01</td>\n",
       "      <td>1</td>\n",
       "      <td>BOOKS</td>\n",
       "      <td>0.000</td>\n",
       "      <td>0</td>\n",
       "      <td>0</td>\n",
       "      <td>770.0</td>\n",
       "      <td>Quito</td>\n",
       "      <td>Pichincha</td>\n",
       "      <td>...</td>\n",
       "      <td>1</td>\n",
       "      <td>1</td>\n",
       "      <td>1</td>\n",
       "      <td>1</td>\n",
       "      <td>Tuesday</td>\n",
       "      <td>0.000</td>\n",
       "      <td>0.000</td>\n",
       "      <td>0.000</td>\n",
       "      <td>0.0000</td>\n",
       "      <td>0.0000</td>\n",
       "    </tr>\n",
       "    <tr>\n",
       "      <th>...</th>\n",
       "      <td>...</td>\n",
       "      <td>...</td>\n",
       "      <td>...</td>\n",
       "      <td>...</td>\n",
       "      <td>...</td>\n",
       "      <td>...</td>\n",
       "      <td>...</td>\n",
       "      <td>...</td>\n",
       "      <td>...</td>\n",
       "      <td>...</td>\n",
       "      <td>...</td>\n",
       "      <td>...</td>\n",
       "      <td>...</td>\n",
       "      <td>...</td>\n",
       "      <td>...</td>\n",
       "      <td>...</td>\n",
       "      <td>...</td>\n",
       "      <td>...</td>\n",
       "      <td>...</td>\n",
       "      <td>...</td>\n",
       "      <td>...</td>\n",
       "    </tr>\n",
       "    <tr>\n",
       "      <th>3000883</th>\n",
       "      <td>3000883</td>\n",
       "      <td>2017-08-15</td>\n",
       "      <td>9</td>\n",
       "      <td>POULTRY</td>\n",
       "      <td>438.133</td>\n",
       "      <td>0</td>\n",
       "      <td>0</td>\n",
       "      <td>2155.0</td>\n",
       "      <td>Quito</td>\n",
       "      <td>Pichincha</td>\n",
       "      <td>...</td>\n",
       "      <td>15</td>\n",
       "      <td>1</td>\n",
       "      <td>33</td>\n",
       "      <td>3</td>\n",
       "      <td>Tuesday</td>\n",
       "      <td>154.553</td>\n",
       "      <td>154.553</td>\n",
       "      <td>432.133</td>\n",
       "      <td>222.0665</td>\n",
       "      <td>222.0665</td>\n",
       "    </tr>\n",
       "    <tr>\n",
       "      <th>3000884</th>\n",
       "      <td>3000884</td>\n",
       "      <td>2017-08-15</td>\n",
       "      <td>9</td>\n",
       "      <td>PREPARED FOODS</td>\n",
       "      <td>154.553</td>\n",
       "      <td>1</td>\n",
       "      <td>1</td>\n",
       "      <td>2155.0</td>\n",
       "      <td>Quito</td>\n",
       "      <td>Pichincha</td>\n",
       "      <td>...</td>\n",
       "      <td>15</td>\n",
       "      <td>1</td>\n",
       "      <td>33</td>\n",
       "      <td>3</td>\n",
       "      <td>Tuesday</td>\n",
       "      <td>2419.729</td>\n",
       "      <td>2419.729</td>\n",
       "      <td>-283.580</td>\n",
       "      <td>296.3430</td>\n",
       "      <td>296.3430</td>\n",
       "    </tr>\n",
       "    <tr>\n",
       "      <th>3000885</th>\n",
       "      <td>3000885</td>\n",
       "      <td>2017-08-15</td>\n",
       "      <td>9</td>\n",
       "      <td>PRODUCE</td>\n",
       "      <td>2419.729</td>\n",
       "      <td>1</td>\n",
       "      <td>148</td>\n",
       "      <td>2155.0</td>\n",
       "      <td>Quito</td>\n",
       "      <td>Pichincha</td>\n",
       "      <td>...</td>\n",
       "      <td>15</td>\n",
       "      <td>1</td>\n",
       "      <td>33</td>\n",
       "      <td>3</td>\n",
       "      <td>Tuesday</td>\n",
       "      <td>121.000</td>\n",
       "      <td>121.000</td>\n",
       "      <td>2265.176</td>\n",
       "      <td>1287.1410</td>\n",
       "      <td>1287.1410</td>\n",
       "    </tr>\n",
       "    <tr>\n",
       "      <th>3000886</th>\n",
       "      <td>3000886</td>\n",
       "      <td>2017-08-15</td>\n",
       "      <td>9</td>\n",
       "      <td>SCHOOL AND OFFICE SUPPLIES</td>\n",
       "      <td>121.000</td>\n",
       "      <td>1</td>\n",
       "      <td>8</td>\n",
       "      <td>2155.0</td>\n",
       "      <td>Quito</td>\n",
       "      <td>Pichincha</td>\n",
       "      <td>...</td>\n",
       "      <td>15</td>\n",
       "      <td>1</td>\n",
       "      <td>33</td>\n",
       "      <td>3</td>\n",
       "      <td>Tuesday</td>\n",
       "      <td>16.000</td>\n",
       "      <td>16.000</td>\n",
       "      <td>-2298.729</td>\n",
       "      <td>1270.3645</td>\n",
       "      <td>1270.3645</td>\n",
       "    </tr>\n",
       "    <tr>\n",
       "      <th>3000887</th>\n",
       "      <td>3000887</td>\n",
       "      <td>2017-08-15</td>\n",
       "      <td>9</td>\n",
       "      <td>SEAFOOD</td>\n",
       "      <td>16.000</td>\n",
       "      <td>0</td>\n",
       "      <td>0</td>\n",
       "      <td>2155.0</td>\n",
       "      <td>Quito</td>\n",
       "      <td>Pichincha</td>\n",
       "      <td>...</td>\n",
       "      <td>15</td>\n",
       "      <td>1</td>\n",
       "      <td>33</td>\n",
       "      <td>3</td>\n",
       "      <td>Tuesday</td>\n",
       "      <td>NaN</td>\n",
       "      <td>NaN</td>\n",
       "      <td>-105.000</td>\n",
       "      <td>68.5000</td>\n",
       "      <td>68.5000</td>\n",
       "    </tr>\n",
       "  </tbody>\n",
       "</table>\n",
       "<p>3000888 rows × 24 columns</p>\n",
       "</div>"
      ],
      "text/plain": [
       "              id       date  store_nbr                      family     sales  \\\n",
       "0              0 2013-01-01          1                  AUTOMOTIVE     0.000   \n",
       "1              1 2013-01-01          1                   BABY CARE     0.000   \n",
       "2              2 2013-01-01          1                      BEAUTY     0.000   \n",
       "3              3 2013-01-01          1                   BEVERAGES     0.000   \n",
       "4              4 2013-01-01          1                       BOOKS     0.000   \n",
       "...          ...        ...        ...                         ...       ...   \n",
       "3000883  3000883 2017-08-15          9                     POULTRY   438.133   \n",
       "3000884  3000884 2017-08-15          9              PREPARED FOODS   154.553   \n",
       "3000885  3000885 2017-08-15          9                     PRODUCE  2419.729   \n",
       "3000886  3000886 2017-08-15          9  SCHOOL AND OFFICE SUPPLIES   121.000   \n",
       "3000887  3000887 2017-08-15          9                     SEAFOOD    16.000   \n",
       "\n",
       "         Promotions  onpromotion  transactions   city      state  ... day  \\\n",
       "0                 0            0         770.0  Quito  Pichincha  ...   1   \n",
       "1                 0            0         770.0  Quito  Pichincha  ...   1   \n",
       "2                 0            0         770.0  Quito  Pichincha  ...   1   \n",
       "3                 0            0         770.0  Quito  Pichincha  ...   1   \n",
       "4                 0            0         770.0  Quito  Pichincha  ...   1   \n",
       "...             ...          ...           ...    ...        ...  ...  ..   \n",
       "3000883           0            0        2155.0  Quito  Pichincha  ...  15   \n",
       "3000884           1            1        2155.0  Quito  Pichincha  ...  15   \n",
       "3000885           1          148        2155.0  Quito  Pichincha  ...  15   \n",
       "3000886           1            8        2155.0  Quito  Pichincha  ...  15   \n",
       "3000887           0            0        2155.0  Quito  Pichincha  ...  15   \n",
       "\n",
       "         weekday  week  quarter  day_of_week     lag_1  next_day_sales  \\\n",
       "0              1     1        1      Tuesday     0.000           0.000   \n",
       "1              1     1        1      Tuesday     0.000           0.000   \n",
       "2              1     1        1      Tuesday     0.000           0.000   \n",
       "3              1     1        1      Tuesday     0.000           0.000   \n",
       "4              1     1        1      Tuesday     0.000           0.000   \n",
       "...          ...   ...      ...          ...       ...             ...   \n",
       "3000883        1    33        3      Tuesday   154.553         154.553   \n",
       "3000884        1    33        3      Tuesday  2419.729        2419.729   \n",
       "3000885        1    33        3      Tuesday   121.000         121.000   \n",
       "3000886        1    33        3      Tuesday    16.000          16.000   \n",
       "3000887        1    33        3      Tuesday       NaN             NaN   \n",
       "\n",
       "         sales_diff       mean     median  \n",
       "0               NaN        NaN        NaN  \n",
       "1             0.000     0.0000     0.0000  \n",
       "2             0.000     0.0000     0.0000  \n",
       "3             0.000     0.0000     0.0000  \n",
       "4             0.000     0.0000     0.0000  \n",
       "...             ...        ...        ...  \n",
       "3000883     432.133   222.0665   222.0665  \n",
       "3000884    -283.580   296.3430   296.3430  \n",
       "3000885    2265.176  1287.1410  1287.1410  \n",
       "3000886   -2298.729  1270.3645  1270.3645  \n",
       "3000887    -105.000    68.5000    68.5000  \n",
       "\n",
       "[3000888 rows x 24 columns]"
      ]
     },
     "execution_count": 89,
     "metadata": {},
     "output_type": "execute_result"
    }
   ],
   "source": [
    "#One-hot encoding the on promotion column\n",
    "#a= df_train[\"onpromotion\"]\n",
    "category= pd.cut(df_train[\"onpromotion\"],bins=[.0,0.9,400,741],labels=[\"False\",\"True\",\"True\"],ordered=False)\n",
    "df_train.insert(5,\"Promotions\",category)\n",
    "\n",
    "#Lets replace the missing values in the sector column with 'undisclosed'\n",
    "df_train['Promotions'].fillna('False', inplace = True)\n",
    "df_train\n",
    "\n",
    "from sklearn.preprocessing import LabelEncoder\n",
    "promotion_encoder = LabelEncoder()\n",
    "df_train['Promotions'] = promotion_encoder.fit_transform(df_train['Promotions'])\n",
    "df_train"
   ]
  },
  {
   "cell_type": "code",
   "execution_count": 119,
   "id": "7051872c",
   "metadata": {},
   "outputs": [],
   "source": [
    "#df_train['freq'] = df_train['date'].asfreq(freq=\"M\", fill_value= \"bfill\")"
   ]
  },
  {
   "cell_type": "code",
   "execution_count": 120,
   "id": "68ce1ba1",
   "metadata": {},
   "outputs": [
    {
     "data": {
      "text/html": [
       "<div>\n",
       "<style scoped>\n",
       "    .dataframe tbody tr th:only-of-type {\n",
       "        vertical-align: middle;\n",
       "    }\n",
       "\n",
       "    .dataframe tbody tr th {\n",
       "        vertical-align: top;\n",
       "    }\n",
       "\n",
       "    .dataframe thead th {\n",
       "        text-align: right;\n",
       "    }\n",
       "</style>\n",
       "<table border=\"1\" class=\"dataframe\">\n",
       "  <thead>\n",
       "    <tr style=\"text-align: right;\">\n",
       "      <th></th>\n",
       "      <th>id</th>\n",
       "      <th>date</th>\n",
       "      <th>store_nbr</th>\n",
       "      <th>family</th>\n",
       "      <th>sales</th>\n",
       "      <th>Promotions</th>\n",
       "      <th>onpromotion</th>\n",
       "      <th>transactions</th>\n",
       "      <th>city</th>\n",
       "      <th>state</th>\n",
       "      <th>...</th>\n",
       "      <th>weekday</th>\n",
       "      <th>week</th>\n",
       "      <th>quarter</th>\n",
       "      <th>day_of_week</th>\n",
       "      <th>lag_1</th>\n",
       "      <th>next_day_sales</th>\n",
       "      <th>sales_diff</th>\n",
       "      <th>mean</th>\n",
       "      <th>median</th>\n",
       "      <th>freq</th>\n",
       "    </tr>\n",
       "  </thead>\n",
       "  <tbody>\n",
       "    <tr>\n",
       "      <th>3000883</th>\n",
       "      <td>3000883</td>\n",
       "      <td>2017-08-15</td>\n",
       "      <td>9</td>\n",
       "      <td>POULTRY</td>\n",
       "      <td>438.133</td>\n",
       "      <td>0</td>\n",
       "      <td>0</td>\n",
       "      <td>2155.0</td>\n",
       "      <td>Quito</td>\n",
       "      <td>Pichincha</td>\n",
       "      <td>...</td>\n",
       "      <td>1</td>\n",
       "      <td>33</td>\n",
       "      <td>3</td>\n",
       "      <td>Tuesday</td>\n",
       "      <td>154.553</td>\n",
       "      <td>154.553</td>\n",
       "      <td>432.133</td>\n",
       "      <td>222.0665</td>\n",
       "      <td>222.0665</td>\n",
       "      <td>NaN</td>\n",
       "    </tr>\n",
       "    <tr>\n",
       "      <th>3000884</th>\n",
       "      <td>3000884</td>\n",
       "      <td>2017-08-15</td>\n",
       "      <td>9</td>\n",
       "      <td>PREPARED FOODS</td>\n",
       "      <td>154.553</td>\n",
       "      <td>1</td>\n",
       "      <td>1</td>\n",
       "      <td>2155.0</td>\n",
       "      <td>Quito</td>\n",
       "      <td>Pichincha</td>\n",
       "      <td>...</td>\n",
       "      <td>1</td>\n",
       "      <td>33</td>\n",
       "      <td>3</td>\n",
       "      <td>Tuesday</td>\n",
       "      <td>2419.729</td>\n",
       "      <td>2419.729</td>\n",
       "      <td>-283.580</td>\n",
       "      <td>296.3430</td>\n",
       "      <td>296.3430</td>\n",
       "      <td>NaN</td>\n",
       "    </tr>\n",
       "    <tr>\n",
       "      <th>3000885</th>\n",
       "      <td>3000885</td>\n",
       "      <td>2017-08-15</td>\n",
       "      <td>9</td>\n",
       "      <td>PRODUCE</td>\n",
       "      <td>2419.729</td>\n",
       "      <td>1</td>\n",
       "      <td>148</td>\n",
       "      <td>2155.0</td>\n",
       "      <td>Quito</td>\n",
       "      <td>Pichincha</td>\n",
       "      <td>...</td>\n",
       "      <td>1</td>\n",
       "      <td>33</td>\n",
       "      <td>3</td>\n",
       "      <td>Tuesday</td>\n",
       "      <td>121.000</td>\n",
       "      <td>121.000</td>\n",
       "      <td>2265.176</td>\n",
       "      <td>1287.1410</td>\n",
       "      <td>1287.1410</td>\n",
       "      <td>NaN</td>\n",
       "    </tr>\n",
       "    <tr>\n",
       "      <th>3000886</th>\n",
       "      <td>3000886</td>\n",
       "      <td>2017-08-15</td>\n",
       "      <td>9</td>\n",
       "      <td>SCHOOL AND OFFICE SUPPLIES</td>\n",
       "      <td>121.000</td>\n",
       "      <td>1</td>\n",
       "      <td>8</td>\n",
       "      <td>2155.0</td>\n",
       "      <td>Quito</td>\n",
       "      <td>Pichincha</td>\n",
       "      <td>...</td>\n",
       "      <td>1</td>\n",
       "      <td>33</td>\n",
       "      <td>3</td>\n",
       "      <td>Tuesday</td>\n",
       "      <td>16.000</td>\n",
       "      <td>16.000</td>\n",
       "      <td>-2298.729</td>\n",
       "      <td>1270.3645</td>\n",
       "      <td>1270.3645</td>\n",
       "      <td>NaN</td>\n",
       "    </tr>\n",
       "    <tr>\n",
       "      <th>3000887</th>\n",
       "      <td>3000887</td>\n",
       "      <td>2017-08-15</td>\n",
       "      <td>9</td>\n",
       "      <td>SEAFOOD</td>\n",
       "      <td>16.000</td>\n",
       "      <td>0</td>\n",
       "      <td>0</td>\n",
       "      <td>2155.0</td>\n",
       "      <td>Quito</td>\n",
       "      <td>Pichincha</td>\n",
       "      <td>...</td>\n",
       "      <td>1</td>\n",
       "      <td>33</td>\n",
       "      <td>3</td>\n",
       "      <td>Tuesday</td>\n",
       "      <td>NaN</td>\n",
       "      <td>NaN</td>\n",
       "      <td>-105.000</td>\n",
       "      <td>68.5000</td>\n",
       "      <td>68.5000</td>\n",
       "      <td>NaN</td>\n",
       "    </tr>\n",
       "  </tbody>\n",
       "</table>\n",
       "<p>5 rows × 25 columns</p>\n",
       "</div>"
      ],
      "text/plain": [
       "              id       date  store_nbr                      family     sales  \\\n",
       "3000883  3000883 2017-08-15          9                     POULTRY   438.133   \n",
       "3000884  3000884 2017-08-15          9              PREPARED FOODS   154.553   \n",
       "3000885  3000885 2017-08-15          9                     PRODUCE  2419.729   \n",
       "3000886  3000886 2017-08-15          9  SCHOOL AND OFFICE SUPPLIES   121.000   \n",
       "3000887  3000887 2017-08-15          9                     SEAFOOD    16.000   \n",
       "\n",
       "         Promotions  onpromotion  transactions   city      state  ... weekday  \\\n",
       "3000883           0            0        2155.0  Quito  Pichincha  ...       1   \n",
       "3000884           1            1        2155.0  Quito  Pichincha  ...       1   \n",
       "3000885           1          148        2155.0  Quito  Pichincha  ...       1   \n",
       "3000886           1            8        2155.0  Quito  Pichincha  ...       1   \n",
       "3000887           0            0        2155.0  Quito  Pichincha  ...       1   \n",
       "\n",
       "         week  quarter  day_of_week     lag_1  next_day_sales  sales_diff  \\\n",
       "3000883    33        3      Tuesday   154.553         154.553     432.133   \n",
       "3000884    33        3      Tuesday  2419.729        2419.729    -283.580   \n",
       "3000885    33        3      Tuesday   121.000         121.000    2265.176   \n",
       "3000886    33        3      Tuesday    16.000          16.000   -2298.729   \n",
       "3000887    33        3      Tuesday       NaN             NaN    -105.000   \n",
       "\n",
       "              mean     median  freq  \n",
       "3000883   222.0665   222.0665   NaN  \n",
       "3000884   296.3430   296.3430   NaN  \n",
       "3000885  1287.1410  1287.1410   NaN  \n",
       "3000886  1270.3645  1270.3645   NaN  \n",
       "3000887    68.5000    68.5000   NaN  \n",
       "\n",
       "[5 rows x 25 columns]"
      ]
     },
     "execution_count": 120,
     "metadata": {},
     "output_type": "execute_result"
    }
   ],
   "source": [
    "#df_train.tail()"
   ]
  },
  {
   "cell_type": "code",
   "execution_count": 90,
   "id": "5b27b131",
   "metadata": {},
   "outputs": [],
   "source": [
    "data =df_train[['date','sales','day','weekday','month','lag_1','next_day_sales','sales_diff','mean','median','Promotions','freq']]"
   ]
  },
  {
   "cell_type": "code",
   "execution_count": 91,
   "id": "d5409c77",
   "metadata": {},
   "outputs": [
    {
     "name": "stdout",
     "output_type": "stream",
     "text": [
      "<class 'pandas.core.frame.DataFrame'>\n",
      "RangeIndex: 3000886 entries, 0 to 3000885\n",
      "Data columns (total 8 columns):\n",
      " #   Column          Dtype         \n",
      "---  ------          -----         \n",
      " 0   date            datetime64[ns]\n",
      " 1   sales           float64       \n",
      " 2   lag_1           float64       \n",
      " 3   next_day_sales  float64       \n",
      " 4   sales_diff      float64       \n",
      " 5   mean            float64       \n",
      " 6   median          float64       \n",
      " 7   Promotions      int32         \n",
      "dtypes: datetime64[ns](1), float64(6), int32(1)\n",
      "memory usage: 171.7 MB\n"
     ]
    },
    {
     "name": "stderr",
     "output_type": "stream",
     "text": [
      "C:\\Users\\SISEY\\AppData\\Local\\Temp\\ipykernel_17396\\1427526036.py:2: SettingWithCopyWarning: \n",
      "A value is trying to be set on a copy of a slice from a DataFrame\n",
      "\n",
      "See the caveats in the documentation: https://pandas.pydata.org/pandas-docs/stable/user_guide/indexing.html#returning-a-view-versus-a-copy\n",
      "  data.dropna(inplace=True)\n"
     ]
    }
   ],
   "source": [
    "# Dropping missing values\n",
    "data.dropna(inplace=True)\n",
    "data.reset_index(drop=True, inplace=True)\n",
    "data.info()"
   ]
  },
  {
   "cell_type": "markdown",
   "id": "a12e6fdd",
   "metadata": {},
   "source": [
    "# Modeling and Prediction "
   ]
  },
  {
   "cell_type": "code",
   "execution_count": 92,
   "id": "4f0de497",
   "metadata": {},
   "outputs": [
    {
     "data": {
      "text/html": [
       "<div>\n",
       "<style scoped>\n",
       "    .dataframe tbody tr th:only-of-type {\n",
       "        vertical-align: middle;\n",
       "    }\n",
       "\n",
       "    .dataframe tbody tr th {\n",
       "        vertical-align: top;\n",
       "    }\n",
       "\n",
       "    .dataframe thead th {\n",
       "        text-align: right;\n",
       "    }\n",
       "</style>\n",
       "<table border=\"1\" class=\"dataframe\">\n",
       "  <thead>\n",
       "    <tr style=\"text-align: right;\">\n",
       "      <th></th>\n",
       "      <th>date</th>\n",
       "      <th>sales</th>\n",
       "      <th>lag_1</th>\n",
       "      <th>next_day_sales</th>\n",
       "      <th>sales_diff</th>\n",
       "      <th>mean</th>\n",
       "      <th>median</th>\n",
       "      <th>Promotions</th>\n",
       "    </tr>\n",
       "  </thead>\n",
       "  <tbody>\n",
       "    <tr>\n",
       "      <th>0</th>\n",
       "      <td>2013-01-01</td>\n",
       "      <td>0.000</td>\n",
       "      <td>0.000</td>\n",
       "      <td>0.000</td>\n",
       "      <td>0.000</td>\n",
       "      <td>0.0000</td>\n",
       "      <td>0.0000</td>\n",
       "      <td>0</td>\n",
       "    </tr>\n",
       "    <tr>\n",
       "      <th>1</th>\n",
       "      <td>2013-01-01</td>\n",
       "      <td>0.000</td>\n",
       "      <td>0.000</td>\n",
       "      <td>0.000</td>\n",
       "      <td>0.000</td>\n",
       "      <td>0.0000</td>\n",
       "      <td>0.0000</td>\n",
       "      <td>0</td>\n",
       "    </tr>\n",
       "    <tr>\n",
       "      <th>2</th>\n",
       "      <td>2013-01-01</td>\n",
       "      <td>0.000</td>\n",
       "      <td>0.000</td>\n",
       "      <td>0.000</td>\n",
       "      <td>0.000</td>\n",
       "      <td>0.0000</td>\n",
       "      <td>0.0000</td>\n",
       "      <td>0</td>\n",
       "    </tr>\n",
       "    <tr>\n",
       "      <th>3</th>\n",
       "      <td>2013-01-01</td>\n",
       "      <td>0.000</td>\n",
       "      <td>0.000</td>\n",
       "      <td>0.000</td>\n",
       "      <td>0.000</td>\n",
       "      <td>0.0000</td>\n",
       "      <td>0.0000</td>\n",
       "      <td>0</td>\n",
       "    </tr>\n",
       "    <tr>\n",
       "      <th>4</th>\n",
       "      <td>2013-01-01</td>\n",
       "      <td>0.000</td>\n",
       "      <td>0.000</td>\n",
       "      <td>0.000</td>\n",
       "      <td>0.000</td>\n",
       "      <td>0.0000</td>\n",
       "      <td>0.0000</td>\n",
       "      <td>0</td>\n",
       "    </tr>\n",
       "    <tr>\n",
       "      <th>...</th>\n",
       "      <td>...</td>\n",
       "      <td>...</td>\n",
       "      <td>...</td>\n",
       "      <td>...</td>\n",
       "      <td>...</td>\n",
       "      <td>...</td>\n",
       "      <td>...</td>\n",
       "      <td>...</td>\n",
       "    </tr>\n",
       "    <tr>\n",
       "      <th>3000881</th>\n",
       "      <td>2017-08-15</td>\n",
       "      <td>6.000</td>\n",
       "      <td>438.133</td>\n",
       "      <td>438.133</td>\n",
       "      <td>0.000</td>\n",
       "      <td>6.0000</td>\n",
       "      <td>6.0000</td>\n",
       "      <td>0</td>\n",
       "    </tr>\n",
       "    <tr>\n",
       "      <th>3000882</th>\n",
       "      <td>2017-08-15</td>\n",
       "      <td>438.133</td>\n",
       "      <td>154.553</td>\n",
       "      <td>154.553</td>\n",
       "      <td>432.133</td>\n",
       "      <td>222.0665</td>\n",
       "      <td>222.0665</td>\n",
       "      <td>0</td>\n",
       "    </tr>\n",
       "    <tr>\n",
       "      <th>3000883</th>\n",
       "      <td>2017-08-15</td>\n",
       "      <td>154.553</td>\n",
       "      <td>2419.729</td>\n",
       "      <td>2419.729</td>\n",
       "      <td>-283.580</td>\n",
       "      <td>296.3430</td>\n",
       "      <td>296.3430</td>\n",
       "      <td>1</td>\n",
       "    </tr>\n",
       "    <tr>\n",
       "      <th>3000884</th>\n",
       "      <td>2017-08-15</td>\n",
       "      <td>2419.729</td>\n",
       "      <td>121.000</td>\n",
       "      <td>121.000</td>\n",
       "      <td>2265.176</td>\n",
       "      <td>1287.1410</td>\n",
       "      <td>1287.1410</td>\n",
       "      <td>1</td>\n",
       "    </tr>\n",
       "    <tr>\n",
       "      <th>3000885</th>\n",
       "      <td>2017-08-15</td>\n",
       "      <td>121.000</td>\n",
       "      <td>16.000</td>\n",
       "      <td>16.000</td>\n",
       "      <td>-2298.729</td>\n",
       "      <td>1270.3645</td>\n",
       "      <td>1270.3645</td>\n",
       "      <td>1</td>\n",
       "    </tr>\n",
       "  </tbody>\n",
       "</table>\n",
       "<p>3000886 rows × 8 columns</p>\n",
       "</div>"
      ],
      "text/plain": [
       "              date     sales     lag_1  next_day_sales  sales_diff       mean  \\\n",
       "0       2013-01-01     0.000     0.000           0.000       0.000     0.0000   \n",
       "1       2013-01-01     0.000     0.000           0.000       0.000     0.0000   \n",
       "2       2013-01-01     0.000     0.000           0.000       0.000     0.0000   \n",
       "3       2013-01-01     0.000     0.000           0.000       0.000     0.0000   \n",
       "4       2013-01-01     0.000     0.000           0.000       0.000     0.0000   \n",
       "...            ...       ...       ...             ...         ...        ...   \n",
       "3000881 2017-08-15     6.000   438.133         438.133       0.000     6.0000   \n",
       "3000882 2017-08-15   438.133   154.553         154.553     432.133   222.0665   \n",
       "3000883 2017-08-15   154.553  2419.729        2419.729    -283.580   296.3430   \n",
       "3000884 2017-08-15  2419.729   121.000         121.000    2265.176  1287.1410   \n",
       "3000885 2017-08-15   121.000    16.000          16.000   -2298.729  1270.3645   \n",
       "\n",
       "            median  Promotions  \n",
       "0           0.0000           0  \n",
       "1           0.0000           0  \n",
       "2           0.0000           0  \n",
       "3           0.0000           0  \n",
       "4           0.0000           0  \n",
       "...            ...         ...  \n",
       "3000881     6.0000           0  \n",
       "3000882   222.0665           0  \n",
       "3000883   296.3430           1  \n",
       "3000884  1287.1410           1  \n",
       "3000885  1270.3645           1  \n",
       "\n",
       "[3000886 rows x 8 columns]"
      ]
     },
     "execution_count": 92,
     "metadata": {},
     "output_type": "execute_result"
    }
   ],
   "source": [
    "data"
   ]
  },
  {
   "cell_type": "code",
   "execution_count": 93,
   "id": "c2828b73",
   "metadata": {},
   "outputs": [
    {
     "data": {
      "text/plain": [
       "<AxesSubplot:>"
      ]
     },
     "execution_count": 93,
     "metadata": {},
     "output_type": "execute_result"
    },
    {
     "data": {
      "image/png": "[encoded data removed]",
      "text/plain": [
       "<Figure size 432x288 with 2 Axes>"
      ]
     },
     "metadata": {
      "needs_background": "light"
     },
     "output_type": "display_data"
    }
   ],
   "source": [
    "sns.heatmap(data.corr())"
   ]
  },
  {
   "cell_type": "code",
   "execution_count": 94,
   "id": "8e95658c",
   "metadata": {},
   "outputs": [],
   "source": [
    "#Train.shape, valid.shape\n",
    "#train_data = data.loc[~(data[\"date\"].isin([2017]) & data[\"date\"].isin([10,11,12]))]\n",
    "#val_data = data.loc[(data[\"date\"].isin([2017]) & data[\"date\"].isin([10,11,12]))]\n",
    "#val_data.tail()\n",
    "#val_data.tail()"
   ]
  },
  {
   "cell_type": "code",
   "execution_count": 95,
   "id": "3f5667d3",
   "metadata": {},
   "outputs": [
    {
     "data": {
      "text/html": [
       "<div>\n",
       "<style scoped>\n",
       "    .dataframe tbody tr th:only-of-type {\n",
       "        vertical-align: middle;\n",
       "    }\n",
       "\n",
       "    .dataframe tbody tr th {\n",
       "        vertical-align: top;\n",
       "    }\n",
       "\n",
       "    .dataframe thead th {\n",
       "        text-align: right;\n",
       "    }\n",
       "</style>\n",
       "<table border=\"1\" class=\"dataframe\">\n",
       "  <thead>\n",
       "    <tr style=\"text-align: right;\">\n",
       "      <th></th>\n",
       "      <th>date</th>\n",
       "      <th>sales</th>\n",
       "      <th>lag_1</th>\n",
       "      <th>next_day_sales</th>\n",
       "      <th>sales_diff</th>\n",
       "      <th>mean</th>\n",
       "      <th>median</th>\n",
       "      <th>Promotions</th>\n",
       "    </tr>\n",
       "    <tr>\n",
       "      <th>date</th>\n",
       "      <th></th>\n",
       "      <th></th>\n",
       "      <th></th>\n",
       "      <th></th>\n",
       "      <th></th>\n",
       "      <th></th>\n",
       "      <th></th>\n",
       "      <th></th>\n",
       "    </tr>\n",
       "  </thead>\n",
       "  <tbody>\n",
       "    <tr>\n",
       "      <th>2017-07-01</th>\n",
       "      <td>2017-07-01</td>\n",
       "      <td>7.0</td>\n",
       "      <td>0.000</td>\n",
       "      <td>0.000</td>\n",
       "      <td>-15.438</td>\n",
       "      <td>14.719</td>\n",
       "      <td>14.719</td>\n",
       "      <td>0</td>\n",
       "    </tr>\n",
       "    <tr>\n",
       "      <th>2017-07-01</th>\n",
       "      <td>2017-07-01</td>\n",
       "      <td>0.0</td>\n",
       "      <td>7.000</td>\n",
       "      <td>7.000</td>\n",
       "      <td>-7.000</td>\n",
       "      <td>3.500</td>\n",
       "      <td>3.500</td>\n",
       "      <td>0</td>\n",
       "    </tr>\n",
       "    <tr>\n",
       "      <th>2017-07-01</th>\n",
       "      <td>2017-07-01</td>\n",
       "      <td>7.0</td>\n",
       "      <td>2596.000</td>\n",
       "      <td>2596.000</td>\n",
       "      <td>7.000</td>\n",
       "      <td>3.500</td>\n",
       "      <td>3.500</td>\n",
       "      <td>1</td>\n",
       "    </tr>\n",
       "    <tr>\n",
       "      <th>2017-07-01</th>\n",
       "      <td>2017-07-01</td>\n",
       "      <td>2596.0</td>\n",
       "      <td>0.000</td>\n",
       "      <td>0.000</td>\n",
       "      <td>2589.000</td>\n",
       "      <td>1301.500</td>\n",
       "      <td>1301.500</td>\n",
       "      <td>1</td>\n",
       "    </tr>\n",
       "    <tr>\n",
       "      <th>2017-07-01</th>\n",
       "      <td>2017-07-01</td>\n",
       "      <td>0.0</td>\n",
       "      <td>344.722</td>\n",
       "      <td>344.722</td>\n",
       "      <td>-2596.000</td>\n",
       "      <td>1298.000</td>\n",
       "      <td>1298.000</td>\n",
       "      <td>0</td>\n",
       "    </tr>\n",
       "  </tbody>\n",
       "</table>\n",
       "</div>"
      ],
      "text/plain": [
       "                 date   sales     lag_1  next_day_sales  sales_diff      mean  \\\n",
       "date                                                                            \n",
       "2017-07-01 2017-07-01     7.0     0.000           0.000     -15.438    14.719   \n",
       "2017-07-01 2017-07-01     0.0     7.000           7.000      -7.000     3.500   \n",
       "2017-07-01 2017-07-01     7.0  2596.000        2596.000       7.000     3.500   \n",
       "2017-07-01 2017-07-01  2596.0     0.000           0.000    2589.000  1301.500   \n",
       "2017-07-01 2017-07-01     0.0   344.722         344.722   -2596.000  1298.000   \n",
       "\n",
       "              median  Promotions  \n",
       "date                              \n",
       "2017-07-01    14.719           0  \n",
       "2017-07-01     3.500           0  \n",
       "2017-07-01     3.500           1  \n",
       "2017-07-01  1301.500           1  \n",
       "2017-07-01  1298.000           0  "
      ]
     },
     "execution_count": 95,
     "metadata": {},
     "output_type": "execute_result"
    }
   ],
   "source": [
    "#Split data into train and validation data\n",
    "#data['date'].min(), data['date'].max(), (data['date'].max() -data['date'].min())\n",
    "\n",
    "data.index = pd.to_datetime(data['date'])\n",
    "\n",
    "train1=data.loc['2013-01-01':'2017-06-30'] \n",
    "valid=data.loc['2017-07-01':'2017-08-15']\n",
    "\n",
    "train1.shape, valid.shape\n",
    "valid.head()"
   ]
  },
  {
   "cell_type": "code",
   "execution_count": 96,
   "id": "a7f433b5",
   "metadata": {},
   "outputs": [
    {
     "data": {
      "text/plain": [
       "date\n",
       "2013-01-01       0.000\n",
       "2013-01-01       0.000\n",
       "2013-01-01       0.000\n",
       "2013-01-01       0.000\n",
       "2013-01-01       0.000\n",
       "                ...   \n",
       "2017-06-30     561.609\n",
       "2017-06-30     113.306\n",
       "2017-06-30    1522.438\n",
       "2017-06-30       0.000\n",
       "2017-06-30      22.438\n",
       "Name: sales, Length: 2918915, dtype: float64"
      ]
     },
     "execution_count": 96,
     "metadata": {},
     "output_type": "execute_result"
    }
   ],
   "source": [
    "\n",
    "X_train =train1.drop(columns=[\"sales\",\"date\"])\n",
    "#y_train =train1.drop(columns=[\"date\",\"lag_1\",\"next_day_sales\",\"sales_diff\",\"mean\",\"date\"])\n",
    "#y_train =y_train.drop(columns=[\"date\"])\n",
    "y_train=train1[\"sales\"]\n",
    "y_train"
   ]
  },
  {
   "cell_type": "code",
   "execution_count": null,
   "id": "57bf6f62",
   "metadata": {},
   "outputs": [],
   "source": []
  },
  {
   "cell_type": "code",
   "execution_count": 97,
   "id": "8f958d61",
   "metadata": {},
   "outputs": [],
   "source": [
    "#Encoding data\n",
    "label_encoder= preprocessing.LabelEncoder()\n",
    "y_train= label_encoder.fit_transform(y_train)"
   ]
  },
  {
   "cell_type": "code",
   "execution_count": 98,
   "id": "0f80c1ea",
   "metadata": {},
   "outputs": [
    {
     "data": {
      "text/html": [
       "<style>#sk-container-id-1 {color: black;background-color: white;}#sk-container-id-1 pre{padding: 0;}#sk-container-id-1 div.sk-toggleable {background-color: white;}#sk-container-id-1 label.sk-toggleable__label {cursor: pointer;display: block;width: 100%;margin-bottom: 0;padding: 0.3em;box-sizing: border-box;text-align: center;}#sk-container-id-1 label.sk-toggleable__label-arrow:before {content: \"▸\";float: left;margin-right: 0.25em;color: #696969;}#sk-container-id-1 label.sk-toggleable__label-arrow:hover:before {color: black;}#sk-container-id-1 div.sk-estimator:hover label.sk-toggleable__label-arrow:before {color: black;}#sk-container-id-1 div.sk-toggleable__content {max-height: 0;max-width: 0;overflow: hidden;text-align: left;background-color: #f0f8ff;}#sk-container-id-1 div.sk-toggleable__content pre {margin: 0.2em;color: black;border-radius: 0.25em;background-color: #f0f8ff;}#sk-container-id-1 input.sk-toggleable__control:checked~div.sk-toggleable__content {max-height: 200px;max-width: 100%;overflow: auto;}#sk-container-id-1 input.sk-toggleable__control:checked~label.sk-toggleable__label-arrow:before {content: \"▾\";}#sk-container-id-1 div.sk-estimator input.sk-toggleable__control:checked~label.sk-toggleable__label {background-color: #d4ebff;}#sk-container-id-1 div.sk-label input.sk-toggleable__control:checked~label.sk-toggleable__label {background-color: #d4ebff;}#sk-container-id-1 input.sk-hidden--visually {border: 0;clip: rect(1px 1px 1px 1px);clip: rect(1px, 1px, 1px, 1px);height: 1px;margin: -1px;overflow: hidden;padding: 0;position: absolute;width: 1px;}#sk-container-id-1 div.sk-estimator {font-family: monospace;background-color: #f0f8ff;border: 1px dotted black;border-radius: 0.25em;box-sizing: border-box;margin-bottom: 0.5em;}#sk-container-id-1 div.sk-estimator:hover {background-color: #d4ebff;}#sk-container-id-1 div.sk-parallel-item::after {content: \"\";width: 100%;border-bottom: 1px solid gray;flex-grow: 1;}#sk-container-id-1 div.sk-label:hover label.sk-toggleable__label {background-color: #d4ebff;}#sk-container-id-1 div.sk-serial::before {content: \"\";position: absolute;border-left: 1px solid gray;box-sizing: border-box;top: 0;bottom: 0;left: 50%;z-index: 0;}#sk-container-id-1 div.sk-serial {display: flex;flex-direction: column;align-items: center;background-color: white;padding-right: 0.2em;padding-left: 0.2em;position: relative;}#sk-container-id-1 div.sk-item {position: relative;z-index: 1;}#sk-container-id-1 div.sk-parallel {display: flex;align-items: stretch;justify-content: center;background-color: white;position: relative;}#sk-container-id-1 div.sk-item::before, #sk-container-id-1 div.sk-parallel-item::before {content: \"\";position: absolute;border-left: 1px solid gray;box-sizing: border-box;top: 0;bottom: 0;left: 50%;z-index: -1;}#sk-container-id-1 div.sk-parallel-item {display: flex;flex-direction: column;z-index: 1;position: relative;background-color: white;}#sk-container-id-1 div.sk-parallel-item:first-child::after {align-self: flex-end;width: 50%;}#sk-container-id-1 div.sk-parallel-item:last-child::after {align-self: flex-start;width: 50%;}#sk-container-id-1 div.sk-parallel-item:only-child::after {width: 0;}#sk-container-id-1 div.sk-dashed-wrapped {border: 1px dashed gray;margin: 0 0.4em 0.5em 0.4em;box-sizing: border-box;padding-bottom: 0.4em;background-color: white;}#sk-container-id-1 div.sk-label label {font-family: monospace;font-weight: bold;display: inline-block;line-height: 1.2em;}#sk-container-id-1 div.sk-label-container {text-align: center;}#sk-container-id-1 div.sk-container {/* jupyter's `normalize.less` sets `[hidden] { display: none; }` but bootstrap.min.css set `[hidden] { display: none !important; }` so we also need the `!important` here to be able to override the default hidden behavior on the sphinx rendered scikit-learn.org. See: https://github.com/scikit-learn/scikit-learn/issues/21755 */display: inline-block !important;position: relative;}#sk-container-id-1 div.sk-text-repr-fallback {display: none;}</style><div id=\"sk-container-id-1\" class=\"sk-top-container\"><div class=\"sk-text-repr-fallback\"><pre>RandomForestRegressor(max_depth=6, n_jobs=3, random_state=0)</pre><b>In a Jupyter environment, please rerun this cell to show the HTML representation or trust the notebook. <br />On GitHub, the HTML representation is unable to render, please try loading this page with nbviewer.org.</b></div><div class=\"sk-container\" hidden><div class=\"sk-item\"><div class=\"sk-estimator sk-toggleable\"><input class=\"sk-toggleable__control sk-hidden--visually\" id=\"sk-estimator-id-1\" type=\"checkbox\" checked><label for=\"sk-estimator-id-1\" class=\"sk-toggleable__label sk-toggleable__label-arrow\">RandomForestRegressor</label><div class=\"sk-toggleable__content\"><pre>RandomForestRegressor(max_depth=6, n_jobs=3, random_state=0)</pre></div></div></div></div></div>"
      ],
      "text/plain": [
       "RandomForestRegressor(max_depth=6, n_jobs=3, random_state=0)"
      ]
     },
     "execution_count": 98,
     "metadata": {},
     "output_type": "execute_result"
    }
   ],
   "source": [
    "#rfm = RandomForestClassifier()\n",
    "#rfm.fit(X_train, y_train1)\n",
    "rfm =RandomForestRegressor(n_estimators=100,max_depth=6,n_jobs=3, random_state=0)\n",
    "rfm.fit(X_train, y_train)\n"
   ]
  },
  {
   "cell_type": "code",
   "execution_count": 99,
   "id": "faa44e04",
   "metadata": {},
   "outputs": [],
   "source": [
    "#Training the Model\n",
    "#from sklearn.preprocessing import StandardScaler\n",
    "#features =[\"mean\",\"lag_1\",\"next_day_sales\",\"sales_diff\"]\n",
    "#imputer = SimpleImputer()\n",
    "#Xtr= imputer.fit_transform(data[features])\n",
    "#ytr=data[\"sales\"]\n",
    "#Xtr =data.drop(columns=[\"sales\",\"date\"])\n",
    "#ytr=data[\"sales\"]\n",
    "#rfm =RandomForestRegressor(n_estimators=100,max_depth=6,n_jobs=3, random_state=0)\n",
    "#rfm.fit(Xtr, ytr)\n"
   ]
  },
  {
   "cell_type": "code",
   "execution_count": 100,
   "id": "5006ca28",
   "metadata": {},
   "outputs": [
    {
     "data": {
      "text/plain": [
       "date\n",
       "2017-07-01       7.000\n",
       "2017-07-01       0.000\n",
       "2017-07-01       7.000\n",
       "2017-07-01    2596.000\n",
       "2017-07-01       0.000\n",
       "                ...   \n",
       "2017-08-15       6.000\n",
       "2017-08-15     438.133\n",
       "2017-08-15     154.553\n",
       "2017-08-15    2419.729\n",
       "2017-08-15     121.000\n",
       "Name: sales, Length: 81971, dtype: float64"
      ]
     },
     "execution_count": 100,
     "metadata": {},
     "output_type": "execute_result"
    }
   ],
   "source": [
    "\n",
    "X_test =valid.drop(columns=[\"sales\",\"date\"])\n",
    "#y_train =train1.drop(columns=[\"date\",\"lag_1\",\"next_day_sales\",\"sales_diff\",\"mean\",\"date\"])\n",
    "#y_train =y_train.drop(columns=[\"date\"])\n",
    "y_test=valid[\"sales\"]\n",
    "y_test"
   ]
  },
  {
   "cell_type": "markdown",
   "id": "b5730d18",
   "metadata": {},
   "source": [
    "# Evaluation"
   ]
  },
  {
   "cell_type": "code",
   "execution_count": 101,
   "id": "81a4b2d0",
   "metadata": {},
   "outputs": [
    {
     "data": {
      "text/plain": [
       "91543.16741715997"
      ]
     },
     "execution_count": 101,
     "metadata": {},
     "output_type": "execute_result"
    }
   ],
   "source": [
    "#Prediction\n",
    "pred= rfm.predict(X_test)\n",
    "mae = mean_absolute_error(y_test, pred)\n",
    "msrle = mean_squared_log_error(y_test, d_y_pred))\n",
    "mae,msrle"
   ]
  },
  {
   "cell_type": "code",
   "execution_count": 102,
   "id": "20d885c0",
   "metadata": {},
   "outputs": [
    {
     "data": {
      "text/plain": [
       "146062.8593822456"
      ]
     },
     "execution_count": 102,
     "metadata": {},
     "output_type": "execute_result"
    }
   ],
   "source": [
    "from math import sqrt\n",
    "RMS = sqrt(mean_squared_error(y_test, pred))\n",
    "RMS"
   ]
  },
  {
   "cell_type": "code",
   "execution_count": 103,
   "id": "74f0b6b6",
   "metadata": {},
   "outputs": [
    {
     "name": "stdout",
     "output_type": "stream",
     "text": [
      "Mean Absolute Error: 91554.60015280412\n",
      "Mean Squared Error: 21348578314.04583\n",
      "Root Mean Squared Error: 146111.5269718506\n"
     ]
    }
   ],
   "source": [
    "# Feature Scaling\n",
    "from sklearn.preprocessing import StandardScaler\n",
    "\n",
    "sc = StandardScaler()\n",
    "X_train = sc.fit_transform(X_train)\n",
    "X_test = sc.transform(X_test)\n",
    "rfm = RandomForestRegressor(n_estimators=20,max_depth=6,random_state=0)\n",
    "rfm.fit(X_train, y_train)\n",
    "y_pred = rfm.predict(X_test)\n",
    "print('Mean Absolute Error:', mean_absolute_error(y_test, y_pred))\n",
    "print('Mean Squared Log Error:', mean_squared_log_error(y_test, y_pred))\n",
    "print('Mean Squared Error:', mean_squared_error(y_test, y_pred))\n",
    "print('Root Mean Squared Error:', np.sqrt(mean_squared_error(y_test, y_pred)))"
   ]
  },
  {
   "cell_type": "code",
   "execution_count": 109,
   "id": "c17d87da",
   "metadata": {},
   "outputs": [
    {
     "name": "stdout",
     "output_type": "stream",
     "text": [
      "Mean Absolute Error: 89084.28173370329\n",
      "Mean Squared Error: 21716769650.834324\n",
      "Root Mean Squared Error: 147366.10753777248\n"
     ]
    }
   ],
   "source": [
    "dtm = DecisionTreeRegressor(random_state=150)\n",
    "dtm.fit(X_train, y_train)\n",
    "d_y_pred = dtm.predict(X_test)\n",
    "print('Mean Absolute Error:', mean_absolute_error(y_test, d_y_pred))\n",
    "print('Mean Squared Log Error:', mean_squared_log_error(y_test, d_y_pred))\n",
    "print('Mean Squared Error:', mean_squared_error(y_test, d_y_pred))\n",
    "print('Root Mean Squared Error:', np.sqrt(mean_squared_error(y_test, d_y_pred)))\n"
   ]
  },
  {
   "cell_type": "code",
   "execution_count": 111,
   "id": "db29ac08",
   "metadata": {},
   "outputs": [
    {
     "data": {
      "text/plain": [
       "28.453134443682984"
      ]
     },
     "execution_count": 111,
     "metadata": {},
     "output_type": "execute_result"
    }
   ],
   "source": [
    "mean_squared_log_error(y_test, y_pred)\n",
    "mean_squared_log_error(y_test, d_y_pred)"
   ]
  },
  {
   "cell_type": "code",
   "execution_count": null,
   "id": "4342765e",
   "metadata": {},
   "outputs": [],
   "source": [
    "sns.heatmap(df_train.corr())"
   ]
  }
 ],
 "metadata": {
  "kernelspec": {
   "display_name": "Python 3 (ipykernel)",
   "language": "python",
   "name": "python3"
  },
  "language_info": {
   "codemirror_mode": {
    "name": "ipython",
    "version": 3
   },
   "file_extension": ".py",
   "mimetype": "text/x-python",
   "name": "python",
   "nbconvert_exporter": "python",
   "pygments_lexer": "ipython3",
   "version": "3.10.4"
  }
 },
 "nbformat": 4,
 "nbformat_minor": 5
}
